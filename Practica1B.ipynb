{
 "cells": [
  {
   "cell_type": "markdown",
   "metadata": {},
   "source": [
    "# Práctica 1 B\n",
    "**Grupo 16**\n",
    "- Erik Karlgren Domercq\n",
    "- David Bugoi\n",
    "- Daniela Alejandra Córdova Porta"
   ]
  },
  {
   "cell_type": "markdown",
   "metadata": {},
   "source": [
    "Cargamos la librería de aima y la clase `Problem` que usaremos para los siguientes problemas."
   ]
  },
  {
   "cell_type": "code",
   "execution_count": 46,
   "metadata": {},
   "outputs": [
    {
     "name": "stdout",
     "output_type": "stream",
     "text": [
      "[Errno 2] No such file or directory: 'aima-python'\n",
      "/home/erik/Documents/University/2020-2021/1st semester/IA1/practicas-github/aima-python\n"
     ]
    }
   ],
   "source": [
    "cd aima-python"
   ]
  },
  {
   "cell_type": "code",
   "execution_count": 47,
   "metadata": {},
   "outputs": [],
   "source": [
    "class Problem(object):\n",
    "\n",
    "    \"\"\"The abstract class for a formal problem. You should subclass\n",
    "    this and implement the methods actions and result, and possibly\n",
    "    __init__, goal_test, and path_cost. Then you will create instances\n",
    "    of your subclass and solve them with the various search functions.\"\"\"\n",
    "\n",
    "    def __init__(self, initial, goal=None):\n",
    "        \"\"\"The constructor specifies the initial state, and possibly a goal\n",
    "        state, if there is a unique goal. Your subclass's constructor can add\n",
    "        other arguments.\"\"\"\n",
    "        self.initial = initial\n",
    "        self.goal = goal\n",
    "\n",
    "    def actions(self, state):\n",
    "        \"\"\"Return the actions that can be executed in the given\n",
    "        state. The result would typically be a list, but if there are\n",
    "        many actions, consider yielding them one at a time in an\n",
    "        iterator, rather than building them all at once.\"\"\"\n",
    "        raise NotImplementedError\n",
    "\n",
    "    def result(self, state, action):\n",
    "        \"\"\"Return the state that results from executing the given\n",
    "        action in the given state. The action must be one of\n",
    "        self.actions(state).\"\"\"\n",
    "        raise NotImplementedError\n",
    "\n",
    "    def goal_test(self, state):\n",
    "        \"\"\"Return True if the state is a goal. The default method compares the\n",
    "        state to self.goal or checks for state in self.goal if it is a\n",
    "        list, as specified in the constructor. Override this method if\n",
    "        checking against a single self.goal is not enough.\"\"\"\n",
    "        if isinstance(self.goal, list):\n",
    "            return is_in(state, self.goal)\n",
    "        else:\n",
    "            return state == self.goal\n",
    "\n",
    "    def path_cost(self, c, state1, action, state2):\n",
    "        \"\"\"Return the cost of a solution path that arrives at state2 from\n",
    "        state1 via action, assuming cost c to get up to state1. If the problem\n",
    "        is such that the path doesn't matter, this function will only look at\n",
    "        state2.  If the path does matter, it will consider c and maybe state1\n",
    "        and action. The default method costs 1 for every step in the path.\"\"\"\n",
    "        return c + 1\n",
    "\n",
    "    def value(self, state):\n",
    "        \"\"\"For optimization problems, each state has a value.  Hill-climbing\n",
    "        and related algorithms try to maximize this value.\"\"\"\n",
    "        raise NotImplementedError\n",
    "\n",
    "    def coste_de_aplicar_accion(self, estado, accion):\n",
    "        \"\"\"Hemos incluido está función que devuelve el coste de un único operador (aplicar accion a estado). Por defecto, este\n",
    "        coste es 1. Reimplementar si el problema define otro coste \"\"\" \n",
    "        return 1"
   ]
  },
  {
   "cell_type": "markdown",
   "metadata": {},
   "source": [
    "# Ejercicio 1\n",
    "Un grupo de 5 personas quiere cruzar un viejo y estrecho puente. Es una noche cerrada y se necesita llevar una linterna para cruzar. El grupo solo dispone de una linterna, a la que le quedan 5 minutos de batería.\n",
    "1. Cada persona tarda en cruzar 10, 30, 60, 80 y 120 segundos, respectivamente.\n",
    "2. El puente solo resiste un máximo de 2 personas cruzando a la vez, y cuando cruzan dos personas juntas, caminan a la velocidad del más lento.\n",
    "3. No se puede lanzar la linterna de un extremo a otro del puente, así que cada vez que crucen dos personas, alguien tiene que volver a cruzar hacia atrás con la linterna a buscar a los compañeros que falten, y así hasta que hayan cruzado todos.\n",
    "\n",
    "Definimos la clase del problema. Si se desea se pueden cambiar algunos de los parámetros como el número de personas, los tiempos de cada una y la duración de la batería de la linterna o su \"tiempo límite\"."
   ]
  },
  {
   "cell_type": "code",
   "execution_count": 48,
   "metadata": {},
   "outputs": [],
   "source": [
    "from copy import deepcopy\n",
    "\n",
    "class CruzarPuente(Problem):\n",
    "    times = tuple()\n",
    "    num_personas = 0\n",
    "\n",
    "    def __init__(self, num_personas=5, time_limit=300, times=(10, 30, 60, 80, 120)):\n",
    "        self.initial = ('left', tuple([x for x in range(1, num_personas + 1)]), 0)\n",
    "        self.goal = ('right', (), time_limit)\n",
    "        self.times = times\n",
    "        self.num_personas = num_personas\n",
    "\n",
    "    def cost(self, action):\n",
    "        return max(self.times[action[0] - 1], self.times[action[1] - 1])\n",
    "\n",
    "    def actions(self, state):\n",
    "        accs = list()\n",
    "        if state[0] == 'left':\n",
    "            for x in state[1]:\n",
    "                for y in state[1]:\n",
    "                    if x <= y and state[2] + self.cost((x, y)) <= self.goal[2]:\n",
    "                        accs.append((x, y))\n",
    "        else:\n",
    "            for x in range(1, self.num_personas + 1):\n",
    "                if x not in state[1] and state[2] + self.cost((x, x)) <= self.goal[2]:\n",
    "                    accs.append((x, x))\n",
    "        return accs\n",
    "\n",
    "    def result(self, state, action):\n",
    "        new_state = deepcopy(state)\n",
    "        linterna = new_state[0]\n",
    "        l = list(new_state[1])\n",
    "        tiempo = new_state[2]\n",
    "        if new_state[0] == 'left':\n",
    "            linterna = 'right'\n",
    "            if action[0] == action[1]:\n",
    "                l.remove(action[0])\n",
    "            else:\n",
    "                l.remove(action[0])\n",
    "                l.remove(action[1])\n",
    "        else:\n",
    "            linterna = 'left'\n",
    "            l.append(action[0])\n",
    "        tiempo += self.cost(action)\n",
    "        return (linterna, tuple(l), tiempo)\n",
    "\n",
    "    def path_cost(self, c, state1, action, state2):\n",
    "        return c + self.cost(action)\n",
    "\n",
    "    def goal_test(self, state):\n",
    "        if isinstance(self.goal, tuple):\n",
    "            linterna_is_equal = state[0] == self.goal[0]\n",
    "            personas_is_equal = state[1] == self.goal[1]\n",
    "            time_limit_is_legal = state[2] <= self.goal[2]\n",
    "            return linterna_is_equal and personas_is_equal and time_limit_is_legal\n",
    "        else:\n",
    "            return False\n",
    "\n",
    "    def finalTime(self, state):\n",
    "        return state[2]         "
   ]
  },
  {
   "cell_type": "code",
   "execution_count": 49,
   "metadata": {},
   "outputs": [],
   "source": [
    "class Problema_con_Analizados(Problem):\n",
    "         \n",
    "    def __init__(self, problem):\n",
    "        self.initial = problem.initial\n",
    "        self.problem = problem\n",
    "        self.analizados  = 0\n",
    "        self.goal = problem.goal\n",
    "\n",
    "    def actions(self, estado):\n",
    "        return self.problem.actions(estado)\n",
    "\n",
    "    def result(self, estado, accion):\n",
    "        return self.problem.result(estado, accion)\n",
    "\n",
    "    def goal_test(self, state):\n",
    "        self.analizados += 1\n",
    "        if isinstance(self.goal, tuple):\n",
    "            linterna_is_equal = state[0] == self.goal[0]\n",
    "            personas_is_equal = state[1] == self.goal[1]\n",
    "            time_limit_is_legal = state[2] <= self.goal[2]\n",
    "            return linterna_is_equal and personas_is_equal and time_limit_is_legal\n",
    "        else:\n",
    "            return False\n",
    "\n",
    "    def coste_de_aplicar_accion(self, estado, accion):\n",
    "        return c + self.cost(action)       "
   ]
  },
  {
   "cell_type": "code",
   "execution_count": 50,
   "metadata": {},
   "outputs": [],
   "source": [
    "def resuelve_CruzarPuente(estado_inicial, algoritmo, h=None):\n",
    "    pF=Problema_con_Analizados(CruzarPuente())\n",
    "    if h: \n",
    "        sol= algoritmo(pF,h)\n",
    "    else: \n",
    "        sol= algoritmo(pF)\n",
    "    print(\"Solución: {0}\".format(sol.solution()))\n",
    "    print(\"Algoritmo: {0}\".format(algoritmo.__name__))\n",
    "    if h: \n",
    "        print(\"Heurística: {0}\".format(h.__name__))\n",
    "    else:\n",
    "        pass\n",
    "    print(\"Longitud de la solución: {0}. Nodos analizados: {1}. Tiempo: {2} \".format(len(sol.solution()),pF.analizados, sol.state[2]))\n"
   ]
  },
  {
   "cell_type": "markdown",
   "metadata": {},
   "source": [
    "Comprobamos que el estado inicial y las acciones disponibles son las esperadas."
   ]
  },
  {
   "cell_type": "code",
   "execution_count": 51,
   "metadata": {},
   "outputs": [],
   "source": [
    "# Cargamos el módulo con los algoritmos de búsqueda.\n",
    "from search import *"
   ]
  },
  {
   "cell_type": "code",
   "execution_count": 52,
   "metadata": {},
   "outputs": [
    {
     "data": {
      "text/plain": [
       "('left', (1, 2, 3, 4, 5), 0)"
      ]
     },
     "execution_count": 52,
     "metadata": {},
     "output_type": "execute_result"
    }
   ],
   "source": [
    "p = CruzarPuente()\n",
    "p.initial"
   ]
  },
  {
   "cell_type": "code",
   "execution_count": 53,
   "metadata": {},
   "outputs": [
    {
     "data": {
      "text/plain": [
       "[(1, 1),\n",
       " (1, 2),\n",
       " (1, 3),\n",
       " (1, 4),\n",
       " (1, 5),\n",
       " (2, 2),\n",
       " (2, 3),\n",
       " (2, 4),\n",
       " (2, 5),\n",
       " (3, 3),\n",
       " (3, 4),\n",
       " (3, 5),\n",
       " (4, 4),\n",
       " (4, 5),\n",
       " (5, 5)]"
      ]
     },
     "execution_count": 53,
     "metadata": {},
     "output_type": "execute_result"
    }
   ],
   "source": [
    "p.actions(p.initial)"
   ]
  },
  {
   "cell_type": "markdown",
   "metadata": {},
   "source": [
    "Probemos varios algoritmos de búsqueda no informados. Nótese que el campo _Tiempo_ al usar `resuelve_CruzarPuente` no se refiere al tiempo de ejecución del algoritmo sino al tiempo usado de la linterna en el problema.\n",
    "\n",
    "Como vemos en los resultados de las siguientes dos celdas, la búsqueda con control de repetidos permite analizar muchos menos nodos, y por eso `depth_first_graph_search` tarda menos tiempo y consume menos memoria. También influye que la búsqueda en profundidad ya consume menos memoria de por sí que la búsqueda en anchura."
   ]
  },
  {
   "cell_type": "code",
   "execution_count": 54,
   "metadata": {},
   "outputs": [
    {
     "data": {
      "text/plain": [
       "[(1, 2), (1, 1), (4, 5), (2, 2), (1, 3), (1, 1), (1, 2)]"
      ]
     },
     "execution_count": 54,
     "metadata": {},
     "output_type": "execute_result"
    }
   ],
   "source": [
    "# La búsqueda en anchura asegura encontrar la solución si esta existe\n",
    "breadth_first_tree_search(CruzarPuente()).solution()"
   ]
  },
  {
   "cell_type": "code",
   "execution_count": 55,
   "metadata": {},
   "outputs": [
    {
     "name": "stdout",
     "output_type": "stream",
     "text": [
      "137 ms ± 9.46 ms per loop (mean ± std. dev. of 7 runs, 10 loops each)\n"
     ]
    }
   ],
   "source": [
    "%%timeit\n",
    "breadth_first_tree_search(CruzarPuente()).solution()"
   ]
  },
  {
   "cell_type": "code",
   "execution_count": 56,
   "metadata": {},
   "outputs": [
    {
     "name": "stdout",
     "output_type": "stream",
     "text": [
      "50.6 ms ± 2.67 ms per loop (mean ± std. dev. of 7 runs, 10 loops each)\n"
     ]
    }
   ],
   "source": [
    "%%timeit\n",
    "depth_first_graph_search(CruzarPuente()).solution()"
   ]
  },
  {
   "cell_type": "code",
   "execution_count": 57,
   "metadata": {},
   "outputs": [
    {
     "name": "stdout",
     "output_type": "stream",
     "text": [
      "Solución: [(1, 2), (1, 1), (4, 5), (2, 2), (1, 3), (1, 1), (1, 2)]\n",
      "Algoritmo: breadth_first_tree_search\n",
      "Longitud de la solución: 7. Nodos analizados: 6144. Tiempo: 290 \n"
     ]
    }
   ],
   "source": [
    "resuelve_CruzarPuente(p.initial, breadth_first_tree_search )"
   ]
  },
  {
   "cell_type": "code",
   "execution_count": 58,
   "metadata": {},
   "outputs": [
    {
     "name": "stdout",
     "output_type": "stream",
     "text": [
      "Solución: [(1, 3), (1, 1), (1, 2), (2, 2), (4, 5), (1, 1), (1, 2)]\n",
      "Algoritmo: depth_first_graph_search\n",
      "Longitud de la solución: 7. Nodos analizados: 1733. Tiempo: 290 \n"
     ]
    }
   ],
   "source": [
    "resuelve_CruzarPuente(p.initial, depth_first_graph_search )"
   ]
  },
  {
   "cell_type": "markdown",
   "metadata": {},
   "source": [
    "Si cambiáramos los parámetros del problema, y sobre todo si incrementáramos el número de personas o el tiempo límite de la linterna, las búsquedas no informadas dejarían de ser capaces de resolver el problema en un tiempo razonable. Por ello vamos a introducir algunas heurísticas que nos deberían ayudar a encontrar la solución de forma más eficiente."
   ]
  },
  {
   "cell_type": "code",
   "execution_count": 59,
   "metadata": {},
   "outputs": [],
   "source": [
    "# Heuristicas \n",
    "import math\n",
    "\n",
    "# Suma los costes de las personas a la izquierda del puente, dándole más peso al coste de la persona que está\n",
    "# más a la izquierda de la tupla de personas a la izquierda del puente (se espera que sea la persona con menor\n",
    "# coste de todos).\n",
    "def h1(times=(10, 30, 60, 80, 120)):\n",
    "    def heur1(node):\n",
    "        state = node.state\n",
    "        sum = 0\n",
    "        cont = 0\n",
    "        # m es la persona más a la izquierda en la tupla de personas a la izquierda del puente\n",
    "        if(len(state[1])>0):\n",
    "            m = state[1][0]\n",
    "            \n",
    "        for i in state[1]:\n",
    "            if(i != m):\n",
    "                sum += max(times[m-1],times[i-1])\n",
    "                cont += 1\n",
    "                \n",
    "        for i in range(0,cont):\n",
    "            sum += times[m-1]\n",
    "        return sum\n",
    "    return heur1\n",
    "\n",
    "# Suma los tiempos de las personas que siguen en el lado izquierdo del puente\n",
    "def h2(times=(10, 30, 60, 80, 120)):\n",
    "    def heur2(node):\n",
    "        state = node.state\n",
    "        min = 0\n",
    "        for x in state[1]:\n",
    "            min = min + times[x-1]\n",
    "        return min\n",
    "    \n",
    "    return heur2\n",
    "\n",
    "# Producto del número de personas en el lado izquierdo del puente por el máximo coste para cruzar del problema\n",
    "def h3(times=(10, 30, 60, 80, 120)):\n",
    "    def heur3(node):\n",
    "        return max(times) * len(node.state[1])\n",
    "    return heur3\n",
    "\n",
    "# Versión más sofisticada de h3. Multiplica por el coste máximo de las personas a la izquierda del puente.\n",
    "def h4(times=(10, 30, 60, 80, 120)):\n",
    "    def heur4(node):\n",
    "        if node.state[1]:\n",
    "            return len(node.state[1]) * max(map(lambda n : times[n-1], node.state[1]))\n",
    "        else: # La tupla de personas está vacía cuando se ha llegado a la solución\n",
    "            return 0\n",
    "    return heur4"
   ]
  },
  {
   "cell_type": "code",
   "execution_count": 60,
   "metadata": {},
   "outputs": [],
   "source": [
    "pf = CruzarPuente()"
   ]
  },
  {
   "cell_type": "code",
   "execution_count": 61,
   "metadata": {},
   "outputs": [
    {
     "name": "stdout",
     "output_type": "stream",
     "text": [
      "Solución usando h1: [(1, 3), (1, 1), (1, 2), (1, 1), (4, 5), (2, 2), (1, 2)]\n",
      "Solución usando h2: [(1, 2), (1, 1), (4, 5), (2, 2), (1, 3), (1, 1), (1, 2)]\n",
      "Solución usando h3: [(1, 2), (1, 1), (1, 3), (1, 1), (4, 5), (2, 2), (1, 2)]\n",
      "Solución usando h4: [(1, 2), (1, 1), (4, 5), (2, 2), (1, 3), (1, 1), (1, 2)]\n"
     ]
    }
   ],
   "source": [
    "sol1 = astar_search(pf, h1()).solution()\n",
    "sol2 = astar_search(pf, h2()).solution()\n",
    "sol3 = astar_search(pf, h3()).solution()\n",
    "sol4 = astar_search(pf, h4()).solution()\n",
    "print(\"Solución usando h1:\", sol1)\n",
    "print(\"Solución usando h2:\", sol2)\n",
    "print(\"Solución usando h3:\", sol3)\n",
    "print(\"Solución usando h4:\", sol4)"
   ]
  },
  {
   "cell_type": "markdown",
   "metadata": {},
   "source": [
    "Como vemos en los siguientes resultados, `h2` es una heurística que nos permite llegar a la solución significativamente más rápido que con `h1`. Esto se debe a que `h2` es bastante más sencillo de calcular en comparación con `h1`, pero como filtra muchos menos nodos esperamos que en problemas más complejos `h1` se comporte mejor."
   ]
  },
  {
   "cell_type": "code",
   "execution_count": 62,
   "metadata": {},
   "outputs": [
    {
     "name": "stdout",
     "output_type": "stream",
     "text": [
      "99.1 ms ± 682 µs per loop (mean ± std. dev. of 7 runs, 10 loops each)\n"
     ]
    }
   ],
   "source": [
    "%%timeit\n",
    "astar_search(pf, h1()).solution()"
   ]
  },
  {
   "cell_type": "code",
   "execution_count": 63,
   "metadata": {},
   "outputs": [
    {
     "name": "stdout",
     "output_type": "stream",
     "text": [
      "3.39 ms ± 31.4 µs per loop (mean ± std. dev. of 7 runs, 100 loops each)\n"
     ]
    }
   ],
   "source": [
    "%%timeit\n",
    "astar_search(pf, h2()).solution()"
   ]
  },
  {
   "cell_type": "code",
   "execution_count": 64,
   "metadata": {},
   "outputs": [
    {
     "name": "stdout",
     "output_type": "stream",
     "text": [
      "4.32 ms ± 83 µs per loop (mean ± std. dev. of 7 runs, 100 loops each)\n"
     ]
    }
   ],
   "source": [
    "%%timeit\n",
    "astar_search(pf, h3()).solution()"
   ]
  },
  {
   "cell_type": "code",
   "execution_count": 65,
   "metadata": {},
   "outputs": [
    {
     "name": "stdout",
     "output_type": "stream",
     "text": [
      "18.8 ms ± 1.29 ms per loop (mean ± std. dev. of 7 runs, 100 loops each)\n"
     ]
    }
   ],
   "source": [
    "%%timeit\n",
    "astar_search(pf, h4()).solution()"
   ]
  },
  {
   "cell_type": "code",
   "execution_count": 66,
   "metadata": {},
   "outputs": [
    {
     "name": "stdout",
     "output_type": "stream",
     "text": [
      "Solución: [(1, 3), (1, 1), (1, 2), (1, 1), (4, 5), (2, 2), (1, 2)]\n",
      "Algoritmo: astar_search\n",
      "Heurística: heur1\n",
      "Longitud de la solución: 7. Nodos analizados: 929. Tiempo: 290 \n"
     ]
    }
   ],
   "source": [
    "resuelve_CruzarPuente(p.initial, astar_search,h1())"
   ]
  },
  {
   "cell_type": "code",
   "execution_count": 67,
   "metadata": {},
   "outputs": [
    {
     "name": "stdout",
     "output_type": "stream",
     "text": [
      "Solución: [(1, 3), (1, 1), (1, 2), (1, 1), (4, 5), (2, 2), (1, 2)]\n",
      "Algoritmo: astar_search\n",
      "Heurística: heur2\n",
      "Longitud de la solución: 7. Nodos analizados: 892. Tiempo: 290 \n"
     ]
    }
   ],
   "source": [
    "resuelve_CruzarPuente(p.initial, astar_search,h2())"
   ]
  },
  {
   "cell_type": "code",
   "execution_count": 68,
   "metadata": {},
   "outputs": [
    {
     "name": "stdout",
     "output_type": "stream",
     "text": [
      "Solución: [(1, 3), (1, 1), (1, 2), (1, 1), (4, 5), (2, 2), (1, 2)]\n",
      "Algoritmo: astar_search\n",
      "Heurística: heur3\n",
      "Longitud de la solución: 7. Nodos analizados: 611. Tiempo: 290 \n"
     ]
    }
   ],
   "source": [
    "resuelve_CruzarPuente(p.initial, astar_search,h3())"
   ]
  },
  {
   "cell_type": "code",
   "execution_count": 69,
   "metadata": {},
   "outputs": [
    {
     "name": "stdout",
     "output_type": "stream",
     "text": [
      "Solución: [(1, 3), (1, 1), (1, 2), (1, 1), (4, 5), (2, 2), (1, 2)]\n",
      "Algoritmo: astar_search\n",
      "Heurística: heur4\n",
      "Longitud de la solución: 7. Nodos analizados: 771. Tiempo: 290 \n"
     ]
    }
   ],
   "source": [
    "resuelve_CruzarPuente(p.initial, astar_search,h4())"
   ]
  },
  {
   "cell_type": "markdown",
   "metadata": {},
   "source": [
    "Probemos con algunas variantes del problema. Usaremos `astar_search` con ambas heurísticas `h1` y `h2`. Como vemos a partir del problema con 7 personas, `h1` se comporta mejor porque, como ya habíamos comentado, filtra más nodos."
   ]
  },
  {
   "cell_type": "code",
   "execution_count": 70,
   "metadata": {},
   "outputs": [
    {
     "name": "stdout",
     "output_type": "stream",
     "text": [
      "Initial: ('left', (1, 2, 3, 4, 5, 6), 0)\n",
      "Times: (10, 20, 30, 50, 10, 100)\n",
      "Time limit: 200\n"
     ]
    }
   ],
   "source": [
    "# Problema con 6 personas\n",
    "n1 = 6\n",
    "t1 = (10,20,30,50,10,100)\n",
    "limit1 = 200\n",
    "\n",
    "p1 = CruzarPuente(num_personas=n1, times=t1, time_limit=limit1)\n",
    "print(\"Initial:\",p1.initial)\n",
    "print(\"Times:\", p1.times)\n",
    "print(\"Time limit:\", limit1)"
   ]
  },
  {
   "cell_type": "code",
   "execution_count": 71,
   "metadata": {},
   "outputs": [
    {
     "name": "stdout",
     "output_type": "stream",
     "text": [
      "383 ms ± 41.2 ms per loop (mean ± std. dev. of 7 runs, 1 loop each)\n"
     ]
    }
   ],
   "source": [
    "%%timeit\n",
    "astar_search(p1,h1(t1)).solution()"
   ]
  },
  {
   "cell_type": "code",
   "execution_count": 72,
   "metadata": {},
   "outputs": [
    {
     "name": "stdout",
     "output_type": "stream",
     "text": [
      "13.1 ms ± 818 µs per loop (mean ± std. dev. of 7 runs, 100 loops each)\n"
     ]
    }
   ],
   "source": [
    "%%timeit\n",
    "astar_search(p1,h2(t1)).solution()"
   ]
  },
  {
   "cell_type": "code",
   "execution_count": 73,
   "metadata": {},
   "outputs": [
    {
     "name": "stdout",
     "output_type": "stream",
     "text": [
      "64.5 ms ± 4.91 ms per loop (mean ± std. dev. of 7 runs, 10 loops each)\n"
     ]
    }
   ],
   "source": [
    "%%timeit\n",
    "astar_search(p1,h3(t1)).solution()"
   ]
  },
  {
   "cell_type": "code",
   "execution_count": 74,
   "metadata": {},
   "outputs": [
    {
     "name": "stdout",
     "output_type": "stream",
     "text": [
      "82.9 ms ± 5.16 ms per loop (mean ± std. dev. of 7 runs, 10 loops each)\n"
     ]
    }
   ],
   "source": [
    "%%timeit\n",
    "astar_search(p1,h4(t1)).solution()"
   ]
  },
  {
   "cell_type": "code",
   "execution_count": 75,
   "metadata": {},
   "outputs": [
    {
     "name": "stdout",
     "output_type": "stream",
     "text": [
      "Initial: ('left', (1, 2, 3, 4, 5, 6, 7), 0)\n",
      "Times: (10, 20, 25, 30, 40, 45, 70)\n",
      "Time limit: 400\n"
     ]
    }
   ],
   "source": [
    "# Problema con 7 personas. Ya vemos que 'h2' deja de ser mejor heurística para este tamaño del problema.\n",
    "n2 = 7\n",
    "t2 = (10,20,25,30,40,45,70)\n",
    "limit2 = 400\n",
    "\n",
    "p2 = CruzarPuente(num_personas=n2, times=t2, time_limit=limit2)\n",
    "print(\"Initial:\",p2.initial)\n",
    "print(\"Times:\", p2.times)\n",
    "print(\"Time limit:\", limit2)"
   ]
  },
  {
   "cell_type": "code",
   "execution_count": 76,
   "metadata": {},
   "outputs": [
    {
     "name": "stdout",
     "output_type": "stream",
     "text": [
      "2.87 s ± 368 ms per loop (mean ± std. dev. of 7 runs, 1 loop each)\n"
     ]
    }
   ],
   "source": [
    "%%timeit\n",
    "astar_search(p2,h1(t2)).solution()"
   ]
  },
  {
   "cell_type": "code",
   "execution_count": 77,
   "metadata": {},
   "outputs": [
    {
     "name": "stdout",
     "output_type": "stream",
     "text": [
      "6.48 s ± 199 ms per loop (mean ± std. dev. of 7 runs, 1 loop each)\n"
     ]
    }
   ],
   "source": [
    "%%timeit\n",
    "astar_search(p2,h2(t2)).solution()"
   ]
  },
  {
   "cell_type": "code",
   "execution_count": 78,
   "metadata": {},
   "outputs": [
    {
     "name": "stdout",
     "output_type": "stream",
     "text": [
      "15.1 ms ± 1.31 ms per loop (mean ± std. dev. of 7 runs, 100 loops each)\n"
     ]
    }
   ],
   "source": [
    "%%timeit\n",
    "astar_search(p2,h3(t2)).solution()"
   ]
  },
  {
   "cell_type": "code",
   "execution_count": 79,
   "metadata": {},
   "outputs": [
    {
     "name": "stdout",
     "output_type": "stream",
     "text": [
      "12.5 ms ± 642 µs per loop (mean ± std. dev. of 7 runs, 100 loops each)\n"
     ]
    }
   ],
   "source": [
    "%%timeit\n",
    "astar_search(p2,h4(t2)).solution()"
   ]
  },
  {
   "cell_type": "code",
   "execution_count": 80,
   "metadata": {},
   "outputs": [
    {
     "name": "stdout",
     "output_type": "stream",
     "text": [
      "Initial: ('left', (1, 2, 3, 4, 5, 6, 7, 8, 9, 10, 11, 12, 13, 14, 15), 0)\n",
      "Times: (10, 20, 30, 40, 50, 60, 70, 80, 90, 100, 110, 120, 130, 140, 150)\n",
      "Time limit: 1180\n"
     ]
    }
   ],
   "source": [
    "# Problema con 15 personas. Solo probamos a buscar la solución usando la heurística 'h1'.\n",
    "n3 = 15\n",
    "t3 = tuple([10*x for x in range(1, n3+1)])\n",
    "limit3 = 1180\n",
    "\n",
    "p3 = CruzarPuente(num_personas=n3, times=t3, time_limit=limit3)\n",
    "print(\"Initial:\",p3.initial)\n",
    "print(\"Times:\", p3.times)\n",
    "print(\"Time limit:\", limit3)"
   ]
  },
  {
   "cell_type": "code",
   "execution_count": 81,
   "metadata": {},
   "outputs": [
    {
     "name": "stdout",
     "output_type": "stream",
     "text": [
      "4.67 s ± 498 ms per loop (mean ± std. dev. of 7 runs, 1 loop each)\n"
     ]
    }
   ],
   "source": [
    "%%timeit\n",
    "astar_search(p3,h3(t3)).solution()"
   ]
  },
  {
   "cell_type": "code",
   "execution_count": 82,
   "metadata": {},
   "outputs": [
    {
     "ename": "KeyboardInterrupt",
     "evalue": "",
     "output_type": "error",
     "traceback": [
      "\u001b[0;31m---------------------------------------------------------------------------\u001b[0m",
      "\u001b[0;31mKeyboardInterrupt\u001b[0m                         Traceback (most recent call last)",
      "\u001b[0;32m<timed eval>\u001b[0m in \u001b[0;36m<module>\u001b[0;34m\u001b[0m\n",
      "\u001b[0;32m~/Documents/University/2020-2021/1st semester/IA1/practicas-github/aima-python/search.py\u001b[0m in \u001b[0;36mastar_search\u001b[0;34m(problem, h, display)\u001b[0m\n\u001b[1;32m    418\u001b[0m     else in your Problem subclass.\"\"\"\n\u001b[1;32m    419\u001b[0m     \u001b[0mh\u001b[0m \u001b[0;34m=\u001b[0m \u001b[0mmemoize\u001b[0m\u001b[0;34m(\u001b[0m\u001b[0mh\u001b[0m \u001b[0;32mor\u001b[0m \u001b[0mproblem\u001b[0m\u001b[0;34m.\u001b[0m\u001b[0mh\u001b[0m\u001b[0;34m,\u001b[0m \u001b[0;34m'h'\u001b[0m\u001b[0;34m)\u001b[0m\u001b[0;34m\u001b[0m\u001b[0;34m\u001b[0m\u001b[0m\n\u001b[0;32m--> 420\u001b[0;31m     \u001b[0;32mreturn\u001b[0m \u001b[0mbest_first_graph_search\u001b[0m\u001b[0;34m(\u001b[0m\u001b[0mproblem\u001b[0m\u001b[0;34m,\u001b[0m \u001b[0;32mlambda\u001b[0m \u001b[0mn\u001b[0m\u001b[0;34m:\u001b[0m \u001b[0mn\u001b[0m\u001b[0;34m.\u001b[0m\u001b[0mpath_cost\u001b[0m \u001b[0;34m+\u001b[0m \u001b[0mh\u001b[0m\u001b[0;34m(\u001b[0m\u001b[0mn\u001b[0m\u001b[0;34m)\u001b[0m\u001b[0;34m,\u001b[0m \u001b[0mdisplay\u001b[0m\u001b[0;34m)\u001b[0m\u001b[0;34m\u001b[0m\u001b[0;34m\u001b[0m\u001b[0m\n\u001b[0m\u001b[1;32m    421\u001b[0m \u001b[0;34m\u001b[0m\u001b[0m\n\u001b[1;32m    422\u001b[0m \u001b[0;34m\u001b[0m\u001b[0m\n",
      "\u001b[0;32m~/Documents/University/2020-2021/1st semester/IA1/practicas-github/aima-python/search.py\u001b[0m in \u001b[0;36mbest_first_graph_search\u001b[0;34m(problem, f, display)\u001b[0m\n\u001b[1;32m    281\u001b[0m             \u001b[0;32mif\u001b[0m \u001b[0mchild\u001b[0m\u001b[0;34m.\u001b[0m\u001b[0mstate\u001b[0m \u001b[0;32mnot\u001b[0m \u001b[0;32min\u001b[0m \u001b[0mexplored\u001b[0m \u001b[0;32mand\u001b[0m \u001b[0mchild\u001b[0m \u001b[0;32mnot\u001b[0m \u001b[0;32min\u001b[0m \u001b[0mfrontier\u001b[0m\u001b[0;34m:\u001b[0m\u001b[0;34m\u001b[0m\u001b[0;34m\u001b[0m\u001b[0m\n\u001b[1;32m    282\u001b[0m                 \u001b[0mfrontier\u001b[0m\u001b[0;34m.\u001b[0m\u001b[0mappend\u001b[0m\u001b[0;34m(\u001b[0m\u001b[0mchild\u001b[0m\u001b[0;34m)\u001b[0m\u001b[0;34m\u001b[0m\u001b[0;34m\u001b[0m\u001b[0m\n\u001b[0;32m--> 283\u001b[0;31m             \u001b[0;32melif\u001b[0m \u001b[0mchild\u001b[0m \u001b[0;32min\u001b[0m \u001b[0mfrontier\u001b[0m\u001b[0;34m:\u001b[0m\u001b[0;34m\u001b[0m\u001b[0;34m\u001b[0m\u001b[0m\n\u001b[0m\u001b[1;32m    284\u001b[0m                 \u001b[0;32mif\u001b[0m \u001b[0mf\u001b[0m\u001b[0;34m(\u001b[0m\u001b[0mchild\u001b[0m\u001b[0;34m)\u001b[0m \u001b[0;34m<\u001b[0m \u001b[0mfrontier\u001b[0m\u001b[0;34m[\u001b[0m\u001b[0mchild\u001b[0m\u001b[0;34m]\u001b[0m\u001b[0;34m:\u001b[0m\u001b[0;34m\u001b[0m\u001b[0;34m\u001b[0m\u001b[0m\n\u001b[1;32m    285\u001b[0m                     \u001b[0;32mdel\u001b[0m \u001b[0mfrontier\u001b[0m\u001b[0;34m[\u001b[0m\u001b[0mchild\u001b[0m\u001b[0;34m]\u001b[0m\u001b[0;34m\u001b[0m\u001b[0;34m\u001b[0m\u001b[0m\n",
      "\u001b[0;32m~/Documents/University/2020-2021/1st semester/IA1/practicas-github/aima-python/utils.py\u001b[0m in \u001b[0;36m__contains__\u001b[0;34m(self, key)\u001b[0m\n\u001b[1;32m    759\u001b[0m     \u001b[0;32mdef\u001b[0m \u001b[0m__contains__\u001b[0m\u001b[0;34m(\u001b[0m\u001b[0mself\u001b[0m\u001b[0;34m,\u001b[0m \u001b[0mkey\u001b[0m\u001b[0;34m)\u001b[0m\u001b[0;34m:\u001b[0m\u001b[0;34m\u001b[0m\u001b[0;34m\u001b[0m\u001b[0m\n\u001b[1;32m    760\u001b[0m         \u001b[0;34m\"\"\"Return True if the key is in PriorityQueue.\"\"\"\u001b[0m\u001b[0;34m\u001b[0m\u001b[0;34m\u001b[0m\u001b[0m\n\u001b[0;32m--> 761\u001b[0;31m         \u001b[0;32mreturn\u001b[0m \u001b[0many\u001b[0m\u001b[0;34m(\u001b[0m\u001b[0;34m[\u001b[0m\u001b[0mitem\u001b[0m \u001b[0;34m==\u001b[0m \u001b[0mkey\u001b[0m \u001b[0;32mfor\u001b[0m \u001b[0m_\u001b[0m\u001b[0;34m,\u001b[0m \u001b[0mitem\u001b[0m \u001b[0;32min\u001b[0m \u001b[0mself\u001b[0m\u001b[0;34m.\u001b[0m\u001b[0mheap\u001b[0m\u001b[0;34m]\u001b[0m\u001b[0;34m)\u001b[0m\u001b[0;34m\u001b[0m\u001b[0;34m\u001b[0m\u001b[0m\n\u001b[0m\u001b[1;32m    762\u001b[0m \u001b[0;34m\u001b[0m\u001b[0m\n\u001b[1;32m    763\u001b[0m     \u001b[0;32mdef\u001b[0m \u001b[0m__getitem__\u001b[0m\u001b[0;34m(\u001b[0m\u001b[0mself\u001b[0m\u001b[0;34m,\u001b[0m \u001b[0mkey\u001b[0m\u001b[0;34m)\u001b[0m\u001b[0;34m:\u001b[0m\u001b[0;34m\u001b[0m\u001b[0;34m\u001b[0m\u001b[0m\n",
      "\u001b[0;32m~/Documents/University/2020-2021/1st semester/IA1/practicas-github/aima-python/utils.py\u001b[0m in \u001b[0;36m<listcomp>\u001b[0;34m(.0)\u001b[0m\n\u001b[1;32m    759\u001b[0m     \u001b[0;32mdef\u001b[0m \u001b[0m__contains__\u001b[0m\u001b[0;34m(\u001b[0m\u001b[0mself\u001b[0m\u001b[0;34m,\u001b[0m \u001b[0mkey\u001b[0m\u001b[0;34m)\u001b[0m\u001b[0;34m:\u001b[0m\u001b[0;34m\u001b[0m\u001b[0;34m\u001b[0m\u001b[0m\n\u001b[1;32m    760\u001b[0m         \u001b[0;34m\"\"\"Return True if the key is in PriorityQueue.\"\"\"\u001b[0m\u001b[0;34m\u001b[0m\u001b[0;34m\u001b[0m\u001b[0m\n\u001b[0;32m--> 761\u001b[0;31m         \u001b[0;32mreturn\u001b[0m \u001b[0many\u001b[0m\u001b[0;34m(\u001b[0m\u001b[0;34m[\u001b[0m\u001b[0mitem\u001b[0m \u001b[0;34m==\u001b[0m \u001b[0mkey\u001b[0m \u001b[0;32mfor\u001b[0m \u001b[0m_\u001b[0m\u001b[0;34m,\u001b[0m \u001b[0mitem\u001b[0m \u001b[0;32min\u001b[0m \u001b[0mself\u001b[0m\u001b[0;34m.\u001b[0m\u001b[0mheap\u001b[0m\u001b[0;34m]\u001b[0m\u001b[0;34m)\u001b[0m\u001b[0;34m\u001b[0m\u001b[0;34m\u001b[0m\u001b[0m\n\u001b[0m\u001b[1;32m    762\u001b[0m \u001b[0;34m\u001b[0m\u001b[0m\n\u001b[1;32m    763\u001b[0m     \u001b[0;32mdef\u001b[0m \u001b[0m__getitem__\u001b[0m\u001b[0;34m(\u001b[0m\u001b[0mself\u001b[0m\u001b[0;34m,\u001b[0m \u001b[0mkey\u001b[0m\u001b[0;34m)\u001b[0m\u001b[0;34m:\u001b[0m\u001b[0;34m\u001b[0m\u001b[0;34m\u001b[0m\u001b[0m\n",
      "\u001b[0;31mKeyboardInterrupt\u001b[0m: "
     ]
    }
   ],
   "source": [
    "# no termina nunca de ejecutarse y no sé por qué\n",
    "#%%timeit\n",
    "%time astar_search(p3,h4(t3)).solution()"
   ]
  },
  {
   "cell_type": "markdown",
   "metadata": {},
   "source": [
    "...comentar..."
   ]
  },
  {
   "cell_type": "markdown",
   "metadata": {},
   "source": [
    "# Ejercicio 2\n",
    "En el siguiente puzle infantil se pide rellenar los espacios en blanco con números del 1 al 9 de tal modo que la ecuación sea correcta siguiendo el orden de las operaciones. Los números no pueden repetirse. Es decir, en cada\n",
    "uno de los 9 huecos en blancos deberá ir un número sin repetirse. Según declaraciones del profesor Tran Phuong existen 362.880 combinaciones posibles para colocar los 9 dígitos en los 9 espacios en blanco, pero sólo unas\n",
    "pocas son correctas. En la parte derecha se muestra una posible solución."
   ]
  },
  {
   "cell_type": "code",
   "execution_count": null,
   "metadata": {},
   "outputs": [],
   "source": [
    "class puzleInfantil(Problem):\n",
    "    def __init__(self, goal=((True, True, True, True, True, True, True, True, True), 66, 9)):\n",
    "        \"\"\" Define goal state and initialize a problem \"\"\"\n",
    "        self.sumaT = 66\n",
    "        self.operaciones = (\" + 13 +\", \"*\", \"/\", \"+ 12 +\", \"*\", \"-\", \"- 11 +\", \"*\", \"/\", \"- 10\")\n",
    "        self.initial = ((False, False, False, False, False, False, False, False, False), 0, 0)\n",
    "        self.goal = goal\n",
    "\n",
    "    def actions(self, estado):\n",
    "        numeros = estado[0]\n",
    "        res = estado[1]\n",
    "        operacion = estado[2]\n",
    "        accs = list()\n",
    "        cont = 1\n",
    "        for x in numeros:\n",
    "            if x == False:\n",
    "                if operacion == 8:\n",
    "                    if eval(str(res) + \" \" + self.operaciones[operacion] + \" \" + str(cont) + self.operaciones[9]) == self.sumaT:\n",
    "                        accs.append(cont)\n",
    "                else:\n",
    "                    accs.append(cont)\n",
    "            cont += 1\n",
    "        return accs\n",
    "\n",
    "    def result(self, estado, accion):\n",
    "        res = estado[1]\n",
    "        operacion = estado[2]\n",
    "        numeros = list(estado[0])\n",
    "        numeros[accion - 1] = True\n",
    "        if operacion != 8:\n",
    "            res = eval(str(res) + \" \" + self.operaciones[operacion] + \" \" + str(accion))\n",
    "        else:\n",
    "            res = eval(str(res) + \" \" + self.operaciones[operacion] + \" \" + str(accion) + self.operaciones[9])\n",
    "        operacion = operacion + 1\n",
    "        return (tuple(numeros), res, operacion)\n",
    "\n",
    "    def h(self, node):\n",
    "        \"\"\" Return the heuristic value for a given state. \"\"\"\n",
    "        return 1"
   ]
  },
  {
   "cell_type": "code",
   "execution_count": null,
   "metadata": {},
   "outputs": [],
   "source": [
    "p = puzleInfantil()\n",
    "p.initial"
   ]
  },
  {
   "cell_type": "code",
   "execution_count": null,
   "metadata": {},
   "outputs": [],
   "source": [
    "p.actions(p.initial)"
   ]
  },
  {
   "cell_type": "code",
   "execution_count": null,
   "metadata": {},
   "outputs": [],
   "source": [
    "breadth_first_tree_search(p).solution()"
   ]
  },
  {
   "cell_type": "code",
   "execution_count": null,
   "metadata": {},
   "outputs": [],
   "source": [
    "depth_first_tree_search(p).solution()"
   ]
  },
  {
   "cell_type": "code",
   "execution_count": null,
   "metadata": {},
   "outputs": [],
   "source": [
    "depth_first_graph_search(p).solution()"
   ]
  }
 ],
 "metadata": {
  "kernelspec": {
   "display_name": "Python 3",
   "language": "python",
   "name": "python3"
  },
  "language_info": {
   "codemirror_mode": {
    "name": "ipython",
    "version": 3
   },
   "file_extension": ".py",
   "mimetype": "text/x-python",
   "name": "python",
   "nbconvert_exporter": "python",
   "pygments_lexer": "ipython3",
   "version": "3.8.3"
  }
 },
 "nbformat": 4,
 "nbformat_minor": 4
}
