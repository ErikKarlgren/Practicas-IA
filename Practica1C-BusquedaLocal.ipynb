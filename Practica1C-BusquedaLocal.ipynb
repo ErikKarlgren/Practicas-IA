{
 "cells": [
  {
   "cell_type": "markdown",
   "metadata": {},
   "source": [
    "# Práctica 1C - Inteligencia Artificial\n",
    "**Grupo 16**\n",
    "- Erik Karlgren Domercq\n",
    "- David Bugoi\n",
    "- Daniela Alejandra Córdova Porta\n",
    "\n",
    "## Belén Díaz Agudo -  Facultad de Informática UCM\n",
    "## Búsqueda local\n",
    "En esta primera parte usaremos ejercicios paso a paso para familiarizarnos con la resolución de problemas sencillos de optimización, como la maximización o minimización de una función, o el problema de la mochila o del viajante, problemas conocidos cuya resolución se ha abordado con técnicas algorítmicas y que vamos a resolver utilizando algoritmos de búsqueda local. En la segunda parte de la práctica se pide resolver el problema de la organización de jornadas informáticas dado en el enunciado."
   ]
  },
  {
   "cell_type": "code",
   "execution_count": 1,
   "metadata": {},
   "outputs": [
    {
     "name": "stdout",
     "output_type": "stream",
     "text": [
      "/home/erik/Documents/University/2020-2021/1st semester/IA1/practicas-github/aima-python\n"
     ]
    }
   ],
   "source": [
    "cd aima-python"
   ]
  },
  {
   "cell_type": "markdown",
   "metadata": {},
   "source": [
    "## Parte 1. Algoritmo de escalada\n",
    "Hill Climbing es un algoritmo de búsqueda local heurística utilizada para problemas de optimización.\n",
    "Esta solución puede o no ser el óptimo global. El algoritmo es una variante del algoritmo de generación y prueba.\n",
    "\n",
    "\n",
    "En general, el algoritmo funciona de la siguiente manera:\n",
    "- Evaluar el estado inicial.\n",
    "- Si es igual al estado del objetivo, terminamos.\n",
    "- Encuentra un estado vecino al estado actual\n",
    "- Evaluar este estado. Si está más cerca del estado objetivo que antes, reemplace el estado inicial con este estado y repita estos pasos.\n",
    "\n",
    "\n",
    "Usaremos la implementación de AIMA que está en el módulo search.py\n",
    "\n",
    "```python\n",
    "def hill_climbing(problem):\n",
    "    \"\"\"From the initial node, keep choosing the neighbor with highest value,\n",
    "    stopping when no neighbor is better. [Figure 4.2]\"\"\"\n",
    "    current = Node(problem.initial)\n",
    "    while True:\n",
    "        neighbors = current.expand(problem)\n",
    "        if not neighbors:\n",
    "            break\n",
    "        neighbor = argmax_random_tie(neighbors, key=lambda node: problem.value(node.state))\n",
    "        if problem.value(neighbor.state) <= problem.value(current.state):\n",
    "            break\n",
    "        current = neighbor\n",
    "    return current.state\n",
    " ```\n"
   ]
  },
  {
   "cell_type": "markdown",
   "metadata": {},
   "source": [
    "### TSP (<i>Travelling Salesman Problem</i>): el problema del viajante\n",
    "Dado un conjunto de ciudades y la distancia entre cada par de ciudades, el problema es encontrar la ruta más corta posible que visite cada ciudad exactamente una vez y regrese al punto de partida. Es un problema NP hard. No existe una solución de coste polinomial."
   ]
  },
  {
   "cell_type": "code",
   "execution_count": 2,
   "metadata": {},
   "outputs": [],
   "source": [
    "## Resolveremos el problema del viajante TSP para encontrar una solución aproximada.\n",
    "from search import *\n",
    "\n",
    "class TSP_problem(Problem):\n",
    "\n",
    "    def two_opt(self, state):\n",
    "        \"\"\" Neighbour generating function for Traveling Salesman Problem \"\"\"\n",
    "        neighbour_state = state[:]\n",
    "        left = random.randint(0, len(neighbour_state) - 1)\n",
    "        right = random.randint(0, len(neighbour_state) - 1)\n",
    "        if left > right:\n",
    "            left, right = right, left\n",
    "        neighbour_state[left: right + 1] = reversed(neighbour_state[left: right + 1])\n",
    "        return neighbour_state\n",
    "\n",
    "    def actions(self, state):\n",
    "        \"\"\" action that can be excuted in given state \"\"\"\n",
    "        return [self.two_opt]\n",
    "\n",
    "    def result(self, state, action):\n",
    "        \"\"\"  result after applying the given action on the given state \"\"\"\n",
    "        return action(state)\n",
    "\n",
    "    def path_cost(self, c, state1, action, state2):\n",
    "        \"\"\" total distance for the Traveling Salesman to be covered if in state2  \"\"\"\n",
    "        cost = 0\n",
    "        for i in range(len(state2) - 1):\n",
    "            cost += distances[state2[i]][state2[i + 1]]\n",
    "        cost += distances[state2[0]][state2[-1]]\n",
    "        return cost\n",
    "\n",
    "    def value(self, state):\n",
    "        \"\"\" value of path cost given negative for the given state \"\"\"\n",
    "        return self.path_cost(None, None, None, state)"
   ]
  },
  {
   "cell_type": "markdown",
   "metadata": {},
   "source": [
    "Resolveremos el TSP para las ciudades de la lista de ciudades de Rumanía.\n",
    "\n",
    "```python\n",
    "['Arad', 'Bucharest', 'Craiova', 'Drobeta', 'Eforie', 'Fagaras', 'Giurgiu', 'Hirsova', 'Iasi', \n",
    " 'Lugoj', 'Mehadia', 'Neamt', 'Oradea', 'Pitesti', 'Rimnicu', 'Sibiu', 'Timisoara', 'Urziceni', \n",
    " 'Vaslui', 'Zerind']\n",
    "```"
   ]
  },
  {
   "cell_type": "code",
   "execution_count": 3,
   "metadata": {},
   "outputs": [],
   "source": [
    "# Usaremos la siguiente representacion del libro AIMA para el mapa de Rumanía.\n",
    "\n",
    "# Distancias entre las ciudades del mapa\n",
    "romania_map = UndirectedGraph(dict(\n",
    "    Arad      = dict(Zerind=75, Sibiu=140, Timisoara=118),\n",
    "    Bucharest = dict(Urziceni=85, Pitesti=101, Giurgiu=90, Fagaras=211),\n",
    "    Craiova   = dict(Drobeta=120, Rimnicu=146, Pitesti=138),\n",
    "    Drobeta   = dict(Mehadia=75),\n",
    "    Eforie    = dict(Hirsova=86),\n",
    "    Fagaras   = dict(Sibiu=99),\n",
    "    Hirsova   = dict(Urziceni=98),\n",
    "    Iasi      = dict(Vaslui=92, Neamt=87),\n",
    "    Lugoj     = dict(Timisoara=111, Mehadia=70),\n",
    "    Oradea    = dict(Zerind=71, Sibiu=151),\n",
    "    Pitesti   = dict(Rimnicu=97),\n",
    "    Rimnicu   = dict(Sibiu=80),\n",
    "    Urziceni  = dict(Vaslui=142)))\n",
    "\n",
    "# Coordenadas. Son para renderizar el grafo.\n",
    "romania_map.locations = dict(\n",
    "    Arad    =  (91, 492), Bucharest = (400, 327), Craiova  = (253, 288),\n",
    "    Drobeta = (165, 299), Eforie    = (562, 293), Fagaras  = (305, 449),\n",
    "    Giurgiu = (375, 270), Hirsova   = (534, 350), Iasi     = (473, 506),\n",
    "    Lugoj   = (165, 379), Mehadia   = (168, 339), Neamt    = (406, 537),\n",
    "    Oradea  = (131, 571), Pitesti   = (320, 368), Rimnicu  = (233, 410),\n",
    "    Sibiu   = (207, 457), Timisoara =  (94, 410), Urziceni = (456, 350),\n",
    "    Vaslui  = (509, 444), Zerind    = (108, 531))"
   ]
  },
  {
   "cell_type": "markdown",
   "metadata": {},
   "source": [
    "Es bastante sencillo entender este `romania_map`. El primer nodo **Arad** tiene tres vecinos llamados **Zerind**, **Sibiu**, **Timisoara**. Cada uno de estos nodos son 75, 140, 118 unidades aparte de **Arad** respectivamente. Y lo mismo ocurre con otros nodos.\n",
    "\n",
    "Y `romania_map.locations` contiene las posiciones de cada uno de los nodos. \n",
    "Como heurística se puede usar la distancia en línea recta o la distancia manhattan (que es diferente de la proporcionada en `romania_map`) entre dos ciudades."
   ]
  },
  {
   "cell_type": "code",
   "execution_count": 4,
   "metadata": {},
   "outputs": [
    {
     "name": "stdout",
     "output_type": "stream",
     "text": [
      "{'Arad': (91, 492), 'Bucharest': (400, 327), 'Craiova': (253, 288), 'Drobeta': (165, 299), 'Eforie': (562, 293), 'Fagaras': (305, 449), 'Giurgiu': (375, 270), 'Hirsova': (534, 350), 'Iasi': (473, 506), 'Lugoj': (165, 379), 'Mehadia': (168, 339), 'Neamt': (406, 537), 'Oradea': (131, 571), 'Pitesti': (320, 368), 'Rimnicu': (233, 410), 'Sibiu': (207, 457), 'Timisoara': (94, 410), 'Urziceni': (456, 350), 'Vaslui': (509, 444), 'Zerind': (108, 531)}\n"
     ]
    }
   ],
   "source": [
    "romania_locations = romania_map.locations\n",
    "print(romania_locations)"
   ]
  },
  {
   "cell_type": "code",
   "execution_count": 5,
   "metadata": {},
   "outputs": [],
   "source": [
    "# node colors, node positions and node label positions\n",
    "node_colors = {node: 'white' for node in romania_map.locations.keys()}\n",
    "node_positions = romania_map.locations\n",
    "node_label_pos = { k:[v[0],v[1]-10]  for k,v in romania_map.locations.items() }\n",
    "edge_weights = {(k, k2) : v2 for k, v in romania_map.graph_dict.items() for k2, v2 in v.items()}\n",
    "\n",
    "romania_graph_data = {  'graph_dict' : romania_map.graph_dict,\n",
    "                        'node_colors': node_colors,\n",
    "                        'node_positions': node_positions,\n",
    "                        'node_label_positions': node_label_pos,\n",
    "                         'edge_weights': edge_weights\n",
    "                     }"
   ]
  },
  {
   "cell_type": "code",
   "execution_count": 6,
   "metadata": {},
   "outputs": [],
   "source": [
    "# Descomentar para mostrar el mapa\n",
    "# from notebook import show_map, final_path_colors, display_visual\n",
    "# import matplotlib\n",
    "\n",
    "# show_map(romania_graph_data)"
   ]
  },
  {
   "cell_type": "code",
   "execution_count": 7,
   "metadata": {},
   "outputs": [
    {
     "name": "stdout",
     "output_type": "stream",
     "text": [
      "['Arad', 'Bucharest', 'Craiova', 'Drobeta', 'Eforie', 'Fagaras', 'Giurgiu', 'Hirsova', 'Iasi', 'Lugoj', 'Mehadia', 'Neamt', 'Oradea', 'Pitesti', 'Rimnicu', 'Sibiu', 'Timisoara', 'Urziceni', 'Vaslui', 'Zerind']\n"
     ]
    }
   ],
   "source": [
    "## el siguiente código crea un diccionario y calcula y añade al diccionario la distancia manhattan\n",
    "## entre las ciudades. \n",
    "import numpy as np\n",
    "\n",
    "distances = {}\n",
    "all_cities = []\n",
    "\n",
    "for city in romania_map.locations.keys():\n",
    "    distances[city] = {}\n",
    "    all_cities.append(city)\n",
    "    \n",
    "all_cities.sort()\n",
    "print(all_cities)\n",
    "\n",
    "for name_1, coordinates_1 in romania_map.locations.items():\n",
    "    for name_2, coordinates_2 in romania_map.locations.items():\n",
    "        distances[name_1][name_2] = np.linalg.norm(\n",
    "            [coordinates_1[0] - coordinates_2[0], coordinates_1[1] - coordinates_2[1]])\n",
    "        distances[name_2][name_1] = np.linalg.norm(\n",
    "            [coordinates_1[0] - coordinates_2[0], coordinates_1[1] - coordinates_2[1]])"
   ]
  },
  {
   "cell_type": "code",
   "execution_count": 8,
   "metadata": {},
   "outputs": [],
   "source": [
    "# Creamos una instancia del problema TSP con la lista de ciudades anterior que se na extraido del mapa.\n",
    "# En el mapa hay informacion de las distancias que se utilizan en la clase TSP_problem para calcular el coste y las heurísticas.\n",
    "tsp = TSP_problem(all_cities)"
   ]
  },
  {
   "cell_type": "code",
   "execution_count": 9,
   "metadata": {},
   "outputs": [],
   "source": [
    "## Redefinimos el hill climbing de AIMA para que el método de generacion de vecinos sea acceder al grafo que \n",
    "## hemos definido para el TSP\n",
    "\n",
    "def hill_climbing(problem):\n",
    "    \n",
    "    \"\"\"From the initial node, keep choosing the neighbor with highest value,\n",
    "    stopping when no neighbor is better. [Figure 4.2]\"\"\"\n",
    "    \n",
    "    def find_neighbors(state, number_of_neighbors=100):\n",
    "        \"\"\" finds neighbors using two_opt method \"\"\"\n",
    "        \n",
    "        neighbors = []\n",
    "        \n",
    "        for i in range(number_of_neighbors):\n",
    "            new_state = problem.two_opt(state)\n",
    "            neighbors.append(Node(new_state))\n",
    "            state = new_state\n",
    "            \n",
    "        return neighbors\n",
    "\n",
    "    # as this is a stochastic algorithm, we will set a cap on the number of iterations\n",
    "    iterations = 10000\n",
    "    \n",
    "    current = Node(problem.initial)\n",
    "    while iterations:\n",
    "        neighbors = find_neighbors(current.state)\n",
    "        if not neighbors:\n",
    "            break\n",
    "        neighbor = argmax_random_tie(neighbors, key=lambda node: problem.value(node.state))\n",
    "        if problem.value(neighbor.state) <= problem.value(current.state):\n",
    "            current.state = neighbor.state\n",
    "        iterations -= 1\n",
    "        \n",
    "    return current.state"
   ]
  },
  {
   "cell_type": "code",
   "execution_count": 10,
   "metadata": {},
   "outputs": [
    {
     "name": "stdout",
     "output_type": "stream",
     "text": [
      "CPU times: user 11 s, sys: 196 ms, total: 11.2 s\n",
      "Wall time: 11.6 s\n"
     ]
    },
    {
     "data": {
      "text/plain": [
       "['Arad',\n",
       " 'Bucharest',\n",
       " 'Craiova',\n",
       " 'Drobeta',\n",
       " 'Eforie',\n",
       " 'Fagaras',\n",
       " 'Giurgiu',\n",
       " 'Hirsova',\n",
       " 'Iasi',\n",
       " 'Lugoj',\n",
       " 'Mehadia',\n",
       " 'Neamt',\n",
       " 'Oradea',\n",
       " 'Pitesti',\n",
       " 'Rimnicu',\n",
       " 'Sibiu',\n",
       " 'Timisoara',\n",
       " 'Urziceni',\n",
       " 'Vaslui',\n",
       " 'Zerind']"
      ]
     },
     "execution_count": 10,
     "metadata": {},
     "output_type": "execute_result"
    }
   ],
   "source": [
    "# Y lo resolvemos con escalada. \n",
    "%time hill_climbing(tsp)"
   ]
  },
  {
   "cell_type": "markdown",
   "metadata": {},
   "source": [
    "### Ejercicio 1. Resuelve el problema TSP con el algoritmo de escalada por máxima pendiente en el mapa de ciudades de Rumanía y explica el resultado obtenido. \n",
    "\n",
    "**Realiza un análisis razonado de las propiedades del algoritmo: eficiencia y optimalidad en base a la ejecución.**\n",
    "\n",
    "Este algoritmo encuentra el óptimo local, que puede ser o no el óptimo global, porque solo considera los vecinos en cada estado y coge siempre el mejor. Sin embargo, gracias a ello llega rápidamente a dicho óptimo, que en general es el local, aunque depende del problema.\n",
    "\n",
    "**¿Ha encontrado el algoritmo el óptimo global? ¿Ha encontrado la misma solución en distintas ejecuciones?\n",
    "Sólo se pide hacer una comparativa teórica (breve) con cómo se comporta este algoritmo y relacionarlo con otros algoritmos vistos en clase. Opcionalmente se puede hacer la comparativa real con algún algoritmo de búsqueda exhaustiva.**\n",
    "\n",
    "El algoritmo encuentra normalmente lo que parecen ser óptimos globales con valor 1589.8433308050924, aunque perfectamente podrían ser óptimos locales. Debido al comportamiento aleatorio de `two_opt` de vez en cuando encuentra peores resultados.\n",
    "\n",
    "Hemos modificado `hill_climbing` para que minimice y `value()` de `TSP_problem` no multiplique por -1."
   ]
  },
  {
   "cell_type": "code",
   "execution_count": 11,
   "metadata": {},
   "outputs": [
    {
     "name": "stdout",
     "output_type": "stream",
     "text": [
      "Valor de sol1: 1589.8433308050924\n",
      "Valor de sol2: 1589.8433308050924\n",
      "Valor de sol3: 1593.535425958492\n",
      "Valor de sol4: 1589.8433308050924\n"
     ]
    }
   ],
   "source": [
    "# hemos obtenido las siguientes soluciones en diferentes ejecuciones\n",
    "sol1 = ['Arad','Timisoara','Lugoj', 'Mehadia', 'Drobeta', 'Craiova', 'Pitesti', 'Giurgiu', 'Bucharest',\n",
    "        'Urziceni', 'Eforie', 'Hirsova', 'Vaslui', 'Iasi', 'Neamt', 'Fagaras', 'Rimnicu', 'Sibiu', 'Oradea',\n",
    "         'Zerind']\n",
    "sol2 = ['Mehadia', 'Drobeta', 'Craiova', 'Pitesti', 'Giurgiu', 'Bucharest', 'Urziceni', 'Eforie', 'Hirsova',\n",
    "        'Vaslui', 'Iasi', 'Neamt', 'Fagaras', 'Rimnicu', 'Sibiu', 'Oradea', 'Zerind', 'Arad', 'Timisoara',\n",
    "        'Lugoj']\n",
    "sol3 = ['Hirsova', 'Eforie', 'Urziceni', 'Bucharest', 'Giurgiu', 'Craiova', 'Drobeta', 'Mehadia', 'Lugoj',\n",
    "        'Timisoara', 'Arad', 'Zerind', 'Oradea', 'Sibiu', 'Rimnicu', 'Pitesti', 'Fagaras', 'Neamt', 'Iasi',\n",
    "        'Vaslui']\n",
    "sol4 = ['Drobeta', 'Craiova', 'Pitesti', 'Giurgiu', 'Bucharest', 'Urziceni', 'Eforie', 'Hirsova', 'Vaslui',\n",
    "        'Iasi', 'Neamt', 'Fagaras', 'Rimnicu', 'Sibiu', 'Oradea', 'Zerind', 'Arad', 'Timisoara', 'Lugoj',\n",
    "        'Mehadia']\n",
    "\n",
    "print(\"Valor de sol1:\", tsp.value(sol1))\n",
    "print(\"Valor de sol2:\", tsp.value(sol2))\n",
    "print(\"Valor de sol3:\", tsp.value(sol3))\n",
    "print(\"Valor de sol4:\", tsp.value(sol4))"
   ]
  },
  {
   "cell_type": "markdown",
   "metadata": {},
   "source": [
    "Comparamos con algunos algoritmos:\n",
    "- **Algoritmo de búsqueda por haz local:** este guarda k nodos y utiliza el algoritmo de escalada. Por tanto puede encontrar el óptimo global ya que hay varias opciones. Aun así puede que las k escaladas se queden en óptimos locales.\n",
    "\n",
    "- **Algoritmo de enfriamiento simulado:** a diferencia de los dos anteriores introduce una variable aleatoria que permite esocger hijos peores evitando así quedarse en un óptimo local. Al principio escogen muchas soluciones peores debido a una alta \"temperatura\", y al final aceptan pocas soluciones peores debido a una baja \"temperatura\".\n",
    "\n",
    "- **Algoritmo de profundidad:** el algoritmo de escalada por la máxima pendiente se parece al de búsqueda de profundidad, pero quitando la parte de volver a estados anteriores. Además, el algoritmo de escalada usa un criterio para elegir por qué hijo avanzar."
   ]
  },
  {
   "cell_type": "markdown",
   "metadata": {},
   "source": [
    "## Parte 2. Enfriamiento simulado (<i>simulated annealing</i>) \n",
    "El algoritmo de enfriamiento simulado puede manejar las situaciones de óptimo local o mesetas típicas en algoritmos de escalada.\n",
    "<br>\n",
    "El enfriamiento simulado es bastante similar a la escalada pero en lugar de elegir el mejor movimiento en cada iteración, elige un movimiento aleatorio. Si este movimiento aleatorio nos acerca al óptimo global, será aceptado,\n",
    "pero si no lo hace, el algoritmo puede aceptar o rechazar el movimiento en función de una probabilidad dictada por la temperatura.  Cuando la `temperatura` es alta, es más probable que el algoritmo acepte un movimiento aleatorio incluso si es malo. A bajas temperaturas, solo se aceptan buenos movimientos, con alguna excepción ocasional.\n",
    "Esto permite la exploración del espacio de estado y evita que el algoritmo se atasque en el óptimo local.\n",
    "    \n",
    "```python\n",
    "# Usaremos la implementación de AIMA del modulo search.py\n",
    "\n",
    "def simulated_annealing(problem, schedule=exp_schedule()):\n",
    "\"\"\"[Figure 4.5] CAUTION: This differs from the pseudocode as it\n",
    "returns a state instead of a Node.\"\"\"\n",
    "current = Node(problem.initial)\n",
    "for t in range(sys.maxsize):\n",
    "    T = schedule(t)\n",
    "    if T == 0:\n",
    "        return current.state\n",
    "    neighbors = current.expand(problem)\n",
    "    if not neighbors:\n",
    "        return current.state\n",
    "    next_choice = random.choice(neighbors)\n",
    "    delta_e = problem.value(next_choice.state) - problem.value(current.state)\n",
    "    if delta_e > 0 or probability(math.exp(delta_e / T)):\n",
    "        current = next_choice`\n",
    " ```"
   ]
  },
  {
   "cell_type": "markdown",
   "metadata": {},
   "source": [
    "Como hemos visto en clase hay varios métodos de enfriamiento (scheduling routine) \n",
    "Se puede variar el método de enfriamiento. En la implementación actual estamos usando el método de enfriamiento exponencial (que se pasa como parámetro). \n",
    "```python\n",
    "def exp_schedule(k=20, lam=0.005, limit=100):\n",
    "    \"\"\"One possible schedule function for simulated annealing\"\"\"\n",
    "    return lambda t: (k * math.exp(-lam * t) if t < limit else 0)\n",
    "```"
   ]
  },
  {
   "cell_type": "markdown",
   "metadata": {},
   "source": [
    "Como ejemplo, vamos a definir un problema sencillo de encontrar el punto más alto en una rejilla. Este problema está definido en el módulo search.py como `PeakFindingProblem`. Lo reproducimos aquí y creamos una rejilla simple."
   ]
  },
  {
   "cell_type": "code",
   "execution_count": 12,
   "metadata": {},
   "outputs": [],
   "source": [
    "initial = (0, 0)\n",
    "grid = [[3, 7, 2, 8],\n",
    "        [5, 2, 9, 1],\n",
    "        [5, 3, 3, 1]]"
   ]
  },
  {
   "cell_type": "code",
   "execution_count": 13,
   "metadata": {},
   "outputs": [],
   "source": [
    "# Pre-defined actions for PeakFindingProblem\n",
    "directions4 = { 'W':(-1, 0), 'N':(0, 1), 'E':(1, 0), 'S':(0, -1) }\n",
    "directions8 = dict(directions4) \n",
    "directions8.update({'NW':(-1, 1), 'NE':(1, 1), 'SE':(1, -1), 'SW':(-1, -1) })\n",
    "\n",
    "class PeakFindingProblem(Problem):\n",
    "    \"\"\"Problem of finding the highest peak in a limited grid\"\"\"\n",
    "\n",
    "    def __init__(self, initial, grid, defined_actions=directions4):\n",
    "        \"\"\"The grid is a 2 dimensional array/list whose state is specified by tuple of indices\"\"\"\n",
    "        Problem.__init__(self, initial)\n",
    "        self.grid = grid\n",
    "        self.defined_actions = defined_actions\n",
    "        self.n = len(grid)\n",
    "        assert self.n > 0\n",
    "        self.m = len(grid[0])\n",
    "        assert self.m > 0\n",
    "\n",
    "    def actions(self, state):\n",
    "        \"\"\"Returns the list of actions which are allowed to be taken from the given state\"\"\"\n",
    "        allowed_actions = []\n",
    "        for action in self.defined_actions:\n",
    "            next_state = vector_add(state, self.defined_actions[action])\n",
    "            if next_state[0] >= 0 and next_state[1] >= 0 and next_state[0] <= self.n - 1 and next_state[1] <= self.m - 1:\n",
    "                allowed_actions.append(action)\n",
    "\n",
    "        return allowed_actions\n",
    "\n",
    "    def result(self, state, action):\n",
    "        \"\"\"Moves in the direction specified by action\"\"\"\n",
    "        return vector_add(state, self.defined_actions[action])\n",
    "\n",
    "    def value(self, state):\n",
    "        \"\"\"Value of a state is the value it is the index to\"\"\"\n",
    "        x, y = state\n",
    "        assert 0 <= x < self.n\n",
    "        assert 0 <= y < self.m\n",
    "        return self.grid[x][y]\n"
   ]
  },
  {
   "cell_type": "code",
   "execution_count": 14,
   "metadata": {},
   "outputs": [],
   "source": [
    "problem = PeakFindingProblem(initial, grid, directions4)"
   ]
  },
  {
   "cell_type": "code",
   "execution_count": 15,
   "metadata": {},
   "outputs": [
    {
     "data": {
      "text/plain": [
       "9"
      ]
     },
     "execution_count": 15,
     "metadata": {},
     "output_type": "execute_result"
    }
   ],
   "source": [
    "# Lo resolvemos con enfriamiento simulado\n",
    "\n",
    "solutions = {problem.value(simulated_annealing(problem)) for i in range(100)}\n",
    "max(solutions)"
   ]
  },
  {
   "cell_type": "code",
   "execution_count": 16,
   "metadata": {},
   "outputs": [],
   "source": [
    "def hill_climbing(problem):\n",
    "    \"\"\"From the initial node, keep choosing the neighbor with highest value,\n",
    "    stopping when no neighbor is better. [Figure 4.2]\"\"\"\n",
    "    current = Node(problem.initial)\n",
    "    while True:\n",
    "        neighbors = current.expand(problem)\n",
    "        if not neighbors:\n",
    "            break\n",
    "        neighbor = argmax_random_tie(neighbors, key=lambda node: problem.value(node.state))\n",
    "        if problem.value(neighbor.state) <= problem.value(current.state):\n",
    "            break\n",
    "        current = neighbor\n",
    "    return current.state"
   ]
  },
  {
   "cell_type": "code",
   "execution_count": 17,
   "metadata": {},
   "outputs": [
    {
     "data": {
      "text/plain": [
       "7"
      ]
     },
     "execution_count": 17,
     "metadata": {},
     "output_type": "execute_result"
    }
   ],
   "source": [
    "solution = problem.value(hill_climbing(problem))\n",
    "solution"
   ]
  },
  {
   "cell_type": "markdown",
   "metadata": {},
   "source": [
    "### Ejercicio 2.  Resuelve el problema anterior de encontrar el punto máximo en una rejilla. Comenta y razona los resultados obtenidos en distintas rejjillas con los algoritmos de enfriamiento simulado y escalada por máxima pendiente. "
   ]
  },
  {
   "cell_type": "code",
   "execution_count": 27,
   "metadata": {},
   "outputs": [],
   "source": [
    "# Ejemplo de rejilla para pruebas\n",
    "grid2 = [[0.00, 0.00, 0.00, 0.00, 0.00, 0.00, 0.00, 0.00, 0.00],\n",
    "         [0.00, 0.00, 0.00, 0.00, 0.00, 0.00, 0.00, 0.00, 0.00],\n",
    "         [0.00, 0.00, 0.00, 0.40, 0.40, 0.00, 0.00, 0.00, 0.00],\n",
    "         [0.00, 0.00, 0.00, 0.00, 0.00, 0.00, 0.00, 0.70, 1.40],\n",
    "         [2.20, 1.80, 0.70, 0.00, 0.00, 0.00, 0.00, 0.00, 0.00],\n",
    "         [2.20, 1.80, 4.70, 6.50, 4.30, 1.80, 0.70, 0.00, 0.00],\n",
    "         [0.00, 0.00, 0.00, 0.00, 0.00, 0.00, 11.2, 0.70, 1.40],\n",
    "         [2.20, 1.80, 0.70, 0.00, 0.00, 9.00, 0.00, 0.00, 0.00],\n",
    "         [2.20, 1.80, 4.70, 6.50, 4.30, 1.80, 0.70, 0.00, 0.00],\n",
    "         [0.00, 0.00, 0.00, 0.00, 0.00, 0.00, 0.00, 0.70, 1.40],\n",
    "         [2.20, 1.80, 0.70, 0.00, 0.00, 0.00, 0.00, 0.00, 0.00],\n",
    "         [2.20, 1.80, 4.70, 8.50, 4.30, 1.80, 0.70, 0.00, 0.00]]\n",
    "grid3 = [[3,2,3],\n",
    "         [2,5,6],\n",
    "         [7,8,9]]"
   ]
  },
  {
   "cell_type": "code",
   "execution_count": 30,
   "metadata": {},
   "outputs": [],
   "source": [
    "# Resuelve un problema ejecutando 100 veces el algoritmo de enfriamiento y 1 el de escalada e\n",
    "# imprime el resultado de aplicar cada uno.\n",
    "# Ejecutar varias veces el algoritmo de escalada daría siempre el mismo resultado, pero no pasa igual\n",
    "# con el de enfriamiento.\n",
    "def soluciones_enfriamiento_y_escalada(problem):\n",
    "    sol_sim  = max({problem.value(simulated_annealing(problem)) for i in range(100)})\n",
    "    sol_hill = problem.value(hill_climbing(problem))\n",
    "    print(\"Solución por enfriamiento:\", sol_sim)\n",
    "    print(\"Solución por escalada:\", sol_hill)\n",
    "    print()"
   ]
  },
  {
   "cell_type": "code",
   "execution_count": 38,
   "metadata": {},
   "outputs": [
    {
     "name": "stdout",
     "output_type": "stream",
     "text": [
      "Solución por enfriamiento: 9.0\n",
      "Solución por escalada: 0.0\n",
      "\n",
      "Solución por enfriamiento: 11.2\n",
      "Solución por escalada: 0.0\n",
      "\n",
      "Solución por enfriamiento: 11.2\n",
      "Solución por escalada: 0.4\n",
      "\n",
      "Solución por enfriamiento: 11.2\n",
      "Solución por escalada: 11.2\n",
      "\n",
      "Solución por enfriamiento: 9\n",
      "Solución por escalada: 3\n",
      "\n"
     ]
    }
   ],
   "source": [
    "soluciones_enfriamiento_y_escalada(PeakFindingProblem((0,0), grid2, directions4))  # 1\n",
    "soluciones_enfriamiento_y_escalada(PeakFindingProblem((1,5), grid2, directions4))  # 2\n",
    "soluciones_enfriamiento_y_escalada(PeakFindingProblem((1,5), grid2, directions8))  # 3\n",
    "soluciones_enfriamiento_y_escalada(PeakFindingProblem((7,7), grid2, directions4))  # 4\n",
    "soluciones_enfriamiento_y_escalada(PeakFindingProblem((0,0), grid3, directions4))  # 5"
   ]
  },
  {
   "cell_type": "markdown",
   "metadata": {},
   "source": [
    "El algoritmo de enfriamiento consigue consistentemente mejores resultados que el algoritmo de escalada. Esto se debe a que el de escalada simple coge cualquier estado vecino que sea mejor que el estado actual, pero el de enfriamiento a veces coge estados peores, con lo que así se exploran muchas más posibilidades.\n",
    "\n",
    "Vemos en todos los ejemplos de arriba (salvo el 4) que el algoritmo de escalada se queda atascado en un óptimo local, mientras que el de enfriamiento llega a explorar otras soluciones y por ello, tras 100 ejecuciones, al menos una de dichas soluciones llega al óptimo global (no tendría por qué ocurrir pero sería ínfimamente probable).\n",
    "\n",
    "Justo en el ejemplo 4 el algoritmo de escalada simple llega también al óptimo global por ser el óptimo local del punto de partida."
   ]
  },
  {
   "cell_type": "markdown",
   "metadata": {},
   "source": [
    "## Parte 3. Algoritmos genéticos\n"
   ]
  },
  {
   "cell_type": "markdown",
   "metadata": {},
   "source": [
    "Se define una clase `ProblemaGenetico` que incluye los elementos necesarios para la representación de un problema de optimización que se va a resolver con un algoritmo genético. Los elementos son los que hemos visto en clase:\n",
    "\n",
    " - `genes`: lista de genes usados en el genotipo de los estados.\n",
    " - `longitud_individuos`: longitud de los cromosomas\n",
    " - `decodifica`: función que obtiene el fenotipo a partir del genotipo.\n",
    " - `fitness`: función de valoración.\n",
    " - `muta`: función de mutación de un cromosoma \n",
    " - `cruza`: función de cruce de un par de cromosomas"
   ]
  },
  {
   "cell_type": "code",
   "execution_count": 26,
   "metadata": {},
   "outputs": [],
   "source": [
    "import random"
   ]
  },
  {
   "cell_type": "code",
   "execution_count": 27,
   "metadata": {},
   "outputs": [],
   "source": [
    "class ProblemaGenetico(object):\n",
    "        def __init__(self, genes,fun_dec,fun_muta , fun_cruza, fun_fitness,longitud_individuos):\n",
    "            self.genes = genes\n",
    "            self.fun_dec = fun_dec\n",
    "            self.fun_cruza = fun_cruza\n",
    "            self.fun_muta = fun_muta\n",
    "            self.fun_fitness = fun_fitness\n",
    "            self.longitud_individuos = longitud_individuos\n",
    "            \"\"\"Constructor de la clase\"\"\"\n",
    "                \n",
    "        def decodifica(self, genotipo):\n",
    "            \"\"\"Devuelve el fenotipo a partir del genotipo\"\"\"\n",
    "            fenotipo = self.fun_dec(genotipo)\n",
    "            return fenotipo\n",
    "        \n",
    "        def muta(self, cromosoma,prob):\n",
    "            \"\"\"Devuelve el cromosoma mutado\"\"\"   \n",
    "            mutante = self.fun_muta(cromosoma,prob)\n",
    "            return mutante\n",
    "        \n",
    "        def cruza(self, cromosoma1, cromosoma2):         \n",
    "            \"\"\"Devuelve el cruce de un par de cromosomas\"\"\"\n",
    "            cruce = self.fun_cruza(cromosoma1,cromosoma2)\n",
    "            return cruce\n",
    "        \n",
    "        def fitness(self, cromosoma):    \n",
    "            \"\"\"Función de valoración\"\"\"\n",
    "            valoracion = self.fun_fitness(cromosoma)\n",
    "            return valoracion"
   ]
  },
  {
   "cell_type": "markdown",
   "metadata": {},
   "source": [
    "En primer lugar vamos a definir una instancia de la clase anterior correspondiente al problema de optimizar (maximizar o minimizar) la función cuadrado x<sup>2</sup> en el conjunto de los números naturales menores que 2<sup>10</sup>.\n",
    "Se usa este ejemplo (del que sabemos la solución) para ver todos los elementos y poder observar el comportamiento. \n"
   ]
  },
  {
   "cell_type": "code",
   "execution_count": 28,
   "metadata": {},
   "outputs": [],
   "source": [
    "# Será necesaria la siguiente función que interpreta una lista de 0's y 1's como un número natural:  \n",
    "# La siguiente función que interpreta una lista de 0's y 1's como\n",
    "# un número natural:  \n",
    "\n",
    "def binario_a_decimal(x):\n",
    "    return sum(b*(2**i) for (i,b) in enumerate(x)) "
   ]
  },
  {
   "cell_type": "code",
   "execution_count": 29,
   "metadata": {},
   "outputs": [
    {
     "data": {
      "text/plain": [
       "[(0, 1), (1, 0), (2, 0)]"
      ]
     },
     "execution_count": 29,
     "metadata": {},
     "output_type": "execute_result"
    }
   ],
   "source": [
    "list(enumerate([1, 0, 0]))"
   ]
  },
  {
   "cell_type": "code",
   "execution_count": 30,
   "metadata": {},
   "outputs": [],
   "source": [
    "# En primer lugar usaremos la clase anterior para representar el problema de optimizar (maximizar o minimizar)\n",
    "# la función cuadrado en el conjunto de los números naturales menores que\n",
    "# 2^{10}.\n",
    "\n",
    "# Tenemos que definir funciones de cruce, mutación y fitness para este problema.\n",
    "\n",
    "def fun_cruzar(cromosoma1, cromosoma2):\n",
    "    \"\"\"Cruza los cromosomas por la mitad\"\"\"\n",
    "    l1 = len(cromosoma1)\n",
    "    l2 = len(cromosoma2)\n",
    "    cruce1 = cromosoma1[0:l1//2]+cromosoma2[l1//2:l2]\n",
    "    cruce2 = cromosoma2[0:l2//2]+cromosoma1[l2//2:l1]\n",
    "    return [cruce1,cruce2]\n",
    "\n",
    "def fun_mutar(cromosoma,prob):\n",
    "    \"\"\"Elige un elemento al azar del cromosoma y lo modifica con una probabilidad igual a prob\"\"\"\n",
    "    l = len(cromosoma)\n",
    "    p = random.randint(0,l-1)\n",
    "    if prob > random.uniform(0,1):\n",
    "        cromosoma[p] =  (cromosoma[p]+1)%2\n",
    "    return cromosoma\n",
    "\n",
    "def fun_fitness_cuad(cromosoma):\n",
    "    \"\"\"Función de valoración que eleva al cuadrado el número recibido en binario\"\"\"\n",
    "    n = binario_a_decimal(cromosoma)**2\n",
    "    return n\n",
    "\n",
    "cuadrados = ProblemaGenetico([0,1],binario_a_decimal,fun_mutar, fun_cruzar, fun_fitness_cuad,10)"
   ]
  },
  {
   "cell_type": "markdown",
   "metadata": {},
   "source": [
    "Una vez definida la instancia cuadrados que representa el problema genético, probar alguna de las funciones definidas en la clase anterior, para esta instancia concreta. Por ejemplo:"
   ]
  },
  {
   "cell_type": "code",
   "execution_count": 31,
   "metadata": {},
   "outputs": [
    {
     "data": {
      "text/plain": [
       "1329"
      ]
     },
     "execution_count": 31,
     "metadata": {},
     "output_type": "execute_result"
    }
   ],
   "source": [
    "cuadrados.decodifica([1,0,0,0,1,1,0,0,1,0,1])\n",
    "# Salida esperada: 1329"
   ]
  },
  {
   "cell_type": "code",
   "execution_count": 32,
   "metadata": {},
   "outputs": [
    {
     "data": {
      "text/plain": [
       "1766241"
      ]
     },
     "execution_count": 32,
     "metadata": {},
     "output_type": "execute_result"
    }
   ],
   "source": [
    "cuadrados.fitness([1,0,0,0,1,1,0,0,1,0,1])\n",
    "# Salida esperada: 1766241"
   ]
  },
  {
   "cell_type": "code",
   "execution_count": 33,
   "metadata": {},
   "outputs": [
    {
     "data": {
      "text/plain": [
       "[1, 0, 0, 0, 1, 1, 0, 0, 1, 0, 1]"
      ]
     },
     "execution_count": 33,
     "metadata": {},
     "output_type": "execute_result"
    }
   ],
   "source": [
    "cuadrados.muta([1,0,0,0,1,1,0,0,1,0,1],0.1)\n",
    "# Posible salida: [1, 0, 0, 0, 1, 1, 0, 0, 1, 0, 1]"
   ]
  },
  {
   "cell_type": "code",
   "execution_count": 34,
   "metadata": {},
   "outputs": [
    {
     "data": {
      "text/plain": [
       "[1, 0, 0, 0, 1, 1, 0, 1, 1, 0, 1]"
      ]
     },
     "execution_count": 34,
     "metadata": {},
     "output_type": "execute_result"
    }
   ],
   "source": [
    "cuadrados.muta([1,0,0,0,1,1,0,0,1,0,1],0.1)\n",
    "# Posible salida: [0, 0, 0, 0, 1, 1, 0, 0, 1, 0, 1]"
   ]
  },
  {
   "cell_type": "code",
   "execution_count": 35,
   "metadata": {},
   "outputs": [
    {
     "data": {
      "text/plain": [
       "[[1, 0, 0, 0, 1, 0, 0, 1, 1, 1], [0, 1, 1, 0, 1, 1, 0, 0, 1, 0, 1]]"
      ]
     },
     "execution_count": 35,
     "metadata": {},
     "output_type": "execute_result"
    }
   ],
   "source": [
    "cuadrados.cruza([1,0,0,0,1,1,0,0,1,0,1],[0,1,1,0,1,0,0,1,1,1])\n",
    "# Posible salida: [[1, 0, 0, 0, 1, 0, 0, 1, 1, 1], [0, 1, 1, 0, 1, 1, 0, 0, 1, 0, 1]]"
   ]
  },
  {
   "cell_type": "markdown",
   "metadata": {},
   "source": [
    "### Ejercicio 3\n",
    "\n",
    "   - Definir una función `poblacion_inicial(problema_genetico,tamaño)`, para definir una población inicial de un tamaño dado, para una instancia dada de la clase anterior `ProblemaGenetico`\n",
    "\n",
    "Sugerencia: usar `random.choice`\n",
    "\n",
    "   - Definir una función de cruce que recibe una instancia de `Problema_Genetico` y una población de padres (supondremos que hay un número par de padres), obtiene la población resultante de cruzarlos de dos en dos (en el orden en que aparecen)\n",
    "\n",
    "`cruza_padres(problema_genetico,padres)`\n",
    "\n",
    "   - Definir la función de mutación que recibe una instancia de `Problema_Genetico`, una población y una probabilidad de mutación, obtiene la población resultante de aplicar operaciones de mutación a cada individuo llamando a la función muta definida para el problema genético.\n",
    "\n",
    "`muta_individuos(problema_genetico, poblacion, prob)`"
   ]
  },
  {
   "cell_type": "code",
   "execution_count": 36,
   "metadata": {},
   "outputs": [],
   "source": [
    "def poblacion_inicial(problema_genetico, size):\n",
    "    l = []\n",
    "    for i in range(size):\n",
    "        l.append([random.choice(problema_genetico.genes) for i in range(problema_genetico.longitud_individuos)])\n",
    "    return l"
   ]
  },
  {
   "cell_type": "code",
   "execution_count": 37,
   "metadata": {},
   "outputs": [
    {
     "data": {
      "text/plain": [
       "[[0, 0, 0, 0, 1, 0, 1, 1, 1, 0],\n",
       " [0, 1, 0, 0, 0, 0, 1, 0, 0, 1],\n",
       " [1, 0, 1, 0, 1, 0, 1, 1, 0, 1],\n",
       " [1, 1, 0, 1, 0, 0, 0, 0, 0, 0],\n",
       " [0, 1, 1, 0, 0, 1, 0, 1, 1, 0],\n",
       " [1, 1, 1, 0, 1, 1, 0, 0, 1, 1],\n",
       " [0, 0, 0, 1, 0, 0, 0, 0, 1, 1],\n",
       " [0, 1, 0, 1, 0, 1, 0, 0, 1, 1],\n",
       " [0, 0, 0, 0, 1, 1, 0, 0, 0, 0],\n",
       " [1, 0, 0, 1, 1, 0, 1, 1, 0, 1]]"
      ]
     },
     "execution_count": 37,
     "metadata": {},
     "output_type": "execute_result"
    }
   ],
   "source": [
    "poblacion_inicial(cuadrados,10)"
   ]
  },
  {
   "cell_type": "code",
   "execution_count": 38,
   "metadata": {},
   "outputs": [],
   "source": [
    "def cruza_padres(problema_genetico,padres):\n",
    "    l = []\n",
    "    l1 = len(padres)\n",
    "    while padres != []:\n",
    "        l.extend(problema_genetico.cruza(padres[0],padres[1]))\n",
    "        padres.pop(0)\n",
    "        padres.pop(0)\n",
    "    return l"
   ]
  },
  {
   "cell_type": "code",
   "execution_count": 39,
   "metadata": {},
   "outputs": [
    {
     "data": {
      "text/plain": [
       "[[1, 1, 0, 1, 0, 0, 1, 0, 1, 1],\n",
       " [0, 1, 0, 1, 0, 1, 0, 0, 0, 1],\n",
       " [0, 0, 1, 0, 0, 1, 1, 1, 1, 0],\n",
       " [0, 0, 1, 1, 1, 0, 1, 1, 1, 0],\n",
       " [0, 1, 1, 0, 0, 0, 1, 1, 0, 1],\n",
       " [1, 0, 1, 1, 1, 0, 0, 0, 0, 0]]"
      ]
     },
     "execution_count": 39,
     "metadata": {},
     "output_type": "execute_result"
    }
   ],
   "source": [
    "p = [[1, 1, 0, 1, 0, 1, 0, 0, 0, 1],\n",
    "     [0, 1, 0, 1, 0, 0, 1, 0, 1, 1],\n",
    "     [0, 0, 1, 0, 0, 0, 1, 1, 1, 0],\n",
    "     [0, 0, 1, 1, 1, 1, 1, 1, 1, 0],\n",
    "     [0, 1, 1, 0, 0, 0, 0, 0, 0, 0],\n",
    "     [1, 0, 1, 1, 1, 0, 1, 1, 0, 1]]\n",
    "\n",
    "cruza_padres(cuadrados,p)\n",
    "# Posible salida\n",
    "# [[1, 1, 0, 1, 0, 0, 1, 0, 1, 1],\n",
    "#  [0, 1, 0, 1, 0, 1, 0, 0, 0, 1],\n",
    "#  [0, 0, 1, 1, 1, 1, 1, 1, 1, 0],\n",
    "#  [0, 0, 1, 0, 0, 0, 1, 1, 1, 0],\n",
    "#  [0, 1, 1, 1, 1, 0, 1, 1, 0, 1],\n",
    "#  [1, 0, 1, 0, 0, 0, 0, 0, 0, 0]]"
   ]
  },
  {
   "cell_type": "code",
   "execution_count": 40,
   "metadata": {},
   "outputs": [],
   "source": [
    "# hay que llamar a  problema_genetico.muta(x,prob) para todos los individuos de la poblacion.\n",
    "def muta_individuos(problema_genetico, poblacion, prob):\n",
    "    for x in poblacion:\n",
    "        problema_genetico.muta(x,prob)\n",
    "    return poblacion\n",
    "    "
   ]
  },
  {
   "cell_type": "code",
   "execution_count": 41,
   "metadata": {
    "scrolled": true
   },
   "outputs": [
    {
     "data": {
      "text/plain": [
       "[[1, 0, 0, 1, 0, 1, 0, 0, 0, 1],\n",
       " [0, 1, 0, 1, 0, 0, 1, 0, 1, 1],\n",
       " [0, 0, 1, 0, 0, 0, 1, 0, 1, 0],\n",
       " [0, 0, 1, 1, 1, 1, 1, 1, 1, 0],\n",
       " [0, 1, 1, 0, 0, 1, 0, 0, 0, 0],\n",
       " [1, 0, 1, 1, 1, 0, 1, 1, 0, 1]]"
      ]
     },
     "execution_count": 41,
     "metadata": {},
     "output_type": "execute_result"
    }
   ],
   "source": [
    "p1 = [[1, 1, 0, 1, 0, 1, 0, 0, 0, 1],\n",
    "      [0, 1, 0, 1, 0, 0, 1, 0, 1, 1],\n",
    "      [0, 0, 1, 0, 0, 0, 1, 1, 1, 0],\n",
    "      [0, 0, 1, 1, 1, 1, 1, 1, 1, 0],\n",
    "      [0, 1, 1, 0, 0, 0, 0, 0, 0, 0],\n",
    "      [1, 0, 1, 1, 1, 0, 1, 1, 0, 1]]\n",
    "\n",
    "muta_individuos(cuadrados,p1,0.5)\n",
    "# Posible salida:\n",
    "#  [[1, 1, 0, 1, 0, 1, 0, 0, 0, 1],\n",
    "#   [0, 1, 0, 1, 0, 0, 1, 0, 0, 1],\n",
    "#   [0, 0, 1, 0, 0, 0, 1, 0, 1, 0],\n",
    "#   [0, 0, 1, 1, 1, 1, 1, 1, 1, 0],\n",
    "#   [0, 1, 0, 0, 0, 0, 0, 0, 0, 0],\n",
    "#   [1, 0, 1, 1, 1, 0, 1, 1, 0, 1]]"
   ]
  },
  {
   "cell_type": "code",
   "execution_count": 42,
   "metadata": {},
   "outputs": [],
   "source": [
    "p2 = [[1, 1, 0, 1, 0, 1, 0, 0, 0, 1],\n",
    "      [0, 1, 0, 1, 0, 0, 1, 0, 1, 1],\n",
    "      [0, 0, 1, 0, 0, 0, 1, 1, 1, 0],\n",
    "      [0, 0, 1, 1, 1, 1, 1, 1, 1, 0],\n",
    "      [0, 1, 1, 0, 0, 0, 0, 0, 0, 0],\n",
    "      [1, 0, 1, 1, 1, 0, 1, 1, 0, 1]]"
   ]
  },
  {
   "cell_type": "code",
   "execution_count": 43,
   "metadata": {},
   "outputs": [
    {
     "data": {
      "text/plain": [
       "[[1, 1, 0, 1, 0, 1, 0, 0, 1, 1],\n",
       " [0, 1, 0, 0, 0, 0, 1, 0, 1, 1],\n",
       " [0, 0, 1, 0, 0, 0, 1, 1, 0, 0],\n",
       " [0, 0, 1, 1, 1, 1, 1, 1, 1, 0],\n",
       " [0, 1, 1, 0, 1, 0, 0, 0, 0, 0],\n",
       " [1, 0, 1, 1, 1, 0, 1, 1, 0, 1]]"
      ]
     },
     "execution_count": 43,
     "metadata": {},
     "output_type": "execute_result"
    }
   ],
   "source": [
    "muta_individuos(cuadrados,p2,0.5)"
   ]
  },
  {
   "cell_type": "markdown",
   "metadata": {},
   "source": [
    "### Ejercicio 4\n",
    "\n",
    "Se pide definir una función de selección mediante torneo de n individuos de una población.  \n",
    "La función recibe como entrada:\n",
    " - Una instancia de la clase `ProblemaGenetico`\n",
    " - Una población\n",
    " - El número n de individuos que vamos a seleccionar\n",
    " - El número k de participantes en el torneo\n",
    " - Un valor `opt` que puede ser o la función `max` o la función `min` (dependiendo de si el problema es de maximización o de minimización, resp.).\n",
    "\n",
    "`seleccion_por_torneo(problema_genetico,poblacion,n,k,opt)`\n",
    "\n",
    "**Indicación:** Usar `random.sample` para seleccionar k elementos de una secuencia. \n",
    "Por ejemplo, `random.sample(population=[2,5,7,8,9], k=3)` devuelve `[7,5,8]`. "
   ]
  },
  {
   "cell_type": "code",
   "execution_count": 97,
   "metadata": {},
   "outputs": [],
   "source": [
    "def seleccion_por_torneo(problema_genetico, poblacion, n, k, opt):\n",
    "    \"\"\"Selección por torneo de n individuos de una población. Siendo k el nº de participantes\n",
    "        y opt la función max o min.\"\"\"\n",
    "    seleccionados = []\n",
    "    for i in range(n):\n",
    "        participantes = random.sample(poblacion,k)\n",
    "        seleccionado = opt(participantes, key=problema_genetico.fitness)\n",
    "        opt(poblacion, key=problema_genetico.fitness)\n",
    "        seleccionados.append(seleccionado)\n",
    "        # poblacion.remove(seleccionado)\n",
    "    return seleccionados  "
   ]
  },
  {
   "cell_type": "code",
   "execution_count": 98,
   "metadata": {},
   "outputs": [
    {
     "data": {
      "text/plain": [
       "[[1, 0, 1, 0, 1, 1, 1, 0, 1, 1],\n",
       " [1, 0, 1, 0, 1, 1, 1, 0, 1, 1],\n",
       " [1, 0, 1, 0, 1, 1, 1, 0, 1, 1]]"
      ]
     },
     "execution_count": 98,
     "metadata": {},
     "output_type": "execute_result"
    }
   ],
   "source": [
    "#Ejemplo\n",
    "seleccion_por_torneo(cuadrados, poblacion_inicial(cuadrados,8),3,6,max)\n",
    "# Posible salida: [[1, 1, 1, 1, 1, 0, 0, 0, 1, 1], [1, 0, 0, 1, 1, 1, 0, 1, 0, 1], [1, 1, 1, 1, 0, 1, 1, 1, 0, 1]]"
   ]
  },
  {
   "cell_type": "code",
   "execution_count": 99,
   "metadata": {},
   "outputs": [
    {
     "data": {
      "text/plain": [
       "[[1, 1, 1, 1, 0, 0, 0, 0, 0, 0],\n",
       " [1, 1, 1, 1, 0, 0, 0, 0, 0, 0],\n",
       " [0, 0, 1, 1, 1, 0, 1, 1, 0, 0]]"
      ]
     },
     "execution_count": 99,
     "metadata": {},
     "output_type": "execute_result"
    }
   ],
   "source": [
    "seleccion_por_torneo(cuadrados, poblacion_inicial(cuadrados,8),3,6,min)\n",
    "# [[0, 0, 1, 1, 0, 1, 1, 0, 0, 0], [1, 0, 1, 0, 1, 1, 1, 0, 0, 0], [1, 1, 0, 1, 0, 0, 1, 0, 1, 0]]"
   ]
  },
  {
   "cell_type": "code",
   "execution_count": 182,
   "metadata": {},
   "outputs": [],
   "source": [
    "# La siguiente función implementa una posibilidad para el algoritmo genético completo: \n",
    "# inicializa t = 0 \n",
    "# Generar y evaluar la Población P(t)\n",
    "# Mientras no hemos llegado al número de generaciones fijado:  t < nGen\n",
    "#    P1 = Selección por torneo de (1-size)·p individuos de P(t)\n",
    "#    P2 = Selección por torneo de (size·p) individuos de P(t)\n",
    "#    Aplicar cruce en la población P2\n",
    "#    P4 = Union de P1 y P3\n",
    "#    P(t+1) := Aplicar mutación P4 \n",
    "#    Evalua la población P(t+1) \n",
    "#    t:= t+1\n",
    "        \n",
    "# Sus argumentos son:\n",
    "# problema_genetico: una instancia de la clase ProblemaGenetico con la representación adecuada del problema de optimización \n",
    "# que se quiere resolver.\n",
    "#\n",
    "# k:             número de participantes en los torneos de selección.\n",
    "# opt:           max ó min, dependiendo si el problema es de maximización o de minimización. \n",
    "# nGen:          número de generaciones (que se usa como condición de terminación)\n",
    "# size:          número de individuos en cada generación\n",
    "# prop_cruce:    proporción del total de la población que serán padres. \n",
    "# prob_mutación: probabilidad de realizar una mutación de un gen.\n",
    "\n",
    "def algoritmo_genetico(problema_genetico,k,opt,ngen,size,prop_cruces,prob_mutar):\n",
    "    poblacion= poblacion_inicial(problema_genetico,size)\n",
    "    n_padres=round(size*prop_cruces)\n",
    "    n_padres= int (n_padres if n_padres%2==0 else n_padres-1)\n",
    "    n_directos = size-n_padres\n",
    "    for _ in range(ngen):\n",
    "        poblacion= nueva_generacion(problema_genetico,k,opt,poblacion,n_padres, n_directos,prob_mutar)\n",
    "\n",
    "    mejor_cr= opt(poblacion, key=problema_genetico.fitness)\n",
    "    mejor=problema_genetico.decodifica(mejor_cr)\n",
    "    return (mejor,problema_genetico.fitness(mejor_cr)) \n"
   ]
  },
  {
   "cell_type": "markdown",
   "metadata": {},
   "source": [
    "Necesitarás definir la función auxiliar `nueva_generacion(problema_genetico,poblacion,n_padres,n_directos,prob_mutar)` que dada una población calcula la siguiente generación."
   ]
  },
  {
   "cell_type": "code",
   "execution_count": 183,
   "metadata": {},
   "outputs": [],
   "source": [
    "#Definir la función nueva_generacion\n",
    "def nueva_generacion(problema_genetico, k,opt, poblacion, n_padres, n_directos, prob_mutar):\n",
    "    padres2 = seleccion_por_torneo(problema_genetico, poblacion, n_directos, k,opt) \n",
    "    padres1 = seleccion_por_torneo(problema_genetico, poblacion, n_padres , k, opt)\n",
    "    cruces =  cruza_padres(problema_genetico,padres1)\n",
    "    generacion = padres2+cruces\n",
    "    resultado_mutaciones = muta_individuos(problema_genetico, generacion, prob_mutar)\n",
    "    return resultado_mutaciones"
   ]
  },
  {
   "cell_type": "raw",
   "metadata": {},
   "source": []
  },
  {
   "cell_type": "markdown",
   "metadata": {},
   "source": [
    "### Ejercicio 5.  Ejecutar el algoritmo genético anterior, para resolver el problema anterior (tanto en minimización como en maximización).  \n",
    "\n",
    "Hacer una valoración de resultados y comentarios sobre el comportamiento del algoritmmo. \n",
    "En la resolución del problema hay que tener en cuenta que el algoritmo genético devuelve un par con el mejor fenotipo encontrado y su valoración."
   ]
  },
  {
   "cell_type": "code",
   "execution_count": 102,
   "metadata": {},
   "outputs": [
    {
     "data": {
      "text/plain": [
       "(136, 18496)"
      ]
     },
     "execution_count": 102,
     "metadata": {},
     "output_type": "execute_result"
    }
   ],
   "source": [
    "algoritmo_genetico(cuadrados,3,min,20,10,0.7,0.1)\n",
    "# Salida esperada: (0, 0)"
   ]
  },
  {
   "cell_type": "code",
   "execution_count": 103,
   "metadata": {},
   "outputs": [
    {
     "data": {
      "text/plain": [
       "(1022, 1044484)"
      ]
     },
     "execution_count": 103,
     "metadata": {},
     "output_type": "execute_result"
    }
   ],
   "source": [
    "algoritmo_genetico(cuadrados,3,max,20,10,0.7,0.1)\n",
    "# Salida esperada: (1023, 1046529)"
   ]
  },
  {
   "cell_type": "markdown",
   "metadata": {},
   "source": [
    "***COMENTAR***"
   ]
  },
  {
   "cell_type": "markdown",
   "metadata": {},
   "source": [
    "##  El problema de la mochila "
   ]
  },
  {
   "cell_type": "markdown",
   "metadata": {},
   "source": [
    "Se plantea el típico problema de la mochila en el que dados n objetos de pesos conocidos p<sub>i</sub> y valor v<sub>i</sub> (i=1, ..., n) hay que elegir cuáles se meten en una mochila que soporta un peso P máximo. La selección debe hacerse de forma que se máximice el valor de los objetos introducidos sin superar el peso máximo."
   ]
  },
  {
   "cell_type": "markdown",
   "metadata": {},
   "source": [
    "### Ejercicio 6\n",
    "Se pide definir la representación del problema de la mochila usando genes `[0,1]` y longitud de los individuos `n`.\n",
    "\n",
    "Los valores 1 ó 0 representan, respectivamente, si el objeto se introduce o no en la mochila. Tomados de izquerda a derecha, a partir del primero que no cabe, se consideran  todos fuera de la mochila, independientemente del gen en su posición. De esta manera, todos los individuos representan candidatos válidos.\n",
    "\n",
    "El numero de objetos n determina la longitud de los individuos de la población.\n",
    "En primer lugar es necesario definir una función de decodificación de la mochila que recibe como entrada:\n",
    "* Un `cromosoma` (en este caso, una lista de 0s y 1s, de longitud igual a `n_objetos`) \n",
    "* `n`: número total de objetos de la mochila\n",
    "* `pesos`: una lista con los pesos de los objetos\n",
    "* `capacidad`: peso máximo de la mochila.\n",
    "La función decodifica recibe `(cromosoma, n, pesos, capacidad)` y devuelve una lista de 0s y 1s que indique qué objetos están en la mochila y cuáles no (el objeto i está en la mochila si y sólo si en la posición i-ésima de la lista hay un 1). Esta lista se obtendrá a partir del cromosoma, pero teniendo en cuenta que a partir del primer objeto que no quepa, éste y los siguientes se consideran fuera de la mochila, independientemente del valor que haya en su correspondiente posición de cromosoma. "
   ]
  },
  {
   "cell_type": "code",
   "execution_count": 104,
   "metadata": {},
   "outputs": [],
   "source": [
    "def decodifica(cromosoma, n, pesos, capacidad):\n",
    "    peso_en_mochila = 0\n",
    "    l = []\n",
    "    for i in range(n):\n",
    "        if cromosoma[i] == 1 and peso_en_mochila + pesos[i] <= capacidad:\n",
    "            l.append(1)\n",
    "            peso_en_mochila += pesos[i]\n",
    "        elif cromosoma[i]== 0 or peso_en_mochila + pesos[i] > capacidad:\n",
    "            l.append(0)\n",
    "    return l "
   ]
  },
  {
   "cell_type": "code",
   "execution_count": 105,
   "metadata": {},
   "outputs": [
    {
     "data": {
      "text/plain": [
       "[1, 1, 0, 0, 0]"
      ]
     },
     "execution_count": 105,
     "metadata": {},
     "output_type": "execute_result"
    }
   ],
   "source": [
    "decodifica([1,1,1,1,1], 5, [2,3,4,5,1], 5)"
   ]
  },
  {
   "cell_type": "code",
   "execution_count": 106,
   "metadata": {},
   "outputs": [
    {
     "data": {
      "text/plain": [
       "[1, 0, 0, 0, 1]"
      ]
     },
     "execution_count": 106,
     "metadata": {},
     "output_type": "execute_result"
    }
   ],
   "source": [
    "decodifica([1,0,1,1,1], 5, [2,3,4,5,1], 5)"
   ]
  },
  {
   "cell_type": "markdown",
   "metadata": {},
   "source": [
    "Para definir la función de evaluación (`fitness`) necesitamos calcular el valor total de los objetos que están dentro de la mochila que representa el cromosoma según la codificación utilizada en la función anterior. \n",
    "\n",
    "Se pide la función `fitness (cromosoma, n_objetos, pesos, capacidad, valores)`, donde los parámetros son los mismos que en la función anterior, y valores es la lista de los valores de cada objeto\n",
    "\n",
    "`fitness(cromosoma, n_objetos, pesos, capacidad, valores)`\n",
    "\n",
    "Ejemplo de uso:\n",
    "```python\n",
    "fitness([1,1,1,1], 4, [2,3,4,5], 4, [7,1,4,5])\n",
    "7\n",
    "```"
   ]
  },
  {
   "cell_type": "code",
   "execution_count": 107,
   "metadata": {},
   "outputs": [],
   "source": [
    "def fitness_mochila(cromosoma, n_objetos, pesos, capacidad, valores):\n",
    "    objetos = decodifica(cromosoma, n_objetos, pesos, capacidad)\n",
    "    valor = 0\n",
    "    for i in range(n_objetos):\n",
    "        if objetos[i] == 1:\n",
    "            valor += valores[i]\n",
    "    return valor"
   ]
  },
  {
   "cell_type": "code",
   "execution_count": 108,
   "metadata": {},
   "outputs": [
    {
     "data": {
      "text/plain": [
       "7"
      ]
     },
     "execution_count": 108,
     "metadata": {},
     "output_type": "execute_result"
    }
   ],
   "source": [
    "fitness_mochila([1,1,1,1], 4, [2,3,4,5], 4, [7,1,4,5])"
   ]
  },
  {
   "cell_type": "markdown",
   "metadata": {},
   "source": [
    "Damos tres instancias concretas del problema de la mochila. Damos también sus soluciones optimas, para que se puedan comparar con los resultados obtenidos por el algoritmo genético:"
   ]
  },
  {
   "cell_type": "code",
   "execution_count": 109,
   "metadata": {},
   "outputs": [],
   "source": [
    "# Problema de la mochila 1:\n",
    "# 10 objetos, peso máximo 165\n",
    "pesos1   = [23,31,29,44,53,38,63,85,89,82]\n",
    "valores1 = [92,57,49,68,60,43,67,84,87,72]\n",
    "\n",
    "# Solución óptima = [1,1,1,1,0,1,0,0,0,0], con valor 309"
   ]
  },
  {
   "cell_type": "code",
   "execution_count": 110,
   "metadata": {},
   "outputs": [
    {
     "data": {
      "text/plain": [
       "309"
      ]
     },
     "execution_count": 110,
     "metadata": {},
     "output_type": "execute_result"
    }
   ],
   "source": [
    "fitness_mochila([1,1,1,1,0,1,0,0,0,0], 10, pesos1, 165, valores1)"
   ]
  },
  {
   "cell_type": "code",
   "execution_count": 111,
   "metadata": {},
   "outputs": [],
   "source": [
    "# Problema de la mochila 2:\n",
    "# 15 objetos, peso máximo 750\n",
    "\n",
    "pesos2   = [70,73,77,80,82,87,90,94,98,106,110,113,115,118,120]\n",
    "valores2 = [135,139,149,150,156,163,173,184,192,201,210,214,221,229,240]\n",
    "\n",
    "# Solución óptima= [1,0,1,0,1,0,1,1,1,0,0,0,0,1,1] con valor 1458"
   ]
  },
  {
   "cell_type": "code",
   "execution_count": 112,
   "metadata": {},
   "outputs": [
    {
     "data": {
      "text/plain": [
       "1458"
      ]
     },
     "execution_count": 112,
     "metadata": {},
     "output_type": "execute_result"
    }
   ],
   "source": [
    "fitness_mochila([1,0,1,0,1,0,1,1,1,0,0,0,0,1,1], 15, pesos2, 750, valores2)"
   ]
  },
  {
   "cell_type": "code",
   "execution_count": 113,
   "metadata": {},
   "outputs": [],
   "source": [
    "# Problema de la mochila 3:\n",
    "# 24 objetos, peso máximo 6404180\n",
    "pesos3 = [382745, 799601, 909247, 729069, 467902,  44328,  34610, 698150,\n",
    "          823460, 903959, 853665, 551830, 610856, 670702, 488960, 951111,\n",
    "          323046, 446298, 931161,  31385, 496951, 264724, 224916, 169684]\n",
    "valores3 = [ 825594, 1677009, 1676628, 1523970,  943972,   97426,  69666, 1296457,\n",
    "            1679693, 1902996, 1844992, 1049289, 1252836, 1319836, 953277, 2067538,\n",
    "            675367,   853655, 1826027,   65731,  901489,  577243, 466257, 369261]\n",
    "\n",
    "# Solución óptima= [1,1,0,1,1,1,0,0,0,1,1,0,1,0,0,1,0,0,0,0,0,1,1,1] con valoración 13549094"
   ]
  },
  {
   "cell_type": "code",
   "execution_count": 114,
   "metadata": {},
   "outputs": [
    {
     "data": {
      "text/plain": [
       "13549094"
      ]
     },
     "execution_count": 114,
     "metadata": {},
     "output_type": "execute_result"
    }
   ],
   "source": [
    "fitness_mochila([1,1,0,1,1,1,0,0,0,1,1,0,1,0,0,1,0,0,0,0,0,1,1,1], 24, pesos3, 6404180, valores3)"
   ]
  },
  {
   "cell_type": "markdown",
   "metadata": {},
   "source": [
    "### Ejercicio 7\n",
    "\n",
    "Definir variables `m1g`, `m2g` y `m3g`, referenciando a instancias de `Problema_Genetico` que correspondan, respectivamente, a los problemas de la mochila anteriores. Resuelve los problemas y comentar los resultados obtenidos en cuanto a eficiencia y calidad de los resultados obtenidos."
   ]
  },
  {
   "cell_type": "markdown",
   "metadata": {},
   "source": [
    "Algunas de las salidas posibles variando los parámetros."
   ]
  },
  {
   "cell_type": "code",
   "execution_count": 118,
   "metadata": {},
   "outputs": [],
   "source": [
    "\n",
    "def fitness_mochila_1(cromosoma):\n",
    "    v = fitness_mochila(cromosoma, 10, pesos1, 165, valores1)\n",
    "    return v\n",
    "def decodifica_mochila_1(cromosoma):\n",
    "    v = decodifica(cromosoma, 10, pesos1, 165)\n",
    "    return v\n",
    "m1g = ProblemaGenetico([0,1], decodifica_mochila_1, fun_mutar, fun_cruzar, fitness_mochila_1,10)\n",
    "\n",
    "def fitness_mochila_2(cromosoma):\n",
    "    v = fitness_mochila(cromosoma, 15, pesos2, 750, valores2)\n",
    "    return v\n",
    "def decodifica_mochila_2(cromosoma):\n",
    "    v = decodifica(cromosoma, 14, pesos2, 750)\n",
    "    return v\n",
    "m2g = ProblemaGenetico([0,1], decodifica_mochila_2, fun_mutar, fun_cruzar, fitness_mochila_2,15)\n",
    "\n",
    "def fitness_mochila_3(cromosoma):\n",
    "    v = fitness_mochila(cromosoma, 24, pesos3,6404180 , valores3)\n",
    "    return v\n",
    "def decodifica_mochila_3(cromosoma):\n",
    "    v = decodifica(cromosoma, 24, pesos3, 6404180)\n",
    "    return v\n",
    "m3g = ProblemaGenetico([0,1], decodifica_mochila_3, fun_mutar, fun_cruzar, fitness_mochila_3,24)\n"
   ]
  },
  {
   "cell_type": "markdown",
   "metadata": {},
   "source": [
    "**idiota**\n",
    "```\n",
    "# def __init__(self, genes,fun_dec,fun_muta , fun_cruza, fun_fitness,longitud_individuos):\n",
    "def fit1g(cromosoma):\n",
    "    return fitness_mochila(cromosoma, pesos=pesos1, n_objetos=10, capacidad=165, valores=valores1)\n",
    "\n",
    "def decodifica1g(cromosoma):\n",
    "    return decodifica(cromosoma, n=10, pesos=pesos1, capacidad=165)\n",
    "\n",
    "m1g = ProblemaGenetico([0,1], decodifica1g, fun_mutar, fun_cruzar, fit1g, 10)\n",
    "algoritmo_genetico(m1g,3,max,100,50,0.8,0.05)\n",
    "```"
   ]
  },
  {
   "cell_type": "code",
   "execution_count": 119,
   "metadata": {},
   "outputs": [
    {
     "ename": "TypeError",
     "evalue": "'NoneType' object is not iterable",
     "output_type": "error",
     "traceback": [
      "\u001b[1;31m---------------------------------------------------------------------------\u001b[0m",
      "\u001b[1;31mTypeError\u001b[0m                                 Traceback (most recent call last)",
      "\u001b[1;32m<ipython-input-119-105a6e4d1401>\u001b[0m in \u001b[0;36m<module>\u001b[1;34m\u001b[0m\n\u001b[1;32m----> 1\u001b[1;33m \u001b[0malgoritmo_genetico\u001b[0m\u001b[1;33m(\u001b[0m\u001b[0mm1g\u001b[0m\u001b[1;33m,\u001b[0m\u001b[1;36m3\u001b[0m\u001b[1;33m,\u001b[0m\u001b[0mmax\u001b[0m\u001b[1;33m,\u001b[0m\u001b[1;36m100\u001b[0m\u001b[1;33m,\u001b[0m\u001b[1;36m50\u001b[0m\u001b[1;33m,\u001b[0m\u001b[1;36m0.8\u001b[0m\u001b[1;33m,\u001b[0m\u001b[1;36m0.05\u001b[0m\u001b[1;33m)\u001b[0m\u001b[1;33m\u001b[0m\u001b[1;33m\u001b[0m\u001b[0m\n\u001b[0m\u001b[0;32m      2\u001b[0m \u001b[1;31m# ([1, 1, 1, 1, 0, 1, 0, 0, 0, 0], 309)\u001b[0m\u001b[1;33m\u001b[0m\u001b[1;33m\u001b[0m\u001b[1;33m\u001b[0m\u001b[0m\n\u001b[0;32m      3\u001b[0m \u001b[1;33m\u001b[0m\u001b[0m\n\u001b[0;32m      4\u001b[0m \u001b[1;31m# >>> algoritmo_genetico_t(m2g,3,max,100,50,0.8,0.05)\u001b[0m\u001b[1;33m\u001b[0m\u001b[1;33m\u001b[0m\u001b[1;33m\u001b[0m\u001b[0m\n\u001b[0;32m      5\u001b[0m \u001b[1;31m# ([1, 1, 1, 0, 0, 0, 0, 1, 1, 0, 1, 1, 1, 0, 0], 1444)\u001b[0m\u001b[1;33m\u001b[0m\u001b[1;33m\u001b[0m\u001b[1;33m\u001b[0m\u001b[0m\n",
      "\u001b[1;32m<ipython-input-100-cd23018ec8ce>\u001b[0m in \u001b[0;36malgoritmo_genetico\u001b[1;34m(problema_genetico, k, opt, ngen, size, prop_cruces, prob_mutar)\u001b[0m\n\u001b[0;32m     28\u001b[0m     \u001b[0mn_directos\u001b[0m \u001b[1;33m=\u001b[0m \u001b[0msize\u001b[0m\u001b[1;33m-\u001b[0m\u001b[0mn_padres\u001b[0m\u001b[1;33m\u001b[0m\u001b[1;33m\u001b[0m\u001b[0m\n\u001b[0;32m     29\u001b[0m     \u001b[1;32mfor\u001b[0m \u001b[0m_\u001b[0m \u001b[1;32min\u001b[0m \u001b[0mrange\u001b[0m\u001b[1;33m(\u001b[0m\u001b[0mngen\u001b[0m\u001b[1;33m)\u001b[0m\u001b[1;33m:\u001b[0m\u001b[1;33m\u001b[0m\u001b[1;33m\u001b[0m\u001b[0m\n\u001b[1;32m---> 30\u001b[1;33m         \u001b[0mpoblacion\u001b[0m\u001b[1;33m=\u001b[0m \u001b[0mnueva_generacion\u001b[0m\u001b[1;33m(\u001b[0m\u001b[0mproblema_genetico\u001b[0m\u001b[1;33m,\u001b[0m\u001b[0mk\u001b[0m\u001b[1;33m,\u001b[0m\u001b[0mopt\u001b[0m\u001b[1;33m,\u001b[0m\u001b[0mpoblacion\u001b[0m\u001b[1;33m,\u001b[0m\u001b[0mn_padres\u001b[0m\u001b[1;33m,\u001b[0m \u001b[0mn_directos\u001b[0m\u001b[1;33m,\u001b[0m\u001b[0mprob_mutar\u001b[0m\u001b[1;33m)\u001b[0m\u001b[1;33m\u001b[0m\u001b[1;33m\u001b[0m\u001b[0m\n\u001b[0m\u001b[0;32m     31\u001b[0m \u001b[1;33m\u001b[0m\u001b[0m\n\u001b[0;32m     32\u001b[0m     \u001b[0mmejor_cr\u001b[0m\u001b[1;33m=\u001b[0m \u001b[0mopt\u001b[0m\u001b[1;33m(\u001b[0m\u001b[0mpoblacion\u001b[0m\u001b[1;33m,\u001b[0m \u001b[0mkey\u001b[0m\u001b[1;33m=\u001b[0m\u001b[0mproblema_genetico\u001b[0m\u001b[1;33m.\u001b[0m\u001b[0mfitness\u001b[0m\u001b[1;33m)\u001b[0m\u001b[1;33m\u001b[0m\u001b[1;33m\u001b[0m\u001b[0m\n",
      "\u001b[1;32m<ipython-input-101-bf048b1fbcf0>\u001b[0m in \u001b[0;36mnueva_generacion\u001b[1;34m(problema_genetico, k, opt, poblacion, n_padres, n_directos, prob_mutar)\u001b[0m\n\u001b[0;32m      3\u001b[0m     \u001b[0mpadres2\u001b[0m \u001b[1;33m=\u001b[0m \u001b[0mseleccion_por_torneo\u001b[0m\u001b[1;33m(\u001b[0m\u001b[0mproblema_genetico\u001b[0m\u001b[1;33m,\u001b[0m \u001b[0mpoblacion\u001b[0m\u001b[1;33m,\u001b[0m \u001b[0mn_directos\u001b[0m\u001b[1;33m,\u001b[0m \u001b[0mk\u001b[0m\u001b[1;33m,\u001b[0m\u001b[0mopt\u001b[0m\u001b[1;33m)\u001b[0m\u001b[1;33m\u001b[0m\u001b[1;33m\u001b[0m\u001b[0m\n\u001b[0;32m      4\u001b[0m     \u001b[0mpadres1\u001b[0m \u001b[1;33m=\u001b[0m \u001b[0mseleccion_por_torneo\u001b[0m\u001b[1;33m(\u001b[0m\u001b[0mproblema_genetico\u001b[0m\u001b[1;33m,\u001b[0m \u001b[0mpoblacion\u001b[0m\u001b[1;33m,\u001b[0m \u001b[0mn_padres\u001b[0m \u001b[1;33m,\u001b[0m \u001b[0mk\u001b[0m\u001b[1;33m,\u001b[0m \u001b[0mopt\u001b[0m\u001b[1;33m)\u001b[0m\u001b[1;33m\u001b[0m\u001b[1;33m\u001b[0m\u001b[0m\n\u001b[1;32m----> 5\u001b[1;33m     \u001b[0mcruces\u001b[0m \u001b[1;33m=\u001b[0m  \u001b[0mcruza_padres\u001b[0m\u001b[1;33m(\u001b[0m\u001b[0mproblema_genetico\u001b[0m\u001b[1;33m,\u001b[0m\u001b[0mpadres1\u001b[0m\u001b[1;33m)\u001b[0m\u001b[1;33m\u001b[0m\u001b[1;33m\u001b[0m\u001b[0m\n\u001b[0m\u001b[0;32m      6\u001b[0m     \u001b[0mgeneracion\u001b[0m \u001b[1;33m=\u001b[0m \u001b[0mpadres2\u001b[0m\u001b[1;33m+\u001b[0m\u001b[0mcruces\u001b[0m\u001b[1;33m\u001b[0m\u001b[1;33m\u001b[0m\u001b[0m\n\u001b[0;32m      7\u001b[0m     \u001b[0mresultado_mutaciones\u001b[0m \u001b[1;33m=\u001b[0m \u001b[0mmuta_individuos\u001b[0m\u001b[1;33m(\u001b[0m\u001b[0mproblema_genetico\u001b[0m\u001b[1;33m,\u001b[0m \u001b[0mgeneracion\u001b[0m\u001b[1;33m,\u001b[0m \u001b[0mprob_mutar\u001b[0m\u001b[1;33m)\u001b[0m\u001b[1;33m\u001b[0m\u001b[1;33m\u001b[0m\u001b[0m\n",
      "\u001b[1;32m<ipython-input-38-cbc4f24c3261>\u001b[0m in \u001b[0;36mcruza_padres\u001b[1;34m(problema_genetico, padres)\u001b[0m\n\u001b[0;32m      3\u001b[0m     \u001b[0ml1\u001b[0m \u001b[1;33m=\u001b[0m \u001b[0mlen\u001b[0m\u001b[1;33m(\u001b[0m\u001b[0mpadres\u001b[0m\u001b[1;33m)\u001b[0m\u001b[1;33m\u001b[0m\u001b[1;33m\u001b[0m\u001b[0m\n\u001b[0;32m      4\u001b[0m     \u001b[1;32mwhile\u001b[0m \u001b[0mpadres\u001b[0m \u001b[1;33m!=\u001b[0m \u001b[1;33m[\u001b[0m\u001b[1;33m]\u001b[0m\u001b[1;33m:\u001b[0m\u001b[1;33m\u001b[0m\u001b[1;33m\u001b[0m\u001b[0m\n\u001b[1;32m----> 5\u001b[1;33m         \u001b[0ml\u001b[0m\u001b[1;33m.\u001b[0m\u001b[0mextend\u001b[0m\u001b[1;33m(\u001b[0m\u001b[0mproblema_genetico\u001b[0m\u001b[1;33m.\u001b[0m\u001b[0mcruza\u001b[0m\u001b[1;33m(\u001b[0m\u001b[0mpadres\u001b[0m\u001b[1;33m[\u001b[0m\u001b[1;36m0\u001b[0m\u001b[1;33m]\u001b[0m\u001b[1;33m,\u001b[0m\u001b[0mpadres\u001b[0m\u001b[1;33m[\u001b[0m\u001b[1;36m1\u001b[0m\u001b[1;33m]\u001b[0m\u001b[1;33m)\u001b[0m\u001b[1;33m)\u001b[0m\u001b[1;33m\u001b[0m\u001b[1;33m\u001b[0m\u001b[0m\n\u001b[0m\u001b[0;32m      6\u001b[0m         \u001b[0mpadres\u001b[0m\u001b[1;33m.\u001b[0m\u001b[0mpop\u001b[0m\u001b[1;33m(\u001b[0m\u001b[1;36m0\u001b[0m\u001b[1;33m)\u001b[0m\u001b[1;33m\u001b[0m\u001b[1;33m\u001b[0m\u001b[0m\n\u001b[0;32m      7\u001b[0m         \u001b[0mpadres\u001b[0m\u001b[1;33m.\u001b[0m\u001b[0mpop\u001b[0m\u001b[1;33m(\u001b[0m\u001b[1;36m0\u001b[0m\u001b[1;33m)\u001b[0m\u001b[1;33m\u001b[0m\u001b[1;33m\u001b[0m\u001b[0m\n",
      "\u001b[1;31mTypeError\u001b[0m: 'NoneType' object is not iterable"
     ]
    }
   ],
   "source": [
    "algoritmo_genetico(m1g,3,max,100,50,0.8,0.05)\n",
    "# ([1, 1, 1, 1, 0, 1, 0, 0, 0, 0], 309)\n",
    "\n",
    "# >>> algoritmo_genetico_t(m2g,3,max,100,50,0.8,0.05)\n",
    "# ([1, 1, 1, 0, 0, 0, 0, 1, 1, 0, 1, 1, 1, 0, 0], 1444)\n",
    "# >>> algoritmo_genetico_t(m2g,3,max,200,100,0.8,0.05)\n",
    "# ([0, 0, 1, 0, 1, 1, 1, 1, 1, 1, 0, 0, 1, 0, 0], 1439)\n",
    "# >>> algoritmo_genetico_t(m2g,3,max,200,100,0.8,0.05)\n",
    "# ([1, 0, 1, 0, 1, 0, 1, 1, 1, 0, 0, 0, 0, 1, 1], 1458)\n",
    "\n",
    "# >>> algoritmo_genetico_t(m3g,5,max,400,200,0.75,0.1)\n",
    "# ([1, 1, 0, 1, 0, 1, 1, 0, 1, 1, 1, 0, 1, 0, 0, 1, 0, 0, 0, 0, 0, 1, 0, 0], 13518963)\n",
    "# >>> algoritmo_genetico_t(m3g,4,max,600,200,0.75,0.1)\n",
    "# ([1, 1, 0, 1, 1, 1, 1, 0, 0, 1, 1, 0, 1, 0, 0, 1, 1, 0, 0, 1, 0, 1, 0, 0], 13524340)\n",
    "# >>> algoritmo_genetico_t(m3g,4,max,1000,200,0.75,0.1)\n",
    "# ([1, 1, 0, 1, 0, 0, 0, 0, 1, 1, 1, 0, 1, 0, 0, 1, 1, 0, 0, 0, 0, 0, 0, 0], 13449995)\n",
    "# >>> algoritmo_genetico_t(m3g,3,max,1000,100,0.75,0.1)\n",
    "# ([1, 1, 0, 0, 0, 1, 1, 0, 1, 1, 1, 0, 1, 1, 0, 1, 1, 0, 0, 0, 0, 0, 0, 0], 13412953)\n",
    "# >>> algoritmo_genetico_t(m3g,3,max,2000,100,0.75,0.1)\n",
    "# ([0, 1, 0, 1, 0, 1, 0, 0, 1, 1, 1, 0, 1, 1, 0, 1, 0, 0, 0, 0, 0, 0, 0, 0], 13366296)\n",
    "# >>> algoritmo_genetico_t(m3g,6,max,2000,100,0.75,0.1)\n",
    "# ([1, 1, 0, 1, 1, 1, 0, 0, 0, 1, 1, 0, 1, 0, 0, 1, 0, 0, 0, 0, 0, 1, 1, 1], 13549094)"
   ]
  },
  {
   "cell_type": "code",
   "execution_count": 67,
   "metadata": {},
   "outputs": [
    {
     "data": {
      "text/plain": [
       "([0, 1, 0, 1, 0, 1, 1, 0, 0, 1, 1, 0, 1, 0, 1, 1, 1, 0, 0, 0, 0, 1, 1, 1],\n",
       " 13477838)"
      ]
     },
     "execution_count": 67,
     "metadata": {},
     "output_type": "execute_result"
    }
   ],
   "source": [
    "algoritmo_genetico(m3g,5,max,400,200,0.75,0.1)"
   ]
  },
  {
   "cell_type": "markdown",
   "metadata": {},
   "source": [
    "### Ejercicio 8\n",
    "Resolver mediante una configuración de un algoritmo genético el problema del cuadrado mágico que consiste en colocar en un cuadrado n × n los números naturales de 1 a n<sup>2</sup>, \n",
    "de tal manera que las filas, las columnas y las diagonales principales sumen lo mismo.\n",
    "\n",
    "Ejemplo: una solucion para n = 3\n",
    "    \n",
    "    4 3 8\n",
    "    9 5 1\n",
    "    2 7 6\n",
    "    \n",
    "- Dimensión del cuadrado: N\n",
    "- Suma común: SUMA = (N (N<sup>2</sup> + 1)) / 2\n",
    "    \n",
    "**Comenta el resultado y el rendimiento del algoritmo para distintos parámetros:**\n",
    "    \n",
    "***COMENTAR***"
   ]
  },
  {
   "cell_type": "code",
   "execution_count": 190,
   "metadata": {},
   "outputs": [],
   "source": [
    "def suma_comun(n):\n",
    "    return (n * (n*n +1))//2\n",
    "\n",
    "# lista es una lista de n^2 elementos -> se puede hacer un cuadrado\n",
    "def matriz_por_filas(lista, n):\n",
    "    mat = list()\n",
    "    for i in range(0, n):\n",
    "        fila = [lista[x + i*n] for x in range(0,n)]\n",
    "        mat.append(fila)\n",
    "    return mat\n",
    "\n",
    "\n",
    "# lista es una lista de n^2 elementos -> se puede hacer un cuadrado\n",
    "def matriz_por_cols(lista, n):\n",
    "    mat = list()\n",
    "    for i in range(0, n):\n",
    "        col = [lista[x*n + i] for x in range(0,n)]\n",
    "        mat.append(col)\n",
    "    return mat\n",
    "\n",
    "# cromosoma: lista de números de 1 a n^2\n",
    "def fitness_cuadrado(cromosoma, n):\n",
    "    valor = 0\n",
    "    matriz_filas = matriz_por_filas(cromosoma, n)\n",
    "    matriz_cols = matriz_por_cols(cromosoma, n)\n",
    "    suma_a_llegar = suma_comun(n)\n",
    "    suma_diag1 = 0\n",
    "    suma_diag2 = 0\n",
    "\n",
    "    for i in range(0, n):\n",
    "        # suma filas\n",
    "        if sum(matriz_filas[i]) == suma_a_llegar:\n",
    "            valor += 1\n",
    "\n",
    "        # suma columnas\n",
    "        if sum(matriz_cols[i]) == suma_a_llegar:\n",
    "            valor += 1\n",
    "\n",
    "        # vamos sumando valores en la diagonal\n",
    "        suma_diag1 += matriz_filas[i][i]\n",
    "        suma_diag2 += matriz_filas[i][n - i - 1]\n",
    "\n",
    "    if suma_diag1 == suma_a_llegar:\n",
    "        valor += 1\n",
    "\n",
    "    if suma_diag2 == suma_a_llegar:\n",
    "        valor += 1\n",
    "\n",
    "    if valor != 8:  ##Penaliza cromosomas con alelos cuyas sumas sean muy altas\n",
    "        if valoresAltosCercanos(cromosoma, matriz_filas, matriz_cols, n) > 0:\n",
    "            valor -= 1\n",
    "        if valoresBajosCercanos(cromosoma, matriz_filas, matriz_cols, n) > 0:\n",
    "            valor -= 1\n",
    "\n",
    "    return valor\n",
    "\n",
    "\n",
    "def valoresAltosCercanos(cromosoma, matrizFilas, matriz_cols, n):\n",
    "    cont=0\n",
    "    valorAlto=n*n\n",
    "    evitable=0\n",
    "    suma_diag1=0\n",
    "    suma_diag2=0\n",
    "    for i in range(0, n):\n",
    "        evitable +=valorAlto\n",
    "        valorAlto-=3\n",
    "\n",
    "    for i in range(0, n):\n",
    "        suma_diag1 += matrizFilas[i][i]\n",
    "        suma_diag2 += matrizFilas[i][n - i - 1]\n",
    "        if (sum(matrizFilas[i])>= evitable):\n",
    "            cont += 1\n",
    "        if (sum(matriz_cols[i]) >= evitable):\n",
    "            cont += 1\n",
    "\n",
    "    if (suma_diag1>=evitable or suma_diag2>=evitable):\n",
    "        cont+=1\n",
    "\n",
    "    return cont\n",
    "\n",
    "def valoresBajosCercanos(cromosoma, matrizFilas, matriz_cols, n):\n",
    "    cont=0\n",
    "    valorAlto=n*n\n",
    "    evitable=0\n",
    "    suma_diag1=0\n",
    "    suma_diag2=0\n",
    "    for i in range(0, n):\n",
    "        evitable +=valorAlto\n",
    "        valorAlto+=3\n",
    "\n",
    "    for i in range(0, n):\n",
    "        suma_diag1 += matrizFilas[i][i]\n",
    "        suma_diag2 += matrizFilas[i][n - i - 1]\n",
    "        if (sum(matrizFilas[i])<= evitable):\n",
    "            cont += 1\n",
    "        if (sum(matriz_cols[i]) >= evitable):\n",
    "            cont += 1\n",
    "    if (suma_diag1>=evitable or suma_diag2>=evitable):\n",
    "        cont+=1\n",
    "    return cont\n",
    "\n",
    "def mutar_cuad(cromosoma, n, prob):\n",
    "    índiceA = random.randint(0, n * n - 1)\n",
    "    índiceB = random.randint(0, n * n - 1)\n",
    "    if prob > random.uniform(0, 1):\n",
    "        cromosoma[índiceA], cromosoma[índiceB] = cromosoma[índiceB], cromosoma[índiceA]\n",
    "    return cromosoma\n",
    "# cruce pmx\n",
    "\n",
    "\n",
    "def pmx_aux(a,b, start, stop):\n",
    "    child = [None]*len(a)\n",
    "    # Copy a slice from first parent:\n",
    "    child[start:stop] = a[start:stop]\n",
    "    # Map the same slice in parent b to child using indices from parent a:\n",
    "    for ind,x in enumerate(b[start:stop]):\n",
    "        ind += start\n",
    "        if x not in child:\n",
    "            while child[ind] != None:\n",
    "                ind = b.index(a[ind])\n",
    "            child[ind] = x\n",
    "    # Copy over the rest from parent b\n",
    "    for ind,x in enumerate(child):\n",
    "        if x == None:\n",
    "            child[ind] = b[ind]\n",
    "    return child\n",
    "\n",
    "def pmx(a,b):\n",
    "    half = len(a) // 2\n",
    "    start = random.randint(0, len(a)-half)\n",
    "    stop = start + half\n",
    "    return pmx_aux(a,b,start,stop) , pmx_aux(b,a,start,stop)\n",
    "\n"
   ]
  },
  {
   "cell_type": "code",
   "execution_count": 191,
   "metadata": {},
   "outputs": [
    {
     "data": {
      "text/plain": [
       "8"
      ]
     },
     "execution_count": 191,
     "metadata": {},
     "output_type": "execute_result"
    }
   ],
   "source": [
    "fitness_cuadrado([4,3,8,9,5,1,2,7,6], 3)"
   ]
  },
  {
   "cell_type": "code",
   "execution_count": 192,
   "metadata": {},
   "outputs": [
    {
     "data": {
      "text/plain": [
       "([9, 8, 3, 4, 5, 6, 7, 2, 1], [1, 2, 7, 6, 5, 4, 3, 8, 9])"
      ]
     },
     "execution_count": 192,
     "metadata": {},
     "output_type": "execute_result"
    }
   ],
   "source": [
    "pmx([1,2,3,4,5,6,7,8,9],[9,8,7,6,5,4,3,2,1])"
   ]
  },
  {
   "cell_type": "code",
   "execution_count": 193,
   "metadata": {},
   "outputs": [
    {
     "data": {
      "text/plain": [
       "[[4, 3, 8], [9, 5, 1], [2, 7, 6]]"
      ]
     },
     "execution_count": 193,
     "metadata": {},
     "output_type": "execute_result"
    }
   ],
   "source": [
    "matriz_por_filas([4,3,8,9,5,1,2,7,6], 3)"
   ]
  },
  {
   "cell_type": "code",
   "execution_count": 194,
   "metadata": {},
   "outputs": [
    {
     "data": {
      "text/plain": [
       "[[1, 4, 7], [2, 5, 8], [3, 6, 9]]"
      ]
     },
     "execution_count": 194,
     "metadata": {},
     "output_type": "execute_result"
    }
   ],
   "source": [
    "matriz_por_cols([x for x in range(1,10)], 3)"
   ]
  },
  {
   "cell_type": "code",
   "execution_count": 195,
   "metadata": {},
   "outputs": [
    {
     "data": {
      "text/plain": [
       "8"
      ]
     },
     "execution_count": 195,
     "metadata": {},
     "output_type": "execute_result"
    }
   ],
   "source": [
    "fitness_cuadrado([4,3,8,9,5,1,2,7,6], 3)"
   ]
  },
  {
   "cell_type": "code",
   "execution_count": 196,
   "metadata": {},
   "outputs": [],
   "source": [
    "n1 = 3\n",
    "l = [x for x in range(1, n1*n1 + 1)]\n",
    "def fit1_cuad(cromosoma):\n",
    "    return fitness_cuadrado(cromosoma, n1)\n",
    "def mutar1_cuad(cromosoma, prob):\n",
    "    return mutar_cuad(cromosoma,n1, prob)\n",
    "def decod1_cuad(cromosoma):\n",
    "    return matriz_por_filas(cromosoma,n1)\n",
    "def cruzar_cuad(cromosoma1, cromosoma2):\n",
    "    return pmx(cromosoma1, cromosoma2)\n"
   ]
  },
  {
   "cell_type": "code",
   "execution_count": 197,
   "metadata": {},
   "outputs": [
    {
     "data": {
      "text/plain": [
       "9"
      ]
     },
     "execution_count": 197,
     "metadata": {},
     "output_type": "execute_result"
    }
   ],
   "source": [
    "len(l)"
   ]
  },
  {
   "cell_type": "code",
   "execution_count": 198,
   "metadata": {},
   "outputs": [],
   "source": [
    "pCuad1 = ProblemaGenetico(l, decod1_cuad, mutar1_cuad, cruzar_cuad,fit1_cuad,n1*n1)"
   ]
  },
  {
   "cell_type": "code",
   "execution_count": 199,
   "metadata": {},
   "outputs": [],
   "source": [
    "def poblacion_inicial_cuad(problema_genetico, size):\n",
    "    l = []\n",
    "    for i in range(0,size):\n",
    "        l.append(i+1)\n",
    "    for i in range(size):\n",
    "        num1=random.randint(0,size-1)\n",
    "        num2=random.randint(0,size-1)\n",
    "        a = l [num1]\n",
    "        b = l [num2]\n",
    "        l [num1]=b\n",
    "        l [num2]=a\n",
    "    return l"
   ]
  },
  {
   "cell_type": "code",
   "execution_count": 200,
   "metadata": {},
   "outputs": [
    {
     "data": {
      "text/plain": [
       "[1, 2, 3, 5, 6, 4, 7, 9, 8]"
      ]
     },
     "execution_count": 200,
     "metadata": {},
     "output_type": "execute_result"
    }
   ],
   "source": [
    "poblacion_inicial_cuad(pCuad1,9)"
   ]
  },
  {
   "cell_type": "code",
   "execution_count": 201,
   "metadata": {},
   "outputs": [],
   "source": [
    "def poblacion_inicial(problema_genetico, size):\n",
    "    l = []\n",
    "    for i in range(size):\n",
    "        l.append(poblacion_inicial_cuad(problema_genetico, problema_genetico.longitud_individuos))\n",
    "    return l"
   ]
  },
  {
   "cell_type": "code",
   "execution_count": 202,
   "metadata": {},
   "outputs": [
    {
     "data": {
      "text/plain": [
       "[[2, 8, 4, 1, 5, 6, 7, 3, 9],\n",
       " [6, 9, 2, 7, 4, 3, 8, 5, 1],\n",
       " [4, 2, 8, 1, 5, 3, 7, 9, 6],\n",
       " [5, 9, 4, 8, 1, 2, 7, 6, 3],\n",
       " [5, 7, 3, 6, 4, 8, 9, 1, 2],\n",
       " [2, 6, 1, 3, 5, 8, 4, 7, 9],\n",
       " [8, 5, 7, 4, 1, 2, 6, 9, 3],\n",
       " [5, 1, 6, 4, 3, 2, 8, 7, 9],\n",
       " [5, 7, 4, 6, 3, 2, 1, 8, 9],\n",
       " [1, 3, 4, 9, 7, 2, 5, 8, 6]]"
      ]
     },
     "execution_count": 202,
     "metadata": {},
     "output_type": "execute_result"
    }
   ],
   "source": [
    "poblacion_inicial(pCuad1,10)"
   ]
  },
  {
   "cell_type": "code",
   "execution_count": 203,
   "metadata": {},
   "outputs": [
    {
     "data": {
      "text/plain": [
       "([[7, 2, 6], [3, 4, 8], [5, 9, 1]], 6)"
      ]
     },
     "execution_count": 203,
     "metadata": {},
     "output_type": "execute_result"
    }
   ],
   "source": [
    "algoritmo_genetico(pCuad1, 9, max, 100, 50,0.7,0.1 )"
   ]
  },
  {
   "cell_type": "code",
   "execution_count": 204,
   "metadata": {},
   "outputs": [
    {
     "data": {
      "text/plain": [
       "([[6, 1, 8], [7, 5, 3], [2, 9, 4]], 8)"
      ]
     },
     "execution_count": 204,
     "metadata": {},
     "output_type": "execute_result"
    }
   ],
   "source": [
    "algoritmo_genetico(pCuad1, 9, max, 100, 50,0.7,0.1 )"
   ]
  },
  {
   "cell_type": "code",
   "execution_count": 206,
   "metadata": {},
   "outputs": [
    {
     "data": {
      "text/plain": [
       "([[8, 3, 4], [1, 5, 9], [6, 7, 2]], 8)"
      ]
     },
     "execution_count": 206,
     "metadata": {},
     "output_type": "execute_result"
    }
   ],
   "source": [
    "algoritmo_genetico(pCuad1, 9, max, 100, 50,0.7,0.1 )"
   ]
  },
  {
   "cell_type": "code",
   "execution_count": 210,
   "metadata": {},
   "outputs": [
    {
     "data": {
      "text/plain": [
       "([[5, 3, 7], [9, 4, 2], [1, 8, 6]], 6)"
      ]
     },
     "execution_count": 210,
     "metadata": {},
     "output_type": "execute_result"
    }
   ],
   "source": [
    "algoritmo_genetico(pCuad1, 9, max, 100, 50,0.7,0.1 )"
   ]
  },
  {
   "cell_type": "code",
   "execution_count": 225,
   "metadata": {},
   "outputs": [
    {
     "data": {
      "text/plain": [
       "([[1, 7, 2], [6, 5, 4], [8, 3, 9]], 4)"
      ]
     },
     "execution_count": 225,
     "metadata": {},
     "output_type": "execute_result"
    }
   ],
   "source": [
    "algoritmo_genetico(pCuad1, 9, max, 300, 50,0.7,0.1 )"
   ]
  },
  {
   "cell_type": "code",
   "execution_count": 223,
   "metadata": {},
   "outputs": [
    {
     "data": {
      "text/plain": [
       "([[8, 4, 3], [1, 5, 9], [7, 6, 2]], 5)"
      ]
     },
     "execution_count": 223,
     "metadata": {},
     "output_type": "execute_result"
    }
   ],
   "source": [
    "algoritmo_genetico(pCuad1, 10, max, 100, 70,0.8,0.1 )"
   ]
  },
  {
   "cell_type": "markdown",
   "metadata": {},
   "source": [
    "### Ejercicio 9\n",
    "Se quiere organizar una **jornada de la informática** en la Facultad. \n",
    "El Vicedecano necesita organizar el horario y la asignación de profesores para n actividades temáticas, a<sub>1</sub>, ... , a<sub>n</sub>.  Dispone de m profesores p<sub>1</sub>, . . . , p<sub>m</sub> con distintos niveles de cualificación.\n",
    "\n",
    "No todos los profesores tienen los conocimientos para encargarse de todas las actividades. \n",
    "El mismo profesor p<sub>i</sub> puede encargarse de distintas actividades (que se le remunerarán convenientemente) pero no podemos asignar al mismo profesor dos actividades que se impartan simultáneamente. \n",
    "Cada actividad puede durar un tiempo diferente dependiendo del profesor que la organice. Si un profesor p<sub>i</sub> puede realizar la actividad a<sub>j</sub>, entonces denotaremos por t<sub>ij</sub> el tiempo que p<sub>i</sub> tardará en realizar la actividad a<sub>j</sub>.\n",
    "\n",
    "Existen dependencias entre los contenidos de las actividades lo que obliga a incluir algunas restricciones temporales, es decir, algunas actividades hay que realizarlas cuando otras ya hayan terminado. Esto es, tenemos un conjunto de restricciones que indican que a<sub>i</sub> se debe realizar antes de a<sub>j</sub>. Por ejemplo, _El taller de iniciación a Scratch_ se debe realizar antes que el laboratorio de desarrollo de videojuegos con Scratch.\n",
    "\n",
    "Se pide dar una solución al problema de decidir, para cada actividad, qué profesor la realizará y en qué momento se debe ofertar la actividad para que, al ﬁnal de la jornada, se puedan realizar todas las actividades con cuidado de cumplir los prerrequisitos (restricciones temporales) y el conjunto de actividades se realice en el menor tiempo posible."
   ]
  },
  {
   "cell_type": "code",
   "execution_count": null,
   "metadata": {},
   "outputs": [],
   "source": []
  }
 ],
 "metadata": {
  "kernelspec": {
   "display_name": "Python 3",
   "language": "python",
   "name": "python3"
  },
  "language_info": {
   "codemirror_mode": {
    "name": "ipython",
    "version": 3
   },
   "file_extension": ".py",
   "mimetype": "text/x-python",
   "name": "python",
   "nbconvert_exporter": "python",
   "pygments_lexer": "ipython3",
   "version": "3.8.3"
  }
 },
 "nbformat": 4,
 "nbformat_minor": 2
}
