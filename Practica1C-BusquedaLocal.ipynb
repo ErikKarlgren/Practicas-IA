{
 "cells": [
  {
   "cell_type": "markdown",
   "metadata": {},
   "source": [
    "# Práctica 1C - Inteligencia Artificial\n",
    "**Grupo 16**\n",
    "- Erik Karlgren Domercq\n",
    "- David Bugoi\n",
    "- Daniela Alejandra Córdova Porta\n",
    "\n",
    "## Belén Díaz Agudo -  Facultad de Informática UCM\n",
    "## Búsqueda local\n",
    "En esta primera parte usaremos ejercicios paso a paso para familiarizarnos con la resolución de problemas sencillos de optimización, como la maximización o minimización de una función, o el problema de la mochila o del viajante, problemas conocidos cuya resolución se ha abordado con técnicas algorítmicas y que vamos a resolver utilizando algoritmos de búsqueda local. En la segunda parte de la práctica se pide resolver el problema de la organización de jornadas informáticas dado en el enunciado."
   ]
  },
  {
   "cell_type": "code",
   "execution_count": 1,
   "metadata": {},
   "outputs": [
    {
     "name": "stdout",
     "output_type": "stream",
     "text": [
      "C:\\Users\\Daniela\\Documents\\UCM IA\\github\\aima-python\n"
     ]
    }
   ],
   "source": [
    "cd aima-python"
   ]
  },
  {
   "cell_type": "markdown",
   "metadata": {},
   "source": [
    "## Parte 1. Algoritmo de escalada\n",
    "Hill Climbing es un algoritmo de búsqueda local heurística utilizada para problemas de optimización.\n",
    "Esta solución puede o no ser el óptimo global. El algoritmo es una variante del algoritmo de generación y prueba.\n",
    "\n",
    "\n",
    "En general, el algoritmo funciona de la siguiente manera:\n",
    "- Evaluar el estado inicial.\n",
    "- Si es igual al estado del objetivo, terminamos.\n",
    "- Encuentra un estado vecino al estado actual\n",
    "- Evaluar este estado. Si está más cerca del estado objetivo que antes, reemplace el estado inicial con este estado y repita estos pasos.\n",
    "\n",
    "\n",
    "Usaremos la implementación de AIMA que está en el módulo search.py\n",
    "\n",
    "```python\n",
    "def hill_climbing(problem):\n",
    "    \"\"\"From the initial node, keep choosing the neighbor with highest value,\n",
    "    stopping when no neighbor is better. [Figure 4.2]\"\"\"\n",
    "    current = Node(problem.initial)\n",
    "    while True:\n",
    "        neighbors = current.expand(problem)\n",
    "        if not neighbors:\n",
    "            break\n",
    "        neighbor = argmax_random_tie(neighbors,\n",
    "                                 key=lambda node: problem.value(node.state))\n",
    "        if problem.value(neighbor.state) <= problem.value(current.state):\n",
    "            break\n",
    "        current = neighbor\n",
    "    return current.state\n",
    " ```\n"
   ]
  },
  {
   "cell_type": "markdown",
   "metadata": {},
   "source": [
    "### TSP (<i>Travelling Salesman Problem</i>): el problema del viajante\n",
    "Dado un conjunto de ciudades y la distancia entre cada par de ciudades, el problema es encontrar la ruta más corta posible que visite cada ciudad exactamente una vez y regrese al punto de partida. Es un problema NP hard. No existen una solución de coste polinomial. "
   ]
  },
  {
   "cell_type": "code",
   "execution_count": 2,
   "metadata": {},
   "outputs": [],
   "source": [
    "## Resolveremos el problema del viajante TSP para encontrar una solución aproximada.\n",
    "from search import *\n",
    "\n",
    "class TSP_problem(Problem):\n",
    "\n",
    "    def two_opt(self, state):\n",
    "        \"\"\" Neighbour generating function for Traveling Salesman Problem \"\"\"\n",
    "        neighbour_state = state[:]\n",
    "        left = random.randint(0, len(neighbour_state) - 1)\n",
    "        right = random.randint(0, len(neighbour_state) - 1)\n",
    "        if left > right:\n",
    "            left, right = right, left\n",
    "        neighbour_state[left: right + 1] = reversed(neighbour_state[left: right + 1])\n",
    "        return neighbour_state\n",
    "\n",
    "    def actions(self, state):\n",
    "        \"\"\" action that can be excuted in given state \"\"\"\n",
    "        return [self.two_opt]\n",
    "\n",
    "    def result(self, state, action):\n",
    "        \"\"\"  result after applying the given action on the given state \"\"\"\n",
    "        return action(state)\n",
    "\n",
    "    def path_cost(self, c, state1, action, state2):\n",
    "        \"\"\" total distance for the Traveling Salesman to be covered if in state2  \"\"\"\n",
    "        cost = 0\n",
    "        for i in range(len(state2) - 1):\n",
    "            cost += distances[state2[i]][state2[i + 1]]\n",
    "        cost += distances[state2[0]][state2[-1]]\n",
    "        return cost\n",
    "\n",
    "    def value(self, state):\n",
    "        \"\"\" value of path cost given negative for the given state \"\"\"\n",
    "        return self.path_cost(None, None, None, state)"
   ]
  },
  {
   "cell_type": "markdown",
   "metadata": {},
   "source": [
    "Resolveremos el TSP para las ciudades de la lista de ciudades de Rumanía.\n",
    "\n",
    "```python\n",
    "['Arad', 'Bucharest', 'Craiova', 'Drobeta', 'Eforie', 'Fagaras', 'Giurgiu', 'Hirsova', 'Iasi', 'Lugoj', 'Mehadia', 'Neamt', 'Oradea', 'Pitesti', 'Rimnicu', 'Sibiu', 'Timisoara', 'Urziceni', 'Vaslui', 'Zerind']\n",
    "```"
   ]
  },
  {
   "cell_type": "code",
   "execution_count": 3,
   "metadata": {},
   "outputs": [],
   "source": [
    "# Usaremos la siguiente representacion del libro AIMA para el mapa de Rumanía.\n",
    "\n",
    "# Distancias entre las ciudades del mapa\n",
    "romania_map = UndirectedGraph(dict(\n",
    "    Arad      = dict(Zerind=75, Sibiu=140, Timisoara=118),\n",
    "    Bucharest = dict(Urziceni=85, Pitesti=101, Giurgiu=90, Fagaras=211),\n",
    "    Craiova   = dict(Drobeta=120, Rimnicu=146, Pitesti=138),\n",
    "    Drobeta   = dict(Mehadia=75),\n",
    "    Eforie    = dict(Hirsova=86),\n",
    "    Fagaras   = dict(Sibiu=99),\n",
    "    Hirsova   = dict(Urziceni=98),\n",
    "    Iasi      = dict(Vaslui=92, Neamt=87),\n",
    "    Lugoj     = dict(Timisoara=111, Mehadia=70),\n",
    "    Oradea    = dict(Zerind=71, Sibiu=151),\n",
    "    Pitesti   = dict(Rimnicu=97),\n",
    "    Rimnicu   = dict(Sibiu=80),\n",
    "    Urziceni  = dict(Vaslui=142)))\n",
    "\n",
    "# Coordenadas. Son para renderizar el grafo.\n",
    "romania_map.locations = dict(\n",
    "    Arad    =  (91, 492), Bucharest = (400, 327), Craiova  = (253, 288),\n",
    "    Drobeta = (165, 299), Eforie    = (562, 293), Fagaras  = (305, 449),\n",
    "    Giurgiu = (375, 270), Hirsova   = (534, 350), Iasi     = (473, 506),\n",
    "    Lugoj   = (165, 379), Mehadia   = (168, 339), Neamt    = (406, 537),\n",
    "    Oradea  = (131, 571), Pitesti   = (320, 368), Rimnicu  = (233, 410),\n",
    "    Sibiu   = (207, 457), Timisoara =  (94, 410), Urziceni = (456, 350),\n",
    "    Vaslui  = (509, 444), Zerind    = (108, 531))"
   ]
  },
  {
   "cell_type": "markdown",
   "metadata": {},
   "source": [
    "Es bastante sencillo entender este `romania_map`. El primer nodo **Arad** tiene tres vecinos llamados **Zerind**, **Sibiu**, **Timisoara**. Cada uno de estos nodos son 75, 140, 118 unidades aparte de **Arad** respectivamente. Y lo mismo ocurre con otros nodos.\n",
    "\n",
    "Y `romania_map.locations` contiene las posiciones de cada uno de los nodos. \n",
    "Como heurística se puede usar la distancia en línea recta o la distancia manhattan (que es diferente de la proporcionada en `romania_map`) entre dos ciudades."
   ]
  },
  {
   "cell_type": "code",
   "execution_count": 4,
   "metadata": {},
   "outputs": [
    {
     "name": "stdout",
     "output_type": "stream",
     "text": [
      "{'Arad': (91, 492), 'Bucharest': (400, 327), 'Craiova': (253, 288), 'Drobeta': (165, 299), 'Eforie': (562, 293), 'Fagaras': (305, 449), 'Giurgiu': (375, 270), 'Hirsova': (534, 350), 'Iasi': (473, 506), 'Lugoj': (165, 379), 'Mehadia': (168, 339), 'Neamt': (406, 537), 'Oradea': (131, 571), 'Pitesti': (320, 368), 'Rimnicu': (233, 410), 'Sibiu': (207, 457), 'Timisoara': (94, 410), 'Urziceni': (456, 350), 'Vaslui': (509, 444), 'Zerind': (108, 531)}\n"
     ]
    }
   ],
   "source": [
    "romania_locations = romania_map.locations\n",
    "print(romania_locations)"
   ]
  },
  {
   "cell_type": "code",
   "execution_count": 5,
   "metadata": {},
   "outputs": [],
   "source": [
    "# node colors, node positions and node label positions\n",
    "node_colors = {node: 'white' for node in romania_map.locations.keys()}\n",
    "node_positions = romania_map.locations\n",
    "node_label_pos = { k:[v[0],v[1]-10]  for k,v in romania_map.locations.items() }\n",
    "edge_weights = {(k, k2) : v2 for k, v in romania_map.graph_dict.items() for k2, v2 in v.items()}\n",
    "\n",
    "romania_graph_data = {  'graph_dict' : romania_map.graph_dict,\n",
    "                        'node_colors': node_colors,\n",
    "                        'node_positions': node_positions,\n",
    "                        'node_label_positions': node_label_pos,\n",
    "                         'edge_weights': edge_weights\n",
    "                     }"
   ]
  },
  {
   "cell_type": "code",
   "execution_count": 6,
   "metadata": {},
   "outputs": [],
   "source": [
    "# Descomentar para mostrar el mapa\n",
    "# from notebook import show_map, final_path_colors, display_visual\n",
    "# import matplotlib\n",
    "\n",
    "# show_map(romania_graph_data)"
   ]
  },
  {
   "cell_type": "code",
   "execution_count": 7,
   "metadata": {},
   "outputs": [
    {
     "name": "stdout",
     "output_type": "stream",
     "text": [
      "['Arad', 'Bucharest', 'Craiova', 'Drobeta', 'Eforie', 'Fagaras', 'Giurgiu', 'Hirsova', 'Iasi', 'Lugoj', 'Mehadia', 'Neamt', 'Oradea', 'Pitesti', 'Rimnicu', 'Sibiu', 'Timisoara', 'Urziceni', 'Vaslui', 'Zerind']\n"
     ]
    }
   ],
   "source": [
    "## el siguiente código crea un diccionario y calcula y añade al diccionario la distancia manhattan entre las ciudades. \n",
    "import numpy as np\n",
    "\n",
    "distances = {}\n",
    "all_cities = []\n",
    "\n",
    "for city in romania_map.locations.keys():\n",
    "    distances[city] = {}\n",
    "    all_cities.append(city)\n",
    "    \n",
    "all_cities.sort()\n",
    "print(all_cities)\n",
    "\n",
    "for name_1, coordinates_1 in romania_map.locations.items():\n",
    "        for name_2, coordinates_2 in romania_map.locations.items():\n",
    "            distances[name_1][name_2] = np.linalg.norm(\n",
    "                [coordinates_1[0] - coordinates_2[0], coordinates_1[1] - coordinates_2[1]])\n",
    "            distances[name_2][name_1] = np.linalg.norm(\n",
    "                [coordinates_1[0] - coordinates_2[0], coordinates_1[1] - coordinates_2[1]])"
   ]
  },
  {
   "cell_type": "code",
   "execution_count": 8,
   "metadata": {},
   "outputs": [],
   "source": [
    "# Creamos una instancia del problema TSP con la lista de ciudades anterior que se na extraido del mapa.\n",
    "# En el mapa hay informacion de las distancias que se utilizan en la clase TSP_problem para calcular el coste y las heurísticas.\n",
    "tsp = TSP_problem(all_cities)"
   ]
  },
  {
   "cell_type": "code",
   "execution_count": 9,
   "metadata": {},
   "outputs": [],
   "source": [
    "## Redefinimos el hill climbing de AIMA para que el método de generacion de vecinos sea acceder al grafo que \n",
    "## hemos definido para el TSP\n",
    "\n",
    "def hill_climbing(problem):\n",
    "    \n",
    "    \"\"\"From the initial node, keep choosing the neighbor with highest value,\n",
    "    stopping when no neighbor is better. [Figure 4.2]\"\"\"\n",
    "    \n",
    "    def find_neighbors(state, number_of_neighbors=100):\n",
    "        \"\"\" finds neighbors using two_opt method \"\"\"\n",
    "        \n",
    "        neighbors = []\n",
    "        \n",
    "        for i in range(number_of_neighbors):\n",
    "            new_state = problem.two_opt(state)\n",
    "            neighbors.append(Node(new_state))\n",
    "            state = new_state\n",
    "            \n",
    "        return neighbors\n",
    "\n",
    "    # as this is a stochastic algorithm, we will set a cap on the number of iterations\n",
    "    iterations = 10000\n",
    "    \n",
    "    current = Node(problem.initial)\n",
    "    while iterations:\n",
    "        neighbors = find_neighbors(current.state)\n",
    "        if not neighbors:\n",
    "            break\n",
    "        neighbor = argmax_random_tie(neighbors,\n",
    "                                     key=lambda node: problem.value(node.state))\n",
    "        if problem.value(neighbor.state) <= problem.value(current.state):\n",
    "            current.state = neighbor.state\n",
    "        iterations -= 1\n",
    "        \n",
    "    return current.state"
   ]
  },
  {
   "cell_type": "code",
   "execution_count": 49,
   "metadata": {},
   "outputs": [
    {
     "name": "stdout",
     "output_type": "stream",
     "text": [
      "Wall time: 9.7 s\n"
     ]
    },
    {
     "data": {
      "text/plain": [
       "['Arad',\n",
       " 'Bucharest',\n",
       " 'Craiova',\n",
       " 'Drobeta',\n",
       " 'Eforie',\n",
       " 'Fagaras',\n",
       " 'Giurgiu',\n",
       " 'Hirsova',\n",
       " 'Iasi',\n",
       " 'Lugoj',\n",
       " 'Mehadia',\n",
       " 'Neamt',\n",
       " 'Oradea',\n",
       " 'Pitesti',\n",
       " 'Rimnicu',\n",
       " 'Sibiu',\n",
       " 'Timisoara',\n",
       " 'Urziceni',\n",
       " 'Vaslui',\n",
       " 'Zerind']"
      ]
     },
     "execution_count": 49,
     "metadata": {},
     "output_type": "execute_result"
    }
   ],
   "source": [
    "# Y lo resolvemos con escalada. \n",
    "%time hill_climbing(tsp)"
   ]
  },
  {
   "cell_type": "markdown",
   "metadata": {},
   "source": [
    "### Ejercicio 1. Resuelve el problema TSP con el algoritmo de escalada por máxima pendiente en el mapa de ciudades de Rumanía y explica el resultado obtenido. \n",
    "\n",
    "**Realiza un análisis razonado de las propiedades del algoritmo: eficiencia y optimalidad en base a la ejecución.**\n",
    "\n",
    "Este algoritmo encuentra el óptimo local, que puede ser o no el óptimo global, porque solo considera los vecinos en cada estado y coge siempre el mejor. Sin embargo, gracias a ello llega rápidamente a dicho óptimo, que en general es el local, aunque depende del problema.\n",
    "\n",
    "**¿Ha encontrado el algoritmo el óptimo global? ¿Ha encontrado la misma solución en distintas ejecuciones?\n",
    "Sólo se pide hacer una comparativa teórica (breve) con cómo se comporta este algoritmo y relacionarlo con otros algoritmos vistos en clase. Opcionalmente se puede hacer la comparativa real con algún algoritmo de búsqueda exhaustiva.**\n",
    "\n",
    "El algoritmo encuentra normalmente lo que parecen ser óptimos globales con valor 1589.8433308050924, aunque perfectamente podrían ser óptimos locales. Debido al comportamiento aleatorio de `two_opt` de vez en cuando encuentra peores resultados.\n",
    "\n",
    "Hemos modificado `hill_climbing` para que minimice y `value()` de `TSP_problem` no multiplique por -1."
   ]
  },
  {
   "cell_type": "code",
   "execution_count": 50,
   "metadata": {},
   "outputs": [
    {
     "name": "stdout",
     "output_type": "stream",
     "text": [
      "Valor de sol1: 1589.8433308050924\n",
      "Valor de sol2: 1589.8433308050924\n",
      "Valor de sol3: 1593.535425958492\n",
      "Valor de sol4: 1589.8433308050924\n"
     ]
    }
   ],
   "source": [
    "# hemos obtenido las siguientes soluciones en diferentes ejecuciones\n",
    "sol1 = ['Arad','Timisoara','Lugoj', 'Mehadia', 'Drobeta', 'Craiova', 'Pitesti', 'Giurgiu', 'Bucharest',\n",
    "        'Urziceni', 'Eforie', 'Hirsova', 'Vaslui', 'Iasi', 'Neamt', 'Fagaras', 'Rimnicu', 'Sibiu', 'Oradea',\n",
    "         'Zerind']\n",
    "sol2 = ['Mehadia', 'Drobeta', 'Craiova', 'Pitesti', 'Giurgiu', 'Bucharest', 'Urziceni', 'Eforie', 'Hirsova',\n",
    "        'Vaslui', 'Iasi', 'Neamt', 'Fagaras', 'Rimnicu', 'Sibiu', 'Oradea', 'Zerind', 'Arad', 'Timisoara',\n",
    "        'Lugoj']\n",
    "sol3 = ['Hirsova', 'Eforie', 'Urziceni', 'Bucharest', 'Giurgiu', 'Craiova', 'Drobeta', 'Mehadia', 'Lugoj',\n",
    "        'Timisoara', 'Arad', 'Zerind', 'Oradea', 'Sibiu', 'Rimnicu', 'Pitesti', 'Fagaras', 'Neamt', 'Iasi',\n",
    "        'Vaslui']\n",
    "sol4 = ['Drobeta', 'Craiova', 'Pitesti', 'Giurgiu', 'Bucharest', 'Urziceni', 'Eforie', 'Hirsova', 'Vaslui',\n",
    "        'Iasi', 'Neamt', 'Fagaras', 'Rimnicu', 'Sibiu', 'Oradea', 'Zerind', 'Arad', 'Timisoara', 'Lugoj',\n",
    "        'Mehadia']\n",
    "\n",
    "print(\"Valor de sol1:\", tsp.value(sol1))\n",
    "print(\"Valor de sol2:\", tsp.value(sol2))\n",
    "print(\"Valor de sol3:\", tsp.value(sol3))\n",
    "print(\"Valor de sol4:\", tsp.value(sol4))"
   ]
  },
  {
   "cell_type": "markdown",
   "metadata": {},
   "source": [
    "Comparamos con algunos algoritmos:\n",
    "- **Algoritmo de búsqueda por haz local:** este guarda k nodos y utiliza el algoritmo de escalada. Por tanto puede encontrar el óptimo global ya que hay varias opciones. Aun así puede que las k escaladas se queden en óptimos locales.\n",
    "\n",
    "- **Algoritmo de enfriamiento simulado:** a diferencia de los dos anteriores introduce una variable aleatoria que permite esocger hijos peores evitando así quedarse en un óptimo local. Al principio escogen muchas soluciones peores debido a una alta \"temperatura\", y al final aceptan pocas soluciones peores debido a una baja \"temperatura\".\n",
    "\n",
    "- **Algoritmo de profundidad:** el algoritmo de escalada por la máxima pendiente se parece al de búsqueda de profundidad, pero quitando la parte de volver a estados anteriores. Además, el algoritmo de escalada usa un criterio para elegir por qué hijo avanzar."
   ]
  },
  {
   "cell_type": "code",
   "execution_count": null,
   "metadata": {},
   "outputs": [],
   "source": [
    "##%time depth_first_tree_search(tsp)"
   ]
  },
  {
   "cell_type": "markdown",
   "metadata": {},
   "source": [
    "Sabemos que r es el factor ramificación máximo (nº de hijos de \n",
    "un nodo) y un camino hasta la solución de profundidad es p. Entonces si la complejidad de este algoritmo O(r^p). Luego si escogimos para este algoritmo que el número de vecinos son 100, entonces esos son los nodos hijos que tendrá, siendo 100 el factor de ramificación en este caso. El valor de p cambiará dependiendo de si el algoritmo sigue buscando en \"profundidad\" si el descendiente que encuentra es mejor que el actual.\n",
    "\n",
    "Podemos entonces concluir que no es completo ya que no tiene por qué encontrar la solución, y si no es completo menos admisible.\n",
    "Por último si se puede considerar eficiente ya que es sumamente rápido y útil si los valores del problema son una función mótoma decreciente o creciente dependiendo del caso.\n",
    "\n",
    "La eficiencia se puede comparar en que el algoritmo `depth_first_tree_search` ni siquiera terminó su ejecución a pesar de que son similares. Por lo cuál la rapidez en este caso es mejor en comparación a que en el caso del `depth_first_tree_search` no pudimos encontrar ni una \"buena\" solución."
   ]
  },
  {
   "cell_type": "markdown",
   "metadata": {},
   "source": [
    "## Parte 2. Enfriamiento simulado (<i>simulated annealing</i>) \n",
    "El algoritmo de enfriamiento simulado puede manejar las situaciones de óptimo local o mesetas típicas en algoritmos de escalada.\n",
    "<br>\n",
    "El enfriamiento simulado es bastante similar a la escalada pero en lugar de elegir el mejor movimiento en cada iteración, elige un movimiento aleatorio. Si este movimiento aleatorio nos acerca al óptimo global, será aceptado,\n",
    "pero si no lo hace, el algoritmo puede aceptar o rechazar el movimiento en función de una probabilidad dictada por la temperatura.  Cuando la `temperatura` es alta, es más probable que el algoritmo acepte un movimiento aleatorio incluso si es malo. A bajas temperaturas, solo se aceptan buenos movimientos, con alguna excepción ocasional.\n",
    "Esto permite la exploración del espacio de estado y evita que el algoritmo se atasque en el óptimo local.\n",
    "    \n",
    "```python\n",
    "# Usaremos la implementación de AIMA del modulo search.py\n",
    "\n",
    "def simulated_annealing(problem, schedule=exp_schedule()):\n",
    "\"\"\"[Figure 4.5] CAUTION: This differs from the pseudocode as it\n",
    "returns a state instead of a Node.\"\"\"\n",
    "current = Node(problem.initial)\n",
    "for t in range(sys.maxsize):\n",
    "    T = schedule(t)\n",
    "    if T == 0:\n",
    "        return current.state\n",
    "    neighbors = current.expand(problem)\n",
    "    if not neighbors:\n",
    "        return current.state\n",
    "    next_choice = random.choice(neighbors)\n",
    "    delta_e = problem.value(next_choice.state) - problem.value(current.state)\n",
    "    if delta_e > 0 or probability(math.exp(delta_e / T)):\n",
    "        current = next_choice`\n",
    " ```"
   ]
  },
  {
   "cell_type": "markdown",
   "metadata": {},
   "source": [
    "Como hemos visto en clase hay varios métodos de enfriamiento (scheduling routine) \n",
    "Se puede variar el método de enfriamiento. En la implementación actual estamos usando el método de enfriamiento exponencial (que se pasa como parámetro). \n",
    "```python\n",
    "def exp_schedule(k=20, lam=0.005, limit=100):\n",
    "    \"\"\"One possible schedule function for simulated annealing\"\"\"\n",
    "    return lambda t: (k * math.exp(-lam * t) if t < limit else 0)\n",
    "```"
   ]
  },
  {
   "cell_type": "markdown",
   "metadata": {},
   "source": [
    "Como ejemplo, vamos a definir un problema sencillo de encontrar el punto más alto en una rejilla. Este problema está definido en el módulo search.py como `PeakFindingProblem`. Lo reproducimos aquí y creamos una rejilla simple."
   ]
  },
  {
   "cell_type": "code",
   "execution_count": 10,
   "metadata": {},
   "outputs": [],
   "source": [
    "initial = (0, 0)\n",
    "grid = [[3, 7, 2, 8],\n",
    "        [5, 2, 9, 1],\n",
    "        [5, 3, 3, 1]]"
   ]
  },
  {
   "cell_type": "code",
   "execution_count": 11,
   "metadata": {},
   "outputs": [],
   "source": [
    "# Pre-defined actions for PeakFindingProblem\n",
    "directions4 = { 'W':(-1, 0), 'N':(0, 1), 'E':(1, 0), 'S':(0, -1) }\n",
    "directions8 = dict(directions4) \n",
    "directions8.update({'NW':(-1, 1), 'NE':(1, 1), 'SE':(1, -1), 'SW':(-1, -1) })\n",
    "\n",
    "class PeakFindingProblem(Problem):\n",
    "    \"\"\"Problem of finding the highest peak in a limited grid\"\"\"\n",
    "\n",
    "    def __init__(self, initial, grid, defined_actions=directions4):\n",
    "        \"\"\"The grid is a 2 dimensional array/list whose state is specified by tuple of indices\"\"\"\n",
    "        Problem.__init__(self, initial)\n",
    "        self.grid = grid\n",
    "        self.defined_actions = defined_actions\n",
    "        self.n = len(grid)\n",
    "        assert self.n > 0\n",
    "        self.m = len(grid[0])\n",
    "        assert self.m > 0\n",
    "\n",
    "    def actions(self, state):\n",
    "        \"\"\"Returns the list of actions which are allowed to be taken from the given state\"\"\"\n",
    "        allowed_actions = []\n",
    "        for action in self.defined_actions:\n",
    "            next_state = vector_add(state, self.defined_actions[action])\n",
    "            if next_state[0] >= 0 and next_state[1] >= 0 and next_state[0] <= self.n - 1 and next_state[1] <= self.m - 1:\n",
    "                allowed_actions.append(action)\n",
    "\n",
    "        return allowed_actions\n",
    "\n",
    "    def result(self, state, action):\n",
    "        \"\"\"Moves in the direction specified by action\"\"\"\n",
    "        return vector_add(state, self.defined_actions[action])\n",
    "\n",
    "    def value(self, state):\n",
    "        \"\"\"Value of a state is the value it is the index to\"\"\"\n",
    "        x, y = state\n",
    "        assert 0 <= x < self.n\n",
    "        assert 0 <= y < self.m\n",
    "        return self.grid[x][y]\n"
   ]
  },
  {
   "cell_type": "code",
   "execution_count": 12,
   "metadata": {},
   "outputs": [],
   "source": [
    "problem = PeakFindingProblem(initial, grid, directions4)"
   ]
  },
  {
   "cell_type": "code",
   "execution_count": 13,
   "metadata": {},
   "outputs": [
    {
     "data": {
      "text/plain": [
       "9"
      ]
     },
     "execution_count": 13,
     "metadata": {},
     "output_type": "execute_result"
    }
   ],
   "source": [
    "# Lo resolvemos con enfriamiento simulado\n",
    "\n",
    "solutions = {problem.value(simulated_annealing(problem)) for i in range(100)}\n",
    "max(solutions)"
   ]
  },
  {
   "cell_type": "code",
   "execution_count": 14,
   "metadata": {},
   "outputs": [],
   "source": [
    "def hill_climbing(problem):\n",
    "    \"\"\"From the initial node, keep choosing the neighbor with highest value,\n",
    "    stopping when no neighbor is better. [Figure 4.2]\"\"\"\n",
    "    current = Node(problem.initial)\n",
    "    while True:\n",
    "        neighbors = current.expand(problem)\n",
    "        if not neighbors:\n",
    "            break\n",
    "        neighbor = argmax_random_tie(neighbors,\n",
    "                                     key=lambda node: problem.value(node.state))\n",
    "        if problem.value(neighbor.state) <= problem.value(current.state):\n",
    "            break\n",
    "        current = neighbor\n",
    "    return current.state"
   ]
  },
  {
   "cell_type": "code",
   "execution_count": 15,
   "metadata": {},
   "outputs": [
    {
     "data": {
      "text/plain": [
       "7"
      ]
     },
     "execution_count": 15,
     "metadata": {},
     "output_type": "execute_result"
    }
   ],
   "source": [
    "solution = problem.value(hill_climbing(problem))\n",
    "solution"
   ]
  },
  {
   "cell_type": "markdown",
   "metadata": {},
   "source": [
    "### Conclusión\n",
    "Como podemos observar, por `enfriamiento simulado la mejor solución que obtiene es 9` y en `hill_climbing es 7`, es decir, el algoritmo de escalada se atascó en un óptimo local más el de enfriamiento si obtuvo el óptimo global.\n"
   ]
  },
  {
   "cell_type": "markdown",
   "metadata": {},
   "source": [
    "### Ejercicio 2.  Resuelve el problema anterior de encontrar el punto máximo en una rejilla. Comenta y razona los resultados obtenidos en distintas rejjillas con los algoritmos de enfriamiento simulado y escalada por máxima pendiente. "
   ]
  },
  {
   "cell_type": "code",
   "execution_count": 22,
   "metadata": {},
   "outputs": [],
   "source": [
    "# Ejemplo de rejilla para pruebas\n",
    "grid2 = [[0.00, 0.00, 0.00, 0.00, 0.00, 0.00, 0.00, 0.00, 0.00],\n",
    "         [0.00, 0.00, 0.00, 0.00, 0.00, 0.00, 0.00, 0.00, 0.00],\n",
    "         [0.00, 0.00, 0.00, 0.40, 0.40, 0.00, 0.00, 0.00, 0.00],\n",
    "         [0.00, 0.00, 0.00, 0.00, 0.00, 0.00, 0.00, 0.70, 1.40],\n",
    "         [2.20, 1.80, 0.70, 0.00, 0.00, 0.00, 0.00, 0.00, 0.00],\n",
    "         [2.20, 1.80, 4.70, 6.50, 4.30, 1.80, 0.70, 0.00, 0.00],\n",
    "         [0.00, 0.00, 0.00, 0.00, 0.00, 0.00, 11.2, 0.70, 1.40],\n",
    "         [2.20, 1.80, 0.70, 0.00, 0.00, 9.00, 0.00, 0.00, 0.00],\n",
    "         [2.20, 1.80, 4.70, 6.50, 4.30, 1.80, 0.70, 0.00, 0.00],\n",
    "         [0.00, 0.00, 0.00, 0.00, 0.00, 0.00, 0.00, 0.70, 1.40],\n",
    "         [2.20, 1.80, 0.70, 0.00, 0.00, 0.00, 0.00, 0.00, 0.00],\n",
    "         [2.20, 1.80, 4.70, 8.50, 4.30, 1.80, 0.70, 0.00, 0.00]]\n",
    "grid3 = [[3,2,3],\n",
    "         [2,5,6],\n",
    "         [7,8,9]]\n",
    "grid4 = [[]]"
   ]
  },
  {
   "cell_type": "code",
   "execution_count": 23,
   "metadata": {},
   "outputs": [],
   "source": [
    "initial2 = (7,7)\n",
    "p1 = PeakFindingProblem(initial2, grid2, directions8)\n",
    "initial3 = (0,0)\n",
    "p2 = PeakFindingProblem(initial3, grid3, directions4)"
   ]
  },
  {
   "cell_type": "code",
   "execution_count": 24,
   "metadata": {},
   "outputs": [
    {
     "data": {
      "text/plain": [
       "11.2"
      ]
     },
     "execution_count": 24,
     "metadata": {},
     "output_type": "execute_result"
    }
   ],
   "source": [
    "# Lo resolvemos con enfriamiento simulado\n",
    "solutions = {p1.value(simulated_annealing(p1)) for i in range(100)}\n",
    "max(solutions)"
   ]
  },
  {
   "cell_type": "code",
   "execution_count": 25,
   "metadata": {},
   "outputs": [
    {
     "data": {
      "text/plain": [
       "9"
      ]
     },
     "execution_count": 25,
     "metadata": {},
     "output_type": "execute_result"
    }
   ],
   "source": [
    "# Lo resolvemos con enfriamiento simulado\n",
    "solutions = {p2.value(simulated_annealing(p2)) for i in range(100)}\n",
    "max(solutions)"
   ]
  },
  {
   "cell_type": "code",
   "execution_count": 26,
   "metadata": {},
   "outputs": [
    {
     "data": {
      "text/plain": [
       "3"
      ]
     },
     "execution_count": 26,
     "metadata": {},
     "output_type": "execute_result"
    }
   ],
   "source": [
    "# Lo resolvemos por escalada\n",
    "solution = p2.value(hill_climbing(p2))\n",
    "solution"
   ]
  },
  {
   "cell_type": "code",
   "execution_count": 56,
   "metadata": {},
   "outputs": [],
   "source": [
    "# Resuelve un problema ejecutando 100 veces el algoritmo de enfriamiento y 1 el de escalada e\n",
    "# imprime el resultado de aplicar cada uno.\n",
    "# Ejecutar varias veces el algoritmo de escalada daría siempre el mismo resultado, pero no pasa igual\n",
    "# con el de enfriamiento.\n",
    "def soluciones_enfriamiento_y_escalada(problem):\n",
    "    sol_sim  = max({problem.value(simulated_annealing(problem)) for i in range(100)})\n",
    "    sol_hill = problem.value(hill_climbing(problem))\n",
    "    print(\"Solución por enfriamiento:\", sol_sim)\n",
    "    print(\"Solución por escalada:\", sol_hill)\n",
    "    print()"
   ]
  },
  {
   "cell_type": "code",
   "execution_count": 29,
   "metadata": {},
   "outputs": [
    {
     "name": "stdout",
     "output_type": "stream",
     "text": [
      "Solución por enfriamiento: 11.2\n",
      "Solución por escalada: 0.0\n",
      "\n",
      "Solución por enfriamiento: 8.5\n",
      "Solución por escalada: 0.0\n",
      "\n",
      "Solución por enfriamiento: 11.2\n",
      "Solución por escalada: 0.4\n",
      "\n",
      "Solución por enfriamiento: 11.2\n",
      "Solución por escalada: 11.2\n",
      "\n",
      "Solución por enfriamiento: 9\n",
      "Solución por escalada: 3\n",
      "\n"
     ]
    }
   ],
   "source": [
    "soluciones_enfriamiento_y_escalada(PeakFindingProblem((0,0), grid2, directions4))  # 1\n",
    "soluciones_enfriamiento_y_escalada(PeakFindingProblem((1,5), grid2, directions4))  # 2\n",
    "soluciones_enfriamiento_y_escalada(PeakFindingProblem((1,5), grid2, directions8))  # 3\n",
    "soluciones_enfriamiento_y_escalada(PeakFindingProblem((7,7), grid2, directions4))  # 4\n",
    "soluciones_enfriamiento_y_escalada(PeakFindingProblem((0,0), grid3, directions4))  # 5"
   ]
  },
  {
   "cell_type": "markdown",
   "metadata": {},
   "source": [
    "El algoritmo de enfriamiento consigue consistentemente mejores resultados que el algoritmo de escalada. Esto se debe a que el de escalada simple coge cualquier estado vecino que sea mejor que el estado actual, pero el de enfriamiento a veces coge estados peores, con lo que así se exploran muchas más posibilidades.\n",
    "\n",
    "Vemos en todos los ejemplos de arriba (salvo el 4) que el algoritmo de escalada se queda atascado en un óptimo local, mientras que el de enfriamiento llega a explorar otras soluciones y por ello, tras 100 ejecuciones, al menos una de dichas soluciones llega al óptimo global (no tendría por qué ocurrir pero sería ínfimamente probable).\n",
    "\n",
    "Justo en el ejemplo 4 el algoritmo de escalada simple llega también al óptimo global por ser el óptimo local del punto de partida."
   ]
  },
  {
   "cell_type": "code",
   "execution_count": 51,
   "metadata": {},
   "outputs": [],
   "source": [
    "def soluciones_enfriamiento_y_escalada2(problem):\n",
    "    print(\"Tiempo por enfriamiento:\")\n",
    "    %time \n",
    "    sol_sim  = problem.value(simulated_annealing(problem))\n",
    "    print(\"Tiempo por escalada:\")\n",
    "    %time \n",
    "    sol_hill = problem.value(hill_climbing(problem))\n"
   ]
  },
  {
   "cell_type": "code",
   "execution_count": 58,
   "metadata": {},
   "outputs": [
    {
     "name": "stdout",
     "output_type": "stream",
     "text": [
      "Tiempo por enfriamiento:\n",
      "Wall time: 0 ns\n",
      "Tiempo por escalada:\n",
      "Wall time: 0 ns\n"
     ]
    }
   ],
   "source": [
    "soluciones_enfriamiento_y_escalada2(PeakFindingProblem(initial2, grid2, directions8))  # 1\n"
   ]
  },
  {
   "cell_type": "markdown",
   "metadata": {},
   "source": [
    "Los dos algoritmos son suficientemente rápidos, y a pesar que es de enfriamiento se ejecuta dentro de un bucle, el tiempo sigue siendo muy corto. Demostrando así que es mucho mas eficiente tanto en solución como en tiempo el algoritmo de enfriamiento para este problema"
   ]
  },
  {
   "cell_type": "code",
   "execution_count": 60,
   "metadata": {},
   "outputs": [
    {
     "name": "stdout",
     "output_type": "stream",
     "text": [
      "Wall time: 229 ms\n"
     ]
    },
    {
     "data": {
      "text/plain": [
       "11.2"
      ]
     },
     "execution_count": 60,
     "metadata": {},
     "output_type": "execute_result"
    }
   ],
   "source": [
    "%time solutions = {PeakFindingProblem(initial2, grid2, directions8).value(simulated_annealing(PeakFindingProblem(initial2, grid2, directions8))) for i in range(100)}\n",
    "max(solutions)"
   ]
  },
  {
   "cell_type": "markdown",
   "metadata": {},
   "source": [
    "## Parte 3. Algoritmos genéticos\n"
   ]
  },
  {
   "cell_type": "markdown",
   "metadata": {},
   "source": [
    "Se define una clase `ProblemaGenetico` que incluye los elementos necesarios para la representación de un problema de optimización que se va a resolver con un algoritmo genético. Los elementos son los que hemos visto en clase:\n",
    "\n",
    " - `genes`: lista de genes usados en el genotipo de los estados.\n",
    " - `longitud_individuos`: longitud de los cromosomas\n",
    " - `decodifica`: función que obtiene el fenotipo a partir del genotipo.\n",
    " - `fitness`: función de valoración.\n",
    " - `muta`: función de mutación de un cromosoma \n",
    " - `cruza`: función de cruce de un par de cromosomas"
   ]
  },
  {
   "cell_type": "code",
   "execution_count": 61,
   "metadata": {},
   "outputs": [],
   "source": [
    "import random"
   ]
  },
  {
   "cell_type": "code",
   "execution_count": 62,
   "metadata": {},
   "outputs": [],
   "source": [
    "class ProblemaGenetico(object):\n",
    "        def __init__(self, genes,fun_dec,fun_muta , fun_cruza, fun_fitness,longitud_individuos):\n",
    "            self.genes = genes\n",
    "            self.fun_dec = fun_dec\n",
    "            self.fun_cruza = fun_cruza\n",
    "            self.fun_muta = fun_muta\n",
    "            self.fun_fitness = fun_fitness\n",
    "            self.longitud_individuos = longitud_individuos\n",
    "            \"\"\"Constructor de la clase\"\"\"\n",
    "                \n",
    "        def decodifica(self, genotipo):\n",
    "            \"\"\"Devuelve el fenotipo a partir del genotipo\"\"\"\n",
    "            fenotipo = self.fun_dec(genotipo)\n",
    "            return fenotipo\n",
    "        def muta(self, cromosoma,prob):\n",
    "            \"\"\"Devuelve el cromosoma mutado\"\"\"   \n",
    "            mutante = self.fun_muta(cromosoma,prob)\n",
    "            return mutante\n",
    "        def cruza(self, cromosoma1, cromosoma2):         \n",
    "            \"\"\"Devuelve el cruce de un par de cromosomas\"\"\"\n",
    "            cruce = self.fun_cruza(cromosoma1,cromosoma2)\n",
    "            return cruce \n",
    "        def fitness(self, cromosoma):    \n",
    "            \"\"\"Función de valoración\"\"\"\n",
    "            valoracion = self.fun_fitness(cromosoma)\n",
    "            return valoracion"
   ]
  },
  {
   "cell_type": "markdown",
   "metadata": {},
   "source": [
    "En primer lugar vamos a definir una instancia de la clase anterior correspondiente al problema de optimizar (maximizar o minimizar) la función cuadrado x<sup>2</sup> en el conjunto de los números naturales menores que 2<sup>10</sup>.\n",
    "Se usa este ejemplo (del que sabemos la solución) para ver todos los elementos y poder observar el comportamiento. \n"
   ]
  },
  {
   "cell_type": "code",
   "execution_count": 63,
   "metadata": {},
   "outputs": [],
   "source": [
    "# Será necesaria la siguiente función que interpreta una lista de 0's y 1's como un número natural:  \n",
    "# La siguiente función que interpreta una lista de 0's y 1's como\n",
    "# un número natural:  \n",
    "\n",
    "def binario_a_decimal(x):\n",
    "    return sum(b*(2**i) for (i,b) in enumerate(x)) "
   ]
  },
  {
   "cell_type": "code",
   "execution_count": 77,
   "metadata": {},
   "outputs": [
    {
     "data": {
      "text/plain": [
       "6"
      ]
     },
     "execution_count": 77,
     "metadata": {},
     "output_type": "execute_result"
    }
   ],
   "source": [
    "binario_a_decimal([0, 1, 1])"
   ]
  },
  {
   "cell_type": "code",
   "execution_count": 78,
   "metadata": {},
   "outputs": [
    {
     "data": {
      "text/plain": [
       "3"
      ]
     },
     "execution_count": 78,
     "metadata": {},
     "output_type": "execute_result"
    }
   ],
   "source": [
    "binario_a_decimal([1, 1, 0])"
   ]
  },
  {
   "cell_type": "code",
   "execution_count": 64,
   "metadata": {},
   "outputs": [
    {
     "data": {
      "text/plain": [
       "[(0, 1), (1, 0), (2, 0)]"
      ]
     },
     "execution_count": 64,
     "metadata": {},
     "output_type": "execute_result"
    }
   ],
   "source": [
    "list(enumerate([1, 0, 0]))"
   ]
  },
  {
   "cell_type": "code",
   "execution_count": 65,
   "metadata": {},
   "outputs": [],
   "source": [
    "# En primer lugar usaremos la clase anterior para representar el problema de optimizar (maximizar o minimizar)\n",
    "# la función cuadrado en el conjunto de los números naturales menores que\n",
    "# 2^{10}.\n",
    "\n",
    "# Tenemos que definir funciones de cruce, mutación y fitness para este problema.\n",
    "\n",
    "def fun_cruzar(cromosoma1, cromosoma2):\n",
    "    \"\"\"Cruza los cromosomas por la mitad\"\"\"\n",
    "    l1 = len(cromosoma1)\n",
    "    l2 = len(cromosoma2)\n",
    "    cruce1 = cromosoma1[0:l1//2]+cromosoma2[l1//2:l2]\n",
    "    cruce2 = cromosoma2[0:l2//2]+cromosoma1[l2//2:l1]\n",
    "    return [cruce1,cruce2]\n",
    "\n",
    "def fun_mutar(cromosoma,prob):\n",
    "    \"\"\"Elige un elemento al azar del cromosoma y lo modifica con una probabilidad igual a prob\"\"\"\n",
    "    l = len(cromosoma)\n",
    "    p = random.randint(0,l-1)\n",
    "    if prob > random.uniform(0,1):\n",
    "        cromosoma[p] =  (cromosoma[p]+1)%2\n",
    "    return cromosoma\n",
    "\n",
    "def fun_fitness_cuad(cromosoma):\n",
    "    \"\"\"Función de valoración que eleva al cuadrado el número recibido en binario\"\"\"\n",
    "    n = binario_a_decimal(cromosoma)**2\n",
    "    return n\n",
    "\n",
    "cuadrados = ProblemaGenetico([0,1],binario_a_decimal,fun_mutar, fun_cruzar, fun_fitness_cuad,10)"
   ]
  },
  {
   "cell_type": "markdown",
   "metadata": {},
   "source": [
    "Una vez definida la instancia cuadrados que representa el problema genético, probar alguna de las funciones definidas en la clase anterior, para esta instancia concreta. Por ejemplo:"
   ]
  },
  {
   "cell_type": "code",
   "execution_count": 100,
   "metadata": {},
   "outputs": [
    {
     "data": {
      "text/plain": [
       "1329"
      ]
     },
     "execution_count": 100,
     "metadata": {},
     "output_type": "execute_result"
    }
   ],
   "source": [
    "cuadrados.decodifica([1,0,0,0,1,1,0,0,1,0,1])\n",
    "# Salida esperada: 1329"
   ]
  },
  {
   "cell_type": "code",
   "execution_count": 101,
   "metadata": {},
   "outputs": [
    {
     "data": {
      "text/plain": [
       "1766241"
      ]
     },
     "execution_count": 101,
     "metadata": {},
     "output_type": "execute_result"
    }
   ],
   "source": [
    "cuadrados.fitness([1,0,0,0,1,1,0,0,1,0,1])\n",
    "# Salida esperada: 1766241"
   ]
  },
  {
   "cell_type": "code",
   "execution_count": 102,
   "metadata": {},
   "outputs": [
    {
     "data": {
      "text/plain": [
       "[1, 0, 0, 0, 1, 1, 0, 0, 1, 0, 1]"
      ]
     },
     "execution_count": 102,
     "metadata": {},
     "output_type": "execute_result"
    }
   ],
   "source": [
    "cuadrados.muta([1,0,0,0,1,1,0,0,1,0,1],0.1)\n",
    "# Posible salida: [1, 0, 0, 0, 1, 1, 0, 0, 1, 0, 1]"
   ]
  },
  {
   "cell_type": "code",
   "execution_count": 103,
   "metadata": {},
   "outputs": [
    {
     "data": {
      "text/plain": [
       "[1, 0, 0, 0, 1, 1, 0, 0, 1, 0, 1]"
      ]
     },
     "execution_count": 103,
     "metadata": {},
     "output_type": "execute_result"
    }
   ],
   "source": [
    "cuadrados.muta([1,0,0,0,1,1,0,0,1,0,1],0.1)\n",
    "# Posible salida: [0, 0, 0, 0, 1, 1, 0, 0, 1, 0, 1]"
   ]
  },
  {
   "cell_type": "code",
   "execution_count": 104,
   "metadata": {},
   "outputs": [
    {
     "data": {
      "text/plain": [
       "[[1, 0, 0, 0, 1, 0, 0, 1, 1, 1], [0, 1, 1, 0, 1, 1, 0, 0, 1, 0, 1]]"
      ]
     },
     "execution_count": 104,
     "metadata": {},
     "output_type": "execute_result"
    }
   ],
   "source": [
    "cuadrados.cruza([1,0,0,0,1,1,0,0,1,0,1],[0,1,1,0,1,0,0,1,1,1])\n",
    "# Posible salida: [[1, 0, 0, 0, 1, 0, 0, 1, 1, 1], [0, 1, 1, 0, 1, 1, 0, 0, 1, 0, 1]]"
   ]
  },
  {
   "cell_type": "markdown",
   "metadata": {},
   "source": [
    "### Ejercicio 3\n",
    "\n",
    "   - Definir una función `poblacion_inicial(problema_genetico,tamaño)`, para definir una población inicial de un tamaño dado, para una instancia dada de la clase anterior `ProblemaGenetico`\n",
    "\n",
    "Sugerencia: usar `random.choice`\n",
    "\n",
    "   - Definir una función de cruce que recibe una instancia de `Problema_Genetico` y una población de padres (supondremos que hay un número par de padres), obtiene la población resultante de cruzarlos de dos en dos (en el orden en que aparecen)\n",
    "\n",
    "`cruza_padres(problema_genetico,padres)`\n",
    "\n",
    "   - Definir la función de mutación que recibe una instancia de `Problema_Genetico`, una población y una probabilidad de mutación, obtiene la población resultante de aplicar operaciones de mutación a cada individuo llamando a la función muta definida para el problema genético.\n",
    "\n",
    "`muta_individuos(problema_genetico, poblacion, prob)`"
   ]
  },
  {
   "cell_type": "markdown",
   "metadata": {},
   "source": [
    "#### Crear una población inicial"
   ]
  },
  {
   "cell_type": "code",
   "execution_count": 66,
   "metadata": {},
   "outputs": [],
   "source": [
    "def poblacion_inicial(problema_genetico, size):\n",
    "    l = []\n",
    "    for i in range(size):\n",
    "        l.append([random.choice(problema_genetico.genes) for i in range(problema_genetico.longitud_individuos)])\n",
    "    return l"
   ]
  },
  {
   "cell_type": "code",
   "execution_count": 67,
   "metadata": {
    "scrolled": true
   },
   "outputs": [
    {
     "data": {
      "text/plain": [
       "[[0, 0, 0, 1, 0, 1, 1, 1, 1, 1],\n",
       " [1, 0, 1, 1, 0, 1, 0, 1, 1, 0],\n",
       " [0, 1, 0, 0, 1, 1, 1, 0, 0, 1],\n",
       " [0, 0, 0, 1, 1, 1, 1, 0, 1, 1],\n",
       " [0, 0, 0, 1, 0, 1, 0, 1, 0, 1],\n",
       " [1, 1, 1, 0, 1, 0, 0, 0, 0, 0],\n",
       " [0, 0, 0, 0, 0, 1, 0, 1, 1, 0],\n",
       " [1, 1, 1, 0, 0, 1, 0, 0, 0, 1],\n",
       " [0, 0, 0, 1, 0, 1, 1, 0, 0, 1],\n",
       " [1, 0, 1, 1, 1, 1, 0, 1, 1, 0]]"
      ]
     },
     "execution_count": 67,
     "metadata": {},
     "output_type": "execute_result"
    }
   ],
   "source": [
    "poblacion_inicial(cuadrados,10)"
   ]
  },
  {
   "cell_type": "markdown",
   "metadata": {},
   "source": [
    "#### Cruce de padres"
   ]
  },
  {
   "cell_type": "code",
   "execution_count": 68,
   "metadata": {},
   "outputs": [],
   "source": [
    "def cruza_padres(problema_genetico,padres):\n",
    "    l = []\n",
    "    l1 = len(padres)\n",
    "    while padres != []:\n",
    "        l.extend(problema_genetico.cruza(padres[0],padres[1]))\n",
    "        padres.pop(0)\n",
    "        padres.pop(0)\n",
    "    return l"
   ]
  },
  {
   "cell_type": "code",
   "execution_count": 69,
   "metadata": {},
   "outputs": [
    {
     "data": {
      "text/plain": [
       "[[1, 1, 0, 1, 0, 0, 1, 0, 1, 1],\n",
       " [0, 1, 0, 1, 0, 1, 0, 0, 0, 1],\n",
       " [0, 0, 1, 0, 0, 1, 1, 1, 1, 0],\n",
       " [0, 0, 1, 1, 1, 0, 1, 1, 1, 0],\n",
       " [0, 1, 1, 0, 0, 0, 1, 1, 0, 1],\n",
       " [1, 0, 1, 1, 1, 0, 0, 0, 0, 0]]"
      ]
     },
     "execution_count": 69,
     "metadata": {},
     "output_type": "execute_result"
    }
   ],
   "source": [
    "p = [[1, 1, 0, 1, 0, 1, 0, 0, 0, 1],\n",
    "     [0, 1, 0, 1, 0, 0, 1, 0, 1, 1],\n",
    "     [0, 0, 1, 0, 0, 0, 1, 1, 1, 0],\n",
    "     [0, 0, 1, 1, 1, 1, 1, 1, 1, 0],\n",
    "     [0, 1, 1, 0, 0, 0, 0, 0, 0, 0],\n",
    "     [1, 0, 1, 1, 1, 0, 1, 1, 0, 1]]\n",
    "\n",
    "cruza_padres(cuadrados,p)\n",
    "# Posible salida\n",
    "# [[1, 1, 0, 1, 0, 0, 1, 0, 1, 1],\n",
    "#  [0, 1, 0, 1, 0, 1, 0, 0, 0, 1],\n",
    "#  [0, 0, 1, 1, 1, 1, 1, 1, 1, 0],\n",
    "#  [0, 0, 1, 0, 0, 0, 1, 1, 1, 0],\n",
    "#  [0, 1, 1, 1, 1, 0, 1, 1, 0, 1],\n",
    "#  [1, 0, 1, 0, 0, 0, 0, 0, 0, 0]]"
   ]
  },
  {
   "cell_type": "markdown",
   "metadata": {},
   "source": [
    "#### Mutación de individuos"
   ]
  },
  {
   "cell_type": "code",
   "execution_count": 70,
   "metadata": {},
   "outputs": [],
   "source": [
    "# hay que llamar a  problema_genetico.muta(x,prob) para todos los individuos de la poblacion.\n",
    "def muta_individuos(problema_genetico, poblacion, prob):\n",
    "    for x in poblacion:\n",
    "        problema_genetico.muta(x,prob)\n",
    "    return poblacion\n",
    "    "
   ]
  },
  {
   "cell_type": "code",
   "execution_count": 110,
   "metadata": {
    "scrolled": true
   },
   "outputs": [
    {
     "data": {
      "text/plain": [
       "[[1, 1, 0, 1, 1, 1, 0, 0, 0, 1],\n",
       " [0, 1, 0, 0, 0, 0, 1, 0, 1, 1],\n",
       " [0, 0, 1, 0, 0, 0, 1, 1, 1, 0],\n",
       " [0, 1, 1, 1, 1, 1, 1, 1, 1, 0],\n",
       " [0, 1, 1, 0, 0, 0, 0, 0, 0, 1],\n",
       " [0, 0, 1, 1, 1, 0, 1, 1, 0, 1]]"
      ]
     },
     "execution_count": 110,
     "metadata": {},
     "output_type": "execute_result"
    }
   ],
   "source": [
    "p1 = [[1, 1, 0, 1, 0, 1, 0, 0, 0, 1],\n",
    "      [0, 1, 0, 1, 0, 0, 1, 0, 1, 1],\n",
    "      [0, 0, 1, 0, 0, 0, 1, 1, 1, 0],\n",
    "      [0, 0, 1, 1, 1, 1, 1, 1, 1, 0],\n",
    "      [0, 1, 1, 0, 0, 0, 0, 0, 0, 0],\n",
    "      [1, 0, 1, 1, 1, 0, 1, 1, 0, 1]]\n",
    "\n",
    "muta_individuos(cuadrados,p1,0.5)\n",
    "# Posible salida:\n",
    "#  [[1, 1, 0, 1, 0, 1, 0, 0, 0, 1],\n",
    "#   [0, 1, 0, 1, 0, 0, 1, 0, 0, 1],\n",
    "#   [0, 0, 1, 0, 0, 0, 1, 0, 1, 0],\n",
    "#   [0, 0, 1, 1, 1, 1, 1, 1, 1, 0],\n",
    "#   [0, 1, 0, 0, 0, 0, 0, 0, 0, 0],\n",
    "#   [1, 0, 1, 1, 1, 0, 1, 1, 0, 1]]"
   ]
  },
  {
   "cell_type": "code",
   "execution_count": 111,
   "metadata": {},
   "outputs": [],
   "source": [
    "p2 = [[1, 1, 0, 1, 0, 1, 0, 0, 0, 1],\n",
    "      [0, 1, 0, 1, 0, 0, 1, 0, 1, 1],\n",
    "      [0, 0, 1, 0, 0, 0, 1, 1, 1, 0],\n",
    "      [0, 0, 1, 1, 1, 1, 1, 1, 1, 0],\n",
    "      [0, 1, 1, 0, 0, 0, 0, 0, 0, 0],\n",
    "      [1, 0, 1, 1, 1, 0, 1, 1, 0, 1]]"
   ]
  },
  {
   "cell_type": "code",
   "execution_count": 112,
   "metadata": {
    "scrolled": false
   },
   "outputs": [
    {
     "data": {
      "text/plain": [
       "[[1, 1, 0, 1, 1, 1, 0, 0, 0, 1],\n",
       " [0, 1, 0, 1, 0, 0, 1, 0, 1, 1],\n",
       " [0, 0, 1, 0, 0, 0, 1, 1, 1, 1],\n",
       " [0, 0, 1, 1, 1, 1, 0, 1, 1, 0],\n",
       " [0, 0, 1, 0, 0, 0, 0, 0, 0, 0],\n",
       " [1, 0, 0, 1, 1, 0, 1, 1, 0, 1]]"
      ]
     },
     "execution_count": 112,
     "metadata": {},
     "output_type": "execute_result"
    }
   ],
   "source": [
    "muta_individuos(cuadrados,p2,0.5)"
   ]
  },
  {
   "cell_type": "markdown",
   "metadata": {},
   "source": [
    "### Ejercicio 4\n",
    "\n",
    "Se pide definir una función de selección mediante torneo de n individuos de una población.  \n",
    "La función recibe como entrada:\n",
    " - Una instancia de la clase `ProblemaGenetico`\n",
    " - Una población\n",
    " - El número n de individuos que vamos a seleccionar\n",
    " - El número k de participantes en el torneo\n",
    " - Un valor `opt` que puede ser o la función `max` o la función `min` (dependiendo de si el problema es de maximización o de minimización, resp.).\n",
    "\n",
    "`seleccion_por_torneo(problema_genetico,poblacion,n,k,opt)`\n",
    "\n",
    "**Indicación:** Usar `random.sample` para seleccionar k elementos de una secuencia. \n",
    "Por ejemplo, `random.sample(population=[2,5,7,8,9], k=3)` devuelve `[7,5,8]`. "
   ]
  },
  {
   "cell_type": "markdown",
   "metadata": {},
   "source": [
    "#### Selección por torneo"
   ]
  },
  {
   "cell_type": "code",
   "execution_count": 71,
   "metadata": {},
   "outputs": [],
   "source": [
    "def seleccion_por_torneo(problema_genetico, poblacion, n, k, opt):\n",
    "    \"\"\"Selección por torneo de n individuos de una población. Siendo k el nº de participantes\n",
    "        y opt la función max o min.\"\"\"\n",
    "    seleccionados = []\n",
    "    for i in range(n):\n",
    "        participantes = random.sample(poblacion,k)\n",
    "        seleccionado = opt(participantes, key=problema_genetico.fitness)\n",
    "        opt(poblacion, key=problema_genetico.fitness)\n",
    "        seleccionados.append(seleccionado)\n",
    "        # poblacion.remove(seleccionado)\n",
    "    return seleccionados  "
   ]
  },
  {
   "cell_type": "code",
   "execution_count": 114,
   "metadata": {},
   "outputs": [
    {
     "data": {
      "text/plain": [
       "[[1, 1, 1, 0, 0, 1, 1, 0, 1, 1],\n",
       " [1, 1, 1, 0, 0, 1, 1, 0, 1, 1],\n",
       " [1, 1, 1, 0, 0, 1, 1, 0, 1, 1]]"
      ]
     },
     "execution_count": 114,
     "metadata": {},
     "output_type": "execute_result"
    }
   ],
   "source": [
    "#Ejemplo\n",
    "seleccion_por_torneo(cuadrados, poblacion_inicial(cuadrados,8),3,6,max)\n",
    "# Posible salida: [[1, 1, 1, 1, 1, 0, 0, 0, 1, 1], [1, 0, 0, 1, 1, 1, 0, 1, 0, 1], [1, 1, 1, 1, 0, 1, 1, 1, 0, 1]]"
   ]
  },
  {
   "cell_type": "code",
   "execution_count": 115,
   "metadata": {},
   "outputs": [
    {
     "data": {
      "text/plain": [
       "[[1, 0, 1, 0, 0, 1, 1, 1, 0, 0],\n",
       " [0, 1, 1, 1, 0, 0, 1, 0, 0, 0],\n",
       " [0, 1, 1, 1, 0, 0, 1, 0, 0, 0]]"
      ]
     },
     "execution_count": 115,
     "metadata": {},
     "output_type": "execute_result"
    }
   ],
   "source": [
    "seleccion_por_torneo(cuadrados, poblacion_inicial(cuadrados,8),3,6,min)\n",
    "# [[0, 0, 1, 1, 0, 1, 1, 0, 0, 0], [1, 0, 1, 0, 1, 1, 1, 0, 0, 0], [1, 1, 0, 1, 0, 0, 1, 0, 1, 0]]"
   ]
  },
  {
   "cell_type": "markdown",
   "metadata": {},
   "source": [
    "#### Algoritmo genético"
   ]
  },
  {
   "cell_type": "code",
   "execution_count": 72,
   "metadata": {},
   "outputs": [],
   "source": [
    "# La siguiente función implementa una posibilidad para el algoritmo genético completo: \n",
    "# inicializa t = 0 \n",
    "# Generar y evaluar la Población P(t)\n",
    "# Mientras no hemos llegado al número de generaciones fijado:  t < nGen\n",
    "#    P1 = Selección por torneo de (1-size)·p individuos de P(t)\n",
    "#    P2 = Selección por torneo de (size·p) individuos de P(t)\n",
    "#    Aplicar cruce en la población P2\n",
    "#    P4 = Union de P1 y P3\n",
    "#    P(t+1) := Aplicar mutación P4 \n",
    "#    Evalua la población P(t+1) \n",
    "#    t:= t+1\n",
    "        \n",
    "# Sus argumentos son:\n",
    "# problema_genetico: una instancia de la clase ProblemaGenetico con la representación adecuada del problema de optimización \n",
    "# que se quiere resolver.\n",
    "#\n",
    "# k:             número de participantes en los torneos de selección.\n",
    "# opt:           max ó min, dependiendo si el problema es de maximización o de minimización. \n",
    "# nGen:          número de generaciones (que se usa como condición de terminación)\n",
    "# size:          número de individuos en cada generación\n",
    "# prop_cruce:    proporción del total de la población que serán padres. \n",
    "# prob_mutación: probabilidad de realizar una mutación de un gen.\n",
    "\n",
    "def algoritmo_genetico(problema_genetico,k,opt,ngen,size,prop_cruces,prob_mutar):\n",
    "    poblacion= poblacion_inicial(problema_genetico,size)\n",
    "    n_padres=round(size*prop_cruces)\n",
    "    n_padres= int (n_padres if n_padres%2==0 else n_padres-1)\n",
    "    n_directos = size-n_padres\n",
    "    for _ in range(ngen):\n",
    "        poblacion= nueva_generacion(problema_genetico,k,opt,poblacion,n_padres, n_directos,prob_mutar)\n",
    "\n",
    "    mejor_cr= opt(poblacion, key=problema_genetico.fitness)\n",
    "    mejor=problema_genetico.decodifica(mejor_cr)\n",
    "    return (mejor,problema_genetico.fitness(mejor_cr)) \n"
   ]
  },
  {
   "cell_type": "markdown",
   "metadata": {},
   "source": [
    "#### Nueva generación\n",
    "Necesitarás definir la función auxiliar `nueva_generacion(problema_genetico, poblacion, n_padres, n_directos, prob_mutar)` que dada una población calcula la siguiente generación."
   ]
  },
  {
   "cell_type": "code",
   "execution_count": 73,
   "metadata": {},
   "outputs": [],
   "source": [
    "#Definir la función nueva_generacion\n",
    "def nueva_generacion(problema_genetico, k,opt, poblacion, n_padres, n_directos, prob_mutar):\n",
    "    padres2 = seleccion_por_torneo(problema_genetico, poblacion, n_directos, k,opt) \n",
    "    padres1 = seleccion_por_torneo(problema_genetico, poblacion, n_padres , k, opt)\n",
    "    cruces =  cruza_padres(problema_genetico,padres1)\n",
    "    generacion = padres2+cruces\n",
    "    resultado_mutaciones = muta_individuos(problema_genetico, generacion, prob_mutar)\n",
    "    return resultado_mutaciones"
   ]
  },
  {
   "cell_type": "code",
   "execution_count": 27,
   "metadata": {},
   "outputs": [
    {
     "data": {
      "text/plain": [
       "[[1, 0, 0, 1, 1, 0, 1, 0, 0, 1],\n",
       " [0, 0, 1, 0, 1, 1, 0, 1, 0, 1],\n",
       " [1, 1, 1, 1, 0, 1, 1, 1, 1, 0],\n",
       " [1, 1, 1, 0, 1, 1, 0, 0, 0, 1],\n",
       " [0, 1, 1, 0, 1, 0, 1, 1, 0, 1],\n",
       " [0, 1, 0, 1, 0, 0, 1, 0, 0, 0],\n",
       " [1, 1, 0, 0, 0, 0, 1, 0, 0, 1],\n",
       " [0, 0, 1, 1, 1, 1, 1, 1, 0, 0]]"
      ]
     },
     "execution_count": 27,
     "metadata": {},
     "output_type": "execute_result"
    }
   ],
   "source": [
    "pobl = poblacion_inicial(cuadrados, 8)\n",
    "pobl"
   ]
  },
  {
   "cell_type": "code",
   "execution_count": 54,
   "metadata": {},
   "outputs": [
    {
     "data": {
      "text/plain": [
       "[[0, 1, 1, 1, 1, 1, 0, 1, 1, 1],\n",
       " [0, 1, 1, 1, 1, 1, 0, 1, 1, 1],\n",
       " [0, 1, 1, 1, 1, 1, 0, 1, 1, 1],\n",
       " [0, 1, 1, 1, 1, 1, 0, 1, 1, 1],\n",
       " [0, 1, 1, 0, 0, 1, 1, 0, 1, 1],\n",
       " [0, 1, 1, 0, 1, 0, 0, 0, 1, 1],\n",
       " [0, 1, 1, 0, 1, 1, 0, 1, 1, 1],\n",
       " [0, 1, 1, 1, 1, 1, 1, 0, 1, 1]]"
      ]
     },
     "execution_count": 54,
     "metadata": {},
     "output_type": "execute_result"
    }
   ],
   "source": [
    "nueva_generacion(cuadrados, 4, max, pobl, 4, 4, 0.15)"
   ]
  },
  {
   "cell_type": "markdown",
   "metadata": {},
   "source": [
    "### Ejercicio 5.  Ejecutar el algoritmo genético anterior, para resolver el problema anterior (tanto en minimización como en maximización).  \n",
    "\n",
    "Hacer una valoración de resultados y comentarios sobre el comportamiento del algoritmmo. \n",
    "En la resolución del problema hay que tener en cuenta que el algoritmo genético devuelve un par con el mejor fenotipo encontrado y su valoración."
   ]
  },
  {
   "cell_type": "code",
   "execution_count": 55,
   "metadata": {},
   "outputs": [
    {
     "data": {
      "text/plain": [
       "(0, 0)"
      ]
     },
     "execution_count": 55,
     "metadata": {},
     "output_type": "execute_result"
    }
   ],
   "source": [
    "algoritmo_genetico(cuadrados,3,min,20,10,0.7,0.1)\n",
    "# Salida esperada: (0, 0)"
   ]
  },
  {
   "cell_type": "code",
   "execution_count": 93,
   "metadata": {},
   "outputs": [
    {
     "data": {
      "text/plain": [
       "(2, 4)"
      ]
     },
     "execution_count": 93,
     "metadata": {},
     "output_type": "execute_result"
    }
   ],
   "source": [
    "algoritmo_genetico(cuadrados,3,min,20,10,0.7,0.1)"
   ]
  },
  {
   "cell_type": "code",
   "execution_count": 94,
   "metadata": {},
   "outputs": [
    {
     "data": {
      "text/plain": [
       "(0, 0)"
      ]
     },
     "execution_count": 94,
     "metadata": {},
     "output_type": "execute_result"
    }
   ],
   "source": [
    "## aumentamos presión de selección\n",
    "algoritmo_genetico(cuadrados,5,min,20,10,0.7,0.1)"
   ]
  },
  {
   "cell_type": "code",
   "execution_count": 56,
   "metadata": {},
   "outputs": [
    {
     "data": {
      "text/plain": [
       "(1023, 1046529)"
      ]
     },
     "execution_count": 56,
     "metadata": {},
     "output_type": "execute_result"
    }
   ],
   "source": [
    "algoritmo_genetico(cuadrados,3,max,20,10,0.7,0.1)\n",
    "# Salida esperada: (1023, 1046529)"
   ]
  },
  {
   "cell_type": "code",
   "execution_count": 95,
   "metadata": {},
   "outputs": [
    {
     "data": {
      "text/plain": [
       "(1017, 1034289)"
      ]
     },
     "execution_count": 95,
     "metadata": {},
     "output_type": "execute_result"
    }
   ],
   "source": [
    "algoritmo_genetico(cuadrados,3,max,20,10,0.7,0.1)"
   ]
  },
  {
   "cell_type": "code",
   "execution_count": 96,
   "metadata": {},
   "outputs": [
    {
     "data": {
      "text/plain": [
       "(1023, 1046529)"
      ]
     },
     "execution_count": 96,
     "metadata": {},
     "output_type": "execute_result"
    }
   ],
   "source": [
    "##Aumentamos presión de selección\n",
    "algoritmo_genetico(cuadrados,5,max,20,10,0.7,0.1)"
   ]
  },
  {
   "cell_type": "markdown",
   "metadata": {},
   "source": [
    "Estamos buscando el valor máximo y el mínimo que se puede repesentar con 10 bits, que son, respectivamente, **0** y 2<sup>10</sup> - 1 = **1023**. El algoritmo genético llega a dichos valores en la mayoría de ejecuciones, y si no es el caso debido a la aleatoriedad inherente al algoritmo, se acerca bastante.\n",
    "\n",
    "Si queremos aumentar la posibilidad que obtenga la mejor solución, debemos aumentar la presión de selección. De esta manera los peores individuos tienen pocas probabilidades. O podríamos aumentar el número de generaciones e individuos en cada generación.\n",
    "Esta versión de selección por torneo es determinista ya que escoge al azar un número k de individuos que son los que luego se obtienen los mejores de esos torneos.\n",
    "\n",
    "Por otro lado tenemos una probabilidad de mutación de 0.1 para que ningún espacio de búsqueda tenga probabilidad nula para ser examinado. El algoritmo de mutación que se utiliza es un reemplazo aleatorio"
   ]
  },
  {
   "cell_type": "markdown",
   "metadata": {},
   "source": [
    "##  El problema de la mochila "
   ]
  },
  {
   "cell_type": "markdown",
   "metadata": {},
   "source": [
    "Se plantea el típico problema de la mochila en el que dados n objetos de pesos conocidos p<sub>i</sub> y valor v<sub>i</sub> (i=1, ..., n) hay que elegir cuáles se meten en una mochila que soporta un peso P máximo. La selección debe hacerse de forma que se máximice el valor de los objetos introducidos sin superar el peso máximo."
   ]
  },
  {
   "cell_type": "markdown",
   "metadata": {},
   "source": [
    "### Ejercicio 6\n",
    "Se pide definir la representación del problema de la mochila usando genes `[0,1]` y longitud de los individuos `n`.\n",
    "\n",
    "Los valores 1 ó 0 representan, respectivamente, si el objeto se introduce o no en la mochila. Tomados de izquerda a derecha, a partir del primero que no cabe, se consideran  todos fuera de la mochila, independientemente del gen en su posición. De esta manera, todos los individuos representan candidatos válidos.\n",
    "\n",
    "El numero de objetos n determina la longitud de los individuos de la población.\n",
    "En primer lugar es necesario definir una función de decodificación de la mochila que recibe como entrada:\n",
    "* Un `cromosoma` (en este caso, una lista de 0s y 1s, de longitud igual a `n_objetos`) \n",
    "* `n`: número total de objetos de la mochila\n",
    "* `pesos`: una lista con los pesos de los objetos\n",
    "* `capacidad`: peso máximo de la mochila.\n",
    "La función decodifica recibe `(cromosoma, n, pesos, capacidad)` y devuelve una lista de 0s y 1s que indique qué objetos están en la mochila y cuáles no (el objeto i está en la mochila si y sólo si en la posición i-ésima de la lista hay un 1). Esta lista se obtendrá a partir del cromosoma, pero teniendo en cuenta que a partir del primer objeto que no quepa, éste y los siguientes se consideran fuera de la mochila, independientemente del valor que haya en su correspondiente posición de cromosoma. "
   ]
  },
  {
   "cell_type": "code",
   "execution_count": 14,
   "metadata": {},
   "outputs": [],
   "source": [
    "def decodifica(cromosoma, n, pesos, capacidad):\n",
    "    peso_en_mochila = 0\n",
    "    l = []\n",
    "    for i in range(n):\n",
    "        if cromosoma[i] == 1 and peso_en_mochila + pesos[i] <= capacidad:\n",
    "            l.append(1)\n",
    "            peso_en_mochila += pesos[i]\n",
    "        elif cromosoma[i]== 0 or peso_en_mochila + pesos[i] > capacidad:\n",
    "            l.append(0)\n",
    "    return l "
   ]
  },
  {
   "cell_type": "code",
   "execution_count": 58,
   "metadata": {},
   "outputs": [
    {
     "data": {
      "text/plain": [
       "[1, 1, 0, 0, 0]"
      ]
     },
     "execution_count": 58,
     "metadata": {},
     "output_type": "execute_result"
    }
   ],
   "source": [
    "decodifica([1,1,1,1,1], 5, [2,3,4,5,1], 5)"
   ]
  },
  {
   "cell_type": "code",
   "execution_count": 59,
   "metadata": {},
   "outputs": [
    {
     "data": {
      "text/plain": [
       "[1, 0, 0, 0, 1]"
      ]
     },
     "execution_count": 59,
     "metadata": {},
     "output_type": "execute_result"
    }
   ],
   "source": [
    "decodifica([1,0,1,1,1], 5, [2,3,4,5,1], 5)"
   ]
  },
  {
   "cell_type": "markdown",
   "metadata": {},
   "source": [
    "Para definir la función de evaluación (`fitness`) necesitamos calcular el valor total de los objetos que están dentro de la mochila que representa el cromosoma según la codificación utilizada en la función anterior. \n",
    "\n",
    "Se pide la función `fitness (cromosoma, n_objetos, pesos, capacidad, valores)`, donde los parámetros son los mismos que en la función anterior, y valores es la lista de los valores de cada objeto\n",
    "\n",
    "`fitness(cromosoma, n_objetos, pesos, capacidad, valores)`\n",
    "\n",
    "Ejemplo de uso:\n",
    "```python\n",
    "fitness([1,1,1,1], 4, [2,3,4,5], 4, [7,1,4,5])\n",
    "7\n",
    "```"
   ]
  },
  {
   "cell_type": "code",
   "execution_count": 15,
   "metadata": {},
   "outputs": [],
   "source": [
    "def fitness_mochila(cromosoma, n_objetos, pesos, capacidad, valores):\n",
    "    objetos = decodifica(cromosoma, n_objetos, pesos, capacidad)\n",
    "    valor = 0\n",
    "    for i in range(n_objetos):\n",
    "        if objetos[i] == 1:\n",
    "            valor += valores[i]\n",
    "    return valor"
   ]
  },
  {
   "cell_type": "code",
   "execution_count": 61,
   "metadata": {},
   "outputs": [
    {
     "data": {
      "text/plain": [
       "7"
      ]
     },
     "execution_count": 61,
     "metadata": {},
     "output_type": "execute_result"
    }
   ],
   "source": [
    "fitness_mochila([1,1,1,1], 4, [2,3,4,5], 4, [7,1,4,5])"
   ]
  },
  {
   "cell_type": "markdown",
   "metadata": {},
   "source": [
    "Damos tres instancias concretas del problema de la mochila. Damos también sus soluciones optimas, para que se puedan comparar con los resultados obtenidos por el algoritmo genético:"
   ]
  },
  {
   "cell_type": "code",
   "execution_count": 62,
   "metadata": {},
   "outputs": [],
   "source": [
    "# Problema de la mochila 1:\n",
    "# 10 objetos, peso máximo 165\n",
    "pesos1   = [23,31,29,44,53,38,63,85,89,82]\n",
    "valores1 = [92,57,49,68,60,43,67,84,87,72]\n",
    "\n",
    "# Solución óptima = [1,1,1,1,0,1,0,0,0,0], con valor 309"
   ]
  },
  {
   "cell_type": "code",
   "execution_count": 63,
   "metadata": {},
   "outputs": [
    {
     "data": {
      "text/plain": [
       "309"
      ]
     },
     "execution_count": 63,
     "metadata": {},
     "output_type": "execute_result"
    }
   ],
   "source": [
    "fitness_mochila([1,1,1,1,0,1,0,0,0,0], 10, pesos1, 165, valores1)"
   ]
  },
  {
   "cell_type": "code",
   "execution_count": 64,
   "metadata": {},
   "outputs": [],
   "source": [
    "# Problema de la mochila 2:\n",
    "# 15 objetos, peso máximo 750\n",
    "\n",
    "pesos2   = [70,73,77,80,82,87,90,94,98,106,110,113,115,118,120]\n",
    "valores2 = [135,139,149,150,156,163,173,184,192,201,210,214,221,229,240]\n",
    "\n",
    "# Solución óptima= [1,0,1,0,1,0,1,1,1,0,0,0,0,1,1] con valor 1458"
   ]
  },
  {
   "cell_type": "code",
   "execution_count": 65,
   "metadata": {},
   "outputs": [
    {
     "data": {
      "text/plain": [
       "1458"
      ]
     },
     "execution_count": 65,
     "metadata": {},
     "output_type": "execute_result"
    }
   ],
   "source": [
    "fitness_mochila([1,0,1,0,1,0,1,1,1,0,0,0,0,1,1], 15, pesos2, 750, valores2)"
   ]
  },
  {
   "cell_type": "code",
   "execution_count": 66,
   "metadata": {},
   "outputs": [],
   "source": [
    "# Problema de la mochila 3:\n",
    "# 24 objetos, peso máximo 6404180\n",
    "pesos3 = [382745, 799601, 909247, 729069, 467902,  44328,  34610, 698150,\n",
    "          823460, 903959, 853665, 551830, 610856, 670702, 488960, 951111,\n",
    "          323046, 446298, 931161,  31385, 496951, 264724, 224916, 169684]\n",
    "valores3 = [ 825594, 1677009, 1676628, 1523970,  943972,   97426,  69666, 1296457,\n",
    "            1679693, 1902996, 1844992, 1049289, 1252836, 1319836, 953277, 2067538,\n",
    "            675367,   853655, 1826027,   65731,  901489,  577243, 466257, 369261]\n",
    "\n",
    "# Solución óptima= [1,1,0,1,1,1,0,0,0,1,1,0,1,0,0,1,0,0,0,0,0,1,1,1] con valoración 13549094"
   ]
  },
  {
   "cell_type": "code",
   "execution_count": 67,
   "metadata": {},
   "outputs": [
    {
     "data": {
      "text/plain": [
       "13549094"
      ]
     },
     "execution_count": 67,
     "metadata": {},
     "output_type": "execute_result"
    }
   ],
   "source": [
    "fitness_mochila([1,1,0,1,1,1,0,0,0,1,1,0,1,0,0,1,0,0,0,0,0,1,1,1], 24, pesos3, 6404180, valores3)"
   ]
  },
  {
   "cell_type": "markdown",
   "metadata": {},
   "source": [
    "### Ejercicio 7\n",
    "\n",
    "Definir variables `m1g`, `m2g` y `m3g`, referenciando a instancias de `Problema_Genetico` que correspondan, respectivamente, a los problemas de la mochila anteriores. Resuelve los problemas y comentar los resultados obtenidos en cuanto a eficiencia y calidad de los resultados obtenidos."
   ]
  },
  {
   "cell_type": "markdown",
   "metadata": {},
   "source": [
    "Algunas de las salidas posibles variando los parámetros."
   ]
  },
  {
   "cell_type": "code",
   "execution_count": 16,
   "metadata": {},
   "outputs": [],
   "source": [
    "\n",
    "def fitness_mochila_1(cromosoma):\n",
    "    v = fitness_mochila(cromosoma, 10, pesos1, 165, valores1)\n",
    "    return v\n",
    "def decodifica_mochila_1(cromosoma):\n",
    "    v = decodifica(cromosoma, 10, pesos1, 165)\n",
    "    return v\n",
    "m1g = ProblemaGenetico([0,1], decodifica_mochila_1, fun_mutar, fun_cruzar, fitness_mochila_1,10)\n",
    "\n",
    "def fitness_mochila_2(cromosoma):\n",
    "    v = fitness_mochila(cromosoma, 15, pesos2, 750, valores2)\n",
    "    return v\n",
    "def decodifica_mochila_2(cromosoma):\n",
    "    v = decodifica(cromosoma, 14, pesos2, 750)\n",
    "    return v\n",
    "m2g = ProblemaGenetico([0,1], decodifica_mochila_2, fun_mutar, fun_cruzar, fitness_mochila_2,15)\n",
    "\n",
    "def fitness_mochila_3(cromosoma):\n",
    "    v = fitness_mochila(cromosoma, 24, pesos3,6404180 , valores3)\n",
    "    return v\n",
    "def decodifica_mochila_3(cromosoma):\n",
    "    v = decodifica(cromosoma, 24, pesos3, 6404180)\n",
    "    return v\n",
    "m3g = ProblemaGenetico([0,1], decodifica_mochila_3, fun_mutar, fun_cruzar, fitness_mochila_3,24)\n"
   ]
  },
  {
   "cell_type": "markdown",
   "metadata": {},
   "source": [
    "\n",
    "```\n",
    "# def __init__(self, genes,fun_dec,fun_muta , fun_cruza, fun_fitness,longitud_individuos):\n",
    "def fit1g(cromosoma):\n",
    "    return fitness_mochila(cromosoma, pesos=pesos1, n_objetos=10, capacidad=165, valores=valores1)\n",
    "\n",
    "def decodifica1g(cromosoma):\n",
    "    return decodifica(cromosoma, n=10, pesos=pesos1, capacidad=165)\n",
    "\n",
    "m1g = ProblemaGenetico([0,1], decodifica1g, fun_mutar, fun_cruzar, fit1g, 10)\n",
    "algoritmo_genetico(m1g,3,max,100,50,0.8,0.05)\n",
    "```"
   ]
  },
  {
   "cell_type": "code",
   "execution_count": 69,
   "metadata": {},
   "outputs": [
    {
     "data": {
      "text/plain": [
       "([1, 1, 0, 1, 0, 0, 1, 0, 0, 0], 284)"
      ]
     },
     "execution_count": 69,
     "metadata": {},
     "output_type": "execute_result"
    }
   ],
   "source": [
    "algoritmo_genetico(m1g,3,max,100,50,0.8,0.05)\n",
    "# ([1, 1, 1, 1, 0, 1, 0, 0, 0, 0], 309)\n",
    "\n",
    "# >>> algoritmo_genetico_t(m2g,3,max,100,50,0.8,0.05)\n",
    "# ([1, 1, 1, 0, 0, 0, 0, 1, 1, 0, 1, 1, 1, 0, 0], 1444)\n",
    "# >>> algoritmo_genetico_t(m2g,3,max,200,100,0.8,0.05)\n",
    "# ([0, 0, 1, 0, 1, 1, 1, 1, 1, 1, 0, 0, 1, 0, 0], 1439)\n",
    "# >>> algoritmo_genetico_t(m2g,3,max,200,100,0.8,0.05)\n",
    "# ([1, 0, 1, 0, 1, 0, 1, 1, 1, 0, 0, 0, 0, 1, 1], 1458)\n",
    "\n",
    "# >>> algoritmo_genetico_t(m3g,5,max,400,200,0.75,0.1)\n",
    "# ([1, 1, 0, 1, 0, 1, 1, 0, 1, 1, 1, 0, 1, 0, 0, 1, 0, 0, 0, 0, 0, 1, 0, 0], 13518963)\n",
    "# >>> algoritmo_genetico_t(m3g,4,max,600,200,0.75,0.1)\n",
    "# ([1, 1, 0, 1, 1, 1, 1, 0, 0, 1, 1, 0, 1, 0, 0, 1, 1, 0, 0, 1, 0, 1, 0, 0], 13524340)\n",
    "# >>> algoritmo_genetico_t(m3g,4,max,1000,200,0.75,0.1)\n",
    "# ([1, 1, 0, 1, 0, 0, 0, 0, 1, 1, 1, 0, 1, 0, 0, 1, 1, 0, 0, 0, 0, 0, 0, 0], 13449995)\n",
    "# >>> algoritmo_genetico_t(m3g,3,max,1000,100,0.75,0.1)\n",
    "# ([1, 1, 0, 0, 0, 1, 1, 0, 1, 1, 1, 0, 1, 1, 0, 1, 1, 0, 0, 0, 0, 0, 0, 0], 13412953)\n",
    "# >>> algoritmo_genetico_t(m3g,3,max,2000,100,0.75,0.1)\n",
    "# ([0, 1, 0, 1, 0, 1, 0, 0, 1, 1, 1, 0, 1, 1, 0, 1, 0, 0, 0, 0, 0, 0, 0, 0], 13366296)\n",
    "# >>> algoritmo_genetico_t(m3g,6,max,2000,100,0.75,0.1)\n",
    "# ([1, 1, 0, 1, 1, 1, 0, 0, 0, 1, 1, 0, 1, 0, 0, 1, 0, 0, 0, 0, 0, 1, 1, 1], 13549094)"
   ]
  },
  {
   "cell_type": "code",
   "execution_count": 70,
   "metadata": {},
   "outputs": [
    {
     "data": {
      "text/plain": [
       "([1, 1, 0, 1, 0, 0, 1, 0, 1, 1, 1, 0, 1, 0, 0, 1, 0, 0, 0, 1, 0, 1, 0, 0],\n",
       " 13487268)"
      ]
     },
     "execution_count": 70,
     "metadata": {},
     "output_type": "execute_result"
    }
   ],
   "source": [
    "algoritmo_genetico(m3g,5,max,400,200,0.75,0.1)"
   ]
  },
  {
   "cell_type": "markdown",
   "metadata": {},
   "source": [
    "### Ejercicio 8\n",
    "Resolver mediante una configuración de un algoritmo genético el problema del cuadrado mágico que consiste en colocar en un cuadrado n × n los números naturales de 1 a n<sup>2</sup>, \n",
    "de tal manera que las filas, las columnas y las diagonales principales sumen lo mismo.\n",
    "\n",
    "Ejemplo: una solucion para n = 3\n",
    "    \n",
    "    4 3 8\n",
    "    9 5 1\n",
    "    2 7 6\n",
    "    \n",
    "- Dimensión del cuadrado: N\n",
    "- Suma común: SUMA = (N (N<sup>2</sup> + 1)) / 2\n",
    "    \n",
    "**Comenta el resultado y el rendimiento del algoritmo para distintos parámetros:**\n",
    "    \n",
    "***COMENTAR***"
   ]
  },
  {
   "cell_type": "code",
   "execution_count": 190,
   "metadata": {},
   "outputs": [],
   "source": [
    "def suma_comun(n):\n",
    "    return (n * (n*n +1))//2\n",
    "\n",
    "# lista es una lista de n^2 elementos -> se puede hacer un cuadrado\n",
    "def matriz_por_filas(lista, n):\n",
    "    mat = list()\n",
    "    for i in range(0, n):\n",
    "        fila = [lista[x + i*n] for x in range(0,n)]\n",
    "        mat.append(fila)\n",
    "    return mat\n",
    "\n",
    "\n",
    "# lista es una lista de n^2 elementos -> se puede hacer un cuadrado\n",
    "def matriz_por_cols(lista, n):\n",
    "    mat = list()\n",
    "    for i in range(0, n):\n",
    "        col = [lista[x*n + i] for x in range(0,n)]\n",
    "        mat.append(col)\n",
    "    return mat\n",
    "\n",
    "# cromosoma: lista de números de 1 a n^2\n",
    "def fitness_cuadrado(cromosoma, n):\n",
    "    valor = 0\n",
    "    matriz_filas = matriz_por_filas(cromosoma, n)\n",
    "    matriz_cols = matriz_por_cols(cromosoma, n)\n",
    "    suma_a_llegar = suma_comun(n)\n",
    "    suma_diag1 = 0\n",
    "    suma_diag2 = 0\n",
    "\n",
    "    for i in range(0, n):\n",
    "        # suma filas\n",
    "        if sum(matriz_filas[i]) == suma_a_llegar:\n",
    "            valor += 1\n",
    "\n",
    "        # suma columnas\n",
    "        if sum(matriz_cols[i]) == suma_a_llegar:\n",
    "            valor += 1\n",
    "\n",
    "        # vamos sumando valores en la diagonal\n",
    "        suma_diag1 += matriz_filas[i][i]\n",
    "        suma_diag2 += matriz_filas[i][n - i - 1]\n",
    "\n",
    "    if suma_diag1 == suma_a_llegar:\n",
    "        valor += 1\n",
    "\n",
    "    if suma_diag2 == suma_a_llegar:\n",
    "        valor += 1\n",
    "\n",
    "    if valor != 8:  ##Penaliza cromosomas con alelos cuyas sumas sean muy altas\n",
    "        if valoresAltosCercanos(cromosoma, matriz_filas, matriz_cols, n) > 0:\n",
    "            valor -= 1\n",
    "        if valoresBajosCercanos(cromosoma, matriz_filas, matriz_cols, n) > 0:\n",
    "            valor -= 1\n",
    "\n",
    "    return valor\n",
    "\n",
    "\n",
    "def valoresAltosCercanos(cromosoma, matrizFilas, matriz_cols, n):\n",
    "    cont=0\n",
    "    valorAlto=n*n\n",
    "    evitable=0\n",
    "    suma_diag1=0\n",
    "    suma_diag2=0\n",
    "    for i in range(0, n):\n",
    "        evitable +=valorAlto\n",
    "        valorAlto-=3\n",
    "\n",
    "    for i in range(0, n):\n",
    "        suma_diag1 += matrizFilas[i][i]\n",
    "        suma_diag2 += matrizFilas[i][n - i - 1]\n",
    "        if (sum(matrizFilas[i])>= evitable):\n",
    "            cont += 1\n",
    "        if (sum(matriz_cols[i]) >= evitable):\n",
    "            cont += 1\n",
    "\n",
    "    if (suma_diag1>=evitable or suma_diag2>=evitable):\n",
    "        cont+=1\n",
    "\n",
    "    return cont\n",
    "\n",
    "def valoresBajosCercanos(cromosoma, matrizFilas, matriz_cols, n):\n",
    "    cont=0\n",
    "    valorAlto=n*n\n",
    "    evitable=0\n",
    "    suma_diag1=0\n",
    "    suma_diag2=0\n",
    "    for i in range(0, n):\n",
    "        evitable +=valorAlto\n",
    "        valorAlto+=3\n",
    "\n",
    "    for i in range(0, n):\n",
    "        suma_diag1 += matrizFilas[i][i]\n",
    "        suma_diag2 += matrizFilas[i][n - i - 1]\n",
    "        if (sum(matrizFilas[i])<= evitable):\n",
    "            cont += 1\n",
    "        if (sum(matriz_cols[i]) >= evitable):\n",
    "            cont += 1\n",
    "    if (suma_diag1>=evitable or suma_diag2>=evitable):\n",
    "        cont+=1\n",
    "    return cont\n",
    "\n",
    "def mutar_cuad(cromosoma, n, prob):\n",
    "    índiceA = random.randint(0, n * n - 1)\n",
    "    índiceB = random.randint(0, n * n - 1)\n",
    "    if prob > random.uniform(0, 1):\n",
    "        cromosoma[índiceA], cromosoma[índiceB] = cromosoma[índiceB], cromosoma[índiceA]\n",
    "    return cromosoma\n",
    "# cruce pmx\n",
    "\n",
    "\n",
    "def pmx_aux(a,b, start, stop):\n",
    "    child = [None]*len(a)\n",
    "    # Copy a slice from first parent:\n",
    "    child[start:stop] = a[start:stop]\n",
    "    # Map the same slice in parent b to child using indices from parent a:\n",
    "    for ind,x in enumerate(b[start:stop]):\n",
    "        ind += start\n",
    "        if x not in child:\n",
    "            while child[ind] != None:\n",
    "                ind = b.index(a[ind])\n",
    "            child[ind] = x\n",
    "    # Copy over the rest from parent b\n",
    "    for ind,x in enumerate(child):\n",
    "        if x == None:\n",
    "            child[ind] = b[ind]\n",
    "    return child\n",
    "\n",
    "def pmx(a,b):\n",
    "    half = len(a) // 2\n",
    "    start = random.randint(0, len(a)-half)\n",
    "    stop = start + half\n",
    "    return pmx_aux(a,b,start,stop) , pmx_aux(b,a,start,stop)\n",
    "\n"
   ]
  },
  {
   "cell_type": "code",
   "execution_count": 191,
   "metadata": {},
   "outputs": [
    {
     "data": {
      "text/plain": [
       "8"
      ]
     },
     "execution_count": 191,
     "metadata": {},
     "output_type": "execute_result"
    }
   ],
   "source": [
    "fitness_cuadrado([4,3,8,9,5,1,2,7,6], 3)"
   ]
  },
  {
   "cell_type": "code",
   "execution_count": 192,
   "metadata": {},
   "outputs": [
    {
     "data": {
      "text/plain": [
       "([9, 8, 3, 4, 5, 6, 7, 2, 1], [1, 2, 7, 6, 5, 4, 3, 8, 9])"
      ]
     },
     "execution_count": 192,
     "metadata": {},
     "output_type": "execute_result"
    }
   ],
   "source": [
    "pmx([1,2,3,4,5,6,7,8,9],[9,8,7,6,5,4,3,2,1])"
   ]
  },
  {
   "cell_type": "code",
   "execution_count": 193,
   "metadata": {},
   "outputs": [
    {
     "data": {
      "text/plain": [
       "[[4, 3, 8], [9, 5, 1], [2, 7, 6]]"
      ]
     },
     "execution_count": 193,
     "metadata": {},
     "output_type": "execute_result"
    }
   ],
   "source": [
    "matriz_por_filas([4,3,8,9,5,1,2,7,6], 3)"
   ]
  },
  {
   "cell_type": "code",
   "execution_count": 194,
   "metadata": {},
   "outputs": [
    {
     "data": {
      "text/plain": [
       "[[1, 4, 7], [2, 5, 8], [3, 6, 9]]"
      ]
     },
     "execution_count": 194,
     "metadata": {},
     "output_type": "execute_result"
    }
   ],
   "source": [
    "matriz_por_cols([x for x in range(1,10)], 3)"
   ]
  },
  {
   "cell_type": "code",
   "execution_count": 195,
   "metadata": {},
   "outputs": [
    {
     "data": {
      "text/plain": [
       "8"
      ]
     },
     "execution_count": 195,
     "metadata": {},
     "output_type": "execute_result"
    }
   ],
   "source": [
    "fitness_cuadrado([4,3,8,9,5,1,2,7,6], 3)"
   ]
  },
  {
   "cell_type": "code",
   "execution_count": 196,
   "metadata": {},
   "outputs": [],
   "source": [
    "n1 = 3\n",
    "l = [x for x in range(1, n1*n1 + 1)]\n",
    "def fit1_cuad(cromosoma):\n",
    "    return fitness_cuadrado(cromosoma, n1)\n",
    "def mutar1_cuad(cromosoma, prob):\n",
    "    return mutar_cuad(cromosoma,n1, prob)\n",
    "def decod1_cuad(cromosoma):\n",
    "    return matriz_por_filas(cromosoma,n1)\n",
    "def cruzar_cuad(cromosoma1, cromosoma2):\n",
    "    return pmx(cromosoma1, cromosoma2)\n"
   ]
  },
  {
   "cell_type": "code",
   "execution_count": 197,
   "metadata": {},
   "outputs": [
    {
     "data": {
      "text/plain": [
       "9"
      ]
     },
     "execution_count": 197,
     "metadata": {},
     "output_type": "execute_result"
    }
   ],
   "source": [
    "len(l)"
   ]
  },
  {
   "cell_type": "code",
   "execution_count": 198,
   "metadata": {},
   "outputs": [],
   "source": [
    "pCuad1 = ProblemaGenetico(l, decod1_cuad, mutar1_cuad, cruzar_cuad,fit1_cuad,n1*n1)"
   ]
  },
  {
   "cell_type": "code",
   "execution_count": 199,
   "metadata": {},
   "outputs": [],
   "source": [
    "def poblacion_inicial_cuad(problema_genetico, size):\n",
    "    l = []\n",
    "    for i in range(0,size):\n",
    "        l.append(i+1)\n",
    "    for i in range(size):\n",
    "        num1=random.randint(0,size-1)\n",
    "        num2=random.randint(0,size-1)\n",
    "        a = l [num1]\n",
    "        b = l [num2]\n",
    "        l [num1]=b\n",
    "        l [num2]=a\n",
    "    return l"
   ]
  },
  {
   "cell_type": "code",
   "execution_count": 200,
   "metadata": {},
   "outputs": [
    {
     "data": {
      "text/plain": [
       "[1, 2, 3, 5, 6, 4, 7, 9, 8]"
      ]
     },
     "execution_count": 200,
     "metadata": {},
     "output_type": "execute_result"
    }
   ],
   "source": [
    "poblacion_inicial_cuad(pCuad1,9)"
   ]
  },
  {
   "cell_type": "code",
   "execution_count": 201,
   "metadata": {},
   "outputs": [],
   "source": [
    "def poblacion_inicial(problema_genetico, size):\n",
    "    l = []\n",
    "    for i in range(size):\n",
    "        l.append(poblacion_inicial_cuad(problema_genetico, problema_genetico.longitud_individuos))\n",
    "    return l"
   ]
  },
  {
   "cell_type": "code",
   "execution_count": 202,
   "metadata": {},
   "outputs": [
    {
     "data": {
      "text/plain": [
       "[[2, 8, 4, 1, 5, 6, 7, 3, 9],\n",
       " [6, 9, 2, 7, 4, 3, 8, 5, 1],\n",
       " [4, 2, 8, 1, 5, 3, 7, 9, 6],\n",
       " [5, 9, 4, 8, 1, 2, 7, 6, 3],\n",
       " [5, 7, 3, 6, 4, 8, 9, 1, 2],\n",
       " [2, 6, 1, 3, 5, 8, 4, 7, 9],\n",
       " [8, 5, 7, 4, 1, 2, 6, 9, 3],\n",
       " [5, 1, 6, 4, 3, 2, 8, 7, 9],\n",
       " [5, 7, 4, 6, 3, 2, 1, 8, 9],\n",
       " [1, 3, 4, 9, 7, 2, 5, 8, 6]]"
      ]
     },
     "execution_count": 202,
     "metadata": {},
     "output_type": "execute_result"
    }
   ],
   "source": [
    "poblacion_inicial(pCuad1,10)"
   ]
  },
  {
   "cell_type": "code",
   "execution_count": 203,
   "metadata": {},
   "outputs": [
    {
     "data": {
      "text/plain": [
       "([[7, 2, 6], [3, 4, 8], [5, 9, 1]], 6)"
      ]
     },
     "execution_count": 203,
     "metadata": {},
     "output_type": "execute_result"
    }
   ],
   "source": [
    "algoritmo_genetico(pCuad1, 9, max, 100, 50,0.7,0.1 )"
   ]
  },
  {
   "cell_type": "code",
   "execution_count": 204,
   "metadata": {},
   "outputs": [
    {
     "data": {
      "text/plain": [
       "([[6, 1, 8], [7, 5, 3], [2, 9, 4]], 8)"
      ]
     },
     "execution_count": 204,
     "metadata": {},
     "output_type": "execute_result"
    }
   ],
   "source": [
    "algoritmo_genetico(pCuad1, 9, max, 100, 50,0.7,0.1 )"
   ]
  },
  {
   "cell_type": "code",
   "execution_count": 206,
   "metadata": {},
   "outputs": [
    {
     "data": {
      "text/plain": [
       "([[8, 3, 4], [1, 5, 9], [6, 7, 2]], 8)"
      ]
     },
     "execution_count": 206,
     "metadata": {},
     "output_type": "execute_result"
    }
   ],
   "source": [
    "algoritmo_genetico(pCuad1, 9, max, 100, 50,0.7,0.1 )"
   ]
  },
  {
   "cell_type": "code",
   "execution_count": 210,
   "metadata": {},
   "outputs": [
    {
     "data": {
      "text/plain": [
       "([[5, 3, 7], [9, 4, 2], [1, 8, 6]], 6)"
      ]
     },
     "execution_count": 210,
     "metadata": {},
     "output_type": "execute_result"
    }
   ],
   "source": [
    "algoritmo_genetico(pCuad1, 9, max, 100, 50,0.7,0.1 )"
   ]
  },
  {
   "cell_type": "code",
   "execution_count": 225,
   "metadata": {},
   "outputs": [
    {
     "data": {
      "text/plain": [
       "([[1, 7, 2], [6, 5, 4], [8, 3, 9]], 4)"
      ]
     },
     "execution_count": 225,
     "metadata": {},
     "output_type": "execute_result"
    }
   ],
   "source": [
    "algoritmo_genetico(pCuad1, 9, max, 300, 50,0.7,0.1 )"
   ]
  },
  {
   "cell_type": "code",
   "execution_count": 223,
   "metadata": {},
   "outputs": [
    {
     "data": {
      "text/plain": [
       "([[8, 4, 3], [1, 5, 9], [7, 6, 2]], 5)"
      ]
     },
     "execution_count": 223,
     "metadata": {},
     "output_type": "execute_result"
    }
   ],
   "source": [
    "algoritmo_genetico(pCuad1, 10, max, 100, 70,0.8,0.1 )"
   ]
  },
  {
   "cell_type": "markdown",
   "metadata": {},
   "source": [
    "### Ejercicio 9\n",
    "Se quiere organizar una **jornada de la informática** en la Facultad. \n",
    "El Vicedecano necesita organizar el horario y la asignación de profesores para n actividades temáticas, a<sub>1</sub>, ... , a<sub>n</sub>.  Dispone de m profesores p<sub>1</sub>, . . . , p<sub>m</sub> con distintos niveles de cualificación.\n",
    "\n",
    "No todos los profesores tienen los conocimientos para encargarse de todas las actividades. \n",
    "El mismo profesor p<sub>i</sub> puede encargarse de distintas actividades (que se le remunerarán convenientemente) pero no podemos asignar al mismo profesor dos actividades que se impartan simultáneamente. \n",
    "Cada actividad puede durar un tiempo diferente dependiendo del profesor que la organice. Si un profesor p<sub>i</sub> puede realizar la actividad a<sub>j</sub>, entonces denotaremos por t<sub>ij</sub> el tiempo que p<sub>i</sub> tardará en realizar la actividad a<sub>j</sub>.\n",
    "\n",
    "Existen dependencias entre los contenidos de las actividades lo que obliga a incluir algunas restricciones temporales, es decir, algunas actividades hay que realizarlas cuando otras ya hayan terminado. Esto es, tenemos un conjunto de restricciones que indican que a<sub>i</sub> se debe realizar antes de a<sub>j</sub>. Por ejemplo, _El taller de iniciación a Scratch_ se debe realizar antes que el laboratorio de desarrollo de videojuegos con Scratch.\n",
    "\n",
    "Se pide dar una solución al problema de decidir, para cada actividad, qué profesor la realizará y en qué momento se debe ofertar la actividad para que, al ﬁnal de la jornada, se puedan realizar todas las actividades con cuidado de cumplir los prerrequisitos (restricciones temporales) y el conjunto de actividades se realice en el menor tiempo posible."
   ]
  },
  {
   "cell_type": "markdown",
   "metadata": {},
   "source": [
    "## Representación"
   ]
  },
  {
   "attachments": {
    "VVV.png": {
     "image/png": "[encoded data removed]"
    }
   },
   "cell_type": "markdown",
   "metadata": {},
   "source": [
    "![VVV.png](attachment:VVV.png)"
   ]
  },
  {
   "cell_type": "markdown",
   "metadata": {},
   "source": [
    "### Representación\n",
    "El cromosoma representa las actividades y sus profesores asignados.\n",
    "Se tiene luego una matriz que representa los tiempos que tiene cada profesor de acuerdo a una actividad. Las filas son los profesores y las columnas las actividades.\n"
   ]
  },
  {
   "cell_type": "code",
   "execution_count": 178,
   "metadata": {},
   "outputs": [],
   "source": [
    "n=10\n",
    "m= 6\n",
    "cromosoma =  [0 for x in range(0, n)]  # Rellena con profesores de 0..m en activiades de 0..n\n",
    "\n",
    "mat = [[10, 1, 0, 5, 0,  8, 0, 0, 0, 2],  #Profesores son filas\n",
    "       [ 0, 2, 0, 6, 0,  0, 5, 0, 5, 3],  #Actividades son columnas\n",
    "       [ 7, 0, 3, 0, 8,  0, 6, 7, 4, 0],\n",
    "       [ 0, 0, 4, 5, 9, 10, 5, 8, 3, 0],\n",
    "       [ 0, 1, 3, 0, 0,  0, 0, 0, 3, 0],\n",
    "       [ 6, 0, 5, 7, 8,  7, 7, 9, 4, 5]]\n"
   ]
  },
  {
   "cell_type": "markdown",
   "metadata": {},
   "source": [
    "Para guiar al algoritmo genético creamos una función fitness que devuelve 2 resultados distintos dependiendo de la situación:\n",
    "Casos:\n",
    " 1.- Todos los profesores asignados a cada actividad son capaces de enseñarla (En la matriz no tiene '0' en ese valor)\n",
    " 2.- Existe algún profesor que no es capaz de enseñar la actividad asignada (En la matriz tiene '0' en ese valor)\n",
    " \n",
    " Desarrollamos dos funciones fitness cuando hicimos este ejercicio, la primera era para el caso donde no hay dependencias entre las tareas \"fitness9\" y \"fitness9_2\" es con estas dependencias. \n",
    " \n",
    " Para estos dos casos se utiliza un valor especial para penalizar el valor de fitness para ese cromosoma si alguno de los valores devueltos por la matriz para un profesor y actividad es igual a '0'. En este caso se utiliza el valor de la siguiente función \"peorTiempoMatriz\" que devuelve el peor tiempo que hay en esa matriz por algún profesor en alguna actividad. De esta manera se suma ese tiempo en vez de sumar el valor '0' en la suma de los tiempos totales. Así cuando minimizamos, los mejores cromosomas serán aquellos dónde las actividades si son hechas por un profesor que las puede enseñar."
   ]
  },
  {
   "cell_type": "code",
   "execution_count": 95,
   "metadata": {},
   "outputs": [],
   "source": [
    "def peorTiempoMatriz(matriz, n, m):\n",
    "    ma = -1\n",
    "    for i in range(0,m):\n",
    "        for j in range(0,n):\n",
    "            if ma==-1:\n",
    "                ma= mat[i][j]\n",
    "            ma = max(ma, mat[i][j])\n",
    "    return ma\n",
    "\n",
    "peorTiempo = peorTiempoMatriz(mat, n,m)"
   ]
  },
  {
   "cell_type": "markdown",
   "metadata": {},
   "source": [
    "De esta manera el valor \"peorTiempo\" es el peor tiempo que tiene un profesor en una actividad en este ejemplo"
   ]
  },
  {
   "cell_type": "code",
   "execution_count": 96,
   "metadata": {},
   "outputs": [
    {
     "data": {
      "text/plain": [
       "10"
      ]
     },
     "execution_count": 96,
     "metadata": {},
     "output_type": "execute_result"
    }
   ],
   "source": [
    "peorTiempo"
   ]
  },
  {
   "cell_type": "markdown",
   "metadata": {},
   "source": [
    "### Decodifica\n",
    "La decodificación recibe un cromosoma y devuelve una lista del tamaño de las actividades con los tiempos de cada actividad dependiendo del profesor asignado. Si el profesor no es capaz de realizar esta actividad, inserta un -1 en esa actividad. Si es capaz, inserta el tiempo. Lo decodificamos así ya que esta es la información importante que necesita fitness para otorgarle el valor de calidad a la solución"
   ]
  },
  {
   "cell_type": "code",
   "execution_count": 97,
   "metadata": {},
   "outputs": [],
   "source": [
    "def decodifica(cromosoma, n, matriz):\n",
    "    l = []\n",
    "    for i in range(n):\n",
    "        ##i es la actividad, el valor \"prof\" es el profesor\n",
    "        prof = cromosoma[i]\n",
    "        if mat[prof][i] > 0:\n",
    "            l.append(prof)\n",
    "        else:\n",
    "            l.append(-1)\n",
    "    return l  ##Devuelve la lista de actividades con sus profesores, si la actividad no se puede hacer con ese profesor\n",
    "               ##, devuelve -1"
   ]
  },
  {
   "cell_type": "code",
   "execution_count": 98,
   "metadata": {},
   "outputs": [
    {
     "data": {
      "text/plain": [
       "[0, 1, -1, 0, 3, -1, 5, 3, 4, 1]"
      ]
     },
     "execution_count": 98,
     "metadata": {},
     "output_type": "execute_result"
    }
   ],
   "source": [
    "decodifica([0, 1, 1, 0, 3, 4, 5, 3, 4, 1], n,mat)"
   ]
  },
  {
   "cell_type": "markdown",
   "metadata": {},
   "source": [
    "### Fitness:  \n",
    "#### Sin dependencias entre actividades"
   ]
  },
  {
   "cell_type": "markdown",
   "metadata": {},
   "source": [
    "La función fitness primero guarda todos los tiempos de los profesores que están en el cromosoma, sumando sus tiempos dependiendo de la actividad que tienen asignada. \n",
    "Todos estos tiempos se guardan en \"tiempoProf\".\n",
    "\n",
    "Si recorriendo el cromosoma encuentra que una actividad tiene asignada a un profesor que no puede dar esa actividad, aumenta el contador \"contIncorrectas\" que es el contador de asignaciones incorrectas. \n",
    "\n",
    "Luego recorre el array de tiempos de los profesores y guarda el valor maximo en ese array.\n",
    "\n",
    "Penalización p: Finalmente multiplica el valor \"contIncorrectas\" con \"peorTiempo\" que es el valor que utilizamos para penalizar este cromosoma cuándo asigna mal a los profesores. Se multiplica por el contador ya que es la cantidad de veces que asignó mal a un profesor. \n",
    "\n",
    "Si asignó todo bien, devuelve el valor q que es el valor del tiempo del profesor que tiene más tiempo asignado en esta jornada de informática. En cambio, si existen profesores mal asignados, devuelve el mismo valor q pero sumado con la penalización p."
   ]
  },
  {
   "cell_type": "code",
   "execution_count": 176,
   "metadata": {},
   "outputs": [],
   "source": [
    "##Sin restricciones\n",
    "def fitness9(cromosoma, n, matriz, peorTiempo):\n",
    "    profesores = decodifica(cromosoma, n, matriz)\n",
    "    tiempoProf= [0 for x in range(0, m)]\n",
    "    q=0\n",
    "    contIncorrectas=0\n",
    "    contRes =0\n",
    "    for i in range(0, n):\n",
    "        ##i es la actividad, el valor \"prof\" es el profesor\n",
    "        if profesores[i]<0:\n",
    "            contIncorrectas += 1\n",
    "        prof = cromosoma[i]\n",
    "        tiempoProf[prof] += mat[prof][i]\n",
    "        \n",
    "    for i in range(0, m):\n",
    "        q = max(q, tiempoProf[i])   ##el profesor que termino de ultimo\n",
    "                \n",
    "    p = contIncorrectas*peorTiempo\n",
    "    \n",
    "    if contIncorrectas>0:\n",
    "        return  q + p\n",
    "    else:\n",
    "        return q\n"
   ]
  },
  {
   "cell_type": "markdown",
   "metadata": {},
   "source": [
    "### Cruce"
   ]
  },
  {
   "cell_type": "markdown",
   "metadata": {},
   "source": [
    "Cruzamos los cromosomas en un punto de cruce pero este punto será dado al azar con random.randint"
   ]
  },
  {
   "cell_type": "markdown",
   "metadata": {},
   "source": [
    " El cruce y su probabilidad de aplicación constituyen aspectos críticos en el diseño del algoritmo. Esto se debe en general a que los espacios de búsqueda resultantes presentan características indeseables, a medida que la función fitness va guiando, con un adecuado cruce los cromosomas que se van obtiendo son cada vez mejor y el cruce terminará dando a lugar a correcciones sistemáticas. Esto es así ya que puede que obtengamos lo mejor de cada padre, dependiendo de la probabilidad."
   ]
  },
  {
   "cell_type": "code",
   "execution_count": 100,
   "metadata": {},
   "outputs": [],
   "source": [
    "import random\n",
    "def fun_cruzar9(cromosoma1, cromosoma2):\n",
    "    \"\"\"Cruza los cromosomas por la mitad\"\"\"\n",
    "    l = len(cromosoma1)\n",
    "    p = random.randint(0,l-1)\n",
    "    l1 = len(cromosoma1)\n",
    "    l2 = len(cromosoma2)\n",
    "    cruce1 = cromosoma1[0:p]+cromosoma2[p:l2]\n",
    "    cruce2 = cromosoma2[0:p]+cromosoma1[p:l1]\n",
    "    return [cruce1,cruce2]"
   ]
  },
  {
   "cell_type": "code",
   "execution_count": 101,
   "metadata": {},
   "outputs": [
    {
     "data": {
      "text/plain": [
       "[[1, 2, -3, -4, -5, -6], [-1, -2, 3, 4, 5, 6]]"
      ]
     },
     "execution_count": 101,
     "metadata": {},
     "output_type": "execute_result"
    }
   ],
   "source": [
    "fun_cruzar9([1,2,3,4,5,6],[-1,-2,-3,-4,-5,-6])"
   ]
  },
  {
   "cell_type": "markdown",
   "metadata": {},
   "source": [
    "### Mutación"
   ]
  },
  {
   "cell_type": "markdown",
   "metadata": {},
   "source": [
    "La mutación que necesitamos en este problema incluye cambiar la posición de un profesor para una actividad; nos introduce diversidad a la población, más cómo los mejores cromosomas son los que sobreviven, los profesores que van quedando pueden ser aquellos con los mejores tiempos en varias situaciones, por lo cuál pueden dar a lugar a mutaciones ventajosas."
   ]
  },
  {
   "cell_type": "code",
   "execution_count": 102,
   "metadata": {},
   "outputs": [],
   "source": [
    "def fun_mutar9(cromosoma,prob, n):\n",
    "    índiceA = random.randint(0, n -1)\n",
    "    índiceB = random.randint(0, n -1)\n",
    "    if prob > random.uniform(0, 1):\n",
    "        cromosoma[índiceA], cromosoma[índiceB] = cromosoma[índiceB], cromosoma[índiceA]\n",
    "    return cromosoma"
   ]
  },
  {
   "cell_type": "markdown",
   "metadata": {},
   "source": [
    "### Operadores Genéticos \n",
    "#### para el problema sin restricciones"
   ]
  },
  {
   "cell_type": "code",
   "execution_count": 179,
   "metadata": {},
   "outputs": [],
   "source": [
    "def fit1_9(cromosoma):\n",
    "    return fitness9(cromosoma, n, mat, peorTiempo)\n",
    "def mutar9(cromosoma, prob):\n",
    "    return fun_mutar9(cromosoma, prob,n)\n",
    "def decod9(cromosoma):\n",
    "    return decodifica(cromosoma, n, mat)\n",
    "def cruza9(cromosoma1, cromosoma2):\n",
    "    return fun_cruzar9(cromosoma1, cromosoma2)\n"
   ]
  },
  {
   "cell_type": "markdown",
   "metadata": {},
   "source": [
    "### Población Inicial"
   ]
  },
  {
   "cell_type": "markdown",
   "metadata": {},
   "source": [
    "Para generar una población inicial diversa, hacemos que se escojan al azar de entre los m profesores y se reparten en el array de actividades. Esto se hace unas \"size\" veces. Esto produce una buena aleatoridad a la población."
   ]
  },
  {
   "cell_type": "code",
   "execution_count": 180,
   "metadata": {},
   "outputs": [],
   "source": [
    "def poblacion_inicial(problema_genetico, size):\n",
    "    l = []\n",
    "    for i in range(size):\n",
    "        l.append([random.choice([x for x in range(0, m)]) for i in range(problema_genetico.longitud_individuos)])\n",
    "    return l"
   ]
  },
  {
   "cell_type": "markdown",
   "metadata": {},
   "source": [
    "## Ejecución del Problema "
   ]
  },
  {
   "cell_type": "code",
   "execution_count": 181,
   "metadata": {},
   "outputs": [],
   "source": [
    "p9 = ProblemaGenetico([x for x in range(0, m)], decod9, mutar9, cruza9,fit1_9,n)"
   ]
  },
  {
   "cell_type": "code",
   "execution_count": 182,
   "metadata": {},
   "outputs": [
    {
     "data": {
      "text/plain": [
       "[[0, 3, 1, 1, 4, 4, 3, 4, 1, 2],\n",
       " [3, 0, 4, 0, 4, 2, 2, 5, 3, 0],\n",
       " [3, 5, 3, 0, 0, 4, 5, 1, 5, 3],\n",
       " [0, 2, 5, 0, 0, 5, 0, 1, 1, 5],\n",
       " [3, 3, 5, 2, 0, 5, 3, 2, 2, 2],\n",
       " [5, 1, 1, 1, 1, 5, 1, 2, 3, 3],\n",
       " [2, 1, 3, 3, 5, 1, 1, 5, 4, 0],\n",
       " [5, 1, 5, 1, 2, 5, 4, 5, 0, 5],\n",
       " [5, 2, 1, 2, 0, 5, 1, 2, 5, 4],\n",
       " [4, 0, 3, 0, 5, 1, 2, 4, 4, 1]]"
      ]
     },
     "execution_count": 182,
     "metadata": {},
     "output_type": "execute_result"
    }
   ],
   "source": [
    "poblacion_inicial(p9, 10)"
   ]
  },
  {
   "cell_type": "code",
   "execution_count": 183,
   "metadata": {
    "scrolled": true
   },
   "outputs": [
    {
     "data": {
      "text/plain": [
       "([5, 1, 4, 0, 2, 5, 1, 2, 4, 5], 18)"
      ]
     },
     "execution_count": 183,
     "metadata": {},
     "output_type": "execute_result"
    }
   ],
   "source": [
    "algoritmo_genetico(p9, 10, min, 50, 10,0.7,0.1 )"
   ]
  },
  {
   "cell_type": "code",
   "execution_count": 160,
   "metadata": {},
   "outputs": [
    {
     "data": {
      "text/plain": [
       "([5, 1, 4, 3, 5, 0, 3, 3, 3, 5], 21)"
      ]
     },
     "execution_count": 160,
     "metadata": {},
     "output_type": "execute_result"
    }
   ],
   "source": [
    "algoritmo_genetico(p9, 50, min, 100, 50,0.7,0.1 )"
   ]
  },
  {
   "cell_type": "code",
   "execution_count": 88,
   "metadata": {},
   "outputs": [
    {
     "data": {
      "text/plain": [
       "([2, 4, 4, 3, 5, 0, 2, 3, 5, 0], 13)"
      ]
     },
     "execution_count": 88,
     "metadata": {},
     "output_type": "execute_result"
    }
   ],
   "source": [
    "algoritmo_genetico(p9, 50, min, 100, 50,0.7,0.1 )"
   ]
  },
  {
   "cell_type": "code",
   "execution_count": 89,
   "metadata": {},
   "outputs": [
    {
     "data": {
      "text/plain": [
       "([0, 4, 3, 0, 5, 3, 2, 5, 3, 0], 17)"
      ]
     },
     "execution_count": 89,
     "metadata": {},
     "output_type": "execute_result"
    }
   ],
   "source": [
    "algoritmo_genetico(p9, 50, min, 100, 50,0.7,0.1 )"
   ]
  },
  {
   "cell_type": "code",
   "execution_count": 90,
   "metadata": {},
   "outputs": [
    {
     "data": {
      "text/plain": [
       "([2, 4, 2, 0, 3, 0, 3, 5, 2, 0], 15)"
      ]
     },
     "execution_count": 90,
     "metadata": {},
     "output_type": "execute_result"
    }
   ],
   "source": [
    "algoritmo_genetico(p9, 50, min, 100, 50,0.7,0.1 )"
   ]
  },
  {
   "cell_type": "code",
   "execution_count": 91,
   "metadata": {},
   "outputs": [
    {
     "data": {
      "text/plain": [
       "([5, 1, 2, 5, 2, 0, 1, 3, 1, 0], 13)"
      ]
     },
     "execution_count": 91,
     "metadata": {},
     "output_type": "execute_result"
    }
   ],
   "source": [
    "algoritmo_genetico(p9, 50, min, 100, 50,0.7,0.1 )"
   ]
  },
  {
   "cell_type": "code",
   "execution_count": 92,
   "metadata": {},
   "outputs": [
    {
     "data": {
      "text/plain": [
       "([5, 4, 4, 3, 3, 5, 2, 2, 2, 5], 18)"
      ]
     },
     "execution_count": 92,
     "metadata": {},
     "output_type": "execute_result"
    }
   ],
   "source": [
    "algoritmo_genetico(p9, 50, min, 100, 50,0.7,0.1 )"
   ]
  },
  {
   "cell_type": "markdown",
   "metadata": {},
   "source": [
    "### Fitness:  \n",
    "#### Con dependencias entre actividades"
   ]
  },
  {
   "cell_type": "code",
   "execution_count": 87,
   "metadata": {},
   "outputs": [],
   "source": [
    "n = 10\n",
    "m= 6\n",
    "graph = {\n",
    "   0  : [1,2,3],\n",
    "   1  : [5,4],\n",
    "   2  : [9],\n",
    "   3  : [8],\n",
    "   4  : [6,7],\n",
    "   5  : [9],\n",
    "   6  : [8,9],\n",
    "   7  : [8],\n",
    "   8  : [],\n",
    "   9  : [],\n",
    "}\n",
    "\n",
    "mat = [[10, 1, 0, 5, 0,  8, 0, 0, 0, 2],  #Profesores son filas\n",
    "       [ 0, 2, 0, 6, 0,  0, 5, 0, 5, 3],  #Actividades son columnas\n",
    "       [ 7, 0, 3, 0, 8,  0, 6, 7, 4, 0],\n",
    "       [ 0, 0, 4, 5, 9, 10, 5, 8, 3, 0],\n",
    "       [ 0, 1, 3, 0, 0,  0, 0, 0, 3, 0],\n",
    "       [ 6, 0, 5, 7, 8,  7, 7, 9, 4, 5]]\n",
    "\n",
    "peorTiempo = peorTiempoMatriz(mat, n,m)\n"
   ]
  },
  {
   "cell_type": "markdown",
   "metadata": {},
   "source": [
    "### Algoritmos para operar las dependencias"
   ]
  },
  {
   "cell_type": "markdown",
   "metadata": {},
   "source": [
    "Como las dependencias se representan con un grafo, lo recorremos con el algoritmo BFS en la función fitness para calcular los tiempos que tendrán algunas actividades dependiendo de las restricciones.\n",
    "\n",
    "El último paso del algoritmo \"bfsTiempo\", tranforma los datos que se obtuvieron en \"tiemposF\" y se tranforman en el array \"salida\". Este array guarda el mejor tiempo con el que se puede ordenar las actividades según las restricciones."
   ]
  },
  {
   "cell_type": "code",
   "execution_count": 88,
   "metadata": {},
   "outputs": [],
   "source": [
    "def bfsTiempo(visited, graph, node, tiempoAct, tiemposF):\n",
    "    queue = []\n",
    "    salida = []\n",
    "    visited.append(node)\n",
    "    queue.append(node)\n",
    "    tiemposF[node].append(tiempoAct[node])\n",
    "    while queue:\n",
    "        s = queue.pop(0)\n",
    "        t = min(tiemposF[s])\n",
    "        for neighbour in graph[s]:\n",
    "            if neighbour not in visited:\n",
    "                visited.append(neighbour)\n",
    "                queue.append(neighbour)\n",
    "            else:\n",
    "                if neighbour<s:\n",
    "                    tiemposF[neighbour]=[]\n",
    "            tiemposF[neighbour].append(t + tiempoAct[neighbour])\n",
    "\n",
    "    for i in tiemposF:\n",
    "        if len(i)==0:\n",
    "            salida.append(0)\n",
    "        else :\n",
    "            salida.append(min(i))\n",
    "    return (visited, salida, tiemposF)"
   ]
  },
  {
   "cell_type": "markdown",
   "metadata": {},
   "source": [
    "Como es un grafo recorrido con el algoritmo BFS, este puede que no se recorra completamente ya que no todos los vértices están conectados entre sí; por ello se hace la siguiente función que es la que se encarga de llamar a \"bfsTiempo\" para ir recorriendo cada vértice. Si no fue recorrido, no se agregan elementos a las listas y sólo se agregan posibles valores a \"tiemposF\".\n",
    "\n",
    "El coste de este algoritmo es el mismo al BFS, es decir, O(V + A)\n",
    "- V = número de vértices\n",
    "- A = número de aristas"
   ]
  },
  {
   "cell_type": "code",
   "execution_count": 89,
   "metadata": {},
   "outputs": [],
   "source": [
    "def recorrerBFS(graph, tiempoAct, n):\n",
    "    visited = []\n",
    "    salida =[]\n",
    "    tiemposF = [ []for i in tiempoAct]\n",
    "    for i in range (0,n):\n",
    "        if i not in visited:\n",
    "            visited, salida , tiemposF= bfsTiempo(visited , graph, i, tiempoAct, tiemposF)\n",
    "    return salida"
   ]
  },
  {
   "cell_type": "markdown",
   "metadata": {},
   "source": [
    "### Función fitness"
   ]
  },
  {
   "cell_type": "markdown",
   "metadata": {},
   "source": [
    "Realiza lo mismo que la función fitness, más en este caso se llama a la función \"recorrerBFS\" y luego los valores de su resultado \"tiemposF\" se comparan con los tiempos máximos al sumar los tiempos de cada uno de los profesores en todas las actividades en las que participan. El tiempo máximo entre estos dos array, es el valor q.\n",
    "\n",
    "q será entonces el menor tiempo en el que se puede realizar estas actividades con estos profesores. \n",
    "\n",
    "Las mismas penalizaciones que se hicieron en la anterior función fitness se usan en esta misma función."
   ]
  },
  {
   "cell_type": "code",
   "execution_count": 322,
   "metadata": {},
   "outputs": [],
   "source": [
    "##Con restricciones\n",
    "def fitness9_2(cromosoma, n, m, matriz, peorTiempo):\n",
    "    profesores = decodifica(cromosoma, n, matriz)\n",
    "    contIncorrectas =0\n",
    "    tiempoProf = [0 for x in range(0, m)]\n",
    "    tiemposAct = [0 for i in range(0,n)]\n",
    "    for i in range(0, n):\n",
    "        if profesores[i] < 0:\n",
    "            contIncorrectas +=1\n",
    "        prof = cromosoma[i]\n",
    "        tiemposAct[i] = mat[prof][i]\n",
    "        tiempoProf[prof] +=mat[prof][i]\n",
    "\n",
    "    tiemposF = recorrerBFS(graph, tiemposAct, n)\n",
    "\n",
    "\n",
    "    q = max(max(tiempoProf),max(tiemposF))\n",
    "\n",
    "    p = contIncorrectas * peorTiempo\n",
    "    if contIncorrectas > 0:\n",
    "        return q + p\n",
    "    else:\n",
    "        return q"
   ]
  },
  {
   "cell_type": "markdown",
   "metadata": {},
   "source": [
    "### Operadores Genéticos \n",
    "#### para el problema con restricciones"
   ]
  },
  {
   "cell_type": "code",
   "execution_count": 185,
   "metadata": {},
   "outputs": [],
   "source": [
    "def fit1_9R(cromosoma):\n",
    "    return fitness9_2(cromosoma, n,m, mat, peorTiempo)\n",
    "def mutar9(cromosoma, prob):\n",
    "    return fun_mutar9(cromosoma, prob, n)\n",
    "def decod9(cromosoma):\n",
    "    return decodifica(cromosoma, n, mat)\n",
    "def cruza9(cromosoma1, cromosoma2):\n",
    "    return fun_cruzar9(cromosoma1, cromosoma2)"
   ]
  },
  {
   "cell_type": "markdown",
   "metadata": {},
   "source": [
    "## Ejecución del Problema "
   ]
  },
  {
   "cell_type": "code",
   "execution_count": 186,
   "metadata": {},
   "outputs": [],
   "source": [
    "p9R = ProblemaGenetico([x for x in range(0, m)], decod9, mutar9, cruza9,fit1_9R,n)"
   ]
  },
  {
   "cell_type": "code",
   "execution_count": 188,
   "metadata": {},
   "outputs": [
    {
     "data": {
      "text/plain": [
       "([2, 1, 4, 1, 3, 5, 1, 2, 5, 1], 25)"
      ]
     },
     "execution_count": 188,
     "metadata": {},
     "output_type": "execute_result"
    }
   ],
   "source": [
    "algoritmo_genetico(p9R, 10, min, 50, 10,0.7,0.1 )"
   ]
  },
  {
   "cell_type": "code",
   "execution_count": 168,
   "metadata": {},
   "outputs": [
    {
     "data": {
      "text/plain": [
       "([1, 0, 3, 0, 3, 3, 3, 2, 1, 0], 27)"
      ]
     },
     "execution_count": 168,
     "metadata": {},
     "output_type": "execute_result"
    }
   ],
   "source": [
    "algoritmo_genetico(p9R, 10, min, 100, 10,0.7,0.1 )"
   ]
  },
  {
   "cell_type": "code",
   "execution_count": 169,
   "metadata": {},
   "outputs": [
    {
     "data": {
      "text/plain": [
       "([5, 0, 5, 1, 2, 0, 1, 3, 3, 0], 11)"
      ]
     },
     "execution_count": 169,
     "metadata": {},
     "output_type": "execute_result"
    }
   ],
   "source": [
    "algoritmo_genetico(p9, 50, min, 100, 50,0.7,0.1 )"
   ]
  },
  {
   "cell_type": "code",
   "execution_count": 57,
   "metadata": {},
   "outputs": [
    {
     "data": {
      "text/plain": [
       "([5, 4, 4, 3, 2, 5, 1, 3, 1, 1], 13)"
      ]
     },
     "execution_count": 57,
     "metadata": {},
     "output_type": "execute_result"
    }
   ],
   "source": [
    "algoritmo_genetico(p9, 50, min, 100, 50,0.7,0.1 )"
   ]
  },
  {
   "cell_type": "markdown",
   "metadata": {},
   "source": [
    "# Pruebas para el problema"
   ]
  },
  {
   "cell_type": "markdown",
   "metadata": {},
   "source": [
    "## -----------------------------------------------------------------------------------------------------------------------------"
   ]
  },
  {
   "cell_type": "markdown",
   "metadata": {},
   "source": [
    "## Prueba 1: \n",
    "#### Sin dependencias"
   ]
  },
  {
   "cell_type": "markdown",
   "metadata": {},
   "source": [
    "No hay dependencias entre las actividades (es decir, todas se podrían dar a la vez).  Todas las actividades misma duración (60 min).  Las restricciones indican lo que sabe dar cada profesor y, en esta prueba, se da una situación muy sencilla.\n",
    "\n",
    "Sabemos que Profesor1 sabe dar los talleres:  taller1, taller2  en 60 min (cada uno) y lo expresamos como:   (profesor1, taller1, 60) (profesor1, taller2, 60)\n",
    "\n",
    "El resto de profesores:\n",
    "\n",
    "(profesor2, taller3, 60) (profesor2, taller4, 60)\n",
    "\n",
    "(profesor3, taller5, 60) (profesor3, taller6, 60)\n",
    "\n",
    "(profesor4, taller7, 60) (profesor4, taller8, 60)\n",
    "\n",
    "(profesor5, taller9, 60) (profesor5, taller10, 60)\n",
    "\n",
    "Hay varias soluciones de tiempo mínimo que será de 120 minutos.  Modificando los tiempos de los talleres se debe ajustar el tiempo total de la solución."
   ]
  },
  {
   "cell_type": "markdown",
   "metadata": {},
   "source": [
    "<h3 style=\"color:orange;\">Algoritmo genético </h3>"
   ]
  },
  {
   "cell_type": "code",
   "execution_count": 209,
   "metadata": {},
   "outputs": [],
   "source": [
    "n=10\n",
    "m =5\n",
    "\n",
    "mat = [[60, 60, 0, 0, 0,  0, 0, 0, 0, 0],  #Profesores son filas\n",
    "       [ 0, 0, 60, 60, 0,  0, 0, 0, 0, 0],  #Actividades son columnas\n",
    "       [ 0, 0, 0, 0, 60,  60, 0, 0, 0, 0],\n",
    "       [ 0, 0, 0, 0, 0,  0, 60, 60, 0, 0],\n",
    "       [ 0, 0, 0, 0, 0,  0, 0, 0, 60, 60]]\n",
    "peorTiempo = peorTiempoMatriz(mat, n,m)"
   ]
  },
  {
   "cell_type": "code",
   "execution_count": 190,
   "metadata": {},
   "outputs": [],
   "source": [
    "# k:             número de participantes en los torneos de selección.\n",
    "# opt:           max ó min, dependiendo si el problema es de maximización o de minimización. \n",
    "# nGen:          número de generaciones (que se usa como condición de terminación)\n",
    "# size:          número de individuos en cada generación\n",
    "# prop_cruce:    proporción del total de la población que serán padres. \n",
    "# prob_mutación: probabilidad de realizar una mutación de un gen."
   ]
  },
  {
   "cell_type": "code",
   "execution_count": 191,
   "metadata": {},
   "outputs": [],
   "source": [
    "p1 = ProblemaGenetico([x for x in range(0, m)], decod9, mutar9, cruza9,fit1_9,n)"
   ]
  },
  {
   "cell_type": "markdown",
   "metadata": {},
   "source": [
    "Como queremos obtener las mejores soluciones, podemos:\n",
    "- aumentar la k del torneo, para tener una presión de selección elevada. Así se centra la búsqueda de las soluciones en un entorno próximo a las mejores soluciones actuales.\n",
    "- Aumentar el número de generaciones e individuos: para que vayan mutando y cruzando los padresy vamos obteniendo los óptimos hijos que se generan luego de pasar por la selección por torneo\n"
   ]
  },
  {
   "cell_type": "markdown",
   "metadata": {},
   "source": [
    "### Caso"
   ]
  },
  {
   "cell_type": "markdown",
   "metadata": {},
   "source": [
    "- 10 participantes en torneo\n",
    "- 50 generaciones\n",
    "- 10 número de individuos en cada generación\n",
    "\n",
    "La solución se queda en óptimos locales"
   ]
  },
  {
   "cell_type": "code",
   "execution_count": 192,
   "metadata": {},
   "outputs": [
    {
     "data": {
      "text/plain": [
       "([-1, -1, 1, 1, 2, -1, 3, 3, 4, -1], 360)"
      ]
     },
     "execution_count": 192,
     "metadata": {},
     "output_type": "execute_result"
    }
   ],
   "source": [
    "algoritmo_genetico(p1, 10, min, 50, 10,0.7,0.1 )"
   ]
  },
  {
   "cell_type": "code",
   "execution_count": 193,
   "metadata": {},
   "outputs": [
    {
     "data": {
      "text/plain": [
       "([0, -1, -1, 1, -1, 2, 3, -1, -1, 4], 360)"
      ]
     },
     "execution_count": 193,
     "metadata": {},
     "output_type": "execute_result"
    }
   ],
   "source": [
    "algoritmo_genetico(p1, 10, min, 50, 10,0.7,0.1 )"
   ]
  },
  {
   "cell_type": "markdown",
   "metadata": {},
   "source": [
    "### Caso\n",
    "- 10 participantes en torneo\n",
    "- 80 generaciones\n",
    "- 10 número de individuos en cada generación\n",
    "\n",
    "La solución puede obtenerse pero requiere varias ejecuciones del algoritmo"
   ]
  },
  {
   "cell_type": "code",
   "execution_count": 194,
   "metadata": {},
   "outputs": [
    {
     "data": {
      "text/plain": [
       "([0, -1, 1, 1, 2, 2, -1, 3, 4, 4], 240)"
      ]
     },
     "execution_count": 194,
     "metadata": {},
     "output_type": "execute_result"
    }
   ],
   "source": [
    "algoritmo_genetico(p1, 10, min, 80, 10,0.7,0.1 )"
   ]
  },
  {
   "cell_type": "code",
   "execution_count": 198,
   "metadata": {},
   "outputs": [
    {
     "data": {
      "text/plain": [
       "([0, 0, 1, 1, 2, 2, 3, 3, 4, 4], 120)"
      ]
     },
     "execution_count": 198,
     "metadata": {},
     "output_type": "execute_result"
    }
   ],
   "source": [
    "algoritmo_genetico(p1, 10, min, 80, 10,0.7,0.1 )"
   ]
  },
  {
   "cell_type": "markdown",
   "metadata": {},
   "source": [
    "### Caso\n",
    "- 10 participantes en torneo\n",
    "- 50 generaciones\n",
    "- 30 número de individuos en cada generación\n",
    "\n",
    "La solución puede obtenerse pero requiere varias ejecuciones del algoritmo"
   ]
  },
  {
   "cell_type": "code",
   "execution_count": 199,
   "metadata": {},
   "outputs": [
    {
     "data": {
      "text/plain": [
       "([0, 0, -1, -1, 2, 2, 3, 3, 4, 4], 240)"
      ]
     },
     "execution_count": 199,
     "metadata": {},
     "output_type": "execute_result"
    }
   ],
   "source": [
    "algoritmo_genetico(p1, 10, min, 50,30,0.7,0.1 )"
   ]
  },
  {
   "cell_type": "code",
   "execution_count": 202,
   "metadata": {},
   "outputs": [
    {
     "data": {
      "text/plain": [
       "([0, 0, 1, 1, 2, 2, 3, 3, 4, 4], 120)"
      ]
     },
     "execution_count": 202,
     "metadata": {},
     "output_type": "execute_result"
    }
   ],
   "source": [
    "algoritmo_genetico(p1, 10, min, 50,30,0.7,0.1 )"
   ]
  },
  {
   "cell_type": "markdown",
   "metadata": {},
   "source": [
    "### Caso\n",
    "- 10 participantes en torneo\n",
    "- 100 generaciones\n",
    "- 50 número de individuos en cada generación\n",
    "\n",
    "Debido a la cantidad de generaciones e individuos, el algoritmo alcanza la mejor solución siempre."
   ]
  },
  {
   "cell_type": "code",
   "execution_count": 197,
   "metadata": {},
   "outputs": [
    {
     "data": {
      "text/plain": [
       "([0, 0, 1, 1, 2, 2, 3, 3, 4, 4], 120)"
      ]
     },
     "execution_count": 197,
     "metadata": {},
     "output_type": "execute_result"
    }
   ],
   "source": [
    "algoritmo_genetico(p1, 10, min, 100, 50,0.7,0.1 )"
   ]
  },
  {
   "cell_type": "markdown",
   "metadata": {},
   "source": [
    "<h3 style=\"color:orange;\">Hill Climbing</h3>"
   ]
  },
  {
   "cell_type": "code",
   "execution_count": 236,
   "metadata": {},
   "outputs": [],
   "source": [
    "from search import *\n",
    "class JornadaInfo_problem(Problem):\n",
    "    \n",
    "    \"\"\" subclass of Problem to define various functions \"\"\"\n",
    "\n",
    "    def two_opt(self, state):\n",
    "        \"\"\" Neighbour generating function for Traveling Salesman Problem \"\"\"\n",
    "        neighbour_state = state[:]\n",
    "        p = random.randint(0,len(state)-1)\n",
    "        prof = random.randint(0,m-1)\n",
    "        neighbour_state[p] = prof\n",
    "        return neighbour_state\n",
    "\n",
    "    def actions(self, state):\n",
    "        \"\"\" action that can be excuted in given state \"\"\"\n",
    "        return [self.two_opt]\n",
    "\n",
    "    def result(self, state, action):\n",
    "        \"\"\"  result after applying the given action on the given state \"\"\"\n",
    "        return action(state)\n",
    "\n",
    "    def path_cost(self, c, state1, action, state2):\n",
    "        return fitness9(state2,n,  mat, peorTiempo )\n",
    "\n",
    "    def value(self, state):\n",
    "        \"\"\" value of path cost given negative for the given state \"\"\"\n",
    "        return self.path_cost(None, None, None, state)"
   ]
  },
  {
   "cell_type": "code",
   "execution_count": 237,
   "metadata": {},
   "outputs": [],
   "source": [
    "HC_9 = JornadaInfo_problem([random.randint(0,m-1) for x in range(0, n)])"
   ]
  },
  {
   "cell_type": "code",
   "execution_count": 238,
   "metadata": {},
   "outputs": [
    {
     "name": "stdout",
     "output_type": "stream",
     "text": [
      "Wall time: 1.03 ms\n",
      "Valor de sol: 480\n"
     ]
    },
    {
     "data": {
      "text/plain": [
       "[1, 0, 1, 2, 4, 1, 4, 0, 4, 1]"
      ]
     },
     "execution_count": 238,
     "metadata": {},
     "output_type": "execute_result"
    }
   ],
   "source": [
    "%time sol1= hill_climbing(HC_9)\n",
    "print(\"Valor de sol:\", HC_9.value(sol1))\n",
    "sol1"
   ]
  },
  {
   "cell_type": "code",
   "execution_count": 232,
   "metadata": {},
   "outputs": [
    {
     "name": "stdout",
     "output_type": "stream",
     "text": [
      "Wall time: 0 ns\n",
      "Valor de sol2: 600\n"
     ]
    },
    {
     "data": {
      "text/plain": [
       "[2, 0, 3, 3, 0, 4, 2, 4, 1, 1]"
      ]
     },
     "execution_count": 232,
     "metadata": {},
     "output_type": "execute_result"
    }
   ],
   "source": [
    "%time sol1= hill_climbing(HC_9)\n",
    "print(\"Valor de sol2:\", HC_9.value(sol1))\n",
    "sol1"
   ]
  },
  {
   "cell_type": "code",
   "execution_count": 219,
   "metadata": {},
   "outputs": [
    {
     "name": "stdout",
     "output_type": "stream",
     "text": [
      "Wall time: 0 ns\n",
      "Valor de sol3: 600\n"
     ]
    },
    {
     "data": {
      "text/plain": [
       "[3, 4, 1, 2, 3, 4, 4, 0, 3, 1]"
      ]
     },
     "execution_count": 219,
     "metadata": {},
     "output_type": "execute_result"
    }
   ],
   "source": [
    "%time sol1= hill_climbing(HC_9)\n",
    "print(\"Valor de sol3:\", HC_9.value(sol1))\n",
    "sol1"
   ]
  },
  {
   "cell_type": "code",
   "execution_count": 239,
   "metadata": {},
   "outputs": [
    {
     "name": "stdout",
     "output_type": "stream",
     "text": [
      "Wall time: 0 ns\n",
      "Valor de sol4: 540\n"
     ]
    },
    {
     "data": {
      "text/plain": [
       "[1, 4, 1, 2, 4, 1, 4, 0, 4, 1]"
      ]
     },
     "execution_count": 239,
     "metadata": {},
     "output_type": "execute_result"
    }
   ],
   "source": [
    "%time sol1= hill_climbing(HC_9)\n",
    "print(\"Valor de sol4:\", HC_9.value(sol1))\n",
    "sol1"
   ]
  },
  {
   "cell_type": "markdown",
   "metadata": {},
   "source": [
    "#### Conclusión:\n",
    "El algoritmo de hill climbing funciona mal con este tipo de problema ya que hay muchos óptimos locales en los cuales se queda atascado. Por eso en algunas ejecuciones se tarda 7 u 8 segundos y en otras 0 segundos. Los óptimos locales no son ni siquiera ceranos a los mejores óptimos locales y menos aún el óptimo global"
   ]
  },
  {
   "cell_type": "markdown",
   "metadata": {},
   "source": [
    "<h3 style=\"color:orange;\">Simulated Annealing</h3>"
   ]
  },
  {
   "cell_type": "code",
   "execution_count": 240,
   "metadata": {},
   "outputs": [],
   "source": [
    "import math\n",
    "def simulated_annealing(problem, schedule=exp_schedule()):\n",
    "    \"\"\"[Figure 4.5] CAUTION: This differs from the pseudocode as it\n",
    "    returns a state instead of a Node.\"\"\"\n",
    "    current = Node(problem.initial)\n",
    "    for t in range(sys.maxsize):\n",
    "        T = schedule(t)\n",
    "        if T == 0:\n",
    "            return current.state\n",
    "        neighbors = current.expand(problem)\n",
    "        if not neighbors:\n",
    "            return current.state\n",
    "        next_choice = random.choice(neighbors)\n",
    "        delta_e = problem.value(current.state) -problem.value(next_choice.state)\n",
    "        if delta_e > 0 or probability(math.exp(delta_e / T)):\n",
    "            current = next_choice"
   ]
  },
  {
   "cell_type": "code",
   "execution_count": 241,
   "metadata": {},
   "outputs": [],
   "source": [
    "SA_9 = JornadaInfo_problem([random.randint(0,m-1) for x in range(0, n)])"
   ]
  },
  {
   "cell_type": "code",
   "execution_count": 242,
   "metadata": {},
   "outputs": [
    {
     "name": "stdout",
     "output_type": "stream",
     "text": [
      "Wall time: 258 ms\n",
      "[0, 0, 0, 0, 2, 0, 3, 3, 4, 2]\n",
      "Valor de sol1: 360\n"
     ]
    }
   ],
   "source": [
    "%time sol1= min([simulated_annealing(SA_9) for i in range(100)])\n",
    "print(sol1)\n",
    "print(\"Valor de sol1:\", SA_9.value(sol1))"
   ]
  },
  {
   "cell_type": "code",
   "execution_count": 244,
   "metadata": {},
   "outputs": [
    {
     "name": "stdout",
     "output_type": "stream",
     "text": [
      "Wall time: 322 ms\n",
      "[0, 0, 1, 0, 2, 2, 3, 3, 4, 4]\n",
      "Valor de sol2: 180\n"
     ]
    }
   ],
   "source": [
    "%time sol1= min([simulated_annealing(SA_9) for i in range(100)])\n",
    "print(sol1)\n",
    "print(\"Valor de sol2:\", SA_9.value(sol1))"
   ]
  },
  {
   "cell_type": "code",
   "execution_count": 177,
   "metadata": {},
   "outputs": [
    {
     "name": "stdout",
     "output_type": "stream",
     "text": [
      "Wall time: 219 ms\n",
      "[0, 0, 0, 1, 2, 2, 3, 3, 4, 4]\n",
      "Valor de sol3: 180\n"
     ]
    }
   ],
   "source": [
    "%time sol1= min([simulated_annealing(SA_9) for i in range(100)])\n",
    "print(sol1)\n",
    "print(\"Valor de sol3:\", SA_9.value(sol1))"
   ]
  },
  {
   "cell_type": "markdown",
   "metadata": {},
   "source": [
    "#### Conclusión:\n",
    "El algoritmo de Simulated Annealing funciona mejor ya que es capaz de salir de los óptimos locales, empeorar dependiendo de la temperatura e ir acercádose a mejores tiempos. Desgraciadamente el algoritmo en muchas ejecuciones hechas, no logró llegar al óptimo global que es la solución:\n",
    "\n",
    "([0, 0, 1, 1, 2, 2, 3, 3, 4, 4], 120)\n",
    "\n",
    "Pero se acercó mucho con un óptimo local con tiempo 180, siendo este resultado: [0, 0, 0, 1, 2, 2, 3, 3, 4, 4]\n",
    "\n",
    "Para poder adaptar este algoritmo a nuestro ejercicio, como es buscando el mínimo tiempo, cambiamos el valor de delta_e:\n",
    "delta_e = problem.value(current.state) -problem.value(next_choice.state)"
   ]
  },
  {
   "cell_type": "markdown",
   "metadata": {},
   "source": [
    "## -----------------------------------------------------------------------------------------------------------------------------"
   ]
  },
  {
   "cell_type": "markdown",
   "metadata": {},
   "source": [
    "## Prueba 2"
   ]
  },
  {
   "cell_type": "markdown",
   "metadata": {},
   "source": [
    "Seguimos sin dependencias entre actividades pero ahora los profesores saben dar distintos talleres, algunos talleres pueden ser impartidos por distintas personas de momento con los mismos tiempos.\n",
    "\n",
    "(profesor1, taller1, 60) (profesor1, taller2, 60) (profesor1, taller3, 60)\n",
    "\n",
    "(profesor2, taller1, 60) (profesor2, taller2, 60) (profesor2, taller3, 60) (profesor2, taller4, 60)\n",
    "\n",
    "(profesor3, taller1, 60) (profesor3, taller2, 60) (profesor3, taller3, 60) (profesor3, taller4, 60) (profesor3, taller5, 60) (profesor3, taller6, 60)\n",
    "\n",
    "(profesor4, taller1, 60) (profesor4, taller2, 60) (profesor4, taller3, 60) (profesor4, taller4, 60) (profesor4, taller6, 60) (profesor4, taller7, 60)\n",
    "\n",
    "(profesor5, taller1, 60) (profesor5, taller2, 60) (profesor5, taller3, 60) (profesor5, taller4, 60) (profesor5, taller5, 60) (profesor5, taller6, 60) (profesor5, taller7, 60) (profesor5, taller8, 60) (profesor5, taller9, 60) (profesor5, taller10, 60)\n",
    "\n",
    "La mejor solución no ocupará al profesor5 en el taller1 ya que sólo él puede dar los talleres 8, 9 y  10. No hay una solución en menos de 180 minutos."
   ]
  },
  {
   "cell_type": "code",
   "execution_count": 245,
   "metadata": {},
   "outputs": [],
   "source": [
    "n=10\n",
    "m =5\n",
    "\n",
    "mat = [[ 60, 60, 60, 0, 0,  0, 0, 0, 0, 0],\n",
    "       [ 60, 60, 60, 60, 0,  0, 0, 0, 0, 0],\n",
    "       [ 60, 60, 60, 60, 60,  60, 0, 0, 0, 0],\n",
    "       [ 60, 60, 60, 60, 0,  60, 60, 0, 0, 0],\n",
    "       [ 60, 60, 60, 60, 60,  60, 60, 60, 60, 60]]\n",
    "peorTiempo = peorTiempoMatriz(mat, n,m)"
   ]
  },
  {
   "cell_type": "code",
   "execution_count": 246,
   "metadata": {},
   "outputs": [],
   "source": [
    "p2 = ProblemaGenetico([x for x in range(0, m)], decod9, mutar9, cruza9,fit1_9,n)"
   ]
  },
  {
   "cell_type": "markdown",
   "metadata": {},
   "source": [
    "### Caso"
   ]
  },
  {
   "cell_type": "markdown",
   "metadata": {},
   "source": [
    "- 10 participantes en torneo\n",
    "- 50 generaciones\n",
    "- 10 número de individuos en cada generación\n",
    "\n",
    "La solución puede obtenerse pero requiere varias ejecuciones del algoritmo"
   ]
  },
  {
   "cell_type": "code",
   "execution_count": 255,
   "metadata": {},
   "outputs": [
    {
     "data": {
      "text/plain": [
       "([0, 1, 2, 1, 2, 3, 3, 4, 4, 4], 180)"
      ]
     },
     "execution_count": 255,
     "metadata": {},
     "output_type": "execute_result"
    }
   ],
   "source": [
    "algoritmo_genetico(p2, 10, min, 50, 10,0.7,0.1 )"
   ]
  },
  {
   "cell_type": "code",
   "execution_count": 267,
   "metadata": {},
   "outputs": [
    {
     "data": {
      "text/plain": [
       "([1, 0, 0, 1, 2, 2, -1, -1, 4, 4], 240)"
      ]
     },
     "execution_count": 267,
     "metadata": {},
     "output_type": "execute_result"
    }
   ],
   "source": [
    "algoritmo_genetico(p2, 10, min, 50, 10,0.7,0.1 )"
   ]
  },
  {
   "cell_type": "markdown",
   "metadata": {},
   "source": [
    "### Caso\n",
    "- 10 participantes en torneo\n",
    "- 100 generaciones\n",
    "- 50 número de individuos en cada generación\n",
    "\n",
    "Debido a la cantidad de generaciones e individuos, el algoritmo alcanza la mejor solución siempre."
   ]
  },
  {
   "cell_type": "code",
   "execution_count": 269,
   "metadata": {},
   "outputs": [
    {
     "data": {
      "text/plain": [
       "([0, 1, 0, 2, 2, 3, 3, 4, 4, 4], 180)"
      ]
     },
     "execution_count": 269,
     "metadata": {},
     "output_type": "execute_result"
    }
   ],
   "source": [
    "algoritmo_genetico(p2, 10, min, 100, 50,0.7,0.1 )"
   ]
  },
  {
   "cell_type": "markdown",
   "metadata": {},
   "source": [
    "## -----------------------------------------------------------------------------------------------------------------------------"
   ]
  },
  {
   "cell_type": "markdown",
   "metadata": {},
   "source": [
    "## Prueba 3"
   ]
  },
  {
   "cell_type": "markdown",
   "metadata": {},
   "source": [
    "Mismos casos que la prueba 2 pero si el profesor 4 sabe dar el taller8 hay soluciones en 120 minutos."
   ]
  },
  {
   "cell_type": "code",
   "execution_count": 270,
   "metadata": {},
   "outputs": [],
   "source": [
    "n=10\n",
    "m =5\n",
    "\n",
    "mat = [[ 60, 60, 60, 0, 0,  0, 0, 0, 0, 0],\n",
    "       [ 60, 60, 60, 60, 0,  0, 0, 0, 0, 0],\n",
    "       [ 60, 60, 60, 60, 60,  60, 0, 0, 0, 0],\n",
    "       [ 60, 60, 60, 60, 0,  60, 60, 60, 0, 0],\n",
    "       [ 60, 60, 60, 60, 60,  60, 60, 60, 60, 60]]\n",
    "peorTiempo = peorTiempoMatriz(mat, n,m)"
   ]
  },
  {
   "cell_type": "code",
   "execution_count": 271,
   "metadata": {},
   "outputs": [],
   "source": [
    "p3 = ProblemaGenetico([x for x in range(0, m)], decod9, mutar9, cruza9,fit1_9,n)"
   ]
  },
  {
   "cell_type": "markdown",
   "metadata": {},
   "source": [
    "### Caso"
   ]
  },
  {
   "cell_type": "markdown",
   "metadata": {},
   "source": [
    "- 10 participantes en torneo\n",
    "- 50 generaciones\n",
    "- 10 número de individuos en cada generación\n",
    "\n",
    "La solución se queda en óptimos locales"
   ]
  },
  {
   "cell_type": "code",
   "execution_count": 272,
   "metadata": {},
   "outputs": [
    {
     "data": {
      "text/plain": [
       "([3, 1, 2, 1, 2, 2, 4, 3, 4, 4], 180)"
      ]
     },
     "execution_count": 272,
     "metadata": {},
     "output_type": "execute_result"
    }
   ],
   "source": [
    "algoritmo_genetico(p3, 10, min, 50, 10,0.7,0.1 )"
   ]
  },
  {
   "cell_type": "code",
   "execution_count": 275,
   "metadata": {},
   "outputs": [
    {
     "data": {
      "text/plain": [
       "([0, 0, 3, 1, 2, -1, 3, 3, 4, 4], 240)"
      ]
     },
     "execution_count": 275,
     "metadata": {},
     "output_type": "execute_result"
    }
   ],
   "source": [
    "algoritmo_genetico(p3, 10, min, 50, 10,0.7,0.1 )"
   ]
  },
  {
   "cell_type": "markdown",
   "metadata": {},
   "source": [
    "### Caso\n",
    "- 10 participantes en torneo\n",
    "- 50 generaciones\n",
    "- 40 número de individuos en cada generación\n",
    "\n",
    "La solución se queda en óptimos locales"
   ]
  },
  {
   "cell_type": "code",
   "execution_count": 276,
   "metadata": {},
   "outputs": [
    {
     "data": {
      "text/plain": [
       "([1, 0, 1, 2, 4, 2, 3, 3, 4, 4], 180)"
      ]
     },
     "execution_count": 276,
     "metadata": {},
     "output_type": "execute_result"
    }
   ],
   "source": [
    "algoritmo_genetico(p3, 10, min, 50, 40,0.7,0.1 )"
   ]
  },
  {
   "cell_type": "markdown",
   "metadata": {},
   "source": [
    "### Caso\n",
    "- 10 participantes en torneo\n",
    "- 50 generaciones\n",
    "- 10 número de individuos en cada generación\n",
    "\n",
    "La solución puede obtenerse pero requiere varias ejecuciones del algoritmo"
   ]
  },
  {
   "cell_type": "code",
   "execution_count": 278,
   "metadata": {},
   "outputs": [
    {
     "data": {
      "text/plain": [
       "([0, 0, 1, 1, 2, 2, 3, 3, 4, 4], 120)"
      ]
     },
     "execution_count": 278,
     "metadata": {},
     "output_type": "execute_result"
    }
   ],
   "source": [
    "algoritmo_genetico(p3, 10, min, 80, 40,0.7,0.1 )"
   ]
  },
  {
   "cell_type": "code",
   "execution_count": 279,
   "metadata": {},
   "outputs": [
    {
     "data": {
      "text/plain": [
       "([1, 0, 0, 1, 2, 3, 4, 3, -1, 4], 180)"
      ]
     },
     "execution_count": 279,
     "metadata": {},
     "output_type": "execute_result"
    }
   ],
   "source": [
    "algoritmo_genetico(p3, 10, min, 80, 40,0.7,0.1 )"
   ]
  },
  {
   "cell_type": "markdown",
   "metadata": {},
   "source": [
    "### Caso\n",
    "- 10 participantes en torneo\n",
    "- 100 generaciones\n",
    "- 50 número de individuos en cada generación\n",
    "\n",
    "Debido a la cantidad de generaciones e individuos, el algoritmo puede dar a lugar el mejor resultado con mayor probabilidad "
   ]
  },
  {
   "cell_type": "code",
   "execution_count": 280,
   "metadata": {},
   "outputs": [
    {
     "data": {
      "text/plain": [
       "([1, 0, 0, 1, 2, 2, 3, 3, 4, 4], 120)"
      ]
     },
     "execution_count": 280,
     "metadata": {},
     "output_type": "execute_result"
    }
   ],
   "source": [
    "algoritmo_genetico(p3, 10, min, 100, 50,0.7,0.1 )"
   ]
  },
  {
   "cell_type": "code",
   "execution_count": 281,
   "metadata": {},
   "outputs": [
    {
     "data": {
      "text/plain": [
       "([0, 0, 1, 2, 2, 3, 3, 4, 4, -1], 180)"
      ]
     },
     "execution_count": 281,
     "metadata": {},
     "output_type": "execute_result"
    }
   ],
   "source": [
    "algoritmo_genetico(p3, 10, min, 100, 50,0.7,0.1 )"
   ]
  },
  {
   "cell_type": "markdown",
   "metadata": {},
   "source": [
    "### Caso\n",
    "- 10 participantes en torneo\n",
    "- 200 generaciones\n",
    "- 80 número de individuos en cada generación\n",
    "\n",
    "Debido a la cantidad de generaciones e individuos, el algoritmo alcanza la mejor solución siempre."
   ]
  },
  {
   "cell_type": "code",
   "execution_count": 282,
   "metadata": {},
   "outputs": [
    {
     "data": {
      "text/plain": [
       "([1, 0, 0, 1, 2, 2, 3, 3, 4, 4], 120)"
      ]
     },
     "execution_count": 282,
     "metadata": {},
     "output_type": "execute_result"
    }
   ],
   "source": [
    "algoritmo_genetico(p3, 10, min, 200, 80,0.7,0.1 )"
   ]
  },
  {
   "cell_type": "markdown",
   "metadata": {},
   "source": [
    "## -----------------------------------------------------------------------------------------------------------------------------"
   ]
  },
  {
   "cell_type": "markdown",
   "metadata": {},
   "source": [
    "## Prueba 4"
   ]
  },
  {
   "cell_type": "markdown",
   "metadata": {},
   "source": [
    "(profesor1, taller1, 60) (profesor1, taller2, 60) (profesor1, taller3, 60)\n",
    "\n",
    "(profesor2, taller1, 60) (profesor2, taller2, 90) (profesor2, taller3, 90) (profesor2, taller4, 100)\n",
    "\n",
    "(profesor3, taller1, 50) (profesor3, taller2, 50) (profesor3, taller3, 50) (profesor3, taller4, 50) (profesor3, taller5, 50) (profesor3, taller6, 50)\n",
    "\n",
    "(profesor4, taller1, 30) (profesor4, taller2, 30) (profesor4, taller3, 40) (profesor4, taller4, 40) (profesor4, taller6, 50) (profesor4, taller7, 60)\n",
    "\n",
    "(profesor5, taller1, 40) (profesor5, taller2, 40) (profesor5, taller3, 40) (profesor5, taller4, 40) (profesor5, taller5, 40) (profesor5, taller6, 40) (profesor5, taller7, 40) (profesor5, taller8, 40) (profesor5, taller9, 40) (profesor5, taller10, 40)\n",
    "\n",
    " \n",
    "\n",
    "Hay soluciones en 120 minutos."
   ]
  },
  {
   "cell_type": "code",
   "execution_count": 283,
   "metadata": {},
   "outputs": [],
   "source": [
    "n=10\n",
    "m =5\n",
    "\n",
    "mat = [[ 60, 60, 60, 0, 0,  0, 0, 0, 0, 0],\n",
    "       [ 60, 90, 90, 100, 0,  0, 0, 0, 0, 0],\n",
    "       [ 50, 50, 50, 50, 50,  50, 0, 0, 0, 0],\n",
    "       [ 30, 30, 40, 40, 0,  50, 0, 60, 0, 0],\n",
    "       [ 40, 40, 40, 40, 40,  40, 40, 40, 40, 40]]\n",
    "peorTiempo = peorTiempoMatriz(mat, n,m)"
   ]
  },
  {
   "cell_type": "code",
   "execution_count": 284,
   "metadata": {},
   "outputs": [],
   "source": [
    "p4 = ProblemaGenetico([x for x in range(0, m)], decod9, mutar9, cruza9,fit1_9,n)"
   ]
  },
  {
   "cell_type": "markdown",
   "metadata": {},
   "source": [
    "### Caso"
   ]
  },
  {
   "cell_type": "markdown",
   "metadata": {},
   "source": [
    "- 10 participantes en torneo\n",
    "- 50 generaciones\n",
    "- 10 número de individuos en cada generación\n",
    "\n",
    "La solución puede obtenerse pero requiere varias ejecuciones del algoritmo. Se queda en óptimos locales."
   ]
  },
  {
   "cell_type": "code",
   "execution_count": 285,
   "metadata": {},
   "outputs": [
    {
     "data": {
      "text/plain": [
       "([3, 4, 1, 1, 4, 3, 4, 3, 4, 4], 200)"
      ]
     },
     "execution_count": 285,
     "metadata": {},
     "output_type": "execute_result"
    }
   ],
   "source": [
    "algoritmo_genetico(p4, 10, min, 50, 10,0.7,0.1 )"
   ]
  },
  {
   "cell_type": "code",
   "execution_count": 286,
   "metadata": {},
   "outputs": [
    {
     "data": {
      "text/plain": [
       "([3, 2, 1, 3, 2, 2, 4, 3, 4, 4], 150)"
      ]
     },
     "execution_count": 286,
     "metadata": {},
     "output_type": "execute_result"
    }
   ],
   "source": [
    "algoritmo_genetico(p3, 10, min, 100, 50,0.7,0.1 )"
   ]
  },
  {
   "cell_type": "code",
   "execution_count": 287,
   "metadata": {},
   "outputs": [
    {
     "data": {
      "text/plain": [
       "([0, 0, 1, 2, 2, 3, 4, 3, 4, 4], 120)"
      ]
     },
     "execution_count": 287,
     "metadata": {},
     "output_type": "execute_result"
    }
   ],
   "source": [
    "algoritmo_genetico(p3, 10, min, 100, 50,0.7,0.1 )"
   ]
  },
  {
   "cell_type": "markdown",
   "metadata": {},
   "source": [
    "## -----------------------------------------------------------------------------------------------------------------------------"
   ]
  },
  {
   "cell_type": "markdown",
   "metadata": {},
   "source": [
    "## Prueba 5"
   ]
  },
  {
   "cell_type": "markdown",
   "metadata": {},
   "source": [
    "profesor1, taller1, 60) (profesor1, taller2, 60)\n",
    "\n",
    "(profesor2, taller3, 60) (profesor2, taller4, 60)\n",
    "\n",
    "(profesor3, taller5, 60) (profesor3, taller6, 60)\n",
    "\n",
    "(profesor4, taller7, 60) (profesor4, taller8, 60)\n",
    "\n",
    "(profesor5, taller9, 60) (profesor5, taller10, 60)\n",
    "\n",
    " \n",
    "\n",
    ".  Dependencia taller2 < taller 1.  Lo representamos (taller2, taller1)  indica que  taller 2 hay que impartirlo antes de taller 1\n",
    "\n",
    "Con las dependencias:\n",
    "\n",
    "o   (taller2, taller1)\n",
    "\n",
    "o   (taller4, taller3)\n",
    "\n",
    "o   (taller6, taller5)\n",
    "\n",
    "o   (taller8, taller7)\n",
    "\n",
    "o   (taller10, taller9)\n",
    "\n",
    "Soluciones en 120 minutos."
   ]
  },
  {
   "cell_type": "code",
   "execution_count": 288,
   "metadata": {},
   "outputs": [],
   "source": [
    "n = 10\n",
    "m= 5\n",
    "\n",
    "mat = [[ 60, 60, 0, 0, 0,  0, 0, 0, 0, 0],\n",
    "       [ 0, 0, 60, 60, 0,  0, 0, 0, 0, 0],\n",
    "       [ 0, 0, 0, 0, 60,  60, 0, 0, 0, 0],\n",
    "       [ 0, 0, 0, 0, 0,  0, 60, 60, 0, 0],\n",
    "       [ 0, 0, 0, 0, 0,  0, 0, 0, 60, 60]]\n",
    "peorTiempo = peorTiempoMatriz(mat, n,m)"
   ]
  },
  {
   "cell_type": "code",
   "execution_count": 289,
   "metadata": {},
   "outputs": [],
   "source": [
    "graph = {\n",
    "   0  : [ ],\n",
    "   1  : [0],\n",
    "   2  : [ ],\n",
    "   3  : [2],\n",
    "   4  : [ ],\n",
    "   5  : [4],\n",
    "   6  : [5],\n",
    "   7  : [6],\n",
    "   8  : [ ],\n",
    "   9  : [8]\n",
    "}"
   ]
  },
  {
   "cell_type": "code",
   "execution_count": 290,
   "metadata": {},
   "outputs": [],
   "source": [
    "p9R5 = ProblemaGenetico([x for x in range(0, m)], decod9, mutar9, cruza9,fit1_9R,n)"
   ]
  },
  {
   "cell_type": "markdown",
   "metadata": {},
   "source": [
    "### Caso"
   ]
  },
  {
   "cell_type": "markdown",
   "metadata": {},
   "source": [
    "- 10 participantes en torneo\n",
    "- 50 generaciones\n",
    "- 10 número de individuos en cada generación\n",
    "\n",
    "La solución puede obtenerse pero requiere varias ejecuciones del algoritmo. Se queda en óptimos locales."
   ]
  },
  {
   "cell_type": "code",
   "execution_count": 291,
   "metadata": {},
   "outputs": [
    {
     "data": {
      "text/plain": [
       "([0, 0, -1, -1, 2, 2, -1, 3, 4, 4], 300)"
      ]
     },
     "execution_count": 291,
     "metadata": {},
     "output_type": "execute_result"
    }
   ],
   "source": [
    "algoritmo_genetico(p9R5, 10, min, 50, 10,0.7,0.1 )"
   ]
  },
  {
   "cell_type": "code",
   "execution_count": 204,
   "metadata": {},
   "outputs": [
    {
     "data": {
      "text/plain": [
       "([0, 0, 1, 1, 2, 2, 3, 3, 4, 4], 120)"
      ]
     },
     "execution_count": 204,
     "metadata": {},
     "output_type": "execute_result"
    }
   ],
   "source": [
    "algoritmo_genetico(p9R5, 10, min, 100, 50,0.7,0.1 )"
   ]
  },
  {
   "cell_type": "markdown",
   "metadata": {},
   "source": [
    "### Caso"
   ]
  },
  {
   "cell_type": "markdown",
   "metadata": {},
   "source": [
    "- 10 participantes en torneo\n",
    "- 100 generaciones\n",
    "- 20 número de individuos en cada generación\n",
    "\n",
    "La solución puede obtenerse pero requiere varias ejecuciones del algoritmo. Se queda en óptimos locales."
   ]
  },
  {
   "cell_type": "code",
   "execution_count": 206,
   "metadata": {},
   "outputs": [
    {
     "data": {
      "text/plain": [
       "([0, 0, 1, 1, 2, 2, 3, 3, 4, 4], 120)"
      ]
     },
     "execution_count": 206,
     "metadata": {},
     "output_type": "execute_result"
    }
   ],
   "source": [
    "algoritmo_genetico(p9R5, 10, min, 100, 20,0.7,0.1 )"
   ]
  },
  {
   "cell_type": "code",
   "execution_count": 292,
   "metadata": {},
   "outputs": [
    {
     "data": {
      "text/plain": [
       "([0, 0, 1, 1, -1, 2, 3, 3, 4, 4], 180)"
      ]
     },
     "execution_count": 292,
     "metadata": {},
     "output_type": "execute_result"
    }
   ],
   "source": [
    "algoritmo_genetico(p9R5, 10, min, 100, 20,0.7,0.1 )"
   ]
  },
  {
   "cell_type": "markdown",
   "metadata": {},
   "source": [
    "## -----------------------------------------------------------------------------------------------------------------------------"
   ]
  },
  {
   "cell_type": "markdown",
   "metadata": {},
   "source": [
    "## Prueba 6"
   ]
  },
  {
   "cell_type": "markdown",
   "metadata": {},
   "source": [
    " La misma información de profesores que la prueba 5 con las dependencias\n",
    "\n",
    "o   (taller2, taller1)\n",
    "\n",
    "o   (taller2, taller3)\n",
    "\n",
    "o   (taller3, taller4)\n",
    "\n",
    "o   (taller5, taller7)\n",
    "\n",
    " \n",
    "Soluciones en 180 minutos."
   ]
  },
  {
   "cell_type": "code",
   "execution_count": 293,
   "metadata": {},
   "outputs": [],
   "source": [
    "n = 10\n",
    "m= 5\n",
    "\n",
    "mat = [[ 60, 60, 0, 0, 0,  0, 0, 0, 0, 0],\n",
    "       [ 0, 0, 60, 60, 0,  0, 0, 0, 0, 0],\n",
    "       [ 0, 0, 0, 0, 60,  60, 0, 0, 0, 0],\n",
    "       [ 0, 0, 0, 0, 0,  0, 60, 60, 0, 0],\n",
    "       [ 0, 0, 0, 0, 0,  0, 0, 0, 60, 60]]\n",
    "peorTiempo = peorTiempoMatriz(mat, n,m)"
   ]
  },
  {
   "cell_type": "code",
   "execution_count": 294,
   "metadata": {},
   "outputs": [],
   "source": [
    "graph = {\n",
    "   0  : [ ],\n",
    "   1  : [0,2],\n",
    "   2  : [3],\n",
    "   3  : [ ],\n",
    "   4  : [6],\n",
    "   5  : [ ],\n",
    "   6  : [ ],\n",
    "   7  : [ ],\n",
    "   8  : [ ],\n",
    "   9  : [ ]\n",
    "}"
   ]
  },
  {
   "cell_type": "code",
   "execution_count": 295,
   "metadata": {},
   "outputs": [],
   "source": [
    "p9R5 = ProblemaGenetico([x for x in range(0, m)], decod9, mutar9, cruza9,fit1_9R,n)"
   ]
  },
  {
   "cell_type": "markdown",
   "metadata": {},
   "source": [
    "### Casos"
   ]
  },
  {
   "cell_type": "markdown",
   "metadata": {},
   "source": [
    "- 10 participantes en torneo\n",
    "- 50 generaciones\n",
    "- 10 número de individuos en cada generación\n",
    "\n",
    "Se queda en óptimos locales."
   ]
  },
  {
   "cell_type": "code",
   "execution_count": 296,
   "metadata": {},
   "outputs": [
    {
     "data": {
      "text/plain": [
       "([0, 0, 1, 1, 2, 2, 3, 3, -1, -1], 300)"
      ]
     },
     "execution_count": 296,
     "metadata": {},
     "output_type": "execute_result"
    }
   ],
   "source": [
    "algoritmo_genetico(p9R5, 10, min, 50, 10,0.7,0.1 )"
   ]
  },
  {
   "cell_type": "code",
   "execution_count": 298,
   "metadata": {},
   "outputs": [
    {
     "data": {
      "text/plain": [
       "([0, 0, 1, -1, 2, 2, -1, 3, 4, 4], 240)"
      ]
     },
     "execution_count": 298,
     "metadata": {},
     "output_type": "execute_result"
    }
   ],
   "source": [
    "algoritmo_genetico(p9R5, 10, min, 50, 10,0.7,0.1 )"
   ]
  },
  {
   "cell_type": "markdown",
   "metadata": {},
   "source": [
    "### Caso\n",
    "- 10 participantes en torneo\n",
    "- 100 generaciones\n",
    "- 20 número de individuos en cada generación\n",
    "\n",
    "La solución puede obtenerse pero requiere varias ejecuciones del algoritmo"
   ]
  },
  {
   "cell_type": "code",
   "execution_count": 299,
   "metadata": {},
   "outputs": [
    {
     "data": {
      "text/plain": [
       "([0, 0, 1, -1, 2, 2, 3, 3, 4, 4], 180)"
      ]
     },
     "execution_count": 299,
     "metadata": {},
     "output_type": "execute_result"
    }
   ],
   "source": [
    "algoritmo_genetico(p9R5, 10, min, 100, 20,0.7,0.1 )"
   ]
  },
  {
   "cell_type": "code",
   "execution_count": 304,
   "metadata": {},
   "outputs": [
    {
     "data": {
      "text/plain": [
       "([0, -1, 1, 1, 2, 2, 3, 3, 4, 4], 180)"
      ]
     },
     "execution_count": 304,
     "metadata": {},
     "output_type": "execute_result"
    }
   ],
   "source": [
    "algoritmo_genetico(p9R5, 10, min, 100, 20,0.7,0.1 )"
   ]
  },
  {
   "cell_type": "markdown",
   "metadata": {},
   "source": [
    "### Caso\n",
    "- 10 participantes en torneo\n",
    "- 100 generaciones\n",
    "- 20 número de individuos en cada generación\n",
    "\n",
    "Debido a la cantidad de generaciones e individuos, el algoritmo alcanza la mejor solución siempre."
   ]
  },
  {
   "cell_type": "code",
   "execution_count": 246,
   "metadata": {},
   "outputs": [
    {
     "data": {
      "text/plain": [
       "([0, 0, 1, 1, 2, 2, 3, 3, 4, 4], 180)"
      ]
     },
     "execution_count": 246,
     "metadata": {},
     "output_type": "execute_result"
    }
   ],
   "source": [
    "algoritmo_genetico(p9R5, 10, min, 100, 50,0.7,0.1 )"
   ]
  },
  {
   "cell_type": "code",
   "execution_count": 310,
   "metadata": {},
   "outputs": [
    {
     "data": {
      "text/plain": [
       "([0, 0, 1, -1, 2, 2, 3, 3, 4, 4], 180)"
      ]
     },
     "execution_count": 310,
     "metadata": {},
     "output_type": "execute_result"
    }
   ],
   "source": [
    "algoritmo_genetico(p9R5, 10, min, 100, 50,0.7,0.1 )"
   ]
  },
  {
   "cell_type": "markdown",
   "metadata": {},
   "source": [
    "## -----------------------------------------------------------------------------------------------------------------------------"
   ]
  },
  {
   "cell_type": "markdown",
   "metadata": {},
   "source": [
    "## Prueba 7"
   ]
  },
  {
   "cell_type": "markdown",
   "metadata": {},
   "source": [
    "(profesor1, taller1, 60) (profesor1, taller2, 60) (profesor1, taller3, 60)\n",
    "\n",
    "(profesor2, taller1, 60) (profesor2, taller2, 90) (profesor2, taller3, 90) (profesor2, taller4, 100)\n",
    "\n",
    "(profesor3, taller1, 50) (profesor3, taller2, 50) (profesor3, taller3, 50) (profesor3, taller4, 50) (profesor3, taller5, 50) (profesor3, taller6, 50)\n",
    "\n",
    "(profesor4, taller1, 30) (profesor4, taller2, 30) (profesor4, taller3, 40) (profesor4, taller4, 40) (profesor4, taller6, 50) (profesor4, taller7, 60)\n",
    "\n",
    "(profesor5, taller1, 40) (profesor5, taller2, 40) (profesor5, taller3, 40) (profesor5, taller4, 40) (profesor5, taller5, 40) (profesor5, taller6, 40) (profesor5, taller7, 40) (profesor5, taller8, 40) (profesor5, taller9, 40) (profesor5, taller10, 40)\n",
    "\n",
    "Dependencias temporales:\n",
    "\n",
    "(taller 1, taller 8)\n",
    "\n",
    "(taller7, taller6)\n",
    "\n",
    "Solución en 150 minutos."
   ]
  },
  {
   "cell_type": "code",
   "execution_count": 323,
   "metadata": {},
   "outputs": [],
   "source": [
    "n=10\n",
    "m =5\n",
    "\n",
    "mat = [[ 60, 60, 60, 0, 0,  0, 0, 0, 0, 0],\n",
    "       [ 60, 90, 90, 100, 0,  0, 0, 0, 0, 0],\n",
    "       [ 50, 50, 50, 50, 50,  50, 0, 0, 0, 0],\n",
    "       [ 30, 30, 40, 40, 0,  50, 0, 60, 0, 0],\n",
    "       [ 40, 40, 40, 40, 40,  40, 40, 40, 40, 40]]\n",
    "peorTiempo = peorTiempoMatriz(mat, n,m)"
   ]
  },
  {
   "cell_type": "code",
   "execution_count": 324,
   "metadata": {},
   "outputs": [],
   "source": [
    "graph = {\n",
    "   0  : [7],\n",
    "   1  : [ ],\n",
    "   2  : [ ],\n",
    "   3  : [ ],\n",
    "   4  : [ ],\n",
    "   5  : [ ],\n",
    "   6  : [5],\n",
    "   7  : [ ],\n",
    "   8  : [ ],\n",
    "   9  : [ ]\n",
    "}"
   ]
  },
  {
   "cell_type": "code",
   "execution_count": 325,
   "metadata": {},
   "outputs": [],
   "source": [
    "p9R5 = ProblemaGenetico([x for x in range(0, m)], decod9, mutar9, cruza9,fit1_9R,n)"
   ]
  },
  {
   "cell_type": "markdown",
   "metadata": {},
   "source": [
    "### Casos"
   ]
  },
  {
   "cell_type": "markdown",
   "metadata": {},
   "source": [
    "- 10 participantes en torneo\n",
    "- 50 generaciones\n",
    "- 10 número de individuos en cada generación\n",
    "\n",
    "Se queda en óptimos locales."
   ]
  },
  {
   "cell_type": "code",
   "execution_count": 314,
   "metadata": {},
   "outputs": [
    {
     "data": {
      "text/plain": [
       "([4, 2, 0, 2, 2, 2, 4, 3, 4, 4], 200)"
      ]
     },
     "execution_count": 314,
     "metadata": {},
     "output_type": "execute_result"
    }
   ],
   "source": [
    "algoritmo_genetico(p9R5, 10, min, 50, 10,0.7,0.1 )"
   ]
  },
  {
   "cell_type": "markdown",
   "metadata": {},
   "source": [
    "### Caso\n",
    "- 10 participantes en torneo\n",
    "- 100 generaciones\n",
    "- 20 número de individuos en cada generación\n",
    "\n",
    "La solución puede obtenerse pero requiere varias ejecuciones del algoritmo"
   ]
  },
  {
   "cell_type": "code",
   "execution_count": 315,
   "metadata": {},
   "outputs": [
    {
     "data": {
      "text/plain": [
       "([2, 0, 0, 2, 2, 4, 4, 4, 4, 4], 200)"
      ]
     },
     "execution_count": 315,
     "metadata": {},
     "output_type": "execute_result"
    }
   ],
   "source": [
    "algoritmo_genetico(p9R5, 10, min, 100, 20,0.7,0.1 )"
   ]
  },
  {
   "cell_type": "code",
   "execution_count": 316,
   "metadata": {},
   "outputs": [
    {
     "data": {
      "text/plain": [
       "([3, 2, 0, 3, 2, 2, 4, 3, 4, 4], 150)"
      ]
     },
     "execution_count": 316,
     "metadata": {},
     "output_type": "execute_result"
    }
   ],
   "source": [
    "algoritmo_genetico(p9R5, 10, min, 100, 20,0.7,0.1 )"
   ]
  },
  {
   "cell_type": "markdown",
   "metadata": {},
   "source": [
    "### Caso\n",
    "- 10 participantes en torneo\n",
    "- 100 generaciones\n",
    "- 50 número de individuos en cada generación\n",
    "\n",
    "Debido a la cantidad de generaciones e individuos, el algoritmo alcanza la mejor solución siempre."
   ]
  },
  {
   "cell_type": "code",
   "execution_count": 326,
   "metadata": {},
   "outputs": [
    {
     "data": {
      "text/plain": [
       "([0, 3, 0, 1, 2, 2, 4, 3, 4, 4], 120)"
      ]
     },
     "execution_count": 326,
     "metadata": {},
     "output_type": "execute_result"
    }
   ],
   "source": [
    "algoritmo_genetico(p9R5, 10, min, 100, 50,0.7,0.1 )"
   ]
  },
  {
   "attachments": {
    "act1.png": {
     "image/png": "[encoded data removed]"
    }
   },
   "cell_type": "markdown",
   "metadata": {},
   "source": [
    "![act1.png](attachment:act1.png)"
   ]
  }
 ],
 "metadata": {
  "kernelspec": {
   "display_name": "Python 3",
   "language": "python",
   "name": "python3"
  },
  "language_info": {
   "codemirror_mode": {
    "name": "ipython",
    "version": 3
   },
   "file_extension": ".py",
   "mimetype": "text/x-python",
   "name": "python",
   "nbconvert_exporter": "python",
   "pygments_lexer": "ipython3",
   "version": "3.8.3"
  }
 },
 "nbformat": 4,
 "nbformat_minor": 2
}
