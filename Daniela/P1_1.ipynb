{
 "cells": [
  {
   "cell_type": "markdown",
   "metadata": {},
   "source": [
    "__No te olvides de rellenar esto:__\n",
    "\n",
    "- Número de grupo: 25\n",
    "- Nombre de los integrantes del grupo:\n",
    "    \n",
    "    -David Bugoi\n",
    "    -Daniela Alejanda Córdova\n",
    "    -Erik Karlgren Domercq\n",
    "    \n",
    " Lab 11"
   ]
  },
  {
   "cell_type": "markdown",
   "metadata": {
    "colab_type": "text",
    "id": "71I5krFqJpcc"
   },
   "source": [
    "# Práctica 1 \n",
    "\n",
    "> __Fecha de entrega: 11 de abril de 2021__\n",
    "\n",
    "## Parte 1: consultas SPARQL sobre Wikidata."
   ]
  },
  {
   "cell_type": "markdown",
   "metadata": {
    "colab_type": "text",
    "id": "cdP69_AXJpcg"
   },
   "source": [
    "En esta práctica vamos a usar el punto de acceso [SPARQL](https://query.wikidata.org/) de Wikidata para contestar las preguntas que se formulan a continuación. Cada pregunta debe ser respondida realizando una única consulta SPARQL. Para cada una de las entidades recuperadas se mostrará __tanto su identificador como su etiqueta__ (nombre de la entidad en lenguaje natural). \n",
    "\n",
    "Para cada una de las preguntas debes mostrar tanto la consulta como la respuesta obtenida.\n",
    "\n",
    " - La __consulta__ debe estar en una celda de tipo _Raw NBConvert_ para que jupyter no trate de interpretarla. Cada tripleta de la consulta debe tener un breve comentario a la derecha que la explique (los comentarios empiezan con #). \n",
    " - La __respuesta__ debe estar en una celda de tipo _Markdown_. Puedes descargar las respuestas usando la opción _Descargar >> HTML Table_ y copiar el código HTML en esta celda. Al ejecutar la celda se mostrará en forma de tabla.\n",
    " - Si lo consideras necesario, puedes añadir celdas adicionales en formato _Markdown_ para explicar decisiones que hayas tomado al crear la consulta o cualquier otro dato que consideres interesante.\n",
    " \n",
    " \n",
    "__Para resolver estas consultas necesitarás aprender algo más de SPARQL de lo que hemos contado en clase__. Los dos recursos que te recomendamos consultar son:\n",
    "\n",
    "- [Este tutorial de SPARQL](https://www.wikidata.org/wiki/Wikidata:SPARQL_tutorial).\n",
    "- [Esta recopilación de ejemplos](https://www.wikidata.org/wiki/Wikidata:SPARQL_query_service/queries/examples)"
   ]
  },
  {
   "cell_type": "markdown",
   "metadata": {},
   "source": [
    "### Ejemplo\n",
    "\n",
    "Recuperar todas las instancias directas de la clase [Cabra (Q2934)](https://www.wikidata.org/wiki/Q2934) que aparecen en la base de conocimiento."
   ]
  },
  {
   "cell_type": "raw",
   "metadata": {},
   "source": [
    "SELECT ?item ?itemLabel \n",
    "WHERE \n",
    "{\n",
    "  ?item wdt:P31 wd:Q2934.  # instancias directas de la clase Cabra\n",
    "  SERVICE wikibase:label { bd:serviceParam wikibase:language \"[AUTO_LANGUAGE],en\". }\n",
    "}"
   ]
  },
  {
   "cell_type": "markdown",
   "metadata": {},
   "source": [
    "<html><head><meta charset=\"utf-8\"></head><body><table><thead><tr><th>item</th><th>itemLabel</th></tr></thead><tbody><tr><td>http://www.wikidata.org/entity/Q151345</td><td>Billygoat Hennes</td></tr><tr><td>http://www.wikidata.org/entity/Q3569037</td><td>William Windsor</td></tr><tr><td>http://www.wikidata.org/entity/Q23003932</td><td>His Whiskers</td></tr><tr><td>http://www.wikidata.org/entity/Q24287064</td><td>Taffy</td></tr><tr><td>http://www.wikidata.org/entity/Q41239734</td><td>Lance Corporal Shenkin III</td></tr><tr><td>http://www.wikidata.org/entity/Q41240892</td><td>Lance Corporal Shenkin II</td></tr><tr><td>http://www.wikidata.org/entity/Q41241416</td><td>Lance Corporal Shenkin I</td></tr><tr><td>http://www.wikidata.org/entity/Q65326499</td><td>Konkan kanyal</td></tr></tbody></table></body></html>"
   ]
  },
  {
   "cell_type": "markdown",
   "metadata": {},
   "source": [
    "### Consulta 1\n",
    "\n",
    "[Steven Allan Spielberg (Q8877)](https://www.wikidata.org/wiki/Q8877) es uno de los directores más reconocidos y populares de la industria cinematográfica mundial. Vamos a comenzar por averiguar su fecha y lugar de nacimiento."
   ]
  },
  {
   "cell_type": "raw",
   "metadata": {},
   "source": [
    "SELECT ?birthday ?birthplaceLabel\n",
    "WHERE \n",
    "{\n",
    "  wd:Q8877 wdt:P569  ?birthday.  # fecha nacimiento\n",
    "  wd:Q8877 wdt:P19   ?birthplace.  # Lugar de nacimiento\n",
    "   \n",
    "  SERVICE wikibase:label { bd:serviceParam wikibase:language \"[AUTO_LANGUAGE],en\". }\n",
    "}"
   ]
  },
  {
   "cell_type": "markdown",
   "metadata": {},
   "source": [
    "<html><head><meta charset=\"utf-8\"></head><body><table><thead><tr><th>birthday</th><th>birthplaceLabel</th></tr></thead><tbody><tr><td>1946-12-18T00:00:00Z</td><td>Cincinnati</td></tr></tbody></table></body></html>"
   ]
  },
  {
   "cell_type": "markdown",
   "metadata": {},
   "source": []
  },
  {
   "cell_type": "markdown",
   "metadata": {},
   "source": [
    "### Consulta 2\n",
    "\n",
    "A continuación vamos a averiguar todas las distintas profesiones (ocupaciones) que se le reconocen en la base de conocimiento. Queremos obtener los resultados ordenados alfabéticamente por el nombre de la profesión."
   ]
  },
  {
   "cell_type": "raw",
   "metadata": {},
   "source": [
    "SELECT ?ocupLabel\n",
    "WHERE \n",
    "{\n",
    "  wd:Q8877 wdt:P106  ?ocup.  # Spiel tiene ocupaciones \n",
    "  SERVICE wikibase:label { bd:serviceParam wikibase:language \"[AUTO_LANGUAGE],en\". }\n",
    "}\n",
    "ORDER BY ASC(?ocupLabel)"
   ]
  },
  {
   "cell_type": "markdown",
   "metadata": {},
   "source": [
    "<html><head><meta charset=\"utf-8\"></head><body><table><thead><tr><th>ocupLabel</th></tr></thead><tbody><tr><td>actor</td></tr><tr><td>actor de cine</td></tr><tr><td>coleccionista de arte</td></tr><tr><td>director de cine</td></tr><tr><td>editor de cine</td></tr><tr><td>empresario</td></tr><tr><td>escritor de ciencia ficción</td></tr><tr><td>guionista</td></tr><tr><td>productor de cine</td></tr><tr><td>productor de televisión</td></tr><tr><td>productor ejecutivo</td></tr></tbody></table></body></html>"
   ]
  },
  {
   "cell_type": "markdown",
   "metadata": {},
   "source": []
  },
  {
   "cell_type": "markdown",
   "metadata": {},
   "source": [
    "### Consulta 3\n",
    "\n",
    "¿Cuales de esas profesiones corresponden a un tipo determinado de [Artista (Q483501)](https://www.wikidata.org/wiki/Q483501)? Ten en cuenta que la jerarquía de tipos de artistas puede ser compleja."
   ]
  },
  {
   "cell_type": "raw",
   "metadata": {},
   "source": [
    "SELECT ?ocup ?ocupLabel\n",
    "WHERE\n",
    "{\n",
    "  wd:Q8877 wdt:P106  ?ocup.  # Spiel tiene ocupaciones \n",
    "  ?ocup wdt:P279* wd:Q483501. #Ocupaciones que son subclase de artista\n",
    "  SERVICE wikibase:label { bd:serviceParam wikibase:language \"[AUTO_LANGUAGE],en\". }\n",
    "}"
   ]
  },
  {
   "cell_type": "markdown",
   "metadata": {},
   "source": [
    "\n",
    "<html><head><meta charset=\"utf-8\"></head><body><table><thead><tr><th>ocup</th><th>ocupLabel</th></tr></thead><tbody><tr><td>http://www.wikidata.org/entity/Q7042855</td><td>editor de cine</td></tr><tr><td>http://www.wikidata.org/entity/Q33999</td><td>actor</td></tr><tr><td>http://www.wikidata.org/entity/Q2526255</td><td>director de cine</td></tr><tr><td>http://www.wikidata.org/entity/Q10800557</td><td>actor de cine</td></tr></tbody></table></body></html>"
   ]
  },
  {
   "cell_type": "markdown",
   "metadata": {},
   "source": [
    "\n",
    "<html><head><meta charset=\"utf-8\"></head><body><table><thead><tr><th>xLabel</th></tr></thead><tbody><tr><td>actor</td></tr><tr><td>actor de cine</td></tr><tr><td>director de cine</td></tr><tr><td>editor de cine</td></tr></tbody></table></body></html>"
   ]
  },
  {
   "cell_type": "markdown",
   "metadata": {},
   "source": []
  },
  {
   "cell_type": "markdown",
   "metadata": {},
   "source": [
    "### Consulta 4\n",
    "\n",
    "Spielberg ha recibido muchas nominaciones y premios a lo largo de su carrera. Queremos obtener una lista de nominaciones y para cada una de ellas el trabajo por el cual fue nominado y la ceremonia en la que se produjo la nominación. Para resolver esta consulta necesitarás acceder a los cualificadores de nodos sentencia y necesitarás entender los prefijos que usa Wikidata."
   ]
  },
  {
   "cell_type": "raw",
   "metadata": {},
   "source": [
    "SELECT  ?nominationsLabel  ?workLabel  ?cerLabel\n",
    "WHERE\n",
    "{\n",
    "  wd:Q8877 wdt:P1411  ?nominations. #Steve tiene nominaciones:\n",
    "  wd:Q8877 p:P1411  [pq:P1686 ?work; #en nominaciones, la propiedad: por la obra\n",
    "                     pq:P805 ?cer].  #en nom, la propiedad: ceremomia\n",
    "  SERVICE wikibase:label { bd:serviceParam wikibase:language \"[AUTO_LANGUAGE],en\". }\n",
    "}"
   ]
  },
  {
   "cell_type": "markdown",
   "metadata": {},
   "source": [
    "\n",
    "<html><head><meta charset=\"utf-8\"></head><body><table><thead><tr><th>nominationsLabel</th><th>workLabel</th><th>cerLabel</th></tr></thead><tbody><tr><td>Óscar a la mejor película</td><td>Múnich</td><td>Premios Óscar de 2005</td></tr><tr><td>Óscar a la mejor película</td><td>Saving Private Ryan</td><td>11th European Film Awards</td></tr><tr><td>Óscar a la mejor película</td><td>La lista de Schindler</td><td>Premios Óscar de 1993</td></tr><tr><td>Óscar a la mejor película</td><td>E.T., el extraterrestre</td><td>Anexo:55.º Premios Óscar</td></tr><tr><td>Óscar a la mejor película</td><td>Cartas desde Iwo Jima</td><td>Premios Óscar de 2006</td></tr><tr><td>Óscar a la mejor película</td><td>Minority Report</td><td>15th European Film Awards</td></tr><tr><td>Óscar a la mejor película</td><td>Múnich</td><td>Premios Óscar de 2005</td></tr><tr><td>Óscar a la mejor película</td><td>Saving Private Ryan</td><td>71.º Premios Óscar</td></tr><tr><td>Óscar a la mejor película</td><td>Lincoln</td><td>85.º Premios Óscar</td></tr><tr><td>Óscar a la mejor película</td><td>E.T., el extraterrestre</td><td>Anexo:55.º Premios Óscar</td></tr><tr><td>Óscar a la mejor película</td><td>War Horse</td><td>Premios Óscar de 2011</td></tr><tr><td>Óscar a la mejor película</td><td>Bridge of Spies</td><td>Anexo:88.ª Premios Óscar</td></tr><tr><td>Óscar a la mejor película</td><td>Raiders of the Lost Ark</td><td>Anexo:Premios Óscar de 1981</td></tr><tr><td>Óscar a la mejor película</td><td>La lista de Schindler</td><td>Premios Óscar de 1993</td></tr><tr><td>Óscar a la mejor película</td><td>Close Encounters of the Third Kind</td><td>Anexo:Premios Óscar de 1977</td></tr><tr><td>Óscar a la mejor película</td><td>Lincoln</td><td>85.º Premios Óscar</td></tr><tr><td>Óscar a la mejor película</td><td>The Post</td><td>90.º Premios Óscar</td></tr><tr><td>Óscar a la mejor película</td><td>El color púrpura</td><td>Premios Óscar de 1985</td></tr><tr><td>Óscar a la mejor película</td><td>Saving Private Ryan</td><td>71.º Premios Óscar</td></tr><tr><td>Óscar al mejor director</td><td>Múnich</td><td>Premios Óscar de 2005</td></tr><tr><td>Óscar al mejor director</td><td>Saving Private Ryan</td><td>11th European Film Awards</td></tr><tr><td>Óscar al mejor director</td><td>La lista de Schindler</td><td>Premios Óscar de 1993</td></tr><tr><td>Óscar al mejor director</td><td>E.T., el extraterrestre</td><td>Anexo:55.º Premios Óscar</td></tr><tr><td>Óscar al mejor director</td><td>Cartas desde Iwo Jima</td><td>Premios Óscar de 2006</td></tr><tr><td>Óscar al mejor director</td><td>Minority Report</td><td>15th European Film Awards</td></tr><tr><td>Óscar al mejor director</td><td>Múnich</td><td>Premios Óscar de 2005</td></tr><tr><td>Óscar al mejor director</td><td>Saving Private Ryan</td><td>71.º Premios Óscar</td></tr><tr><td>Óscar al mejor director</td><td>Lincoln</td><td>85.º Premios Óscar</td></tr><tr><td>Óscar al mejor director</td><td>E.T., el extraterrestre</td><td>Anexo:55.º Premios Óscar</td></tr><tr><td>Óscar al mejor director</td><td>War Horse</td><td>Premios Óscar de 2011</td></tr><tr><td>Óscar al mejor director</td><td>Bridge of Spies</td><td>Anexo:88.ª Premios Óscar</td></tr><tr><td>Óscar al mejor director</td><td>Raiders of the Lost Ark</td><td>Anexo:Premios Óscar de 1981</td></tr><tr><td>Óscar al mejor director</td><td>La lista de Schindler</td><td>Premios Óscar de 1993</td></tr><tr><td>Óscar al mejor director</td><td>Close Encounters of the Third Kind</td><td>Anexo:Premios Óscar de 1977</td></tr><tr><td>Óscar al mejor director</td><td>Lincoln</td><td>85.º Premios Óscar</td></tr><tr><td>Óscar al mejor director</td><td>The Post</td><td>90.º Premios Óscar</td></tr><tr><td>Óscar al mejor director</td><td>El color púrpura</td><td>Premios Óscar de 1985</td></tr><tr><td>Óscar al mejor director</td><td>Saving Private Ryan</td><td>71.º Premios Óscar</td></tr><tr><td>European Film Award for Best Non-European Film</td><td>Múnich</td><td>Premios Óscar de 2005</td></tr><tr><td>European Film Award for Best Non-European Film</td><td>Saving Private Ryan</td><td>11th European Film Awards</td></tr><tr><td>European Film Award for Best Non-European Film</td><td>La lista de Schindler</td><td>Premios Óscar de 1993</td></tr><tr><td>European Film Award for Best Non-European Film</td><td>E.T., el extraterrestre</td><td>Anexo:55.º Premios Óscar</td></tr><tr><td>European Film Award for Best Non-European Film</td><td>Cartas desde Iwo Jima</td><td>Premios Óscar de 2006</td></tr><tr><td>European Film Award for Best Non-European Film</td><td>Minority Report</td><td>15th European Film Awards</td></tr><tr><td>European Film Award for Best Non-European Film</td><td>Múnich</td><td>Premios Óscar de 2005</td></tr><tr><td>European Film Award for Best Non-European Film</td><td>Saving Private Ryan</td><td>71.º Premios Óscar</td></tr><tr><td>European Film Award for Best Non-European Film</td><td>Lincoln</td><td>85.º Premios Óscar</td></tr><tr><td>European Film Award for Best Non-European Film</td><td>E.T., el extraterrestre</td><td>Anexo:55.º Premios Óscar</td></tr><tr><td>European Film Award for Best Non-European Film</td><td>War Horse</td><td>Premios Óscar de 2011</td></tr><tr><td>European Film Award for Best Non-European Film</td><td>Bridge of Spies</td><td>Anexo:88.ª Premios Óscar</td></tr><tr><td>European Film Award for Best Non-European Film</td><td>Raiders of the Lost Ark</td><td>Anexo:Premios Óscar de 1981</td></tr><tr><td>European Film Award for Best Non-European Film</td><td>La lista de Schindler</td><td>Premios Óscar de 1993</td></tr><tr><td>European Film Award for Best Non-European Film</td><td>Close Encounters of the Third Kind</td><td>Anexo:Premios Óscar de 1977</td></tr><tr><td>European Film Award for Best Non-European Film</td><td>Lincoln</td><td>85.º Premios Óscar</td></tr><tr><td>European Film Award for Best Non-European Film</td><td>The Post</td><td>90.º Premios Óscar</td></tr><tr><td>European Film Award for Best Non-European Film</td><td>El color púrpura</td><td>Premios Óscar de 1985</td></tr><tr><td>European Film Award for Best Non-European Film</td><td>Saving Private Ryan</td><td>71.º Premios Óscar</td></tr></tbody></table></body></html>"
   ]
  },
  {
   "cell_type": "markdown",
   "metadata": {},
   "source": []
  },
  {
   "cell_type": "markdown",
   "metadata": {},
   "source": [
    "### Consulta 5\n",
    "\n",
    "Ahora queremos conocer el título de todas las películas que Spielberg ha dirigido. Se mostrarán ordenadas alfabéticamente y debes tener cuidado de no mostrar resultados repetidos. Ten en cuenta que puede haber distintos tipos de películas."
   ]
  },
  {
   "cell_type": "raw",
   "metadata": {},
   "source": [
    "SELECT DISTINCT ?film ?filmLabel\n",
    "WHERE\n",
    "{\n",
    "  ?film wdt:P57 wd:Q8877.  ##Elementos tiene director a Steven\n",
    "  ?film wdt:P31 [wdt:P279* wd:Q11424].  ##Elementos que son instancia de alguna subclase de film\n",
    "  \n",
    "  SERVICE wikibase:label { bd:serviceParam wikibase:language \"AUTO_LANGUAGE,en\". }\n",
    "}\n",
    "ORDER BY(?filmLabel)"
   ]
  },
  {
   "cell_type": "markdown",
   "metadata": {},
   "source": [
    "\n",
    "<html><head><meta charset=\"utf-8\"></head><body><table><thead><tr><th>film</th><th>filmLabel</th></tr></thead><tbody><tr><td>http://www.wikidata.org/entity/Q207482</td><td>1941</td></tr><tr><td>http://www.wikidata.org/entity/Q221113</td><td>A.I. Artificial Intelligence</td></tr><tr><td>http://www.wikidata.org/entity/Q449743</td><td>Always</td></tr><tr><td>http://www.wikidata.org/entity/Q457886</td><td>Amblin'</td></tr><tr><td>http://www.wikidata.org/entity/Q472361</td><td>Amistad</td></tr><tr><td>http://www.wikidata.org/entity/Q18067135</td><td>Bridge of Spies</td></tr><tr><td>http://www.wikidata.org/entity/Q208108</td><td>Catch Me If You Can</td></tr><tr><td>http://www.wikidata.org/entity/Q320588</td><td>Close Encounters of the Third Kind</td></tr><tr><td>http://www.wikidata.org/entity/Q583407</td><td>Duel</td></tr><tr><td>http://www.wikidata.org/entity/Q11621</td><td>E.T. the Extra-Terrestrial</td></tr><tr><td>http://www.wikidata.org/entity/Q271281</td><td>Empire of the Sun</td></tr><tr><td>http://www.wikidata.org/entity/Q3057871</td><td>Escape to Nowhere</td></tr><tr><td>http://www.wikidata.org/entity/Q591320</td><td>Firelight</td></tr><tr><td>http://www.wikidata.org/entity/Q646389</td><td>Hook</td></tr><tr><td>http://www.wikidata.org/entity/Q182373</td><td>Indiana Jones and the Kingdom of the Crystal Skull</td></tr><tr><td>http://www.wikidata.org/entity/Q185658</td><td>Indiana Jones and the Last Crusade</td></tr><tr><td>http://www.wikidata.org/entity/Q179215</td><td>Indiana Jones and the Temple of Doom</td></tr><tr><td>http://www.wikidata.org/entity/Q189505</td><td>Jaws</td></tr><tr><td>http://www.wikidata.org/entity/Q167726</td><td>Jurassic Park</td></tr><tr><td>http://www.wikidata.org/entity/Q18276472</td><td>Jurassic Park 3D</td></tr><tr><td>http://www.wikidata.org/entity/Q32433</td><td>Lincoln</td></tr><tr><td>http://www.wikidata.org/entity/Q244604</td><td>Minority Report</td></tr><tr><td>http://www.wikidata.org/entity/Q152456</td><td>Munich</td></tr><tr><td>http://www.wikidata.org/entity/Q4468634</td><td>Murder by the Book</td></tr><tr><td>http://www.wikidata.org/entity/Q174284</td><td>Raiders of the Lost Ark</td></tr><tr><td>http://www.wikidata.org/entity/Q22000542</td><td>Ready Player One</td></tr><tr><td>http://www.wikidata.org/entity/Q165817</td><td>Saving Private Ryan</td></tr><tr><td>http://www.wikidata.org/entity/Q483941</td><td>Schindler's List</td></tr><tr><td>http://www.wikidata.org/entity/Q7540939</td><td>Slipstream</td></tr><tr><td>http://www.wikidata.org/entity/Q167022</td><td>Something Evil</td></tr><tr><td>http://www.wikidata.org/entity/Q980041</td><td>The Adventures of Tintin</td></tr><tr><td>http://www.wikidata.org/entity/Q19689203</td><td>The BFG</td></tr><tr><td>http://www.wikidata.org/entity/Q223299</td><td>The Color Purple</td></tr><tr><td>http://www.wikidata.org/entity/Q200873</td><td>The Lost World: Jurassic Park</td></tr><tr><td>http://www.wikidata.org/entity/Q30203425</td><td>The Post</td></tr><tr><td>http://www.wikidata.org/entity/Q432526</td><td>The Sugarland Express</td></tr><tr><td>http://www.wikidata.org/entity/Q318766</td><td>The Terminal</td></tr><tr><td>http://www.wikidata.org/entity/Q11791805</td><td>The Unfinished Journey</td></tr><tr><td>http://www.wikidata.org/entity/Q1330737</td><td>Twilight Zone: The Movie</td></tr><tr><td>http://www.wikidata.org/entity/Q218589</td><td>War Horse</td></tr><tr><td>http://www.wikidata.org/entity/Q202028</td><td>War of the Worlds</td></tr><tr><td>http://www.wikidata.org/entity/Q2956251</td><td>Watch Dog</td></tr><tr><td>http://www.wikidata.org/entity/Q63643994</td><td>West Side Story</td></tr></tbody></table></body></html>"
   ]
  },
  {
   "cell_type": "markdown",
   "metadata": {},
   "source": []
  },
  {
   "cell_type": "markdown",
   "metadata": {},
   "source": [
    "### Consulta 6\n",
    "\n",
    "Spielberg es sin duda un director prolífico. ¿Exactamente cuántas películas de ciencia ficción ha dirigido?"
   ]
  },
  {
   "cell_type": "code",
   "execution_count": null,
   "metadata": {},
   "outputs": [],
   "source": [
    "SELECT (count(DISTINCT  ?film) AS ?numFilms)\n",
    "WHERE\n",
    "{\n",
    "  ?film wdt:P57 wd:Q8877.  ##Elementos dirigidos por Steven\n",
    "  ?film wdt:P31 [wdt:P279* wd:Q11424].##Elementos que son instancia de alguna subclase de film\n",
    "  ?film wdt:P136 [wdt:P279* wd:Q24925] . ##filme con genero de todas las subclases de ciencia ficcion\n",
    "  \n",
    "  SERVICE wikibase:label { bd:serviceParam wikibase:language \"AUTO_LANGUAGE,en\". }\n",
    "}"
   ]
  },
  {
   "cell_type": "raw",
   "metadata": {},
   "source": [
    "SELECT (count(?film) AS ?numFilms)\n",
    "WHERE\n",
    "{\n",
    "  ?film wdt:P57 wd:Q8877.\n",
    "  ?film wdt:P31 [wdt:P279* wd:Q11424].\n",
    "  ?film wdt:P136 wd:Q471839. ##Filme genero de filme de ciencia ficcion\n",
    "  \n",
    "  SERVICE wikibase:label { bd:serviceParam wikibase:language \"AUTO_LANGUAGE,en\". }\n",
    "}"
   ]
  },
  {
   "cell_type": "code",
   "execution_count": 3,
   "metadata": {},
   "outputs": [
    {
     "ename": "SyntaxError",
     "evalue": "invalid syntax (<ipython-input-3-03fdc3c6737d>, line 1)",
     "output_type": "error",
     "traceback": [
      "\u001b[1;36m  File \u001b[1;32m\"<ipython-input-3-03fdc3c6737d>\"\u001b[1;36m, line \u001b[1;32m1\u001b[0m\n\u001b[1;33m    SELECT DISTINCT ?film ?filmLabel #(COUNT(?film) AS ?count)\u001b[0m\n\u001b[1;37m           ^\u001b[0m\n\u001b[1;31mSyntaxError\u001b[0m\u001b[1;31m:\u001b[0m invalid syntax\n"
     ]
    }
   ],
   "source": [
    "SELECT DISTINCT ?film ?filmLabel #(COUNT(?film) AS ?count)    \n",
    "WHERE \n",
    "{\n",
    "  ?film wdt:P57 wd:Q8877;  #peliculas dirigidas por Steven spielberg\n",
    "        wdt:P136 [wdt:P279* wd:Q471839].  # peliculas que sean instancia de alguna subclase de peliculas de ciencia ficcion\n",
    "\n",
    "  SERVICE wikibase:label { bd:serviceParam wikibase:language \"AUTO_LANGUAGE,en\". }\n",
    "}"
   ]
  },
  {
   "cell_type": "markdown",
   "metadata": {},
   "source": [
    "\n",
    "<html><head><meta charset=\"utf-8\"></head><body><table><thead><tr><th>numFilms</th></tr></thead><tbody><tr><td>10</td></tr></tbody></table></body></html>"
   ]
  },
  {
   "cell_type": "code",
   "execution_count": null,
   "metadata": {},
   "outputs": [],
   "source": [
    "SELECT (count(DISTINCT (?film)) AS ?numFilms) # Cuenta el número de películas\n",
    "WHERE\n",
    "{\n",
    "  ?film wdt:P57 wd:Q8877. # Obras dirigidas por Steven Spielberg\n",
    "  ?film wdt:P31 [wdt:P279* wd:Q11424]. # Vemos si la clase de la obra es subclase de película\n",
    "  ?film wdt:P136 [wdt:P279* wd:Q24925]. # La obra es una peli de ciencia ficción\n",
    "  \n",
    "  SERVICE wikibase:label { bd:serviceParam wikibase:language \"AUTO_LANGUAGE,en\". }\n",
    "}"
   ]
  },
  {
   "cell_type": "markdown",
   "metadata": {},
   "source": []
  },
  {
   "cell_type": "markdown",
   "metadata": {},
   "source": [
    "### Consulta 7\n",
    "\n",
    "Es importante que las películas tengan una duración adecuada, ni muy cortas ni demasiado largas. De todas las películas que ha dirigido Spielberg, ¿cuales duran entre 90 y 150 minutos? Para cada película muestra el título y la duración. Los resultados se deben mostrar ordenados alfabéticamente."
   ]
  },
  {
   "cell_type": "raw",
   "metadata": {},
   "source": [
    "SELECT DISTINCT ?film ?filmLabel\n",
    "WHERE\n",
    "{\n",
    "  ?film wdt:P57 wd:Q8877.  ##Elementos dirigidos por Steven\n",
    "  ?film wdt:P31 [wdt:P279* wd:Q11424].##Elementos que son instancia de alguna subclase de film\n",
    "  ?film wdt:P2047 ?dur\n",
    "  FILTER(90<=?dur && ?dur <=150).\n",
    "  \n",
    "  SERVICE wikibase:label { bd:serviceParam wikibase:language \"AUTO_LANGUAGE,en\". }\n",
    "}\n",
    "ORDER BY(?filmLabel)"
   ]
  },
  {
   "cell_type": "markdown",
   "metadata": {},
   "source": [
    "\n",
    "<html><head><meta charset=\"utf-8\"></head><body><table><thead><tr><th>film</th><th>filmLabel</th></tr></thead><tbody><tr><td>http://www.wikidata.org/entity/Q207482</td><td>1941</td></tr><tr><td>http://www.wikidata.org/entity/Q221113</td><td>A.I. Artificial Intelligence</td></tr><tr><td>http://www.wikidata.org/entity/Q449743</td><td>Always</td></tr><tr><td>http://www.wikidata.org/entity/Q18067135</td><td>Bridge of Spies</td></tr><tr><td>http://www.wikidata.org/entity/Q208108</td><td>Catch Me If You Can</td></tr><tr><td>http://www.wikidata.org/entity/Q320588</td><td>Close Encounters of the Third Kind</td></tr><tr><td>http://www.wikidata.org/entity/Q583407</td><td>Duel</td></tr><tr><td>http://www.wikidata.org/entity/Q11621</td><td>E.T. the Extra-Terrestrial</td></tr><tr><td>http://www.wikidata.org/entity/Q591320</td><td>Firelight</td></tr><tr><td>http://www.wikidata.org/entity/Q646389</td><td>Hook</td></tr><tr><td>http://www.wikidata.org/entity/Q182373</td><td>Indiana Jones and the Kingdom of the Crystal Skull</td></tr><tr><td>http://www.wikidata.org/entity/Q185658</td><td>Indiana Jones and the Last Crusade</td></tr><tr><td>http://www.wikidata.org/entity/Q179215</td><td>Indiana Jones and the Temple of Doom</td></tr><tr><td>http://www.wikidata.org/entity/Q189505</td><td>Jaws</td></tr><tr><td>http://www.wikidata.org/entity/Q167726</td><td>Jurassic Park</td></tr><tr><td>http://www.wikidata.org/entity/Q18276472</td><td>Jurassic Park 3D</td></tr><tr><td>http://www.wikidata.org/entity/Q32433</td><td>Lincoln</td></tr><tr><td>http://www.wikidata.org/entity/Q244604</td><td>Minority Report</td></tr><tr><td>http://www.wikidata.org/entity/Q174284</td><td>Raiders of the Lost Ark</td></tr><tr><td>http://www.wikidata.org/entity/Q22000542</td><td>Ready Player One</td></tr><tr><td>http://www.wikidata.org/entity/Q980041</td><td>The Adventures of Tintin</td></tr><tr><td>http://www.wikidata.org/entity/Q19689203</td><td>The BFG</td></tr><tr><td>http://www.wikidata.org/entity/Q200873</td><td>The Lost World: Jurassic Park</td></tr><tr><td>http://www.wikidata.org/entity/Q30203425</td><td>The Post</td></tr><tr><td>http://www.wikidata.org/entity/Q432526</td><td>The Sugarland Express</td></tr><tr><td>http://www.wikidata.org/entity/Q318766</td><td>The Terminal</td></tr><tr><td>http://www.wikidata.org/entity/Q1330737</td><td>Twilight Zone: The Movie</td></tr><tr><td>http://www.wikidata.org/entity/Q218589</td><td>War Horse</td></tr><tr><td>http://www.wikidata.org/entity/Q202028</td><td>War of the Worlds</td></tr></tbody></table></body></html>"
   ]
  },
  {
   "cell_type": "markdown",
   "metadata": {},
   "source": []
  },
  {
   "cell_type": "markdown",
   "metadata": {},
   "source": [
    "### Consulta 8\n",
    "\n",
    "Vamos a recuperar ahora las películas más actuales que ha dirigido Spielberg. Estamos interesados específicamente en películas que se hayan estrenado a partir del año 2000.\n",
    "\n",
    "Seguramente, en tu primer intento verás que cada película aparece repetida varias veces con fechas distintas porque Wikidata contiene las fechas de estreno en cada país. Vamos a considerar que la fecha real de estreno de la película es la fecha más antigua de todas ellas.\n",
    "\n",
    "Para que cada película aparezca sólo una vez con la fecha correcta necesitarás agrupar las respuestas por película y título, y aplicar una función de agregación sobre las fechas de publicación. Los resultados se tienen que mostrar ordenados alfabéticamente."
   ]
  },
  {
   "cell_type": "raw",
   "metadata": {},
   "source": [
    "SELECT ?film ?filmLabel (MIN(?fecha) as ?fMin)  ##obtenemos el min de fecha en cada grupo\n",
    "WHERE\n",
    "{\n",
    "  ?film wdt:P57 wd:Q8877.  ##Elementos dirigidos por Steven\n",
    "  ?film wdt:P31 [wdt:P279* wd:Q11424].##Elementos que son instancia de alguna subclase de film\n",
    "  ?film wdt:P577 ?fecha.  ##Todas las fechas\n",
    "  \n",
    "  SERVICE wikibase:label { bd:serviceParam wikibase:language \"AUTO_LANGUAGE,en\". }\n",
    "}\n",
    "GROUP BY ?film ?filmLabel ##los agrupamos por filme y titulo\n",
    "ORDER BY ?filmLabel"
   ]
  },
  {
   "cell_type": "markdown",
   "metadata": {},
   "source": [
    "\n",
    "<html><head><meta charset=\"utf-8\"></head><body><table><thead><tr><th>film</th><th>filmLabel</th><th>fMin</th></tr></thead><tbody><tr><td>http://www.wikidata.org/entity/Q207482</td><td>1941</td><td>1979-12-13T00:00:00Z</td></tr><tr><td>http://www.wikidata.org/entity/Q221113</td><td>A.I. Artificial Intelligence</td><td>2001-06-29T00:00:00Z</td></tr><tr><td>http://www.wikidata.org/entity/Q449743</td><td>Always</td><td>1989-01-01T00:00:00Z</td></tr><tr><td>http://www.wikidata.org/entity/Q457886</td><td>Amblin'</td><td>1968-01-01T00:00:00Z</td></tr><tr><td>http://www.wikidata.org/entity/Q472361</td><td>Amistad</td><td>1997-01-01T00:00:00Z</td></tr><tr><td>http://www.wikidata.org/entity/Q18067135</td><td>Bridge of Spies</td><td>2015-10-16T00:00:00Z</td></tr><tr><td>http://www.wikidata.org/entity/Q208108</td><td>Catch Me If You Can</td><td>2002-12-16T00:00:00Z</td></tr><tr><td>http://www.wikidata.org/entity/Q320588</td><td>Close Encounters of the Third Kind</td><td>1977-11-16T00:00:00Z</td></tr><tr><td>http://www.wikidata.org/entity/Q583407</td><td>Duel</td><td>1971-01-01T00:00:00Z</td></tr><tr><td>http://www.wikidata.org/entity/Q11621</td><td>E.T. the Extra-Terrestrial</td><td>1982-05-26T00:00:00Z</td></tr><tr><td>http://www.wikidata.org/entity/Q271281</td><td>Empire of the Sun</td><td>1987-01-01T00:00:00Z</td></tr><tr><td>http://www.wikidata.org/entity/Q3057871</td><td>Escape to Nowhere</td><td>1961-01-01T00:00:00Z</td></tr><tr><td>http://www.wikidata.org/entity/Q591320</td><td>Firelight</td><td>1964-01-01T00:00:00Z</td></tr><tr><td>http://www.wikidata.org/entity/Q646389</td><td>Hook</td><td>1991-01-01T00:00:00Z</td></tr><tr><td>http://www.wikidata.org/entity/Q182373</td><td>Indiana Jones and the Kingdom of the Crystal Skull</td><td>2008-05-21T00:00:00Z</td></tr><tr><td>http://www.wikidata.org/entity/Q185658</td><td>Indiana Jones and the Last Crusade</td><td>1989-05-24T00:00:00Z</td></tr><tr><td>http://www.wikidata.org/entity/Q179215</td><td>Indiana Jones and the Temple of Doom</td><td>1984-05-23T00:00:00Z</td></tr><tr><td>http://www.wikidata.org/entity/Q189505</td><td>Jaws</td><td>1975-06-20T00:00:00Z</td></tr><tr><td>http://www.wikidata.org/entity/Q167726</td><td>Jurassic Park</td><td>1993-06-11T00:00:00Z</td></tr><tr><td>http://www.wikidata.org/entity/Q18276472</td><td>Jurassic Park 3D</td><td>2013-01-01T00:00:00Z</td></tr><tr><td>http://www.wikidata.org/entity/Q32433</td><td>Lincoln</td><td>2012-10-08T00:00:00Z</td></tr><tr><td>http://www.wikidata.org/entity/Q244604</td><td>Minority Report</td><td>2002-06-17T00:00:00Z</td></tr><tr><td>http://www.wikidata.org/entity/Q152456</td><td>Munich</td><td>2005-01-01T00:00:00Z</td></tr><tr><td>http://www.wikidata.org/entity/Q4468634</td><td>Murder by the Book</td><td>1971-09-15T00:00:00Z</td></tr><tr><td>http://www.wikidata.org/entity/Q174284</td><td>Raiders of the Lost Ark</td><td>1981-06-12T00:00:00Z</td></tr><tr><td>http://www.wikidata.org/entity/Q22000542</td><td>Ready Player One</td><td>2018-03-11T00:00:00Z</td></tr><tr><td>http://www.wikidata.org/entity/Q165817</td><td>Saving Private Ryan</td><td>1998-07-24T00:00:00Z</td></tr><tr><td>http://www.wikidata.org/entity/Q483941</td><td>Schindler's List</td><td>1993-12-15T00:00:00Z</td></tr><tr><td>http://www.wikidata.org/entity/Q7540939</td><td>Slipstream</td><td>1967-01-01T00:00:00Z</td></tr><tr><td>http://www.wikidata.org/entity/Q167022</td><td>Something Evil</td><td>1972-01-01T00:00:00Z</td></tr><tr><td>http://www.wikidata.org/entity/Q980041</td><td>The Adventures of Tintin</td><td>2011-01-01T00:00:00Z</td></tr><tr><td>http://www.wikidata.org/entity/Q19689203</td><td>The BFG</td><td>2016-07-01T00:00:00Z</td></tr><tr><td>http://www.wikidata.org/entity/Q223299</td><td>The Color Purple</td><td>1985-12-16T00:00:00Z</td></tr><tr><td>http://www.wikidata.org/entity/Q200873</td><td>The Lost World: Jurassic Park</td><td>1997-05-23T00:00:00Z</td></tr><tr><td>http://www.wikidata.org/entity/Q30203425</td><td>The Post</td><td>2017-01-01T00:00:00Z</td></tr><tr><td>http://www.wikidata.org/entity/Q432526</td><td>The Sugarland Express</td><td>1974-01-01T00:00:00Z</td></tr><tr><td>http://www.wikidata.org/entity/Q318766</td><td>The Terminal</td><td>2004-01-01T00:00:00Z</td></tr><tr><td>http://www.wikidata.org/entity/Q11791805</td><td>The Unfinished Journey</td><td>1999-12-31T00:00:00Z</td></tr><tr><td>http://www.wikidata.org/entity/Q1330737</td><td>Twilight Zone: The Movie</td><td>1983-01-01T00:00:00Z</td></tr><tr><td>http://www.wikidata.org/entity/Q218589</td><td>War Horse</td><td>2011-01-01T00:00:00Z</td></tr><tr><td>http://www.wikidata.org/entity/Q202028</td><td>War of the Worlds</td><td>2005-06-29T00:00:00Z</td></tr><tr><td>http://www.wikidata.org/entity/Q2956251</td><td>Watch Dog</td><td>1973-01-01T00:00:00Z</td></tr><tr><td>http://www.wikidata.org/entity/Q63643994</td><td>West Side Story</td><td>2021-01-01T00:00:00Z</td></tr></tbody></table></body></html>"
   ]
  },
  {
   "cell_type": "markdown",
   "metadata": {},
   "source": []
  },
  {
   "cell_type": "markdown",
   "metadata": {},
   "source": [
    "### Consulta 9\n",
    "\n",
    "¿Qué actores han trabajado en películas dirigidas por Spielberg? Para cada uno de ellos muestra su nombre y, si está disponible, su fecha de nacimiento y defunción. Los resultados deben aparecer ordenados alfabéticamente.\n",
    "\n",
    "Como en las películas trabajan muchos actores sólo estamos interesados en los primeros 50 resultados."
   ]
  },
  {
   "cell_type": "raw",
   "metadata": {},
   "source": [
    "SELECT ?film ?filmLabel ?actor ?actorLabel ?fNacimiento ?fMuerte\n",
    "WHERE\n",
    "{\n",
    "  ?film wdt:P57 wd:Q8877.  ##Elementos dirigidos por Steven\n",
    "  ?film wdt:P31 [wdt:P279* wd:Q11424].##Elementos que son instancia de alguna subclase de film\n",
    "  ?film wdt:P161  ?actor.\n",
    "  OPTIONAL { ?actor wdt:P569 ?fNacimiento.}\n",
    "  OPTIONAL { ?actor wdt:P570 ?fMuerte.}\n",
    " ##pq:P453\n",
    "  SERVICE wikibase:label { bd:serviceParam wikibase:language \"AUTO_LANGUAGE,en\". }\n",
    "}\n",
    "ORDER BY ?actorLabel\n",
    "limit 50"
   ]
  },
  {
   "cell_type": "markdown",
   "metadata": {},
   "source": [
    "\n",
    "<html><head><meta charset=\"utf-8\"></head><body><table><thead><tr><th>film</th><th>filmLabel</th><th>actor</th><th>actorLabel</th><th>fNacimiento</th><th>fMuerte</th></tr></thead><tbody><tr><td>http://www.wikidata.org/entity/Q1330737</td><td>Twilight Zone: The Movie</td><td>http://www.wikidata.org/entity/Q3603296</td><td>Abbe Lane</td><td>1932-12-14T00:00:00Z</td><td></td></tr><tr><td>http://www.wikidata.org/entity/Q152456</td><td>Munich</td><td>http://www.wikidata.org/entity/Q2821029</td><td>Abdelhafid Metalsi</td><td>1969-01-01T00:00:00Z</td><td></td></tr><tr><td>http://www.wikidata.org/entity/Q32433</td><td>Lincoln</td><td>http://www.wikidata.org/entity/Q4678990</td><td>Adam Driver</td><td>1983-11-19T00:00:00Z</td><td></td></tr><tr><td>http://www.wikidata.org/entity/Q19689203</td><td>The BFG</td><td>http://www.wikidata.org/entity/Q1060758</td><td>Adam Godley</td><td>1964-07-22T00:00:00Z</td><td></td></tr><tr><td>http://www.wikidata.org/entity/Q19689203</td><td>The BFG</td><td>http://www.wikidata.org/entity/Q1060758</td><td>Adam Godley</td><td>1964-07-22T00:00:00Z</td><td></td></tr><tr><td>http://www.wikidata.org/entity/Q165817</td><td>Saving Private Ryan</td><td>http://www.wikidata.org/entity/Q281964</td><td>Adam Goldberg</td><td>1970-10-25T00:00:00Z</td><td></td></tr><tr><td>http://www.wikidata.org/entity/Q223299</td><td>The Color Purple</td><td>http://www.wikidata.org/entity/Q365292</td><td>Adolph Caesar</td><td>1933-12-05T00:00:00Z</td><td>1986-03-06T00:00:00Z</td></tr><tr><td>http://www.wikidata.org/entity/Q221113</td><td>A.I. Artificial Intelligence</td><td>http://www.wikidata.org/entity/Q240869</td><td>Adrian Grenier</td><td>1976-07-10T00:00:00Z</td><td></td></tr><tr><td>http://www.wikidata.org/entity/Q483941</td><td>Schindler's List</td><td>http://www.wikidata.org/entity/Q2826948</td><td>Agnieszka Wagner</td><td>1970-12-17T00:00:00Z</td><td></td></tr><tr><td>http://www.wikidata.org/entity/Q223299</td><td>The Color Purple</td><td>http://www.wikidata.org/entity/Q175392</td><td>Akosua Busia</td><td>1966-12-30T00:00:00Z</td><td></td></tr><tr><td>http://www.wikidata.org/entity/Q18067135</td><td>Bridge of Spies</td><td>http://www.wikidata.org/entity/Q310394</td><td>Alan Alda</td><td>1936-01-28T00:00:00Z</td><td></td></tr><tr><td>http://www.wikidata.org/entity/Q182373</td><td>Indiana Jones and the Kingdom of the Crystal Skull</td><td>http://www.wikidata.org/entity/Q350194</td><td>Alan Dale</td><td>1947-05-06T00:00:00Z</td><td></td></tr><tr><td>http://www.wikidata.org/entity/Q1330737</td><td>Twilight Zone: The Movie</td><td>http://www.wikidata.org/entity/Q356303</td><td>Albert Brooks</td><td>1947-07-22T00:00:00Z</td><td></td></tr><tr><td>http://www.wikidata.org/entity/Q208108</td><td>Catch Me If You Can</td><td>http://www.wikidata.org/entity/Q2641365</td><td>Alex Hyde-White</td><td>1959-01-30T00:00:00Z</td><td></td></tr><tr><td>http://www.wikidata.org/entity/Q185658</td><td>Indiana Jones and the Last Crusade</td><td>http://www.wikidata.org/entity/Q2641365</td><td>Alex Hyde-White</td><td>1959-01-30T00:00:00Z</td><td></td></tr><tr><td>http://www.wikidata.org/entity/Q152456</td><td>Munich</td><td>http://www.wikidata.org/entity/Q67026</td><td>Alexander Beyer</td><td>1973-06-24T00:00:00Z</td><td></td></tr><tr><td>http://www.wikidata.org/entity/Q483941</td><td>Schindler's List</td><td>http://www.wikidata.org/entity/Q87676</td><td>Alexander Held</td><td>1958-10-19T00:00:00Z</td><td></td></tr><tr><td>http://www.wikidata.org/entity/Q483941</td><td>Schindler's List</td><td>http://www.wikidata.org/entity/Q1521335</td><td>Alexander Strobele</td><td>1953-05-06T00:00:00Z</td><td></td></tr><tr><td>http://www.wikidata.org/entity/Q185658</td><td>Indiana Jones and the Last Crusade</td><td>http://www.wikidata.org/entity/Q970287</td><td>Alexei Sayle</td><td>1952-08-07T00:00:00Z</td><td></td></tr><tr><td>http://www.wikidata.org/entity/Q174284</td><td>Raiders of the Lost Ark</td><td>http://www.wikidata.org/entity/Q296028</td><td>Alfred Molina</td><td>1953-05-24T00:00:00Z</td><td></td></tr><tr><td>http://www.wikidata.org/entity/Q30203425</td><td>The Post</td><td>http://www.wikidata.org/entity/Q235328</td><td>Alison Brie</td><td>1982-12-29T00:00:00Z</td><td></td></tr><tr><td>http://www.wikidata.org/entity/Q185658</td><td>Indiana Jones and the Last Crusade</td><td>http://www.wikidata.org/entity/Q261193</td><td>Alison Doody</td><td>1966-11-11T00:00:00Z</td><td></td></tr><tr><td>http://www.wikidata.org/entity/Q152456</td><td>Munich</td><td>http://www.wikidata.org/entity/Q2438420</td><td>Alon Abutbul</td><td>1965-05-28T00:00:00Z</td><td></td></tr><tr><td>http://www.wikidata.org/entity/Q152456</td><td>Munich</td><td>http://www.wikidata.org/entity/Q2844743</td><td>Amelia Jacob</td><td>1998-12-03T00:00:00Z</td><td></td></tr><tr><td>http://www.wikidata.org/entity/Q152456</td><td>Munich</td><td>http://www.wikidata.org/entity/Q6848483</td><td>Ami Weinberg</td><td>1953-10-26T00:00:00Z</td><td></td></tr><tr><td>http://www.wikidata.org/entity/Q152456</td><td>Munich</td><td>http://www.wikidata.org/entity/Q2907291</td><td>Amos Lavi</td><td>1953-01-01T00:00:00Z</td><td>2010-11-09T00:00:00Z</td></tr><tr><td>http://www.wikidata.org/entity/Q179215</td><td>Indiana Jones and the Temple of Doom</td><td>http://www.wikidata.org/entity/Q333443</td><td>Amrish Puri</td><td>1932-06-22T00:00:00Z</td><td>2005-01-12T00:00:00Z</td></tr><tr><td>http://www.wikidata.org/entity/Q208108</td><td>Catch Me If You Can</td><td>http://www.wikidata.org/entity/Q152773</td><td>Amy Acker</td><td>1976-12-05T00:00:00Z</td><td></td></tr><tr><td>http://www.wikidata.org/entity/Q208108</td><td>Catch Me If You Can</td><td>http://www.wikidata.org/entity/Q481832</td><td>Amy Adams</td><td>1974-08-20T00:00:00Z</td><td></td></tr><tr><td>http://www.wikidata.org/entity/Q18067135</td><td>Bridge of Spies</td><td>http://www.wikidata.org/entity/Q231203</td><td>Amy Ryan</td><td>1968-05-03T00:00:00Z</td><td></td></tr><tr><td>http://www.wikidata.org/entity/Q202028</td><td>War of the Worlds</td><td>http://www.wikidata.org/entity/Q231203</td><td>Amy Ryan</td><td>1968-05-03T00:00:00Z</td><td></td></tr><tr><td>http://www.wikidata.org/entity/Q182373</td><td>Indiana Jones and the Kingdom of the Crystal Skull</td><td>http://www.wikidata.org/entity/Q465628</td><td>Andrew Divoff</td><td>1955-07-02T00:00:00Z</td><td></td></tr><tr><td>http://www.wikidata.org/entity/Q165817</td><td>Saving Private Ryan</td><td>http://www.wikidata.org/entity/Q507322</td><td>Andrew Scott</td><td>1976-10-21T00:00:00Z</td><td></td></tr><tr><td>http://www.wikidata.org/entity/Q483941</td><td>Schindler's List</td><td>http://www.wikidata.org/entity/Q515592</td><td>Andrzej Seweryn</td><td>1946-04-25T00:00:00Z</td><td></td></tr><tr><td>http://www.wikidata.org/entity/Q207482</td><td>1941</td><td>http://www.wikidata.org/entity/Q527862</td><td>Andy Tennant</td><td>1955-06-15T00:00:00Z</td><td></td></tr><tr><td>http://www.wikidata.org/entity/Q19689203</td><td>The BFG</td><td>http://www.wikidata.org/entity/Q16213296</td><td>Andy Thompson</td><td>1970-01-01T00:00:00Z</td><td></td></tr><tr><td>http://www.wikidata.org/entity/Q19689203</td><td>The BFG</td><td>http://www.wikidata.org/entity/Q16213296</td><td>Andy Thompson</td><td>1970-01-01T00:00:00Z</td><td></td></tr><tr><td>http://www.wikidata.org/entity/Q218589</td><td>War Horse</td><td>http://www.wikidata.org/entity/Q546106</td><td>Anian Zollner</td><td>1969-02-21T00:00:00Z</td><td></td></tr><tr><td>http://www.wikidata.org/entity/Q202028</td><td>War of the Worlds</td><td>http://www.wikidata.org/entity/Q452047</td><td>Ann Robinson</td><td>1929-05-25T00:00:00Z</td><td></td></tr><tr><td>http://www.wikidata.org/entity/Q244604</td><td>Minority Report</td><td>http://www.wikidata.org/entity/Q4767298</td><td>Anna Maria Horsford</td><td>1948-03-06T00:00:00Z</td><td></td></tr><tr><td>http://www.wikidata.org/entity/Q483941</td><td>Schindler's List</td><td>http://www.wikidata.org/entity/Q2850579</td><td>Anna Mucha</td><td>1980-04-26T00:00:00Z</td><td></td></tr><tr><td>http://www.wikidata.org/entity/Q472361</td><td>Amistad</td><td>http://www.wikidata.org/entity/Q199884</td><td>Anna Paquin</td><td>1982-07-24T00:00:00Z</td><td></td></tr><tr><td>http://www.wikidata.org/entity/Q11621</td><td>E.T. the Extra-Terrestrial</td><td>http://www.wikidata.org/entity/Q461742</td><td>Anne Lockhart</td><td>1953-09-06T00:00:00Z</td><td></td></tr><tr><td>http://www.wikidata.org/entity/Q30203425</td><td>The Post</td><td>http://www.wikidata.org/entity/Q17198635</td><td>Annika Boras</td><td>1981-02-28T00:00:00Z</td><td></td></tr><tr><td>http://www.wikidata.org/entity/Q63643994</td><td>West Side Story</td><td>http://www.wikidata.org/entity/Q13426679</td><td>Ansel Elgort</td><td>1994-03-14T00:00:00Z</td><td></td></tr><tr><td>http://www.wikidata.org/entity/Q174284</td><td>Raiders of the Lost Ark</td><td>http://www.wikidata.org/entity/Q573343</td><td>Anthony Higgins</td><td>1947-05-09T00:00:00Z</td><td></td></tr><tr><td>http://www.wikidata.org/entity/Q472361</td><td>Amistad</td><td>http://www.wikidata.org/entity/Q65932</td><td>Anthony Hopkins</td><td>1937-12-31T00:00:00Z</td><td></td></tr><tr><td>http://www.wikidata.org/entity/Q19689203</td><td>The BFG</td><td>http://www.wikidata.org/entity/Q24706484</td><td>Anthony Ingram</td><td>1966-11-27T00:00:00Z</td><td></td></tr><tr><td>http://www.wikidata.org/entity/Q19689203</td><td>The BFG</td><td>http://www.wikidata.org/entity/Q24706484</td><td>Anthony Ingram</td><td>1966-11-27T00:00:00Z</td><td></td></tr><tr><td>http://www.wikidata.org/entity/Q221113</td><td>A.I. Artificial Intelligence</td><td>http://www.wikidata.org/entity/Q509013</td><td>April Grace</td><td>1962-05-12T00:00:00Z</td><td></td></tr></tbody></table></body></html>"
   ]
  },
  {
   "cell_type": "markdown",
   "metadata": {},
   "source": []
  },
  {
   "cell_type": "markdown",
   "metadata": {},
   "source": [
    "### Consulta 10\n",
    "\n",
    "¿Cuántos asertos hay sobre Spielber en Wikidata? Ten en cuenta que Zimmer puede aparece tanto como sujeto como objeto de cada tripleta."
   ]
  },
  {
   "cell_type": "raw",
   "metadata": {},
   "source": [
    "SELECT  (COUNT(*) AS ?count) ## ?x ?y ?p1 ?q1 ?p2 ?q2\n",
    "WHERE { wd:Q8877 wdt:P31/wdt:P279* ?y.\n",
    "        wd:Q8877 ?p1 ?q1.\n",
    "       ?q2 ?p2  wd:Q8877.\n",
    "     ##  ?p rdf:type owl:ObjectProperty.\n",
    "}"
   ]
  },
  {
   "cell_type": "markdown",
   "metadata": {},
   "source": [
    "\n",
    "<html><head><meta charset=\"utf-8\"></head><body><table><thead><tr><th>count</th></tr></thead><tbody><tr><td>9970200</td></tr></tbody></table></body></html>"
   ]
  },
  {
   "cell_type": "markdown",
   "metadata": {},
   "source": []
  },
  {
   "cell_type": "markdown",
   "metadata": {},
   "source": [
    "__Fecha de las consultas: RELLENAR__ 29 Marzo"
   ]
  },
  {
   "cell_type": "code",
   "execution_count": null,
   "metadata": {},
   "outputs": [],
   "source": [
    "SELECT ?x ?y\n",
    "WHERE { ?x rdfs:subClassOf ?y.\n",
    "?x rdf:type owl:ObjectProperty.\n",
    "}"
   ]
  }
 ],
 "metadata": {
  "colab": {
   "name": "Práctica3_solucion.ipynb",
   "provenance": []
  },
  "kernelspec": {
   "display_name": "Python 3",
   "language": "python",
   "name": "python3"
  },
  "language_info": {
   "codemirror_mode": {
    "name": "ipython",
    "version": 3
   },
   "file_extension": ".py",
   "mimetype": "text/x-python",
   "name": "python",
   "nbconvert_exporter": "python",
   "pygments_lexer": "ipython3",
   "version": "3.8.3"
  }
 },
 "nbformat": 4,
 "nbformat_minor": 1
}
