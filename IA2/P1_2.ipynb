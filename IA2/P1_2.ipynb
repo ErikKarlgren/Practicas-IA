{
 "cells": [
  {
   "cell_type": "markdown",
   "metadata": {},
   "source": [
    "**Número de grupo:** 25\n",
    "\n",
    "**Nombre de los integrantes del grupo:**\n",
    "- David Bugoi\n",
    "- Daniela Alejanda Córdova\n",
    "- Erik Karlgren Domercq\n",
    " \n",
    "Lab 11"
   ]
  },
  {
   "cell_type": "markdown",
   "metadata": {},
   "source": [
    "# Práctica 1\n",
    "\n",
    "> __Fecha de entrega: 11 de abril de 2021__\n",
    "\n",
    "\n",
    "## Parte 2: similitud semántica\n",
    "\n",
    "Una de las grandes ventajas de las representaciones estructuradas es que podemos aprovechar su estructura para calcular similitudes semánticas entre las entidades. En esta ocasión vamos a cacular la similitud entre dos conceptos como:\n",
    "\n",
    "$$Sim(A, B) = \\frac{\\delta(root, C)}{\\delta(root, C) + \\delta(C, A) + \\delta(C, B)}$$\n",
    "\n",
    "siendo:\n",
    "\n",
    "- $\\delta(X, Y)$ el __mínimo__ número de aristas que conecta A y B, siendo A más general que B.\n",
    "- $C = LCS(A, B)$ el concepto más específico de la jerarquía que es más general que A y B (_least common subsummer_).\n",
    "\n",
    "La idea tras esta similitud queda reflejada en la siguiente imagen:\n",
    "\n",
    "<img src=\"sim.png\" alt=\"Similitud\" style=\"width: 300px;\"/>\n",
    "\n",
    "En la práctica pueden existir distintos conceptos C que cumplen la definición de _least common subsummer_ de A y B por lo que es necesario definir cuál de ellos vamos a utilizar. En nuestro caso seleccionaremos __uno de los que maximiza el valor de similitud__. "
   ]
  },
  {
   "cell_type": "markdown",
   "metadata": {},
   "source": [
    "### 1) Obtener la taxonomía con la que vamos a trabajar\n",
    "\n",
    "Utiliza el [punto el acceso](https://query.wikidata.org/) SPARQL de Wikidata para ejecutar una consulta que devuelva todos los pares de entidades $(x, y)$ tal que $x$ es subconcepto directo de $y$ y ambos son un tipos de [instrumentos musicales (Q34379)](https://www.wikidata.org/wiki/Q34379). Debes recuperar tantos las URIs de la entidades como sus etiquetas.\n",
    "\n",
    "Escribe en la siguiente celda la consulta que has utilizado comentada adecuadamente."
   ]
  },
  {
   "cell_type": "raw",
   "metadata": {},
   "source": [
    "SELECT ?x ?xLabel ?y ?yLabel  \n",
    "WHERE \n",
    "{\n",
    "  ?y wdt:P279* wd:Q34379 .  # Subclases de instrumentos\n",
    "  ?x wdt:P279 ?y.           # x es subclase de y\n",
    "\n",
    "   \n",
    "  SERVICE wikibase:label { bd:serviceParam wikibase:language \"[AUTO_LANGUAGE],en\". }\n",
    "}"
   ]
  },
  {
   "cell_type": "markdown",
   "metadata": {},
   "source": [
    "A continuación descarga todas las respuestas en formato _Archivo JSON_ y guardalo en el mismo directorio de la práctica.\n",
    "\n",
    "_Nota: en el momento de realizar esta práctica obtuve 4727 resultados pero el número puede variar al ser Wikidata una base de conocimiento dinámica._"
   ]
  },
  {
   "cell_type": "markdown",
   "metadata": {},
   "source": [
    "### 2) Cargar la taxonomía en memoria\n",
    "\n",
    "Vamos a cargar la taxonomía de clases en memoria para poder operar con ella. Representaremos la jerarquía de clases mediante las siguientes estructuras:\n",
    "\n",
    "- Un diccionario que asocia a cada identificador su etiqueta (por ejemplo 'Q34379' -> 'musical instrument')\n",
    "- Un diccionario que asocia cada clase con sus subclases directas (por ejemplo 'Q17172850' -> {'Q101436564', 'Q1067089', 'Q186506', 'Q210970', 'Q223166', ...}, )\n",
    "- Un diccionario que asocia cada clase con sus superclases directas (por ejemplo 'Q5994' -> {'Q3152898', 'Q4951628', 'Q52954'})\n",
    "\n",
    "Tienes libertad para elegir cómo quieres representar la taxonomía en Python:\n",
    "\n",
    "- Puedes usar una clase. En ese caso tendrás que ir añadiendo métodos a la clase para completar cada uno de los apartados de la práctica. Escribe el código de la clase en una única celda y utiliza los métodos que necesites en cada uno de los apartados.\n",
    "- Puedes usar 3 variables globales para representar la taxonomía. En ese caso deberás escribir las operaciones como funciones en cada uno de los apartados de la práctica.\n",
    "\n",
    "En cualquier caso recuerda documentar adecuadamente el código y trata de que sea sencillo de entender.\n",
    "\n",
    "Crea una operación _load_ que reciba el nombre del fichero json y cargue el grafo en memoria usando las estructuras anteriores.\n",
    "\n",
    "Recuerda que puedes cargar cualquier estructura en formato json usando el siguiente código:\n",
    "\n",
    "```python\n",
    "import json\n",
    "\n",
    "with open(filename, encoding='utf-8') as f:\n",
    "    data = json.load(f)\n",
    "```"
   ]
  },
  {
   "cell_type": "code",
   "execution_count": 1,
   "metadata": {},
   "outputs": [],
   "source": [
    "import json\n",
    "filename = \"query.json\"\n",
    "with open(filename, encoding='utf-8') as f:\n",
    "    data = json.load(f)\n",
    "\n",
    "# dicNombres = {} # nombre -> etiqueta (pueden haber problemas por duplicidades así que no lo usamos)\n",
    "# Lo dejamos aquí para que se entienda la elección del nombre del diccionario 'dicNombresInversa'\n",
    "\n",
    "dicNombresInversa ={} # etiqueta -> nombre\n",
    "dicSubclases = {} # clase -> subclases\n",
    "dicSuperclases = {} # clase -> superclases\n",
    "\n",
    "for i in data:\n",
    "    etiquetaX = i['x'].replace('http://www.wikidata.org/entity/', '')\n",
    "    etiquetaY = i['y'].replace('http://www.wikidata.org/entity/', '')\n",
    "    # dicNombres[i['xLabel']] = etiquetaX\n",
    "    dicNombresInversa[etiquetaX] = i['xLabel']\n",
    "    # dicNombres[i['yLabel']] = etiquetaY\n",
    "    dicNombresInversa[etiquetaY] = i['yLabel']\n",
    "\n",
    "\n",
    "    if dicSubclases.__contains__(etiquetaY):\n",
    "        dicSubclases[etiquetaY].append(etiquetaX)\n",
    "    else:\n",
    "        dicSubclases[etiquetaY] = [etiquetaX]\n",
    "        \n",
    "    if dicSuperclases.__contains__(etiquetaX):\n",
    "        dicSuperclases[etiquetaX].append(etiquetaY)\n",
    "    else:\n",
    "        dicSuperclases[etiquetaX] = [etiquetaY]"
   ]
  },
  {
   "cell_type": "markdown",
   "metadata": {},
   "source": [
    "### 3) Imprimir un subárbol de la taxonomía\n",
    "\n",
    "Crea una operación _print_tree_ que imprimir la jerarquía de clases a partir de un concepto y hasta un nivel de profundidad determinado.\n",
    "\n",
    "Por ejemplo, a continuación podemos ver el principio de la jerarquía de [voces](https://www.wikidata.org/wiki/Q17172850) con 3 niveles de profundidad:\n",
    "\n",
    "```\n",
    "0 voz (Q17172850)\n",
    "  1 operatic vocal (Q101436564)\n",
    "  1 alto (Q6983813)\n",
    "   2 mezzosoprano ligera (Q6012300)\n",
    "   2 boy alto (Q53395277)\n",
    "   2 alto castrato (Q53395016)\n",
    "   2 contralto (Q37137)\n",
    "  1 contralto (Q37137)\n",
    "   2 contralto cómica (Q5785182)\n",
    "   2 lyric contralto (Q54635214)\n",
    "   2 Tenorino (Q6141663)\n",
    "   2 contralto de coloratura (Q54635184)\n",
    "   2 deep contralto (Q54635335)\n",
    "   2 contralto dramática (Q5785183)\n",
    "  1 bajo (Q27911)\n",
    "   2 heavy acting bass (Q54636271)\n",
    "   2 bajo profundo (Q2532487)\n",
    "   2 bajo buffo (Q1002146)\n",
    "   ...\n",
    "```\n",
    "\n",
    "Como ocurre en todas las grandes bases de conocimiento, dentro de Wikidata hay información que no ha sido bien introducida o está mal clasificada. ¿Puedes encontrar algún ejemplo concreto dentro de la jerarquía de instrumentos?"
   ]
  },
  {
   "cell_type": "code",
   "execution_count": 2,
   "metadata": {},
   "outputs": [],
   "source": [
    "from collections import deque\n",
    "\n",
    "# Devuelve un string con la clave y el nombre del instrumento\n",
    "def key_to_string(key):\n",
    "    return f'{dicNombresInversa[key]} ({key})'\n",
    "\n",
    "# Imprime las subclases de 'etiqueta' que están a una profundidad menor o igual a 'prof'\n",
    "def print_tree(etiqueta, prof):\n",
    "    i = 0\n",
    "    pila = []\n",
    "    pila.append((i,etiqueta))\n",
    "    \n",
    "    while pila:\n",
    "        i, actual = pila.pop()\n",
    "        stringFinal = str(i) + \" \" + key_to_string(actual)\n",
    "        string_length = len(stringFinal) + i  # will be adding 10 extra spaces\n",
    "        string_revised = stringFinal.rjust(string_length)\n",
    "        print(string_revised)\n",
    "        \n",
    "        if dicSubclases.__contains__(actual):\n",
    "            for key in dicSubclases[actual]:\n",
    "                if(i+1 < prof):\n",
    "                    pila.append((i+1, key))\n"
   ]
  },
  {
   "cell_type": "code",
   "execution_count": 3,
   "metadata": {},
   "outputs": [
    {
     "name": "stdout",
     "output_type": "stream",
     "text": [
      "0 guitar (Q6607)\n",
      " 1 Kent (guitar) (Q99902121)\n",
      " 1 Q98457398 (Q98457398)\n",
      "  2 requinto jarocho (Q7314870)\n",
      "  2 Leona (Q6524983)\n",
      "  2 jarana jarocha (Q1683429)\n",
      " 1 guitar accessories (Q55185569)\n",
      " 1 Brazilian guitars (Q48877774)\n",
      " 1 requinto guitar (Q24196576)\n",
      " 1 heavy metal guitar (Q23808566)\n",
      " 1 G-sharp guitar (Q21279067)\n",
      " 1 fretless guitar (Q20758461)\n",
      " 1 Q20104968 (Q20104968)\n",
      " 1 Q15725636 (Q15725636)\n",
      " 1 six-string alto guitar (Q7532606)\n",
      " 1 Leona (Q6524983)\n",
      " 1 Halam (Q5891381)\n",
      " 1 Eight-string guitar (Q5348940)\n",
      "  2 Brahms guitar (Q4955628)\n",
      " 1 Dean Soltero (Q5246477)\n",
      " 1 Craviola (Q5182772)\n",
      " 1 Fender Dodicaster (Q3742418)\n",
      " 1 lyre-guitar (Q3675195)\n",
      " 1 Touch Guitar (Q3532807)\n",
      " 1 archtop guitar (Q3392409)\n",
      " 1 Hawaiian Guitar (Q3120692)\n",
      " 1 Burny (Q3069420)\n",
      " 1 cuenca (Q3006756)\n",
      " 1 Kabosy (Q2895785)\n",
      " 1 Q2722253 (Q2722253)\n",
      " 1 steel guitar (Q2617520)\n",
      "  2 console steel guitar (Q5163252)\n",
      "  2 pedal steel guitar (Q587027)\n",
      " 1 Ten-string guitar (Q2569413)\n",
      " 1 Vintage V100MRPGM Lemon Drop (Q2527208)\n",
      " 1 Steinberger guitars (Q2340017)\n",
      " 1 Ramkie (Q2130181)\n",
      " 1 seven-string guitar (Q2096201)\n",
      "  2 Jackson Zoraxe (Q6117810)\n",
      "  2 Russian guitar (Q948603)\n",
      " 1 English guitar (Q1812862)\n",
      "  2 keyed guitar (Q1740329)\n",
      " 1 prepared guitar (Q1808766)\n",
      " 1 Jazz guitar (Q1684532)\n",
      " 1 Höfner Shorty (Q1643464)\n",
      " 1 Hagstrom Swede (Q1568740)\n",
      " 1 Gallotone guitar (Q1528005)\n",
      " 1 Gibson Super 400 (Q1523035)\n",
      " 1 Gibson Little Lucille (Q1523027)\n",
      " 1 Gibson ES-350T (Q1523011)\n",
      " 1 Gibson EB-3 (Q1523005)\n",
      " 1 Gibson Byrdland (Q1522994)\n",
      " 1 Alembic bass guitars (Q1442432)\n",
      " 1 Q1404605 (Q1404605)\n",
      " 1 Gibson Blueshawk (Q1333736)\n",
      " 1 Cutaway (Q1146396)\n",
      " 1 Fender Starcaster (Q999772)\n",
      " 1 Lucille (Q898248)\n",
      " 1 Gibson L-5 (Q837587)\n",
      " 1 Chapman Stick (Q754518)\n",
      " 1 Baroque guitar (Q748119)\n",
      " 1 Weissenborn (Q705008)\n",
      " 1 12-string guitar (Q678090)\n",
      "  2 Colombian tiple (Q56054583)\n",
      "  2 Octave twelve (Q7076779)\n",
      " 1 Rickenbacker Electro A-22 (Q614985)\n",
      " 1 multi-neck guitar (Q610678)\n",
      " 1 contraguitar (Q493345)\n",
      " 1 charango (Q468776)\n",
      " 1 electric guitar (Q78987)\n",
      "  2 Kent (guitar) (Q99902121)\n",
      "  2 Darkmoon Pickups (Q66314525)\n",
      "  2 electric bass guitar (Q64166304)\n",
      "   3 Gretsch Country Gentleman 6122 (Q82298063)\n",
      "   3 Gibson EB-0 (Q3817158)\n",
      "  2 Cort MBC-1 Matthew Bellamy Signature (Q41795428)\n",
      "  2 Q21234987 (Q21234987)\n",
      "  2 tailedbridge guitar (Q19926561)\n",
      "  2 Sardonyx (Q17107352)\n",
      "  2 electric sitar (Q11877740)\n",
      "  2 Moog Guitar (Q6907264)\n",
      "  2 Jackson Zoraxe (Q6117810)\n",
      "  2 Fender Telecaster Custom (Q5443279)\n",
      "  2 Fender Stratocaster XII (Q5443269)\n",
      "  2 ESP Jeff Hanneman (Q5324315)\n",
      "  2 Epiphone G-400 (Q4992976)\n",
      "  2 ESP Eclipse (Q4355994)\n",
      "  2 Jackson Dinky (Q4041761)\n",
      "  2 The Handle (Q3987462)\n",
      "  2 Squier Cyclone (Q3967468)\n",
      "  2 Squier Telecaster (Q3967465)\n",
      "  2 Squier M80 (Q3967462)\n",
      "  2 Rickenbacker 480 (Q3935031)\n",
      "  2 Rickenbacker 360 (Q3935028)\n",
      "  2 Hard Tail (Q3783325)\n",
      "  2 Gibson u2 (Q3764002)\n",
      "  2 Gibson Robert Johnson L-1 (Q3764000)\n",
      "  2 Fender Stratocaster American Standard (Q3742424)\n",
      "  2 Fender Cyclone II (Q3742419)\n",
      "  2 ESP Horizon FR-II (Q3717479)\n",
      "  2 Epiphone Les Paul 100 (Q3266401)\n",
      "  2 Gibson ES-137 (Q3105372)\n",
      "  2 Vox Mark III (Q2661834)\n",
      "  2 ESP Kirk Hammett (Q1785930)\n",
      "  2 Rickenbacker 325 (Q1629178)\n",
      "  2 Gibson Firebird (Q1523022)\n",
      "  2 Gibson Explorer (Q1334769)\n",
      "  2 Jackson PC1 (Q1099184)\n",
      "  2 Gibson SG (Q940380)\n",
      "   3 Gibson EDS-1275 (Q608223)\n",
      "  2 semi-acoustic guitar (Q935171)\n",
      "   3 Epiphone Dot (Q5383149)\n",
      "   3 Gibson ES-175 (Q1523013)\n",
      "   3 Gibson ES-150 (Q1523008)\n",
      "   3 Epiphone Casino (Q1347244)\n",
      "   3 Gibson ES-335 (Q1143818)\n",
      "  2 Fender Jag-Stang (Q912249)\n",
      "  2 Gibson Marauder (Q901802)\n",
      "  2 Lucille (Q898248)\n",
      "  2 Jackson Soloist (Q897770)\n",
      "  2 Jackson King V (Q835795)\n",
      "  2 Jackson Kelly (Q835670)\n",
      "  2 Dean Cadillac (Q741440)\n",
      "  2 Fender Telecaster (Q623103)\n",
      "  2 Fender Cyclone (Q599105)\n",
      "  2 Gibson Robot Guitar (Q598668)\n",
      "  2 Jackson Rhoads (Q544437)\n",
      "  2 Fender Mustang (Q384486)\n",
      "  2 Gibson Les Paul (Q322625)\n",
      "   3 Gibson Les Paul Special (Q10855932)\n",
      "   3 Gibson Les Paul bass (Q5559379)\n",
      "   3 Gibson Les Paul Doublecut (Q5559371)\n",
      "   3 Gibson Les Paul Classic Custom (Q5559370)\n",
      "   3 Gibson Les Paul Junior (Q4993471)\n",
      "   3 Gibson Les Paul Studio (Q3830846)\n",
      "   3 Gibson Les Paul Custom (Q3448320)\n",
      "  2 Superstrat (Q287028)\n",
      "  2 Yngwie Malmsteen Stratocaster (Q248927)\n",
      "  2 Fender Stratocaster (Q208173)\n",
      "  2 Escopetarra (Q161266)\n",
      "  2 Gibson Flying V (Q58228)\n",
      " 1 baritone guitar (Q64038)\n",
      " 1 bass guitar (Q46185)\n",
      "  2 electric bass guitar (Q64166304)\n",
      "   3 Gretsch Country Gentleman 6122 (Q82298063)\n",
      "   3 Gibson EB-0 (Q3817158)\n",
      "  2 Streamer Bass (Q7622681)\n",
      "  2 Music Man Sterling (Q6941607)\n",
      "  2 Music Man Bongo (Q6941604)\n",
      "  2 Contrabass guitar (Q5165633)\n",
      "  2 Gibson EB-3 (Q4039410)\n",
      "  2 Fender Jazz Bass Special (Q3742421)\n",
      "  2 extended-range bass (Q2887371)\n",
      "   3 Music Man StingRay 5 (Q6941610)\n",
      "   3 Music Man Bongo (Q6941604)\n",
      "  2 Kalindula (Q1669802)\n",
      "  2 Gibson EB-3 (Q1523005)\n",
      "  2 Fender Bass VI (Q1404623)\n",
      "  2 Höfner 500/1 (Q1165005)\n",
      "  2 fretless bass (Q932855)\n",
      "  2 Rickenbacker 4001 (Q922217)\n",
      "  2 Music Man StingRay (Q743821)\n",
      "  2 Fender Precision Bass (Q727758)\n",
      "  2 Gibson Thunderbird (Q584917)\n",
      "  2 Fender Mustang Bass (Q548517)\n",
      "  2 acoustic bass guitar (Q424017)\n",
      "   3 Guitarrón (Q1554184)\n",
      "  2 Fender Jazz Bass (Q288342)\n",
      " 1 acoustic guitar (Q31561)\n",
      "  2 Gibson Dove (Q5559315)\n",
      "  2 Gibson Country Western (Q5559305)\n",
      "  2 Dreadnought (Q4167999)\n",
      "  2 steel-string acoustic guitar (Q2563510)\n",
      "   3 Selmer guitar (Q1212123)\n",
      "  2 resonator guitar (Q1051615)\n",
      "  2 flamenco guitar (Q930531)\n",
      "  2 classical guitar (Q719120)\n",
      "  2 acoustic bass guitar (Q424017)\n",
      "   3 Guitarrón (Q1554184)\n"
     ]
    }
   ],
   "source": [
    "print_tree(\"Q6607\", 4)"
   ]
  },
  {
   "cell_type": "markdown",
   "metadata": {},
   "source": [
    "### 4) Obtener los LCS\n",
    "\n",
    "Crea una operación _lcs_ que devuelva todos los LCS de dos conceptos determinados. Recuerda que un concepto C es LCS(A, B) si es más general que ambos y no se puede especializar más sin dejar de serlo.\n",
    "\n",
    "Para implementarlo seguramente te resulte útil tener otro método que devuelva todos los conceptos más generales que uno dado. _Pista: es fácil de implementar usando operaciones entre conjuntos_. \n",
    "\n",
    "Ejemplos:\n",
    "\n",
    "```python\n",
    "mezzosoprano dramática (Q6012297), mezzosoprano ligera (Q54634726), mezzosoprano (Q186506)\n",
    "LCS('Q6012297', 'Q54634726') = {'Q186506'}\n",
    "\n",
    "grave (Q5885030), mezzosoprano ligera (Q6012300), voz (Q17172850)\n",
    "LCS('Q5885030', 'Q6012300') = {'Q17172850'}\n",
    "\n",
    "tenor (Q27914)\n",
    "LCS('Q27914', 'Q27914') = {'Q27914'}\n",
    "\n",
    "viola eléctrica (Q15336282), bajo eléctrico (Q64166304), instrumento de cuerda (Q1798603), electrófono (Q105738), necked box lutes (Q55724840)\n",
    "LCS('Q15336282', 'Q64166304') = {'Q55724840', 'Q105738', 'Q1798603'}\n",
    "```"
   ]
  },
  {
   "cell_type": "code",
   "execution_count": 4,
   "metadata": {},
   "outputs": [],
   "source": [
    "# Devuelve todos los conceptos más generales que 'e' y sus distancias respecto al concepto 'e'\n",
    "def todosConceptosGenerales(e):\n",
    "    sol = {}\n",
    "    m = dicSuperclases[e]\n",
    "    pila = []\n",
    "    i = 1\n",
    "    sol[e] = 0\n",
    "    \n",
    "    for key in m:\n",
    "        pila.append((i, key))\n",
    "        \n",
    "    while pila:\n",
    "        i, actual = pila.pop()\n",
    "        if sol.__contains__(actual):\n",
    "            sol[actual] = min (i, sol[actual])\n",
    "        else:\n",
    "            sol[actual]=i\n",
    "        if dicSuperclases.__contains__(actual):\n",
    "            for key in dicSuperclases[actual]:\n",
    "                pila.append((i+1,key))\n",
    "                \n",
    "    return sol"
   ]
  },
  {
   "cell_type": "markdown",
   "metadata": {},
   "source": [
    "Definimos una función `path(a,b)` que calcula el camino más corto desde el concepto `a` hasta el concepto `b`, suponiendo que `b` sea subclase de `a`. La habíamos definido para el apartado 5 y nos resultaba conveniente usarla para calcular el LCS porque este necesita estar lo más alejado posible de la raíz (instrumento musical)."
   ]
  },
  {
   "cell_type": "code",
   "execution_count": 5,
   "metadata": {},
   "outputs": [],
   "source": [
    "# Busca el camino mínimo entre los conceptos A y B\n",
    "def path(a,b):\n",
    "    found = False            # indica si hemos encontrado 'b'\n",
    "    nodes_to_visit = deque() # lista con los nodos por visitar\n",
    "    previous = dict()        # diccionario con el nodo (o clave) anterior a cada nodo (o clave)\n",
    "    \n",
    "    nodes_to_visit.append(a) # primero visitamos el concepto 'a'\n",
    "    previous[a] = ''\n",
    "    \n",
    "    # búsqueda en profundidad\n",
    "    while nodes_to_visit and not found:\n",
    "        current_node = nodes_to_visit.popleft()\n",
    "        \n",
    "        if current_node == b:\n",
    "            found = True\n",
    "            \n",
    "        elif dicSubclases.__contains__(current_node):\n",
    "            for item in dicSubclases[current_node]:\n",
    "                nodes_to_visit.appendleft(item)\n",
    "                previous[item] = current_node\n",
    "    \n",
    "    # reconstruimos la solución\n",
    "    if not found:\n",
    "        return list()\n",
    "    else:\n",
    "        path = deque()\n",
    "        key = b\n",
    "        while key != '':\n",
    "            path.appendleft(key_to_string(key))\n",
    "            key = previous[key]\n",
    "        return list(path)"
   ]
  },
  {
   "cell_type": "code",
   "execution_count": 6,
   "metadata": {},
   "outputs": [],
   "source": [
    "# Calcula el LCS (least common subsummer) de los conceptos A y B.\n",
    "def LCS(A, B):\n",
    "    dicA = todosConceptosGenerales(A)\n",
    "    dicA_set = dicA.keys()\n",
    "    dicB = todosConceptosGenerales(B)\n",
    "    dicB_set = dicB.keys()\n",
    "    difF = dicA_set & dicB_set\n",
    "\n",
    "    valor_max=0\n",
    "    valorFinal=set()\n",
    "    \n",
    "    for i in difF:\n",
    "        a = len(path('Q34379',i)) # Camino de la raíz (instrumento musical) al concepto i\n",
    "        \n",
    "        # Nos quedamos solo con los LCS que están a la máxima distancia posible de la raíz\n",
    "        if a > valor_max :\n",
    "            valorFinal= {i}\n",
    "            valor_max=a\n",
    "        elif a == valor_max:\n",
    "            valorFinal.add(i)\n",
    "            valor_max=a\n",
    "            \n",
    "    return valorFinal"
   ]
  },
  {
   "cell_type": "markdown",
   "metadata": {},
   "source": [
    "Comprobamos si los LCS que calcula nuestro algoritmo coinciden con los del enunciado de este apartado."
   ]
  },
  {
   "cell_type": "code",
   "execution_count": 7,
   "metadata": {},
   "outputs": [
    {
     "data": {
      "text/plain": [
       "{'Q186506'}"
      ]
     },
     "execution_count": 7,
     "metadata": {},
     "output_type": "execute_result"
    }
   ],
   "source": [
    "LCS('Q6012297', 'Q54634726')"
   ]
  },
  {
   "cell_type": "code",
   "execution_count": 8,
   "metadata": {},
   "outputs": [
    {
     "data": {
      "text/plain": [
       "{'Q17172850'}"
      ]
     },
     "execution_count": 8,
     "metadata": {},
     "output_type": "execute_result"
    }
   ],
   "source": [
    "LCS('Q5885030', 'Q6012300')"
   ]
  },
  {
   "cell_type": "code",
   "execution_count": 9,
   "metadata": {},
   "outputs": [
    {
     "data": {
      "text/plain": [
       "{'Q27914'}"
      ]
     },
     "execution_count": 9,
     "metadata": {},
     "output_type": "execute_result"
    }
   ],
   "source": [
    "LCS('Q27914', 'Q27914')"
   ]
  },
  {
   "cell_type": "markdown",
   "metadata": {},
   "source": [
    "Como dijimos en la definición de LCS(A,B), nos quedamos solo con los LCS que estén a la máxima distancia\n",
    "posible de la raíz (instrumento musical). Es por eso que solo nos sale un resultado en esta consulta. A continuación vemos las superclases de Q15336282 y Q64166304 junto a la distancia (como número de clases) entre las superclases y la propia clase."
   ]
  },
  {
   "cell_type": "code",
   "execution_count": 10,
   "metadata": {},
   "outputs": [
    {
     "data": {
      "text/plain": [
       "{'Q55724840'}"
      ]
     },
     "execution_count": 10,
     "metadata": {},
     "output_type": "execute_result"
    }
   ],
   "source": [
    "LCS('Q15336282', 'Q64166304')"
   ]
  },
  {
   "cell_type": "code",
   "execution_count": 11,
   "metadata": {},
   "outputs": [
    {
     "data": {
      "text/plain": [
       "{'Q15336282': 0,\n",
       " 'Q80284': 1,\n",
       " 'Q57050725': 2,\n",
       " 'Q55724840': 3,\n",
       " 'Q55724833': 4,\n",
       " 'Q30038759': 5,\n",
       " 'Q1808578': 6,\n",
       " 'Q19588495': 7,\n",
       " 'Q1051772': 5,\n",
       " 'Q34379': 3,\n",
       " 'Q192096': 3,\n",
       " 'Q1798603': 4,\n",
       " 'Q1327500': 1,\n",
       " 'Q105738': 2}"
      ]
     },
     "execution_count": 11,
     "metadata": {},
     "output_type": "execute_result"
    }
   ],
   "source": [
    "todosConceptosGenerales(\"Q15336282\")"
   ]
  },
  {
   "cell_type": "code",
   "execution_count": 12,
   "metadata": {},
   "outputs": [
    {
     "data": {
      "text/plain": [
       "{'Q64166304': 0,\n",
       " 'Q78987': 1,\n",
       " 'Q6607': 2,\n",
       " 'Q57306162': 3,\n",
       " 'Q55724840': 4,\n",
       " 'Q55724833': 5,\n",
       " 'Q30038759': 6,\n",
       " 'Q1808578': 7,\n",
       " 'Q19588495': 8,\n",
       " 'Q1051772': 6,\n",
       " 'Q34379': 3,\n",
       " 'Q230262': 4,\n",
       " 'Q1798603': 5,\n",
       " 'Q55738960': 2,\n",
       " 'Q50821977': 3,\n",
       " 'Q105738': 4,\n",
       " 'Q46185': 1,\n",
       " 'Q810447': 2}"
      ]
     },
     "execution_count": 12,
     "metadata": {},
     "output_type": "execute_result"
    }
   ],
   "source": [
    "todosConceptosGenerales(\"Q64166304\")"
   ]
  },
  {
   "cell_type": "markdown",
   "metadata": {},
   "source": [
    "### 5) Obtener caminos mínimos\n",
    "\n",
    "Crea una operación _path_ que calcule el camino mínimo entre dos conceptos A y B siendo A más o igual de general que B. Como la taxonomía no tiene ciclos puedes implementarlo como una búsqueda en profundidad. Ten en cuenta que los caminos sólo pueden contener conceptos más específicos o iguales a A y más generales o iguales a B.\n",
    "\n",
    "Ejemplos:\n",
    "\n",
    "```python\n",
    "path('Q186506', 'Q54634726') = [mezzosoprano (Q186506), mezzosoprano ligera (Q54634726)]\n",
    "\n",
    "path('Q17172850', 'Q6012300') = [voz (Q17172850), alto (Q6983813), mezzosoprano ligera (Q6012300)]\n",
    "\n",
    "path('Q27914', 'Q27914') = [tenor (Q27914)]\n",
    "\n",
    "path('Q34379', 'Q105738') = [instrumento musical (Q34379), cordófono (Q1051772), composite chordophones (Q19588495), lutes (Q1808578), handle lutes (Q30038759), necked lutes (Q55724833), necked box lutes (Q55724840)]\n",
    " ```\n",
    "La función `path` la habíamos definido al principio en este apartado, pero como nos fue útil para calcular el LCS la hemos definido finalmente en el apartado 4. A continuación mostramos algunos ejemplos."
   ]
  },
  {
   "cell_type": "code",
   "execution_count": 13,
   "metadata": {},
   "outputs": [
    {
     "data": {
      "text/plain": [
       "['mezzo-soprano (Q186506)', 'light mezzo-soprano (Q54634726)']"
      ]
     },
     "execution_count": 13,
     "metadata": {},
     "output_type": "execute_result"
    }
   ],
   "source": [
    "path('Q186506', 'Q54634726') "
   ]
  },
  {
   "cell_type": "code",
   "execution_count": 14,
   "metadata": {},
   "outputs": [
    {
     "data": {
      "text/plain": [
       "['voice (Q17172850)', 'alto (Q6983813)', 'Q6012300 (Q6012300)']"
      ]
     },
     "execution_count": 14,
     "metadata": {},
     "output_type": "execute_result"
    }
   ],
   "source": [
    "path('Q17172850', 'Q6012300')"
   ]
  },
  {
   "cell_type": "code",
   "execution_count": 15,
   "metadata": {},
   "outputs": [
    {
     "data": {
      "text/plain": [
       "['tenor (Q27914)']"
      ]
     },
     "execution_count": 15,
     "metadata": {},
     "output_type": "execute_result"
    }
   ],
   "source": [
    "path('Q27914', 'Q27914')"
   ]
  },
  {
   "cell_type": "code",
   "execution_count": 16,
   "metadata": {},
   "outputs": [
    {
     "data": {
      "text/plain": [
       "['musical instrument (Q34379)',\n",
       " 'chordophone (Q1051772)',\n",
       " 'composite chordophones (Q19588495)',\n",
       " 'lutes (Q1808578)',\n",
       " 'handle lutes (Q30038759)',\n",
       " 'necked lutes (Q55724833)',\n",
       " 'necked box lutes (Q55724840)']"
      ]
     },
     "execution_count": 16,
     "metadata": {},
     "output_type": "execute_result"
    }
   ],
   "source": [
    "path('Q34379', 'Q55724840')"
   ]
  },
  {
   "cell_type": "code",
   "execution_count": 17,
   "metadata": {},
   "outputs": [
    {
     "data": {
      "text/plain": [
       "['musical instrument (Q34379)',\n",
       " 'continuous-pitch instrument (Q98329515)',\n",
       " 'voice (Q17172850)',\n",
       " 'mezzo-soprano (Q186506)']"
      ]
     },
     "execution_count": 17,
     "metadata": {},
     "output_type": "execute_result"
    }
   ],
   "source": [
    "path('Q34379', 'Q186506')"
   ]
  },
  {
   "cell_type": "markdown",
   "metadata": {},
   "source": [
    "### 6) Calcular la similitud\n",
    "\n",
    "Implementa una operación _similarity_ que calcule la similtud entre dos conceptos. Debe devolver tanto el valor númerico de similitud como los caminos desde la raiz al LCS y desde el LCS a cada uno de los dos conceptos.\n",
    "\n",
    "Ten en cuenta que debes usar un LCS que maximice el valor de similitud. Si la información de Wikidata no ha cambiado, los valores de similitud deberían coincidir con los que aparecen en los ejemplos pero los caminos no tienen por qué. Y recuerda que no es lo mismo el números de aristas de un camino que el número de nodos del camino.\n",
    "\n",
    "Ejemplos:\n",
    "\n",
    "```python\n",
    "similarity('Q6012297', 'Q54634726')\n",
    "0.5\n",
    "[instrumento musical (Q34379), voz (Q17172850), mezzosoprano (Q186506)]\n",
    "[mezzosoprano (Q186506), mezzosoprano dramática (Q6012297)]\n",
    "[mezzosoprano (Q186506), mezzosoprano ligera (Q54634726)]\n",
    "\n",
    "similarity('Q186506', 'Q54634726')\n",
    "0.6666666666666666\n",
    "[instrumento musical (Q34379), voz (Q17172850), mezzosoprano (Q186506)]\n",
    "[mezzosoprano (Q186506)]\n",
    "[mezzosoprano (Q186506), mezzosoprano ligera (Q54634726)]\n",
    "\n",
    "similarity('Q27914', 'Q27914')\n",
    "1.0\n",
    "[instrumento musical (Q34379), voz (Q17172850), high voice (Q98116969), tenor (Q27914)]\n",
    "[tenor (Q27914)]\n",
    "[tenor (Q27914)]\n",
    "\n",
    "similarity('Q76239', 'Q78987')\n",
    "0.42857142857142855\n",
    "[instrumento musical (Q34379), cordófono (Q1051772), instrumento de cuerda (Q1798603), instrumento de cuerda pulsada (Q230262)]\n",
    "[instrumento de cuerda pulsada (Q230262), cítara (Q76239)]\n",
    "[instrumento de cuerda pulsada (Q230262), plucked necked box lutes (Q57306162), guitarra (Q6607), guitarra eléctrica (Q78987)]\n",
    "```"
   ]
  },
  {
   "cell_type": "code",
   "execution_count": 26,
   "metadata": {},
   "outputs": [],
   "source": [
    "root = 'Q34379' # 'root' es instrumento musical\n",
    "\n",
    "# Calcula la similitud entre 'a' y 'b'. Por defecto imprime no solo el valor de retorno sino también el camino\n",
    "# de la raíz (instrumento musical) al LCS, y de este a 'a' y a 'b'.\n",
    "def similarity(a,b,imprimir=True):\n",
    "    lcs = list(LCS(a,b))[0]\n",
    "    lcs_to_a_path = path(lcs, a)\n",
    "    lcs_to_b_path = path(lcs, b)\n",
    "    root_to_lcs_path = path(root, lcs)\n",
    "    sim = 1;\n",
    "    \n",
    "    if a != b: # Para evitar dividir por 0\n",
    "        sim = (len(root_to_lcs_path) - 1) / (len(root_to_lcs_path) + len(lcs_to_a_path) + len(lcs_to_b_path) - 3)\n",
    "    \n",
    "    if imprimir:\n",
    "        print(sim)\n",
    "        print(root_to_lcs_path)\n",
    "        print(lcs_to_a_path)\n",
    "        print(lcs_to_b_path)\n",
    "        \n",
    "    return sim"
   ]
  },
  {
   "cell_type": "markdown",
   "metadata": {},
   "source": [
    "Las similitudes son ligeramente distintas a las del enunciado porque cuando hicimos nuestra consulta se había añadido otro concepto entre 'instrumento musical (Q34379)' y 'voz (Q17172850)': el Q98329515."
   ]
  },
  {
   "cell_type": "code",
   "execution_count": 27,
   "metadata": {},
   "outputs": [
    {
     "name": "stdout",
     "output_type": "stream",
     "text": [
      "0.6\n",
      "['musical instrument (Q34379)', 'continuous-pitch instrument (Q98329515)', 'voice (Q17172850)', 'mezzo-soprano (Q186506)']\n",
      "['mezzo-soprano (Q186506)', 'dramatic mezzo-soprano (Q6012297)']\n",
      "['mezzo-soprano (Q186506)', 'light mezzo-soprano (Q54634726)']\n"
     ]
    },
    {
     "data": {
      "text/plain": [
       "0.6"
      ]
     },
     "execution_count": 27,
     "metadata": {},
     "output_type": "execute_result"
    }
   ],
   "source": [
    "similarity('Q6012297', 'Q54634726')"
   ]
  },
  {
   "cell_type": "code",
   "execution_count": 29,
   "metadata": {},
   "outputs": [
    {
     "name": "stdout",
     "output_type": "stream",
     "text": [
      "0.75\n",
      "['musical instrument (Q34379)', 'continuous-pitch instrument (Q98329515)', 'voice (Q17172850)', 'mezzo-soprano (Q186506)']\n",
      "['mezzo-soprano (Q186506)']\n",
      "['mezzo-soprano (Q186506)', 'light mezzo-soprano (Q54634726)']\n"
     ]
    },
    {
     "data": {
      "text/plain": [
       "0.75"
      ]
     },
     "execution_count": 29,
     "metadata": {},
     "output_type": "execute_result"
    }
   ],
   "source": [
    "similarity('Q186506', 'Q54634726')"
   ]
  },
  {
   "cell_type": "code",
   "execution_count": 30,
   "metadata": {},
   "outputs": [
    {
     "name": "stdout",
     "output_type": "stream",
     "text": [
      "1\n",
      "['musical instrument (Q34379)', 'continuous-pitch instrument (Q98329515)', 'voice (Q17172850)', 'high voice (Q98116969)', 'tenor (Q27914)']\n",
      "['tenor (Q27914)']\n",
      "['tenor (Q27914)']\n"
     ]
    },
    {
     "data": {
      "text/plain": [
       "1"
      ]
     },
     "execution_count": 30,
     "metadata": {},
     "output_type": "execute_result"
    }
   ],
   "source": [
    "similarity('Q27914', 'Q27914')"
   ]
  },
  {
   "cell_type": "code",
   "execution_count": 31,
   "metadata": {},
   "outputs": [
    {
     "name": "stdout",
     "output_type": "stream",
     "text": [
      "0.42857142857142855\n",
      "['musical instrument (Q34379)', 'chordophone (Q1051772)', 'string instrument (Q1798603)', 'plucked string instrument (Q230262)']\n",
      "['plucked string instrument (Q230262)', 'zither (Q76239)']\n",
      "['plucked string instrument (Q230262)', 'plucked necked box lutes (Q57306162)', 'guitar (Q6607)', 'electric guitar (Q78987)']\n"
     ]
    },
    {
     "data": {
      "text/plain": [
       "0.42857142857142855"
      ]
     },
     "execution_count": 31,
     "metadata": {},
     "output_type": "execute_result"
    }
   ],
   "source": [
    "similarity('Q76239', 'Q78987')"
   ]
  },
  {
   "cell_type": "markdown",
   "metadata": {},
   "source": [
    "### 7) Análisis de las similitudes\n",
    "\n",
    "Calcula la similitud 2 a 2 de los siguientes instrumentos y explica razonadamente si los valores obtenidos tienen sentido de acuerdo a tu intuición sobre si se parecen o no.\n",
    "\n",
    "```\n",
    "piano (Q5994), guitarra (Q6607), guitarra eléctrica (Q78987), flauta (Q11405), trompeta (Q8338)\n",
    "```"
   ]
  },
  {
   "cell_type": "code",
   "execution_count": 20,
   "metadata": {},
   "outputs": [
    {
     "name": "stdout",
     "output_type": "stream",
     "text": [
      "(Similitud) piano (Q5994) vs. guitar (Q6607): 0.2727272727272727\n",
      "(Similitud) piano (Q5994) vs. electric guitar (Q78987): 0.25\n",
      "(Similitud) piano (Q5994) vs. flute (Q11405): 0.0\n",
      "(Similitud) piano (Q5994) vs. trumpet (Q8338): 0.0\n",
      "(Similitud) guitar (Q6607) vs. electric guitar (Q78987): 0.8888888888888888\n",
      "(Similitud) guitar (Q6607) vs. flute (Q11405): 0.0\n",
      "(Similitud) guitar (Q6607) vs. trumpet (Q8338): 0.0\n",
      "(Similitud) electric guitar (Q78987) vs. flute (Q11405): 0.0\n",
      "(Similitud) electric guitar (Q78987) vs. trumpet (Q8338): 0.0\n",
      "(Similitud) flute (Q11405) vs. trumpet (Q8338): 0.4\n"
     ]
    }
   ],
   "source": [
    "instruments = ['Q5994', 'Q6607', 'Q78987', 'Q11405', 'Q8338']\n",
    "\n",
    "for i in range(len(instruments)):\n",
    "    for j in range(i+1, len(instruments)):\n",
    "        strI = key_to_string(instruments[i])\n",
    "        strJ = key_to_string(instruments[j])\n",
    "        print(f'(Similitud) {strI} vs. {strJ}: {str(similarity(instruments[i], instruments[j], False))}')"
   ]
  },
  {
   "cell_type": "markdown",
   "metadata": {},
   "source": [
    "Tiene sentido que el piano se parezca un poco a la guitarra y a la guitarra eléctrica porque los 3 tienen cuerdas, mientras que no tienen nada que ver con una flauta o una trompeta porque estos últimos no tienen cuerdas. Por otro lado, es razonable que una guitarra y una guitarra eléctrica se parezcan mucho porque ambos son, valga la redundancia, guitarras. Por último, la flauta y la trompeta solo guardan cierta similitud entre ellas por ser los únicos instrumentos de viento."
   ]
  }
 ],
 "metadata": {
  "kernelspec": {
   "display_name": "Python 3",
   "language": "python",
   "name": "python3"
  },
  "language_info": {
   "codemirror_mode": {
    "name": "ipython",
    "version": 3
   },
   "file_extension": ".py",
   "mimetype": "text/x-python",
   "name": "python",
   "nbconvert_exporter": "python",
   "pygments_lexer": "ipython3",
   "version": "3.8.3"
  }
 },
 "nbformat": 4,
 "nbformat_minor": 4
}
